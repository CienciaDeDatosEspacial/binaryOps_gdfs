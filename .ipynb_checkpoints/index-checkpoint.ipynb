{
 "cells": [
  {
   "cell_type": "markdown",
   "id": "f8746832",
   "metadata": {
    "id": "f8746832"
   },
   "source": [
    "<center><img src=\"https://i.imgur.com/zRrFdsf.png\" width=\"700\"></center>\n",
    "\n"
   ]
  },
  {
   "cell_type": "markdown",
   "id": "af76d2a2",
   "metadata": {
    "id": "af76d2a2"
   },
   "source": [
    "<a target=\"_blank\" href=\"https://colab.research.google.com/github/CienciaDeDatosEspacial/Operations-onGeoDF/blob/main/index.ipynb\">\n",
    "  <img src=\"https://colab.research.google.com/assets/colab-badge.svg\" alt=\"Open In Colab\"/>\n",
    "</a>\n",
    "\n",
    "# Binary Spatial operations on  Geo Dataframes\n",
    "\n",
    "This time the spatial operations will be applied when we have as input two GDFs. "
   ]
  },
  {
   "cell_type": "markdown",
   "id": "2677ec11-108e-441c-8231-c994d5dcf6a4",
   "metadata": {},
   "source": [
    "## Getting ready"
   ]
  },
  {
   "cell_type": "markdown",
   "id": "244a5266",
   "metadata": {
    "id": "244a5266"
   },
   "source": [
    "The links to the our maps on GitHub are here:"
   ]
  },
  {
   "cell_type": "code",
   "execution_count": 1,
   "id": "f5bcb405-dfc6-4b14-8499-d9e42805336d",
   "metadata": {
    "colab": {
     "base_uri": "https://localhost:8080/",
     "height": 143
    },
    "id": "f5bcb405-dfc6-4b14-8499-d9e42805336d",
    "outputId": "5a969405-6147-4637-e40f-519a2e199062"
   },
   "outputs": [],
   "source": [
    "linkWorldMap=\"https://github.com/CienciaDeDatosEspacial/dataSets/raw/refs/heads/main/WORLD/worldMaps.gpkg\"\n",
    "linkBrazil=\"https://github.com/CienciaDeDatosEspacial/dataSets/raw/refs/heads/main/BRAZIL/brazil_5880.gpkg\"\n",
    "linkIndicators=\"https://github.com/CienciaDeDatosEspacial/dataSets/raw/refs/heads/main/WORLD/worldindicators.json\""
   ]
  },
  {
   "cell_type": "markdown",
   "id": "7b51c669-0bf7-4d3b-a746-991ff520922c",
   "metadata": {},
   "source": [
    "Let me introduce another [data source on seaports](https://msi.nga.mil/Publications/WPI). Their locations in long/lat is stored in the file **seaports.csv** which we already have on GitHub:"
   ]
  },
  {
   "cell_type": "code",
   "execution_count": 2,
   "id": "23b37c56-cac3-45d7-b5a4-49012da52263",
   "metadata": {},
   "outputs": [],
   "source": [
    "linkSeaPorts='https://github.com/CienciaDeDatosEspacial/dataSets/raw/refs/heads/main/WORLD/seaports.csv'"
   ]
  },
  {
   "cell_type": "markdown",
   "id": "e8fb7cf4-1379-49f0-916d-0b3bf5be0c39",
   "metadata": {},
   "source": [
    "Let's get some maps:"
   ]
  },
  {
   "cell_type": "code",
   "execution_count": 3,
   "id": "650f1ceb-2e67-487b-92ae-0735c12e9b4c",
   "metadata": {},
   "outputs": [],
   "source": [
    "import geopandas as gpd\n",
    "\n",
    "#world \n",
    "world_rivers=gpd.read_file(linkWorldMap,layer='rivers')\n",
    "#brazil \n",
    "brazil5880=gpd.read_file(linkBrazil,layer='country')\n",
    "airports_brazil5880=gpd.read_file(linkBrazil,layer='airports')\n",
    "states_brazil5880=gpd.read_file(linkBrazil,layer='states')\n",
    "municipalities_brazil5880=gpd.read_file(linkBrazil,layer='municipalities')\n",
    "#some indicators\n",
    "indicators=gpd.read_file(linkIndicators)\n",
    "\n",
    "# the seaports\n",
    "import pandas as pd \n",
    "infoseaports=pd.read_csv(linkSeaPorts)"
   ]
  },
  {
   "cell_type": "code",
   "execution_count": 4,
   "id": "2ece4e65-d21c-404c-9921-9befdd3b5874",
   "metadata": {},
   "outputs": [
    {
     "data": {
      "text/plain": [
       "108"
      ]
     },
     "execution_count": 4,
     "metadata": {},
     "output_type": "execute_result"
    }
   ],
   "source": [
    "# the sesports data has too manny columns:\n",
    "len(infoseaports.columns)"
   ]
  },
  {
   "cell_type": "markdown",
   "id": "97e9afb9-529b-416f-bc18-1bf773768ab7",
   "metadata": {},
   "source": [
    "Let me keep some columns, and turn the DF into a GDF:"
   ]
  },
  {
   "cell_type": "code",
   "execution_count": 5,
   "id": "33c8c5f5-c135-43c0-a43b-b3472ba6d56a",
   "metadata": {},
   "outputs": [],
   "source": [
    "#rename\n",
    "infoseaports.rename(columns={'Main Port Name':'seaport_name','Country Code':'country_name'},inplace=True)\n",
    "\n",
    "#keep few columns\n",
    "infoseaports=infoseaports.loc[:,['seaport_name', 'country_name','Latitude', 'Longitude']]\n",
    "\n",
    "#spatial points (unprojected)\n",
    "seaports=gpd.GeoDataFrame(data=infoseaports.copy(),\n",
    "                           geometry=gpd.points_from_xy(infoseaports.Longitude,\n",
    "                                                       infoseaports.Latitude), \n",
    "                          crs=4326)# notice it is unprojected\n",
    "\n",
    "# keep Brazil\n",
    "seaports_bra=seaports[seaports['country_name']=='Brazil'].copy()\n",
    "\n",
    "# reset indexes\n",
    "seaports_bra.reset_index(drop=True, inplace=True)\n",
    "\n",
    "# reprojecting\n",
    "seaports_brazil5880=seaports_bra.to_crs(5880) # projected crs"
   ]
  },
  {
   "cell_type": "markdown",
   "id": "c2fc940f",
   "metadata": {
    "id": "c2fc940f"
   },
   "source": [
    "**Before proceeding**, let me compute some GDFs we created the previous session:\n"
   ]
  },
  {
   "cell_type": "markdown",
   "id": "f08579d5-5736-4122-9b69-22d8b98e8f8e",
   "metadata": {},
   "source": [
    "* The centroid of Brazil"
   ]
  },
  {
   "cell_type": "code",
   "execution_count": 6,
   "id": "a6a221f3-51db-4264-83e3-da0fa8eacc0a",
   "metadata": {},
   "outputs": [],
   "source": [
    "brazil5880_cen=brazil5880.centroid"
   ]
  },
  {
   "cell_type": "markdown",
   "id": "0bd55fc1-b5dd-456b-8991-35f4c368625e",
   "metadata": {},
   "source": [
    "- Large Brazilian airports"
   ]
  },
  {
   "cell_type": "code",
   "execution_count": 7,
   "id": "300445fe-1709-4002-bafb-4f6c226c78e9",
   "metadata": {},
   "outputs": [],
   "source": [
    "large_airports=airports_brazil5880.query(\"airport_type=='large_airport'\")"
   ]
  },
  {
   "cell_type": "markdown",
   "id": "9c6c78ea-61d2-49df-8d77-af2d008e416a",
   "metadata": {},
   "source": [
    "- Amazon Rivers"
   ]
  },
  {
   "cell_type": "code",
   "execution_count": 8,
   "id": "52b9c6ef-19c3-48cb-b9d5-8dac5e26ca24",
   "metadata": {},
   "outputs": [],
   "source": [
    "AmazonSystem=world_rivers.query(\"SYSTEM=='Amazon'\")\n",
    "AmazonSystem_5880=AmazonSystem.to_crs(5880)"
   ]
  },
  {
   "cell_type": "markdown",
   "id": "1c44c596-e798-44d7-ba22-e24c00ae5044",
   "metadata": {
    "id": "1c44c596-e798-44d7-ba22-e24c00ae5044"
   },
   "source": [
    "- The states in the East, West, South, and North"
   ]
  },
  {
   "cell_type": "code",
   "execution_count": 9,
   "id": "21e77302-50cd-4b69-b4ce-8ef62ca7e9e4",
   "metadata": {},
   "outputs": [],
   "source": [
    "mid_x,mid_y=brazil5880_cen.x[0],brazil5880_cen.y[0]\n",
    "\n",
    "# the north\n",
    "N_brazil=states_brazil5880.cx[:,mid_y:]\n",
    "# the south\n",
    "S_brazil=states_brazil5880.cx[:,:mid_y]\n",
    "# the west\n",
    "W_brazil=states_brazil5880.cx[:mid_x,:]\n",
    "# the east\n",
    "E_brazil=states_brazil5880.cx[mid_x:,:]"
   ]
  },
  {
   "cell_type": "markdown",
   "id": "5594016a-5c17-424f-8595-b380921c9780",
   "metadata": {},
   "source": [
    "- The mean fragility by region of the world"
   ]
  },
  {
   "cell_type": "code",
   "execution_count": 10,
   "id": "794f3048-257d-4193-89d0-deda71523b9c",
   "metadata": {
    "colab": {
     "base_uri": "https://localhost:8080/",
     "height": 363
    },
    "id": "794f3048-257d-4193-89d0-deda71523b9c",
    "outputId": "80383224-82f9-4082-d7b0-dfb8ce032ab0"
   },
   "outputs": [],
   "source": [
    "indicatorsByRegion=indicators.dissolve(\n",
    "    by=\"region\", #groupby()\n",
    "    aggfunc={\"fragility\": \"mean\"}, #agg()\n",
    "    )"
   ]
  },
  {
   "cell_type": "code",
   "execution_count": 11,
   "id": "-c3sNkIr4ehl",
   "metadata": {
    "id": "-c3sNkIr4ehl"
   },
   "outputs": [],
   "source": [
    "# You may need to install if using Colab\n",
    "# !pip install mapclassify"
   ]
  },
  {
   "cell_type": "markdown",
   "id": "6852f4a7-24bb-4540-9324-bf9f67c54637",
   "metadata": {
    "id": "6852f4a7-24bb-4540-9324-bf9f67c54637"
   },
   "source": [
    "\n",
    "_____________\n",
    "\n"
   ]
  },
  {
   "cell_type": "markdown",
   "id": "dce53b61-ecda-4df3-b9be-6a6cf86bdc4c",
   "metadata": {},
   "source": [
    "## I. Distance\n",
    "\n",
    "Distance is a key binary operation as so many practical policy matters depend on knowing distances between objects in space.\n",
    "\n",
    "Any pair of rightly projected GDFs have a distance between them. Below we can make  query using distances:\n",
    "\n",
    "> Which are the airports whose distance to Brazil centroid is > 2500000?"
   ]
  },
  {
   "cell_type": "code",
   "execution_count": 12,
   "id": "67fc2686-024b-4cd1-bac0-88dcfd1cc3a8",
   "metadata": {},
   "outputs": [
    {
     "data": {
      "text/plain": [
       "0    POINT (5085264.134 8827720.201)\n",
       "dtype: geometry"
      ]
     },
     "execution_count": 12,
     "metadata": {},
     "output_type": "execute_result"
    }
   ],
   "source": [
    "# this is the centroid we have:\n",
    "brazil5880_cen"
   ]
  },
  {
   "cell_type": "markdown",
   "id": "cc6b1993-de99-4537-be29-482fd12e166f",
   "metadata": {},
   "source": [
    "Then,"
   ]
  },
  {
   "cell_type": "code",
   "execution_count": 13,
   "id": "03130c10-c4c4-4d02-aa66-35aeabfbc310",
   "metadata": {},
   "outputs": [
    {
     "data": {
      "text/html": [
       "<div>\n",
       "<style scoped>\n",
       "    .dataframe tbody tr th:only-of-type {\n",
       "        vertical-align: middle;\n",
       "    }\n",
       "\n",
       "    .dataframe tbody tr th {\n",
       "        vertical-align: top;\n",
       "    }\n",
       "\n",
       "    .dataframe thead th {\n",
       "        text-align: right;\n",
       "    }\n",
       "</style>\n",
       "<table border=\"1\" class=\"dataframe\">\n",
       "  <thead>\n",
       "    <tr style=\"text-align: right;\">\n",
       "      <th></th>\n",
       "      <th>airport_name</th>\n",
       "      <th>airport_type</th>\n",
       "      <th>elevation_ft</th>\n",
       "      <th>region</th>\n",
       "      <th>municipality</th>\n",
       "      <th>geometry</th>\n",
       "    </tr>\n",
       "  </thead>\n",
       "  <tbody>\n",
       "    <tr>\n",
       "      <th>4104</th>\n",
       "      <td>Viatec Aviação Agrícola Airport</td>\n",
       "      <td>small_airport</td>\n",
       "      <td>92.0</td>\n",
       "      <td>Rio Grande do Sul</td>\n",
       "      <td>Santa Vitória do Palmar</td>\n",
       "      <td>POINT (5068397.782 6323060.053)</td>\n",
       "    </tr>\n",
       "    <tr>\n",
       "      <th>4106</th>\n",
       "      <td>Santa Vitória do Palmar Airport</td>\n",
       "      <td>small_airport</td>\n",
       "      <td>82.0</td>\n",
       "      <td>Rio Grande do Sul</td>\n",
       "      <td>Santa Vitória Do Palmar</td>\n",
       "      <td>POINT (5060939.818 6291358.318)</td>\n",
       "    </tr>\n",
       "    <tr>\n",
       "      <th>6662</th>\n",
       "      <td>Trindade Heliport</td>\n",
       "      <td>heliport</td>\n",
       "      <td>NaN</td>\n",
       "      <td>Espírito Santo</td>\n",
       "      <td>Vitória</td>\n",
       "      <td>POINT (7565615.936 7537143.55)</td>\n",
       "    </tr>\n",
       "  </tbody>\n",
       "</table>\n",
       "</div>"
      ],
      "text/plain": [
       "                         airport_name   airport_type  elevation_ft  \\\n",
       "4104  Viatec Aviação Agrícola Airport  small_airport          92.0   \n",
       "4106  Santa Vitória do Palmar Airport  small_airport          82.0   \n",
       "6662                Trindade Heliport       heliport           NaN   \n",
       "\n",
       "                 region             municipality  \\\n",
       "4104  Rio Grande do Sul  Santa Vitória do Palmar   \n",
       "4106  Rio Grande do Sul  Santa Vitória Do Palmar   \n",
       "6662     Espírito Santo                  Vitória   \n",
       "\n",
       "                             geometry  \n",
       "4104  POINT (5068397.782 6323060.053)  \n",
       "4106  POINT (5060939.818 6291358.318)  \n",
       "6662   POINT (7565615.936 7537143.55)  "
      ]
     },
     "execution_count": 13,
     "metadata": {},
     "output_type": "execute_result"
    }
   ],
   "source": [
    "airports_brazil5880[airports_brazil5880.distance(brazil5880_cen[0]) > 2500000]"
   ]
  },
  {
   "cell_type": "markdown",
   "id": "7b2307f8-5682-4fec-9463-c7b6d55a76d9",
   "metadata": {},
   "source": [
    "The results can be confirmed visually:"
   ]
  },
  {
   "cell_type": "code",
   "execution_count": 14,
   "id": "eff37bfd-65ca-4f5a-b828-1af1eed8fba9",
   "metadata": {},
   "outputs": [
    {
     "data": {
      "text/plain": [
       "<Axes: >"
      ]
     },
     "execution_count": 14,
     "metadata": {},
     "output_type": "execute_result"
    },
    {
     "data": {
      "image/png": "[encoded data removed]",
      "text/plain": [
       "<Figure size 640x480 with 1 Axes>"
      ]
     },
     "metadata": {},
     "output_type": "display_data"
    }
   ],
   "source": [
    "base=airports_brazil5880[airports_brazil5880.distance(brazil5880_cen.iloc[0]) > 2500000].plot(marker='+',markersize=100)\n",
    "airports_brazil5880.plot(ax=base,color='grey', markersize=0.1)\n",
    "brazil5880_cen.plot(ax=base,color='red')"
   ]
  },
  {
   "cell_type": "markdown",
   "id": "1c1eac21-eefc-4a2c-b393-93160683b8c1",
   "metadata": {},
   "source": [
    "Let me review how distances work between different kinds of geometries:"
   ]
  },
  {
   "cell_type": "markdown",
   "id": "ec0e6aff-3a98-40eb-8313-6ac724ee661f",
   "metadata": {},
   "source": [
    "### a.  Distance between points\n",
    "\n",
    "We have these points:\n"
   ]
  },
  {
   "cell_type": "code",
   "execution_count": 15,
   "id": "1d2771d5-9710-4b4c-9feb-698029ddcaa0",
   "metadata": {},
   "outputs": [
    {
     "data": {
      "text/html": [
       "<div>\n",
       "<style scoped>\n",
       "    .dataframe tbody tr th:only-of-type {\n",
       "        vertical-align: middle;\n",
       "    }\n",
       "\n",
       "    .dataframe tbody tr th {\n",
       "        vertical-align: top;\n",
       "    }\n",
       "\n",
       "    .dataframe thead th {\n",
       "        text-align: right;\n",
       "    }\n",
       "</style>\n",
       "<table border=\"1\" class=\"dataframe\">\n",
       "  <thead>\n",
       "    <tr style=\"text-align: right;\">\n",
       "      <th></th>\n",
       "      <th>seaport_name</th>\n",
       "      <th>country_name</th>\n",
       "      <th>Latitude</th>\n",
       "      <th>Longitude</th>\n",
       "      <th>geometry</th>\n",
       "    </tr>\n",
       "  </thead>\n",
       "  <tbody>\n",
       "    <tr>\n",
       "      <th>0</th>\n",
       "      <td>Dtse / Gegua Oil Terminal</td>\n",
       "      <td>Brazil</td>\n",
       "      <td>-22.816667</td>\n",
       "      <td>-43.150000</td>\n",
       "      <td>POINT (6112865.27 7434885.819)</td>\n",
       "    </tr>\n",
       "    <tr>\n",
       "      <th>1</th>\n",
       "      <td>Porto De Mucuripe</td>\n",
       "      <td>Brazil</td>\n",
       "      <td>-3.716667</td>\n",
       "      <td>-38.483333</td>\n",
       "      <td>POINT (6723610.313 9573897.029)</td>\n",
       "    </tr>\n",
       "    <tr>\n",
       "      <th>2</th>\n",
       "      <td>Portocel</td>\n",
       "      <td>Brazil</td>\n",
       "      <td>-19.850000</td>\n",
       "      <td>-40.050000</td>\n",
       "      <td>POINT (6459540.7 7743872.147)</td>\n",
       "    </tr>\n",
       "    <tr>\n",
       "      <th>3</th>\n",
       "      <td>Santa Clara</td>\n",
       "      <td>Brazil</td>\n",
       "      <td>-20.883333</td>\n",
       "      <td>-51.366667</td>\n",
       "      <td>POINT (5273988.618 7687595.596)</td>\n",
       "    </tr>\n",
       "    <tr>\n",
       "      <th>4</th>\n",
       "      <td>Aratu</td>\n",
       "      <td>Brazil</td>\n",
       "      <td>-12.783333</td>\n",
       "      <td>-38.500000</td>\n",
       "      <td>POINT (6681955.632 8535904.773)</td>\n",
       "    </tr>\n",
       "  </tbody>\n",
       "</table>\n",
       "</div>"
      ],
      "text/plain": [
       "                seaport_name country_name   Latitude  Longitude  \\\n",
       "0  Dtse / Gegua Oil Terminal       Brazil -22.816667 -43.150000   \n",
       "1          Porto De Mucuripe       Brazil  -3.716667 -38.483333   \n",
       "2                   Portocel       Brazil -19.850000 -40.050000   \n",
       "3                Santa Clara       Brazil -20.883333 -51.366667   \n",
       "4                      Aratu       Brazil -12.783333 -38.500000   \n",
       "\n",
       "                          geometry  \n",
       "0   POINT (6112865.27 7434885.819)  \n",
       "1  POINT (6723610.313 9573897.029)  \n",
       "2    POINT (6459540.7 7743872.147)  \n",
       "3  POINT (5273988.618 7687595.596)  \n",
       "4  POINT (6681955.632 8535904.773)  "
      ]
     },
     "execution_count": 15,
     "metadata": {},
     "output_type": "execute_result"
    }
   ],
   "source": [
    "seaports_brazil5880.head()"
   ]
  },
  {
   "cell_type": "code",
   "execution_count": 21,
   "id": "914bf0e0-0fe8-44bb-997d-d229df1b5cf4",
   "metadata": {},
   "outputs": [
    {
     "data": {
      "text/html": [
       "<div>\n",
       "<style scoped>\n",
       "    .dataframe tbody tr th:only-of-type {\n",
       "        vertical-align: middle;\n",
       "    }\n",
       "\n",
       "    .dataframe tbody tr th {\n",
       "        vertical-align: top;\n",
       "    }\n",
       "\n",
       "    .dataframe thead th {\n",
       "        text-align: right;\n",
       "    }\n",
       "</style>\n",
       "<table border=\"1\" class=\"dataframe\">\n",
       "  <thead>\n",
       "    <tr style=\"text-align: right;\">\n",
       "      <th></th>\n",
       "      <th>airport_name</th>\n",
       "      <th>airport_type</th>\n",
       "      <th>elevation_ft</th>\n",
       "      <th>region</th>\n",
       "      <th>municipality</th>\n",
       "      <th>geometry</th>\n",
       "    </tr>\n",
       "  </thead>\n",
       "  <tbody>\n",
       "    <tr>\n",
       "      <th>0</th>\n",
       "      <td>Guarulhos - Governador André Franco Montoro In...</td>\n",
       "      <td>large_airport</td>\n",
       "      <td>2461.0</td>\n",
       "      <td>São Paulo</td>\n",
       "      <td>São Paulo</td>\n",
       "      <td>POINT (5769392.959 7387510.487)</td>\n",
       "    </tr>\n",
       "    <tr>\n",
       "      <th>1</th>\n",
       "      <td>Rio Galeão – Tom Jobim International Airport</td>\n",
       "      <td>large_airport</td>\n",
       "      <td>28.0</td>\n",
       "      <td>Rio de Janeiro</td>\n",
       "      <td>Rio De Janeiro</td>\n",
       "      <td>POINT (6102623.812 7436387.271)</td>\n",
       "    </tr>\n",
       "    <tr>\n",
       "      <th>4</th>\n",
       "      <td>Presidente Juscelino Kubitschek International ...</td>\n",
       "      <td>large_airport</td>\n",
       "      <td>3497.0</td>\n",
       "      <td>Distrito Federal</td>\n",
       "      <td>Brasília</td>\n",
       "      <td>POINT (5651010.181 8235390.09)</td>\n",
       "    </tr>\n",
       "    <tr>\n",
       "      <th>5</th>\n",
       "      <td>Deputado Luiz Eduardo Magalhães International ...</td>\n",
       "      <td>large_airport</td>\n",
       "      <td>64.0</td>\n",
       "      <td>Bahia</td>\n",
       "      <td>Salvador</td>\n",
       "      <td>POINT (6700330.807 8520415.591)</td>\n",
       "    </tr>\n",
       "    <tr>\n",
       "      <th>9</th>\n",
       "      <td>Tancredo Neves International Airport</td>\n",
       "      <td>large_airport</td>\n",
       "      <td>2721.0</td>\n",
       "      <td>Minas Gerais</td>\n",
       "      <td>Belo Horizonte</td>\n",
       "      <td>POINT (6051718.72 7797008.905)</td>\n",
       "    </tr>\n",
       "  </tbody>\n",
       "</table>\n",
       "</div>"
      ],
      "text/plain": [
       "                                        airport_name   airport_type  \\\n",
       "0  Guarulhos - Governador André Franco Montoro In...  large_airport   \n",
       "1       Rio Galeão – Tom Jobim International Airport  large_airport   \n",
       "4  Presidente Juscelino Kubitschek International ...  large_airport   \n",
       "5  Deputado Luiz Eduardo Magalhães International ...  large_airport   \n",
       "9               Tancredo Neves International Airport  large_airport   \n",
       "\n",
       "   elevation_ft            region    municipality  \\\n",
       "0        2461.0         São Paulo       São Paulo   \n",
       "1          28.0    Rio de Janeiro  Rio De Janeiro   \n",
       "4        3497.0  Distrito Federal        Brasília   \n",
       "5          64.0             Bahia        Salvador   \n",
       "9        2721.0      Minas Gerais  Belo Horizonte   \n",
       "\n",
       "                          geometry  \n",
       "0  POINT (5769392.959 7387510.487)  \n",
       "1  POINT (6102623.812 7436387.271)  \n",
       "4   POINT (5651010.181 8235390.09)  \n",
       "5  POINT (6700330.807 8520415.591)  \n",
       "9   POINT (6051718.72 7797008.905)  "
      ]
     },
     "execution_count": 21,
     "metadata": {},
     "output_type": "execute_result"
    }
   ],
   "source": [
    "large_airports.head()"
   ]
  },
  {
   "cell_type": "markdown",
   "id": "c5803c0b-f58b-4714-a17e-24514f95287a",
   "metadata": {},
   "source": [
    "For results of distance operation to be more insightful, we may do this:"
   ]
  },
  {
   "cell_type": "code",
   "execution_count": 23,
   "id": "4e6eb5e2-c901-4881-b281-1c4e9b3ef438",
   "metadata": {},
   "outputs": [],
   "source": [
    "# index will be names of airports/seaports instead of numbers\n",
    "large_airports.set_index('airport_name',inplace=True)\n",
    "seaports_brazil5880.set_index('seaport_name',inplace=True)"
   ]
  },
  {
   "cell_type": "markdown",
   "id": "80dc32b4-3d9b-4e1e-87c5-2adc2dc3f9b5",
   "metadata": {},
   "source": [
    "> The distance from each airport to the \"Dtse / Gegua Oil Terminal\""
   ]
  },
  {
   "cell_type": "code",
   "execution_count": 30,
   "id": "e3e97535-58b0-47ee-9724-88ecbc4cf1b1",
   "metadata": {},
   "outputs": [
    {
     "data": {
      "text/plain": [
       "airport_name\n",
       "Guarulhos - Governador André Franco Montoro International Airport    3.467242e+05\n",
       "Rio Galeão – Tom Jobim International Airport                         1.035093e+04\n",
       "Presidente Juscelino Kubitschek International Airport                9.241846e+05\n",
       "Deputado Luiz Eduardo Magalhães International Airport                1.234298e+06\n",
       "Tancredo Neves International Airport                                 3.672493e+05\n",
       "Eduardo Gomes International Airport                                  2.854494e+06\n",
       "Hercílio Luz International Airport                                   7.681356e+05\n",
       "Val de Cans/Júlio Cezar Ribeiro International Airport                2.462792e+06\n",
       "dtype: float64"
      ]
     },
     "execution_count": 30,
     "metadata": {},
     "output_type": "execute_result"
    }
   ],
   "source": [
    "large_airports.distance(seaports_brazil5880.geometry.iloc[0])"
   ]
  },
  {
   "cell_type": "markdown",
   "id": "7484b0c5-ac6e-4a25-8be5-6e3ada2ab6ad",
   "metadata": {},
   "source": [
    "What about computing...\n",
    "\n",
    "> All the distances between large aiports and seaports (in km)"
   ]
  },
  {
   "cell_type": "code",
   "execution_count": 32,
   "id": "732b442a-bc31-4522-aec5-0cbbca069ec4",
   "metadata": {},
   "outputs": [
    {
     "data": {
      "text/html": [
       "<div>\n",
       "<style scoped>\n",
       "    .dataframe tbody tr th:only-of-type {\n",
       "        vertical-align: middle;\n",
       "    }\n",
       "\n",
       "    .dataframe tbody tr th {\n",
       "        vertical-align: top;\n",
       "    }\n",
       "\n",
       "    .dataframe thead th {\n",
       "        text-align: right;\n",
       "    }\n",
       "</style>\n",
       "<table border=\"1\" class=\"dataframe\">\n",
       "  <thead>\n",
       "    <tr style=\"text-align: right;\">\n",
       "      <th>airport_name</th>\n",
       "      <th>Guarulhos - Governador André Franco Montoro International Airport</th>\n",
       "      <th>Rio Galeão – Tom Jobim International Airport</th>\n",
       "      <th>Presidente Juscelino Kubitschek International Airport</th>\n",
       "      <th>Deputado Luiz Eduardo Magalhães International Airport</th>\n",
       "      <th>Tancredo Neves International Airport</th>\n",
       "      <th>Eduardo Gomes International Airport</th>\n",
       "      <th>Hercílio Luz International Airport</th>\n",
       "      <th>Val de Cans/Júlio Cezar Ribeiro International Airport</th>\n",
       "    </tr>\n",
       "    <tr>\n",
       "      <th>seaport_name</th>\n",
       "      <th></th>\n",
       "      <th></th>\n",
       "      <th></th>\n",
       "      <th></th>\n",
       "      <th></th>\n",
       "      <th></th>\n",
       "      <th></th>\n",
       "      <th></th>\n",
       "    </tr>\n",
       "  </thead>\n",
       "  <tbody>\n",
       "    <tr>\n",
       "      <th>Dtse / Gegua Oil Terminal</th>\n",
       "      <td>346.724171</td>\n",
       "      <td>10.350933</td>\n",
       "      <td>924.184620</td>\n",
       "      <td>1234.297632</td>\n",
       "      <td>367.249276</td>\n",
       "      <td>2854.493600</td>\n",
       "      <td>768.135646</td>\n",
       "      <td>2462.791784</td>\n",
       "    </tr>\n",
       "    <tr>\n",
       "      <th>Porto De Mucuripe</th>\n",
       "      <td>2385.543307</td>\n",
       "      <td>2225.886834</td>\n",
       "      <td>1715.246883</td>\n",
       "      <td>1053.738618</td>\n",
       "      <td>1899.676213</td>\n",
       "      <td>2397.739727</td>\n",
       "      <td>2901.295202</td>\n",
       "      <td>1141.963646</td>\n",
       "    </tr>\n",
       "    <tr>\n",
       "      <th>Portocel</th>\n",
       "      <td>776.722303</td>\n",
       "      <td>471.101490</td>\n",
       "      <td>946.209008</td>\n",
       "      <td>813.018817</td>\n",
       "      <td>411.269111</td>\n",
       "      <td>2867.979624</td>\n",
       "      <td>1232.521248</td>\n",
       "      <td>2266.253017</td>\n",
       "    </tr>\n",
       "    <tr>\n",
       "      <th>Santa Clara</th>\n",
       "      <td>579.203362</td>\n",
       "      <td>865.876382</td>\n",
       "      <td>664.999298</td>\n",
       "      <td>1651.678293</td>\n",
       "      <td>785.388683</td>\n",
       "      <td>2189.659524</td>\n",
       "      <td>805.599343</td>\n",
       "      <td>2185.898767</td>\n",
       "    </tr>\n",
       "    <tr>\n",
       "      <th>Aratu</th>\n",
       "      <td>1466.826530</td>\n",
       "      <td>1242.804930</td>\n",
       "      <td>1073.851757</td>\n",
       "      <td>24.032516</td>\n",
       "      <td>971.167168</td>\n",
       "      <td>2609.953079</td>\n",
       "      <td>1975.180167</td>\n",
       "      <td>1690.370196</td>\n",
       "    </tr>\n",
       "    <tr>\n",
       "      <th>Cabedelo</th>\n",
       "      <td>2248.124981</td>\n",
       "      <td>2023.173930</td>\n",
       "      <td>1747.914940</td>\n",
       "      <td>786.022123</td>\n",
       "      <td>1751.230863</td>\n",
       "      <td>2830.123680</td>\n",
       "      <td>2757.957782</td>\n",
       "      <td>1641.263825</td>\n",
       "    </tr>\n",
       "    <tr>\n",
       "      <th>Imbituba</th>\n",
       "      <td>578.310920</td>\n",
       "      <td>814.278300</td>\n",
       "      <td>1377.148556</td>\n",
       "      <td>2031.882238</td>\n",
       "      <td>1072.105305</td>\n",
       "      <td>3042.768039</td>\n",
       "      <td>63.612808</td>\n",
       "      <td>2983.998277</td>\n",
       "    </tr>\n",
       "    <tr>\n",
       "      <th>Angra Dos Reis</th>\n",
       "      <td>225.003606</td>\n",
       "      <td>111.795735</td>\n",
       "      <td>883.019058</td>\n",
       "      <td>1308.028199</td>\n",
       "      <td>380.901616</td>\n",
       "      <td>2791.717379</td>\n",
       "      <td>671.807826</td>\n",
       "      <td>2455.089996</td>\n",
       "    </tr>\n",
       "    <tr>\n",
       "      <th>Natal</th>\n",
       "      <td>2341.056650</td>\n",
       "      <td>2128.327377</td>\n",
       "      <td>1799.131283</td>\n",
       "      <td>891.421964</td>\n",
       "      <td>1843.689307</td>\n",
       "      <td>2774.776071</td>\n",
       "      <td>2853.930050</td>\n",
       "      <td>1556.780342</td>\n",
       "    </tr>\n",
       "    <tr>\n",
       "      <th>Guamare Oil Terminal</th>\n",
       "      <td>2371.907633</td>\n",
       "      <td>2177.693211</td>\n",
       "      <td>1779.896593</td>\n",
       "      <td>953.130770</td>\n",
       "      <td>1876.302092</td>\n",
       "      <td>2647.096318</td>\n",
       "      <td>2887.478112</td>\n",
       "      <td>1411.272089</td>\n",
       "    </tr>\n",
       "    <tr>\n",
       "      <th>Itaqui</th>\n",
       "      <td>2344.169726</td>\n",
       "      <td>2275.985960</td>\n",
       "      <td>1535.410406</td>\n",
       "      <td>1347.564542</td>\n",
       "      <td>1915.248841</td>\n",
       "      <td>1744.522370</td>\n",
       "      <td>2836.644708</td>\n",
       "      <td>476.002360</td>\n",
       "    </tr>\n",
       "    <tr>\n",
       "      <th>Manaus</th>\n",
       "      <td>2682.252079</td>\n",
       "      <td>2836.382779</td>\n",
       "      <td>1935.849306</td>\n",
       "      <td>2625.311641</td>\n",
       "      <td>2529.751943</td>\n",
       "      <td>11.154274</td>\n",
       "      <td>2980.307205</td>\n",
       "      <td>1298.255235</td>\n",
       "    </tr>\n",
       "    <tr>\n",
       "      <th>Itacoatiara</th>\n",
       "      <td>2592.193077</td>\n",
       "      <td>2730.217800</td>\n",
       "      <td>1820.822272</td>\n",
       "      <td>2468.851545</td>\n",
       "      <td>2413.939317</td>\n",
       "      <td>178.249697</td>\n",
       "      <td>2913.273479</td>\n",
       "      <td>1126.561239</td>\n",
       "    </tr>\n",
       "    <tr>\n",
       "      <th>Belem</th>\n",
       "      <td>2456.456648</td>\n",
       "      <td>2452.107621</td>\n",
       "      <td>1604.006437</td>\n",
       "      <td>1709.617689</td>\n",
       "      <td>2088.711020</td>\n",
       "      <td>1296.677448</td>\n",
       "      <td>2913.649490</td>\n",
       "      <td>8.290566</td>\n",
       "    </tr>\n",
       "    <tr>\n",
       "      <th>Macae</th>\n",
       "      <td>496.852182</td>\n",
       "      <td>160.532855</td>\n",
       "      <td>973.748856</td>\n",
       "      <td>1135.432221</td>\n",
       "      <td>383.200281</td>\n",
       "      <td>2918.055893</td>\n",
       "      <td>905.988525</td>\n",
       "      <td>2458.151928</td>\n",
       "    </tr>\n",
       "    <tr>\n",
       "      <th>Niteroi</th>\n",
       "      <td>348.597382</td>\n",
       "      <td>16.028283</td>\n",
       "      <td>932.309968</td>\n",
       "      <td>1239.746717</td>\n",
       "      <td>375.348945</td>\n",
       "      <td>2862.315099</td>\n",
       "      <td>765.202458</td>\n",
       "      <td>2470.939163</td>\n",
       "    </tr>\n",
       "    <tr>\n",
       "      <th>Pelotas</th>\n",
       "      <td>1093.531165</td>\n",
       "      <td>1343.662618</td>\n",
       "      <td>1822.421018</td>\n",
       "      <td>2557.070047</td>\n",
       "      <td>1590.903559</td>\n",
       "      <td>3287.745109</td>\n",
       "      <td>585.001710</td>\n",
       "      <td>3396.677050</td>\n",
       "    </tr>\n",
       "    <tr>\n",
       "      <th>Rio De Janeiro</th>\n",
       "      <td>343.209409</td>\n",
       "      <td>13.287640</td>\n",
       "      <td>930.999018</td>\n",
       "      <td>1243.545205</td>\n",
       "      <td>375.961548</td>\n",
       "      <td>2860.201645</td>\n",
       "      <td>760.258369</td>\n",
       "      <td>2471.340121</td>\n",
       "    </tr>\n",
       "    <tr>\n",
       "      <th>Recife</th>\n",
       "      <td>2142.801315</td>\n",
       "      <td>1910.277530</td>\n",
       "      <td>1674.666425</td>\n",
       "      <td>676.860725</td>\n",
       "      <td>1647.057100</td>\n",
       "      <td>2845.133868</td>\n",
       "      <td>2650.142734</td>\n",
       "      <td>1687.882366</td>\n",
       "    </tr>\n",
       "    <tr>\n",
       "      <th>Tramandai</th>\n",
       "      <td>814.930209</td>\n",
       "      <td>1054.174075</td>\n",
       "      <td>1584.514525</td>\n",
       "      <td>2272.782881</td>\n",
       "      <td>1310.905328</td>\n",
       "      <td>3164.410125</td>\n",
       "      <td>299.764293</td>\n",
       "      <td>3180.525010</td>\n",
       "    </tr>\n",
       "    <tr>\n",
       "      <th>Madre De Deus</th>\n",
       "      <td>1462.725337</td>\n",
       "      <td>1241.121137</td>\n",
       "      <td>1063.232802</td>\n",
       "      <td>36.749390</td>\n",
       "      <td>966.657897</td>\n",
       "      <td>2596.778994</td>\n",
       "      <td>1971.741706</td>\n",
       "      <td>1679.002816</td>\n",
       "    </tr>\n",
       "    <tr>\n",
       "      <th>Laguna</th>\n",
       "      <td>610.078831</td>\n",
       "      <td>843.875837</td>\n",
       "      <td>1407.360604</td>\n",
       "      <td>2062.999867</td>\n",
       "      <td>1103.719364</td>\n",
       "      <td>3064.635623</td>\n",
       "      <td>95.009235</td>\n",
       "      <td>3013.520141</td>\n",
       "    </tr>\n",
       "    <tr>\n",
       "      <th>Port De Aracaju</th>\n",
       "      <td>1733.070695</td>\n",
       "      <td>1504.384506</td>\n",
       "      <td>1303.001081</td>\n",
       "      <td>267.564965</td>\n",
       "      <td>1237.441529</td>\n",
       "      <td>2687.325788</td>\n",
       "      <td>2240.825988</td>\n",
       "      <td>1659.464068</td>\n",
       "    </tr>\n",
       "    <tr>\n",
       "      <th>Porto Santana</th>\n",
       "      <td>2646.507607</td>\n",
       "      <td>2677.012736</td>\n",
       "      <td>1791.151164</td>\n",
       "      <td>2023.853225</td>\n",
       "      <td>2318.125252</td>\n",
       "      <td>1040.555921</td>\n",
       "      <td>3076.376196</td>\n",
       "      <td>335.441624</td>\n",
       "    </tr>\n",
       "    <tr>\n",
       "      <th>Porto De Maceio</th>\n",
       "      <td>1934.791716</td>\n",
       "      <td>1699.567552</td>\n",
       "      <td>1497.384909</td>\n",
       "      <td>468.512961</td>\n",
       "      <td>1440.007502</td>\n",
       "      <td>2788.984232</td>\n",
       "      <td>2440.819954</td>\n",
       "      <td>1693.889037</td>\n",
       "    </tr>\n",
       "    <tr>\n",
       "      <th>Port De Salvador</th>\n",
       "      <td>1448.644611</td>\n",
       "      <td>1222.959201</td>\n",
       "      <td>1065.257319</td>\n",
       "      <td>22.089660</td>\n",
       "      <td>953.390744</td>\n",
       "      <td>2616.268890</td>\n",
       "      <td>1956.445482</td>\n",
       "      <td>1704.676897</td>\n",
       "    </tr>\n",
       "    <tr>\n",
       "      <th>Rio Grande</th>\n",
       "      <td>1106.010760</td>\n",
       "      <td>1349.213774</td>\n",
       "      <td>1845.254974</td>\n",
       "      <td>2567.264855</td>\n",
       "      <td>1603.088647</td>\n",
       "      <td>3322.620918</td>\n",
       "      <td>593.951743</td>\n",
       "      <td>3423.363634</td>\n",
       "    </tr>\n",
       "    <tr>\n",
       "      <th>Santarem</th>\n",
       "      <td>2494.223469</td>\n",
       "      <td>2582.870485</td>\n",
       "      <td>1666.149767</td>\n",
       "      <td>2153.673543</td>\n",
       "      <td>2242.151898</td>\n",
       "      <td>596.990455</td>\n",
       "      <td>2873.540176</td>\n",
       "      <td>703.734669</td>\n",
       "    </tr>\n",
       "    <tr>\n",
       "      <th>Porto Do Forno</th>\n",
       "      <td>458.612166</td>\n",
       "      <td>127.835449</td>\n",
       "      <td>1007.569738</td>\n",
       "      <td>1207.778202</td>\n",
       "      <td>425.934098</td>\n",
       "      <td>2947.271281</td>\n",
       "      <td>842.325416</td>\n",
       "      <td>2513.571318</td>\n",
       "    </tr>\n",
       "    <tr>\n",
       "      <th>Port Of Ilheus</th>\n",
       "      <td>1250.183516</td>\n",
       "      <td>1012.231807</td>\n",
       "      <td>963.853808</td>\n",
       "      <td>227.158223</td>\n",
       "      <td>760.366657</td>\n",
       "      <td>2653.948977</td>\n",
       "      <td>1752.959780</td>\n",
       "      <td>1830.939739</td>\n",
       "    </tr>\n",
       "    <tr>\n",
       "      <th>Itajai</th>\n",
       "      <td>445.212169</td>\n",
       "      <td>711.429716</td>\n",
       "      <td>1230.766858</td>\n",
       "      <td>1908.751545</td>\n",
       "      <td>942.378862</td>\n",
       "      <td>2912.927857</td>\n",
       "      <td>84.183089</td>\n",
       "      <td>2837.650203</td>\n",
       "    </tr>\n",
       "    <tr>\n",
       "      <th>Cameta</th>\n",
       "      <td>2378.168716</td>\n",
       "      <td>2391.088714</td>\n",
       "      <td>1522.497285</td>\n",
       "      <td>1718.258865</td>\n",
       "      <td>2029.693661</td>\n",
       "      <td>1176.378545</td>\n",
       "      <td>2824.439489</td>\n",
       "      <td>149.389065</td>\n",
       "    </tr>\n",
       "    <tr>\n",
       "      <th>Gebig</th>\n",
       "      <td>234.293252</td>\n",
       "      <td>102.687867</td>\n",
       "      <td>890.971113</td>\n",
       "      <td>1306.374359</td>\n",
       "      <td>383.834407</td>\n",
       "      <td>2801.212589</td>\n",
       "      <td>675.394423</td>\n",
       "      <td>2460.997434</td>\n",
       "    </tr>\n",
       "    <tr>\n",
       "      <th>Camocim</th>\n",
       "      <td>2386.572249</td>\n",
       "      <td>2263.438786</td>\n",
       "      <td>1649.578153</td>\n",
       "      <td>1174.469354</td>\n",
       "      <td>1918.592061</td>\n",
       "      <td>2136.332613</td>\n",
       "      <td>2896.762517</td>\n",
       "      <td>867.120057</td>\n",
       "    </tr>\n",
       "    <tr>\n",
       "      <th>Tutoia</th>\n",
       "      <td>2359.329043</td>\n",
       "      <td>2258.261495</td>\n",
       "      <td>1590.076044</td>\n",
       "      <td>1231.305489</td>\n",
       "      <td>1905.363602</td>\n",
       "      <td>1975.390802</td>\n",
       "      <td>2863.730319</td>\n",
       "      <td>706.603901</td>\n",
       "    </tr>\n",
       "    <tr>\n",
       "      <th>Porto De Suape</th>\n",
       "      <td>2103.354422</td>\n",
       "      <td>1869.279589</td>\n",
       "      <td>1643.841933</td>\n",
       "      <td>637.106285</td>\n",
       "      <td>1607.968400</td>\n",
       "      <td>2841.333120</td>\n",
       "      <td>2610.100411</td>\n",
       "      <td>1695.716388</td>\n",
       "    </tr>\n",
       "    <tr>\n",
       "      <th>Sao Sebastiao</th>\n",
       "      <td>116.468574</td>\n",
       "      <td>246.255403</td>\n",
       "      <td>922.876460</td>\n",
       "      <td>1439.559506</td>\n",
       "      <td>489.364806</td>\n",
       "      <td>2790.737899</td>\n",
       "      <td>534.907206</td>\n",
       "      <td>2520.013507</td>\n",
       "    </tr>\n",
       "    <tr>\n",
       "      <th>Porto Alegre</th>\n",
       "      <td>873.579840</td>\n",
       "      <td>1131.972395</td>\n",
       "      <td>1608.962449</td>\n",
       "      <td>2338.373437</td>\n",
       "      <td>1370.955950</td>\n",
       "      <td>3133.273638</td>\n",
       "      <td>370.518357</td>\n",
       "      <td>3192.817209</td>\n",
       "    </tr>\n",
       "    <tr>\n",
       "      <th>Sao Francisco</th>\n",
       "      <td>382.581936</td>\n",
       "      <td>667.068214</td>\n",
       "      <td>1156.757681</td>\n",
       "      <td>1848.757620</td>\n",
       "      <td>879.673853</td>\n",
       "      <td>2846.986805</td>\n",
       "      <td>158.134767</td>\n",
       "      <td>2763.531465</td>\n",
       "    </tr>\n",
       "    <tr>\n",
       "      <th>Santos</th>\n",
       "      <td>60.285901</td>\n",
       "      <td>336.840080</td>\n",
       "      <td>916.131756</td>\n",
       "      <td>1503.504871</td>\n",
       "      <td>539.576757</td>\n",
       "      <td>2750.220613</td>\n",
       "      <td>471.909979</td>\n",
       "      <td>2523.542123</td>\n",
       "    </tr>\n",
       "    <tr>\n",
       "      <th>Vitoria</th>\n",
       "      <td>724.103309</td>\n",
       "      <td>412.874702</td>\n",
       "      <td>945.370886</td>\n",
       "      <td>871.332211</td>\n",
       "      <td>388.004920</td>\n",
       "      <td>2877.110506</td>\n",
       "      <td>1173.859123</td>\n",
       "      <td>2300.907362</td>\n",
       "    </tr>\n",
       "    <tr>\n",
       "      <th>Vila Do Conde</th>\n",
       "      <td>2447.390678</td>\n",
       "      <td>2447.041476</td>\n",
       "      <td>1593.895601</td>\n",
       "      <td>1719.067617</td>\n",
       "      <td>2083.991348</td>\n",
       "      <td>1267.605039</td>\n",
       "      <td>2902.031022</td>\n",
       "      <td>35.886867</td>\n",
       "    </tr>\n",
       "    <tr>\n",
       "      <th>Tubarao</th>\n",
       "      <td>733.536010</td>\n",
       "      <td>421.815958</td>\n",
       "      <td>951.016346</td>\n",
       "      <td>865.639116</td>\n",
       "      <td>395.886973</td>\n",
       "      <td>2881.588731</td>\n",
       "      <td>1182.657631</td>\n",
       "      <td>2301.239995</td>\n",
       "    </tr>\n",
       "    <tr>\n",
       "      <th>Paranagua</th>\n",
       "      <td>310.122786</td>\n",
       "      <td>613.685944</td>\n",
       "      <td>1072.847448</td>\n",
       "      <td>1775.347212</td>\n",
       "      <td>804.518079</td>\n",
       "      <td>2778.830902</td>\n",
       "      <td>241.366210</td>\n",
       "      <td>2680.325904</td>\n",
       "    </tr>\n",
       "    <tr>\n",
       "      <th>Guaiba Island Terminal</th>\n",
       "      <td>253.451432</td>\n",
       "      <td>83.581854</td>\n",
       "      <td>896.378698</td>\n",
       "      <td>1294.218692</td>\n",
       "      <td>379.377843</td>\n",
       "      <td>2810.644009</td>\n",
       "      <td>690.358499</td>\n",
       "      <td>2461.628137</td>\n",
       "    </tr>\n",
       "  </tbody>\n",
       "</table>\n",
       "</div>"
      ],
      "text/plain": [
       "airport_name               Guarulhos - Governador André Franco Montoro International Airport  \\\n",
       "seaport_name                                                                                   \n",
       "Dtse / Gegua Oil Terminal                                         346.724171                   \n",
       "Porto De Mucuripe                                                2385.543307                   \n",
       "Portocel                                                          776.722303                   \n",
       "Santa Clara                                                       579.203362                   \n",
       "Aratu                                                            1466.826530                   \n",
       "Cabedelo                                                         2248.124981                   \n",
       "Imbituba                                                          578.310920                   \n",
       "Angra Dos Reis                                                    225.003606                   \n",
       "Natal                                                            2341.056650                   \n",
       "Guamare Oil Terminal                                             2371.907633                   \n",
       "Itaqui                                                           2344.169726                   \n",
       "Manaus                                                           2682.252079                   \n",
       "Itacoatiara                                                      2592.193077                   \n",
       "Belem                                                            2456.456648                   \n",
       "Macae                                                             496.852182                   \n",
       "Niteroi                                                           348.597382                   \n",
       "Pelotas                                                          1093.531165                   \n",
       "Rio De Janeiro                                                    343.209409                   \n",
       "Recife                                                           2142.801315                   \n",
       "Tramandai                                                         814.930209                   \n",
       "Madre De Deus                                                    1462.725337                   \n",
       "Laguna                                                            610.078831                   \n",
       "Port De Aracaju                                                  1733.070695                   \n",
       "Porto Santana                                                    2646.507607                   \n",
       "Porto De Maceio                                                  1934.791716                   \n",
       "Port De Salvador                                                 1448.644611                   \n",
       "Rio Grande                                                       1106.010760                   \n",
       "Santarem                                                         2494.223469                   \n",
       "Porto Do Forno                                                    458.612166                   \n",
       "Port Of Ilheus                                                   1250.183516                   \n",
       "Itajai                                                            445.212169                   \n",
       "Cameta                                                           2378.168716                   \n",
       "Gebig                                                             234.293252                   \n",
       "Camocim                                                          2386.572249                   \n",
       "Tutoia                                                           2359.329043                   \n",
       "Porto De Suape                                                   2103.354422                   \n",
       "Sao Sebastiao                                                     116.468574                   \n",
       "Porto Alegre                                                      873.579840                   \n",
       "Sao Francisco                                                     382.581936                   \n",
       "Santos                                                             60.285901                   \n",
       "Vitoria                                                           724.103309                   \n",
       "Vila Do Conde                                                    2447.390678                   \n",
       "Tubarao                                                           733.536010                   \n",
       "Paranagua                                                         310.122786                   \n",
       "Guaiba Island Terminal                                            253.451432                   \n",
       "\n",
       "airport_name               Rio Galeão – Tom Jobim International Airport  \\\n",
       "seaport_name                                                              \n",
       "Dtse / Gegua Oil Terminal                                     10.350933   \n",
       "Porto De Mucuripe                                           2225.886834   \n",
       "Portocel                                                     471.101490   \n",
       "Santa Clara                                                  865.876382   \n",
       "Aratu                                                       1242.804930   \n",
       "Cabedelo                                                    2023.173930   \n",
       "Imbituba                                                     814.278300   \n",
       "Angra Dos Reis                                               111.795735   \n",
       "Natal                                                       2128.327377   \n",
       "Guamare Oil Terminal                                        2177.693211   \n",
       "Itaqui                                                      2275.985960   \n",
       "Manaus                                                      2836.382779   \n",
       "Itacoatiara                                                 2730.217800   \n",
       "Belem                                                       2452.107621   \n",
       "Macae                                                        160.532855   \n",
       "Niteroi                                                       16.028283   \n",
       "Pelotas                                                     1343.662618   \n",
       "Rio De Janeiro                                                13.287640   \n",
       "Recife                                                      1910.277530   \n",
       "Tramandai                                                   1054.174075   \n",
       "Madre De Deus                                               1241.121137   \n",
       "Laguna                                                       843.875837   \n",
       "Port De Aracaju                                             1504.384506   \n",
       "Porto Santana                                               2677.012736   \n",
       "Porto De Maceio                                             1699.567552   \n",
       "Port De Salvador                                            1222.959201   \n",
       "Rio Grande                                                  1349.213774   \n",
       "Santarem                                                    2582.870485   \n",
       "Porto Do Forno                                               127.835449   \n",
       "Port Of Ilheus                                              1012.231807   \n",
       "Itajai                                                       711.429716   \n",
       "Cameta                                                      2391.088714   \n",
       "Gebig                                                        102.687867   \n",
       "Camocim                                                     2263.438786   \n",
       "Tutoia                                                      2258.261495   \n",
       "Porto De Suape                                              1869.279589   \n",
       "Sao Sebastiao                                                246.255403   \n",
       "Porto Alegre                                                1131.972395   \n",
       "Sao Francisco                                                667.068214   \n",
       "Santos                                                       336.840080   \n",
       "Vitoria                                                      412.874702   \n",
       "Vila Do Conde                                               2447.041476   \n",
       "Tubarao                                                      421.815958   \n",
       "Paranagua                                                    613.685944   \n",
       "Guaiba Island Terminal                                        83.581854   \n",
       "\n",
       "airport_name               Presidente Juscelino Kubitschek International Airport  \\\n",
       "seaport_name                                                                       \n",
       "Dtse / Gegua Oil Terminal                                         924.184620       \n",
       "Porto De Mucuripe                                                1715.246883       \n",
       "Portocel                                                          946.209008       \n",
       "Santa Clara                                                       664.999298       \n",
       "Aratu                                                            1073.851757       \n",
       "Cabedelo                                                         1747.914940       \n",
       "Imbituba                                                         1377.148556       \n",
       "Angra Dos Reis                                                    883.019058       \n",
       "Natal                                                            1799.131283       \n",
       "Guamare Oil Terminal                                             1779.896593       \n",
       "Itaqui                                                           1535.410406       \n",
       "Manaus                                                           1935.849306       \n",
       "Itacoatiara                                                      1820.822272       \n",
       "Belem                                                            1604.006437       \n",
       "Macae                                                             973.748856       \n",
       "Niteroi                                                           932.309968       \n",
       "Pelotas                                                          1822.421018       \n",
       "Rio De Janeiro                                                    930.999018       \n",
       "Recife                                                           1674.666425       \n",
       "Tramandai                                                        1584.514525       \n",
       "Madre De Deus                                                    1063.232802       \n",
       "Laguna                                                           1407.360604       \n",
       "Port De Aracaju                                                  1303.001081       \n",
       "Porto Santana                                                    1791.151164       \n",
       "Porto De Maceio                                                  1497.384909       \n",
       "Port De Salvador                                                 1065.257319       \n",
       "Rio Grande                                                       1845.254974       \n",
       "Santarem                                                         1666.149767       \n",
       "Porto Do Forno                                                   1007.569738       \n",
       "Port Of Ilheus                                                    963.853808       \n",
       "Itajai                                                           1230.766858       \n",
       "Cameta                                                           1522.497285       \n",
       "Gebig                                                             890.971113       \n",
       "Camocim                                                          1649.578153       \n",
       "Tutoia                                                           1590.076044       \n",
       "Porto De Suape                                                   1643.841933       \n",
       "Sao Sebastiao                                                     922.876460       \n",
       "Porto Alegre                                                     1608.962449       \n",
       "Sao Francisco                                                    1156.757681       \n",
       "Santos                                                            916.131756       \n",
       "Vitoria                                                           945.370886       \n",
       "Vila Do Conde                                                    1593.895601       \n",
       "Tubarao                                                           951.016346       \n",
       "Paranagua                                                        1072.847448       \n",
       "Guaiba Island Terminal                                            896.378698       \n",
       "\n",
       "airport_name               Deputado Luiz Eduardo Magalhães International Airport  \\\n",
       "seaport_name                                                                       \n",
       "Dtse / Gegua Oil Terminal                                        1234.297632       \n",
       "Porto De Mucuripe                                                1053.738618       \n",
       "Portocel                                                          813.018817       \n",
       "Santa Clara                                                      1651.678293       \n",
       "Aratu                                                              24.032516       \n",
       "Cabedelo                                                          786.022123       \n",
       "Imbituba                                                         2031.882238       \n",
       "Angra Dos Reis                                                   1308.028199       \n",
       "Natal                                                             891.421964       \n",
       "Guamare Oil Terminal                                              953.130770       \n",
       "Itaqui                                                           1347.564542       \n",
       "Manaus                                                           2625.311641       \n",
       "Itacoatiara                                                      2468.851545       \n",
       "Belem                                                            1709.617689       \n",
       "Macae                                                            1135.432221       \n",
       "Niteroi                                                          1239.746717       \n",
       "Pelotas                                                          2557.070047       \n",
       "Rio De Janeiro                                                   1243.545205       \n",
       "Recife                                                            676.860725       \n",
       "Tramandai                                                        2272.782881       \n",
       "Madre De Deus                                                      36.749390       \n",
       "Laguna                                                           2062.999867       \n",
       "Port De Aracaju                                                   267.564965       \n",
       "Porto Santana                                                    2023.853225       \n",
       "Porto De Maceio                                                   468.512961       \n",
       "Port De Salvador                                                   22.089660       \n",
       "Rio Grande                                                       2567.264855       \n",
       "Santarem                                                         2153.673543       \n",
       "Porto Do Forno                                                   1207.778202       \n",
       "Port Of Ilheus                                                    227.158223       \n",
       "Itajai                                                           1908.751545       \n",
       "Cameta                                                           1718.258865       \n",
       "Gebig                                                            1306.374359       \n",
       "Camocim                                                          1174.469354       \n",
       "Tutoia                                                           1231.305489       \n",
       "Porto De Suape                                                    637.106285       \n",
       "Sao Sebastiao                                                    1439.559506       \n",
       "Porto Alegre                                                     2338.373437       \n",
       "Sao Francisco                                                    1848.757620       \n",
       "Santos                                                           1503.504871       \n",
       "Vitoria                                                           871.332211       \n",
       "Vila Do Conde                                                    1719.067617       \n",
       "Tubarao                                                           865.639116       \n",
       "Paranagua                                                        1775.347212       \n",
       "Guaiba Island Terminal                                           1294.218692       \n",
       "\n",
       "airport_name               Tancredo Neves International Airport  \\\n",
       "seaport_name                                                      \n",
       "Dtse / Gegua Oil Terminal                            367.249276   \n",
       "Porto De Mucuripe                                   1899.676213   \n",
       "Portocel                                             411.269111   \n",
       "Santa Clara                                          785.388683   \n",
       "Aratu                                                971.167168   \n",
       "Cabedelo                                            1751.230863   \n",
       "Imbituba                                            1072.105305   \n",
       "Angra Dos Reis                                       380.901616   \n",
       "Natal                                               1843.689307   \n",
       "Guamare Oil Terminal                                1876.302092   \n",
       "Itaqui                                              1915.248841   \n",
       "Manaus                                              2529.751943   \n",
       "Itacoatiara                                         2413.939317   \n",
       "Belem                                               2088.711020   \n",
       "Macae                                                383.200281   \n",
       "Niteroi                                              375.348945   \n",
       "Pelotas                                             1590.903559   \n",
       "Rio De Janeiro                                       375.961548   \n",
       "Recife                                              1647.057100   \n",
       "Tramandai                                           1310.905328   \n",
       "Madre De Deus                                        966.657897   \n",
       "Laguna                                              1103.719364   \n",
       "Port De Aracaju                                     1237.441529   \n",
       "Porto Santana                                       2318.125252   \n",
       "Porto De Maceio                                     1440.007502   \n",
       "Port De Salvador                                     953.390744   \n",
       "Rio Grande                                          1603.088647   \n",
       "Santarem                                            2242.151898   \n",
       "Porto Do Forno                                       425.934098   \n",
       "Port Of Ilheus                                       760.366657   \n",
       "Itajai                                               942.378862   \n",
       "Cameta                                              2029.693661   \n",
       "Gebig                                                383.834407   \n",
       "Camocim                                             1918.592061   \n",
       "Tutoia                                              1905.363602   \n",
       "Porto De Suape                                      1607.968400   \n",
       "Sao Sebastiao                                        489.364806   \n",
       "Porto Alegre                                        1370.955950   \n",
       "Sao Francisco                                        879.673853   \n",
       "Santos                                               539.576757   \n",
       "Vitoria                                              388.004920   \n",
       "Vila Do Conde                                       2083.991348   \n",
       "Tubarao                                              395.886973   \n",
       "Paranagua                                            804.518079   \n",
       "Guaiba Island Terminal                               379.377843   \n",
       "\n",
       "airport_name               Eduardo Gomes International Airport  \\\n",
       "seaport_name                                                     \n",
       "Dtse / Gegua Oil Terminal                          2854.493600   \n",
       "Porto De Mucuripe                                  2397.739727   \n",
       "Portocel                                           2867.979624   \n",
       "Santa Clara                                        2189.659524   \n",
       "Aratu                                              2609.953079   \n",
       "Cabedelo                                           2830.123680   \n",
       "Imbituba                                           3042.768039   \n",
       "Angra Dos Reis                                     2791.717379   \n",
       "Natal                                              2774.776071   \n",
       "Guamare Oil Terminal                               2647.096318   \n",
       "Itaqui                                             1744.522370   \n",
       "Manaus                                               11.154274   \n",
       "Itacoatiara                                         178.249697   \n",
       "Belem                                              1296.677448   \n",
       "Macae                                              2918.055893   \n",
       "Niteroi                                            2862.315099   \n",
       "Pelotas                                            3287.745109   \n",
       "Rio De Janeiro                                     2860.201645   \n",
       "Recife                                             2845.133868   \n",
       "Tramandai                                          3164.410125   \n",
       "Madre De Deus                                      2596.778994   \n",
       "Laguna                                             3064.635623   \n",
       "Port De Aracaju                                    2687.325788   \n",
       "Porto Santana                                      1040.555921   \n",
       "Porto De Maceio                                    2788.984232   \n",
       "Port De Salvador                                   2616.268890   \n",
       "Rio Grande                                         3322.620918   \n",
       "Santarem                                            596.990455   \n",
       "Porto Do Forno                                     2947.271281   \n",
       "Port Of Ilheus                                     2653.948977   \n",
       "Itajai                                             2912.927857   \n",
       "Cameta                                             1176.378545   \n",
       "Gebig                                              2801.212589   \n",
       "Camocim                                            2136.332613   \n",
       "Tutoia                                             1975.390802   \n",
       "Porto De Suape                                     2841.333120   \n",
       "Sao Sebastiao                                      2790.737899   \n",
       "Porto Alegre                                       3133.273638   \n",
       "Sao Francisco                                      2846.986805   \n",
       "Santos                                             2750.220613   \n",
       "Vitoria                                            2877.110506   \n",
       "Vila Do Conde                                      1267.605039   \n",
       "Tubarao                                            2881.588731   \n",
       "Paranagua                                          2778.830902   \n",
       "Guaiba Island Terminal                             2810.644009   \n",
       "\n",
       "airport_name               Hercílio Luz International Airport  \\\n",
       "seaport_name                                                    \n",
       "Dtse / Gegua Oil Terminal                          768.135646   \n",
       "Porto De Mucuripe                                 2901.295202   \n",
       "Portocel                                          1232.521248   \n",
       "Santa Clara                                        805.599343   \n",
       "Aratu                                             1975.180167   \n",
       "Cabedelo                                          2757.957782   \n",
       "Imbituba                                            63.612808   \n",
       "Angra Dos Reis                                     671.807826   \n",
       "Natal                                             2853.930050   \n",
       "Guamare Oil Terminal                              2887.478112   \n",
       "Itaqui                                            2836.644708   \n",
       "Manaus                                            2980.307205   \n",
       "Itacoatiara                                       2913.273479   \n",
       "Belem                                             2913.649490   \n",
       "Macae                                              905.988525   \n",
       "Niteroi                                            765.202458   \n",
       "Pelotas                                            585.001710   \n",
       "Rio De Janeiro                                     760.258369   \n",
       "Recife                                            2650.142734   \n",
       "Tramandai                                          299.764293   \n",
       "Madre De Deus                                     1971.741706   \n",
       "Laguna                                              95.009235   \n",
       "Port De Aracaju                                   2240.825988   \n",
       "Porto Santana                                     3076.376196   \n",
       "Porto De Maceio                                   2440.819954   \n",
       "Port De Salvador                                  1956.445482   \n",
       "Rio Grande                                         593.951743   \n",
       "Santarem                                          2873.540176   \n",
       "Porto Do Forno                                     842.325416   \n",
       "Port Of Ilheus                                    1752.959780   \n",
       "Itajai                                              84.183089   \n",
       "Cameta                                            2824.439489   \n",
       "Gebig                                              675.394423   \n",
       "Camocim                                           2896.762517   \n",
       "Tutoia                                            2863.730319   \n",
       "Porto De Suape                                    2610.100411   \n",
       "Sao Sebastiao                                      534.907206   \n",
       "Porto Alegre                                       370.518357   \n",
       "Sao Francisco                                      158.134767   \n",
       "Santos                                             471.909979   \n",
       "Vitoria                                           1173.859123   \n",
       "Vila Do Conde                                     2902.031022   \n",
       "Tubarao                                           1182.657631   \n",
       "Paranagua                                          241.366210   \n",
       "Guaiba Island Terminal                             690.358499   \n",
       "\n",
       "airport_name               Val de Cans/Júlio Cezar Ribeiro International Airport  \n",
       "seaport_name                                                                      \n",
       "Dtse / Gegua Oil Terminal                                        2462.791784      \n",
       "Porto De Mucuripe                                                1141.963646      \n",
       "Portocel                                                         2266.253017      \n",
       "Santa Clara                                                      2185.898767      \n",
       "Aratu                                                            1690.370196      \n",
       "Cabedelo                                                         1641.263825      \n",
       "Imbituba                                                         2983.998277      \n",
       "Angra Dos Reis                                                   2455.089996      \n",
       "Natal                                                            1556.780342      \n",
       "Guamare Oil Terminal                                             1411.272089      \n",
       "Itaqui                                                            476.002360      \n",
       "Manaus                                                           1298.255235      \n",
       "Itacoatiara                                                      1126.561239      \n",
       "Belem                                                               8.290566      \n",
       "Macae                                                            2458.151928      \n",
       "Niteroi                                                          2470.939163      \n",
       "Pelotas                                                          3396.677050      \n",
       "Rio De Janeiro                                                   2471.340121      \n",
       "Recife                                                           1687.882366      \n",
       "Tramandai                                                        3180.525010      \n",
       "Madre De Deus                                                    1679.002816      \n",
       "Laguna                                                           3013.520141      \n",
       "Port De Aracaju                                                  1659.464068      \n",
       "Porto Santana                                                     335.441624      \n",
       "Porto De Maceio                                                  1693.889037      \n",
       "Port De Salvador                                                 1704.676897      \n",
       "Rio Grande                                                       3423.363634      \n",
       "Santarem                                                          703.734669      \n",
       "Porto Do Forno                                                   2513.571318      \n",
       "Port Of Ilheus                                                   1830.939739      \n",
       "Itajai                                                           2837.650203      \n",
       "Cameta                                                            149.389065      \n",
       "Gebig                                                            2460.997434      \n",
       "Camocim                                                           867.120057      \n",
       "Tutoia                                                            706.603901      \n",
       "Porto De Suape                                                   1695.716388      \n",
       "Sao Sebastiao                                                    2520.013507      \n",
       "Porto Alegre                                                     3192.817209      \n",
       "Sao Francisco                                                    2763.531465      \n",
       "Santos                                                           2523.542123      \n",
       "Vitoria                                                          2300.907362      \n",
       "Vila Do Conde                                                      35.886867      \n",
       "Tubarao                                                          2301.239995      \n",
       "Paranagua                                                        2680.325904      \n",
       "Guaiba Island Terminal                                           2461.628137      "
      ]
     },
     "execution_count": 32,
     "metadata": {},
     "output_type": "execute_result"
    }
   ],
   "source": [
    "# apply creates a LOOP, computes distances from each seaport to all large airports\n",
    "seaports_brazil5880.geometry.apply\\\n",
    "(lambda seaport: large_airports.geometry.distance(seaport)/1000)"
   ]
  },
  {
   "cell_type": "markdown",
   "id": "e1bf8401-ba3a-42df-a31e-53b8d9f46509",
   "metadata": {},
   "source": [
    "If we save the matrix..."
   ]
  },
  {
   "cell_type": "code",
   "execution_count": 33,
   "id": "05c0c0fa-96f3-4f82-8a98-c6c30b570b95",
   "metadata": {},
   "outputs": [],
   "source": [
    "D_Matrix_sea_air=seaports_brazil5880.geometry.apply \\\n",
    "                (lambda seaport: large_airports.geometry.distance(seaport)/1000)"
   ]
  },
  {
   "cell_type": "markdown",
   "id": "344e4efb-277f-44c0-b06b-b9996b9a3133",
   "metadata": {},
   "source": [
    "We can compute some distance stats from there:"
   ]
  },
  {
   "cell_type": "code",
   "execution_count": 34,
   "id": "e50fe44a-4ba2-45cc-bf5f-e80cfd513d13",
   "metadata": {},
   "outputs": [
    {
     "data": {
      "text/html": [
       "<div>\n",
       "<style scoped>\n",
       "    .dataframe tbody tr th:only-of-type {\n",
       "        vertical-align: middle;\n",
       "    }\n",
       "\n",
       "    .dataframe tbody tr th {\n",
       "        vertical-align: top;\n",
       "    }\n",
       "\n",
       "    .dataframe thead th {\n",
       "        text-align: right;\n",
       "    }\n",
       "</style>\n",
       "<table border=\"1\" class=\"dataframe\">\n",
       "  <thead>\n",
       "    <tr style=\"text-align: right;\">\n",
       "      <th></th>\n",
       "      <th>mean</th>\n",
       "      <th>min</th>\n",
       "      <th>max</th>\n",
       "    </tr>\n",
       "    <tr>\n",
       "      <th>seaport_name</th>\n",
       "      <th></th>\n",
       "      <th></th>\n",
       "      <th></th>\n",
       "    </tr>\n",
       "  </thead>\n",
       "  <tbody>\n",
       "    <tr>\n",
       "      <th>Dtse / Gegua Oil Terminal</th>\n",
       "      <td>1121.028458</td>\n",
       "      <td>10.350933</td>\n",
       "      <td>2854.493600</td>\n",
       "    </tr>\n",
       "    <tr>\n",
       "      <th>Porto De Mucuripe</th>\n",
       "      <td>1965.136304</td>\n",
       "      <td>1053.738618</td>\n",
       "      <td>2901.295202</td>\n",
       "    </tr>\n",
       "    <tr>\n",
       "      <th>Portocel</th>\n",
       "      <td>1223.134327</td>\n",
       "      <td>411.269111</td>\n",
       "      <td>2867.979624</td>\n",
       "    </tr>\n",
       "    <tr>\n",
       "      <th>Santa Clara</th>\n",
       "      <td>1216.037957</td>\n",
       "      <td>579.203362</td>\n",
       "      <td>2189.659524</td>\n",
       "    </tr>\n",
       "    <tr>\n",
       "      <th>Aratu</th>\n",
       "      <td>1381.773293</td>\n",
       "      <td>24.032516</td>\n",
       "      <td>2609.953079</td>\n",
       "    </tr>\n",
       "    <tr>\n",
       "      <th>Cabedelo</th>\n",
       "      <td>1973.226516</td>\n",
       "      <td>786.022123</td>\n",
       "      <td>2830.123680</td>\n",
       "    </tr>\n",
       "    <tr>\n",
       "      <th>Imbituba</th>\n",
       "      <td>1495.513055</td>\n",
       "      <td>63.612808</td>\n",
       "      <td>3042.768039</td>\n",
       "    </tr>\n",
       "    <tr>\n",
       "      <th>Angra Dos Reis</th>\n",
       "      <td>1103.420427</td>\n",
       "      <td>111.795735</td>\n",
       "      <td>2791.717379</td>\n",
       "    </tr>\n",
       "    <tr>\n",
       "      <th>Natal</th>\n",
       "      <td>2023.639130</td>\n",
       "      <td>891.421964</td>\n",
       "      <td>2853.930050</td>\n",
       "    </tr>\n",
       "    <tr>\n",
       "      <th>Guamare Oil Terminal</th>\n",
       "      <td>2013.097102</td>\n",
       "      <td>953.130770</td>\n",
       "      <td>2887.478112</td>\n",
       "    </tr>\n",
       "  </tbody>\n",
       "</table>\n",
       "</div>"
      ],
      "text/plain": [
       "                                  mean          min          max\n",
       "seaport_name                                                    \n",
       "Dtse / Gegua Oil Terminal  1121.028458    10.350933  2854.493600\n",
       "Porto De Mucuripe          1965.136304  1053.738618  2901.295202\n",
       "Portocel                   1223.134327   411.269111  2867.979624\n",
       "Santa Clara                1216.037957   579.203362  2189.659524\n",
       "Aratu                      1381.773293    24.032516  2609.953079\n",
       "Cabedelo                   1973.226516   786.022123  2830.123680\n",
       "Imbituba                   1495.513055    63.612808  3042.768039\n",
       "Angra Dos Reis             1103.420427   111.795735  2791.717379\n",
       "Natal                      2023.639130   891.421964  2853.930050\n",
       "Guamare Oil Terminal       2013.097102   953.130770  2887.478112"
      ]
     },
     "execution_count": 34,
     "metadata": {},
     "output_type": "execute_result"
    }
   ],
   "source": [
    "Stat_sea_air=pd.DataFrame()\n",
    "Stat_sea_air['mean']=D_Matrix_sea_air.mean(axis=1) # mean D to all airports\n",
    "Stat_sea_air['min']=D_Matrix_sea_air.min(axis=1)# min D to all airports\n",
    "Stat_sea_air['max']=D_Matrix_sea_air.max(axis=1)# max D to all airports\n",
    "\n",
    "# see some\n",
    "Stat_sea_air.head(10)"
   ]
  },
  {
   "cell_type": "markdown",
   "id": "17565f68-8797-44be-8212-a7a2776a458a",
   "metadata": {},
   "source": [
    "Of course, the idmax and idmin could come in handy:"
   ]
  },
  {
   "cell_type": "code",
   "execution_count": 35,
   "id": "8690e80d-e3c5-4d22-99cc-8954ea7fee9b",
   "metadata": {},
   "outputs": [
    {
     "data": {
      "text/plain": [
       "seaport_name\n",
       "Dtse / Gegua Oil Terminal    Eduardo Gomes International Airport\n",
       "Porto De Mucuripe             Hercílio Luz International Airport\n",
       "Portocel                     Eduardo Gomes International Airport\n",
       "Santa Clara                  Eduardo Gomes International Airport\n",
       "Aratu                        Eduardo Gomes International Airport\n",
       "dtype: object"
      ]
     },
     "execution_count": 35,
     "metadata": {},
     "output_type": "execute_result"
    }
   ],
   "source": [
    "# farthest airport to each seaport\n",
    "D_Matrix_sea_air.idxmax(axis=1).head()"
   ]
  },
  {
   "cell_type": "code",
   "execution_count": 36,
   "id": "ffcb2ed2-7e2f-4bd4-9289-c5b68b328d6f",
   "metadata": {},
   "outputs": [
    {
     "data": {
      "text/plain": [
       "airport_name\n",
       "Guarulhos - Governador André Franco Montoro International Airport    Manaus\n",
       "Rio Galeão – Tom Jobim International Airport                         Manaus\n",
       "Presidente Juscelino Kubitschek International Airport                Manaus\n",
       "Deputado Luiz Eduardo Magalhães International Airport                Manaus\n",
       "Tancredo Neves International Airport                                 Manaus\n",
       "dtype: object"
      ]
     },
     "execution_count": 36,
     "metadata": {},
     "output_type": "execute_result"
    }
   ],
   "source": [
    "# farthest seaport to each airport\n",
    "D_Matrix_sea_air.idxmax(axis=0).head()"
   ]
  },
  {
   "cell_type": "code",
   "execution_count": 37,
   "id": "3dce5c5a-2b8d-4930-a476-5be12829f5d8",
   "metadata": {},
   "outputs": [
    {
     "data": {
      "text/plain": [
       "seaport_name\n",
       "Dtse / Gegua Oil Terminal         Rio Galeão – Tom Jobim International Airport\n",
       "Porto De Mucuripe            Deputado Luiz Eduardo Magalhães International ...\n",
       "Portocel                                  Tancredo Neves International Airport\n",
       "Santa Clara                  Guarulhos - Governador André Franco Montoro In...\n",
       "Aratu                        Deputado Luiz Eduardo Magalhães International ...\n",
       "dtype: object"
      ]
     },
     "execution_count": 37,
     "metadata": {},
     "output_type": "execute_result"
    }
   ],
   "source": [
    "# closest airport to each seaport\n",
    "D_Matrix_sea_air.idxmin(axis=1).head()"
   ]
  },
  {
   "cell_type": "code",
   "execution_count": 38,
   "id": "9ba65570-a5da-48a9-ba91-74c3f34a7bc4",
   "metadata": {},
   "outputs": [
    {
     "data": {
      "text/plain": [
       "airport_name\n",
       "Guarulhos - Governador André Franco Montoro International Airport                       Santos\n",
       "Rio Galeão – Tom Jobim International Airport                         Dtse / Gegua Oil Terminal\n",
       "Presidente Juscelino Kubitschek International Airport                              Santa Clara\n",
       "Deputado Luiz Eduardo Magalhães International Airport                         Port De Salvador\n",
       "Tancredo Neves International Airport                                 Dtse / Gegua Oil Terminal\n",
       "dtype: object"
      ]
     },
     "execution_count": 38,
     "metadata": {},
     "output_type": "execute_result"
    }
   ],
   "source": [
    "# closest seaport to each airport\n",
    "D_Matrix_sea_air.idxmin(axis=0).head()"
   ]
  },
  {
   "cell_type": "markdown",
   "id": "97c282ec-edae-4a48-a4ea-08a2694cae42",
   "metadata": {},
   "source": [
    "### b. Distance between line and point\n",
    "\n",
    "Once we know understand how **distance** and idxmin/idxmax work, we can feel comfortable in this stage. \n",
    "\n",
    "Let's use these rivers from before:"
   ]
  },
  {
   "cell_type": "code",
   "execution_count": 40,
   "id": "fb1bd828-00c0-4629-878f-c0e7fc5b9436",
   "metadata": {},
   "outputs": [
    {
     "data": {
      "text/html": [
       "<div>\n",
       "<style scoped>\n",
       "    .dataframe tbody tr th:only-of-type {\n",
       "        vertical-align: middle;\n",
       "    }\n",
       "\n",
       "    .dataframe tbody tr th {\n",
       "        vertical-align: top;\n",
       "    }\n",
       "\n",
       "    .dataframe thead th {\n",
       "        text-align: right;\n",
       "    }\n",
       "</style>\n",
       "<table border=\"1\" class=\"dataframe\">\n",
       "  <thead>\n",
       "    <tr style=\"text-align: right;\">\n",
       "      <th></th>\n",
       "      <th>SYSTEM</th>\n",
       "      <th>geometry</th>\n",
       "    </tr>\n",
       "    <tr>\n",
       "      <th>RIVER</th>\n",
       "      <th></th>\n",
       "      <th></th>\n",
       "    </tr>\n",
       "  </thead>\n",
       "  <tbody>\n",
       "    <tr>\n",
       "      <th>Amazon</th>\n",
       "      <td>Amazon</td>\n",
       "      <td>MULTILINESTRING ((4191497.619 9597916.381, 425...</td>\n",
       "    </tr>\n",
       "    <tr>\n",
       "      <th>Guapore</th>\n",
       "      <td>Amazon</td>\n",
       "      <td>MULTILINESTRING ((3784022.891 8842606.845, 378...</td>\n",
       "    </tr>\n",
       "    <tr>\n",
       "      <th>Japura</th>\n",
       "      <td>Amazon</td>\n",
       "      <td>MULTILINESTRING ((3782432.967 9748590.005, 382...</td>\n",
       "    </tr>\n",
       "    <tr>\n",
       "      <th>Madeira</th>\n",
       "      <td>Amazon</td>\n",
       "      <td>MULTILINESTRING ((3784022.891 8842606.845, 378...</td>\n",
       "    </tr>\n",
       "    <tr>\n",
       "      <th>Madre de Dios</th>\n",
       "      <td>Amazon</td>\n",
       "      <td>MULTILINESTRING ((3407019.812 8246998.613, 343...</td>\n",
       "    </tr>\n",
       "    <tr>\n",
       "      <th>Purus</th>\n",
       "      <td>Amazon</td>\n",
       "      <td>MULTILINESTRING ((3008899.534 8748725.178, 305...</td>\n",
       "    </tr>\n",
       "    <tr>\n",
       "      <th>Putamayo</th>\n",
       "      <td>Amazon</td>\n",
       "      <td>MULTILINESTRING ((2478636.973 10162886.59, 246...</td>\n",
       "    </tr>\n",
       "    <tr>\n",
       "      <th>Rio Branco</th>\n",
       "      <td>Amazon</td>\n",
       "      <td>MULTILINESTRING ((4372657.932 10403233.815, 43...</td>\n",
       "    </tr>\n",
       "    <tr>\n",
       "      <th>Rio Juruena</th>\n",
       "      <td>Amazon</td>\n",
       "      <td>MULTILINESTRING ((4488340.769 8382801.957, 456...</td>\n",
       "    </tr>\n",
       "    <tr>\n",
       "      <th>Rio Maranon</th>\n",
       "      <td>Amazon</td>\n",
       "      <td>MULTILINESTRING ((2538298.165 8770999.896, 252...</td>\n",
       "    </tr>\n",
       "    <tr>\n",
       "      <th>Rio Negro</th>\n",
       "      <td>Amazon</td>\n",
       "      <td>MULTILINESTRING ((3242119.495 10234498.68, 327...</td>\n",
       "    </tr>\n",
       "    <tr>\n",
       "      <th>Rio Teles Pires</th>\n",
       "      <td>Amazon</td>\n",
       "      <td>MULTILINESTRING ((4890008.905 8388474.8, 49295...</td>\n",
       "    </tr>\n",
       "    <tr>\n",
       "      <th>Tapajos</th>\n",
       "      <td>Amazon</td>\n",
       "      <td>MULTILINESTRING ((4956154.209 9738475.606, 490...</td>\n",
       "    </tr>\n",
       "    <tr>\n",
       "      <th>Ucayali</th>\n",
       "      <td>Amazon</td>\n",
       "      <td>MULTILINESTRING ((3104425.924 8220993.168, 313...</td>\n",
       "    </tr>\n",
       "    <tr>\n",
       "      <th>Xingu</th>\n",
       "      <td>Amazon</td>\n",
       "      <td>MULTILINESTRING ((4921614.129 8334835.678, 503...</td>\n",
       "    </tr>\n",
       "  </tbody>\n",
       "</table>\n",
       "</div>"
      ],
      "text/plain": [
       "                 SYSTEM                                           geometry\n",
       "RIVER                                                                     \n",
       "Amazon           Amazon  MULTILINESTRING ((4191497.619 9597916.381, 425...\n",
       "Guapore          Amazon  MULTILINESTRING ((3784022.891 8842606.845, 378...\n",
       "Japura           Amazon  MULTILINESTRING ((3782432.967 9748590.005, 382...\n",
       "Madeira          Amazon  MULTILINESTRING ((3784022.891 8842606.845, 378...\n",
       "Madre de Dios    Amazon  MULTILINESTRING ((3407019.812 8246998.613, 343...\n",
       "Purus            Amazon  MULTILINESTRING ((3008899.534 8748725.178, 305...\n",
       "Putamayo         Amazon  MULTILINESTRING ((2478636.973 10162886.59, 246...\n",
       "Rio Branco       Amazon  MULTILINESTRING ((4372657.932 10403233.815, 43...\n",
       "Rio Juruena      Amazon  MULTILINESTRING ((4488340.769 8382801.957, 456...\n",
       "Rio Maranon      Amazon  MULTILINESTRING ((2538298.165 8770999.896, 252...\n",
       "Rio Negro        Amazon  MULTILINESTRING ((3242119.495 10234498.68, 327...\n",
       "Rio Teles Pires  Amazon  MULTILINESTRING ((4890008.905 8388474.8, 49295...\n",
       "Tapajos          Amazon  MULTILINESTRING ((4956154.209 9738475.606, 490...\n",
       "Ucayali          Amazon  MULTILINESTRING ((3104425.924 8220993.168, 313...\n",
       "Xingu            Amazon  MULTILINESTRING ((4921614.129 8334835.678, 503..."
      ]
     },
     "execution_count": 40,
     "metadata": {},
     "output_type": "execute_result"
    }
   ],
   "source": [
    "AmazonSystem_5880.set_index(\"RIVER\",inplace=True)\n",
    "AmazonSystem_5880"
   ]
  },
  {
   "cell_type": "markdown",
   "id": "5b60880d-4dc4-47f3-b35d-180f3f66177d",
   "metadata": {},
   "source": [
    "Then,\n",
    "> Distance from river Tapajos to Guarulhos airport"
   ]
  },
  {
   "cell_type": "code",
   "execution_count": 43,
   "id": "243e6709-c61f-437a-afce-f33cb9a89ea0",
   "metadata": {},
   "outputs": [
    {
     "data": {
      "text/plain": [
       "2170.030197547702"
      ]
     },
     "execution_count": 43,
     "metadata": {},
     "output_type": "execute_result"
    }
   ],
   "source": [
    "airName='Guarulhos - Governador André Franco Montoro International Airport'\n",
    "rivName='Tapajos'\n",
    "AmazonSystem_5880.geometry.loc[rivName].distance(large_airports.geometry.loc[airName])/1000"
   ]
  },
  {
   "cell_type": "markdown",
   "id": "cf5edb0d-d99d-43f0-8ce9-d2a4652b7383",
   "metadata": {},
   "source": [
    "We can compute the distance matrix now:"
   ]
  },
  {
   "cell_type": "code",
   "execution_count": 44,
   "id": "37a72307-cf6c-4438-ac58-1c6fed1f90fd",
   "metadata": {},
   "outputs": [],
   "source": [
    "D_Matrix_amazRivs_air=AmazonSystem_5880.geometry.apply \\\n",
    "                (lambda river: large_airports.geometry.distance(river)/1000)"
   ]
  },
  {
   "cell_type": "code",
   "execution_count": 45,
   "id": "c0b71d58-963c-4dc0-bd54-bdd45bcdbd3e",
   "metadata": {},
   "outputs": [
    {
     "data": {
      "text/html": [
       "<div>\n",
       "<style scoped>\n",
       "    .dataframe tbody tr th:only-of-type {\n",
       "        vertical-align: middle;\n",
       "    }\n",
       "\n",
       "    .dataframe tbody tr th {\n",
       "        vertical-align: top;\n",
       "    }\n",
       "\n",
       "    .dataframe thead th {\n",
       "        text-align: right;\n",
       "    }\n",
       "</style>\n",
       "<table border=\"1\" class=\"dataframe\">\n",
       "  <thead>\n",
       "    <tr style=\"text-align: right;\">\n",
       "      <th></th>\n",
       "      <th>mean</th>\n",
       "      <th>min</th>\n",
       "      <th>max</th>\n",
       "    </tr>\n",
       "    <tr>\n",
       "      <th>RIVER</th>\n",
       "      <th></th>\n",
       "      <th></th>\n",
       "      <th></th>\n",
       "    </tr>\n",
       "  </thead>\n",
       "  <tbody>\n",
       "    <tr>\n",
       "      <th>Amazon</th>\n",
       "      <td>1764.132480</td>\n",
       "      <td>25.549158</td>\n",
       "      <td>2865.306190</td>\n",
       "    </tr>\n",
       "    <tr>\n",
       "      <th>Guapore</th>\n",
       "      <td>1822.694503</td>\n",
       "      <td>983.345006</td>\n",
       "      <td>2397.410373</td>\n",
       "    </tr>\n",
       "    <tr>\n",
       "      <th>Japura</th>\n",
       "      <td>2495.652965</td>\n",
       "      <td>502.953032</td>\n",
       "      <td>3214.712005</td>\n",
       "    </tr>\n",
       "    <tr>\n",
       "      <th>Madeira</th>\n",
       "      <td>1949.986161</td>\n",
       "      <td>153.127907</td>\n",
       "      <td>2652.416364</td>\n",
       "    </tr>\n",
       "    <tr>\n",
       "      <th>Madre de Dios</th>\n",
       "      <td>2237.270472</td>\n",
       "      <td>983.345006</td>\n",
       "      <td>2934.051647</td>\n",
       "    </tr>\n",
       "    <tr>\n",
       "      <th>Purus</th>\n",
       "      <td>2143.371707</td>\n",
       "      <td>150.306441</td>\n",
       "      <td>2848.394230</td>\n",
       "    </tr>\n",
       "    <tr>\n",
       "      <th>Putamayo</th>\n",
       "      <td>2784.484656</td>\n",
       "      <td>853.437589</td>\n",
       "      <td>3437.832352</td>\n",
       "    </tr>\n",
       "    <tr>\n",
       "      <th>Rio Branco</th>\n",
       "      <td>2353.394115</td>\n",
       "      <td>264.452689</td>\n",
       "      <td>3241.167974</td>\n",
       "    </tr>\n",
       "    <tr>\n",
       "      <th>Rio Juruena</th>\n",
       "      <td>1498.931579</td>\n",
       "      <td>525.908802</td>\n",
       "      <td>2139.336751</td>\n",
       "    </tr>\n",
       "    <tr>\n",
       "      <th>Rio Maranon</th>\n",
       "      <td>3216.884463</td>\n",
       "      <td>1479.515487</td>\n",
       "      <td>3961.463537</td>\n",
       "    </tr>\n",
       "  </tbody>\n",
       "</table>\n",
       "</div>"
      ],
      "text/plain": [
       "                      mean          min          max\n",
       "RIVER                                               \n",
       "Amazon         1764.132480    25.549158  2865.306190\n",
       "Guapore        1822.694503   983.345006  2397.410373\n",
       "Japura         2495.652965   502.953032  3214.712005\n",
       "Madeira        1949.986161   153.127907  2652.416364\n",
       "Madre de Dios  2237.270472   983.345006  2934.051647\n",
       "Purus          2143.371707   150.306441  2848.394230\n",
       "Putamayo       2784.484656   853.437589  3437.832352\n",
       "Rio Branco     2353.394115   264.452689  3241.167974\n",
       "Rio Juruena    1498.931579   525.908802  2139.336751\n",
       "Rio Maranon    3216.884463  1479.515487  3961.463537"
      ]
     },
     "execution_count": 45,
     "metadata": {},
     "output_type": "execute_result"
    }
   ],
   "source": [
    "Stat_amz_air=pd.DataFrame()\n",
    "Stat_amz_air['mean']=D_Matrix_amazRivs_air.mean(axis=1) # mean D to all airports\n",
    "Stat_amz_air['min']=D_Matrix_amazRivs_air.min(axis=1)# min D to all airports\n",
    "Stat_amz_air['max']=D_Matrix_amazRivs_air.max(axis=1)# max D to all airports\n",
    "\n",
    "# see some\n",
    "Stat_amz_air.head(10)"
   ]
  },
  {
   "cell_type": "code",
   "execution_count": 46,
   "id": "619ad58c-5197-4f92-9883-75ca8b00699f",
   "metadata": {},
   "outputs": [
    {
     "data": {
      "text/plain": [
       "airport_name\n",
       "Guarulhos - Governador André Franco Montoro International Airport    Xingu\n",
       "Rio Galeão – Tom Jobim International Airport                         Xingu\n",
       "Presidente Juscelino Kubitschek International Airport                Xingu\n",
       "Deputado Luiz Eduardo Magalhães International Airport                Xingu\n",
       "Tancredo Neves International Airport                                 Xingu\n",
       "dtype: object"
      ]
     },
     "execution_count": 46,
     "metadata": {},
     "output_type": "execute_result"
    }
   ],
   "source": [
    "# closest river to each airport\n",
    "D_Matrix_amazRivs_air.idxmin(axis=0).head()"
   ]
  },
  {
   "cell_type": "code",
   "execution_count": 47,
   "id": "6107daa5-d610-40e2-a1c0-930e7044ee94",
   "metadata": {},
   "outputs": [
    {
     "data": {
      "text/plain": [
       "airport_name\n",
       "Guarulhos - Governador André Franco Montoro International Airport    Rio Maranon\n",
       "Rio Galeão – Tom Jobim International Airport                         Rio Maranon\n",
       "Presidente Juscelino Kubitschek International Airport                Rio Maranon\n",
       "Deputado Luiz Eduardo Magalhães International Airport                Rio Maranon\n",
       "Tancredo Neves International Airport                                 Rio Maranon\n",
       "dtype: object"
      ]
     },
     "execution_count": 47,
     "metadata": {},
     "output_type": "execute_result"
    }
   ],
   "source": [
    "# farthest river to each airport\n",
    "D_Matrix_amazRivs_air.idxmax(axis=0).head()"
   ]
  },
  {
   "cell_type": "markdown",
   "id": "1d249122-c2be-43b2-9496-dba32beab171",
   "metadata": {},
   "source": [
    "### c. Between Polygon and Point\n",
    "\n",
    "Let me re use the world rivers to get the rivers in a couple of systems:"
   ]
  },
  {
   "cell_type": "code",
   "execution_count": 49,
   "id": "f7759c73-da70-4e24-875a-1318540ad1aa",
   "metadata": {},
   "outputs": [
    {
     "data": {
      "text/html": [
       "<div>\n",
       "<style scoped>\n",
       "    .dataframe tbody tr th:only-of-type {\n",
       "        vertical-align: middle;\n",
       "    }\n",
       "\n",
       "    .dataframe tbody tr th {\n",
       "        vertical-align: top;\n",
       "    }\n",
       "\n",
       "    .dataframe thead th {\n",
       "        text-align: right;\n",
       "    }\n",
       "</style>\n",
       "<table border=\"1\" class=\"dataframe\">\n",
       "  <thead>\n",
       "    <tr style=\"text-align: right;\">\n",
       "      <th></th>\n",
       "      <th>RIVER</th>\n",
       "      <th>SYSTEM</th>\n",
       "      <th>geometry</th>\n",
       "    </tr>\n",
       "  </thead>\n",
       "  <tbody>\n",
       "    <tr>\n",
       "      <th>1</th>\n",
       "      <td>Amazon</td>\n",
       "      <td>Amazon</td>\n",
       "      <td>MULTILINESTRING ((-61.2773 -3.60706, -60.68466...</td>\n",
       "    </tr>\n",
       "    <tr>\n",
       "      <th>24</th>\n",
       "      <td>Guapore</td>\n",
       "      <td>Amazon</td>\n",
       "      <td>MULTILINESTRING ((-65.1024 -10.27593, -65.1201...</td>\n",
       "    </tr>\n",
       "    <tr>\n",
       "      <th>29</th>\n",
       "      <td>Japura</td>\n",
       "      <td>Amazon</td>\n",
       "      <td>MULTILINESTRING ((-64.94595 -2.23269, -64.5731...</td>\n",
       "    </tr>\n",
       "    <tr>\n",
       "      <th>37</th>\n",
       "      <td>Madeira</td>\n",
       "      <td>Amazon</td>\n",
       "      <td>MULTILINESTRING ((-65.1024 -10.27593, -65.0844...</td>\n",
       "    </tr>\n",
       "    <tr>\n",
       "      <th>38</th>\n",
       "      <td>Madre de Dios</td>\n",
       "      <td>Amazon</td>\n",
       "      <td>MULTILINESTRING ((-68.84791 -15.35547, -68.594...</td>\n",
       "    </tr>\n",
       "    <tr>\n",
       "      <th>55</th>\n",
       "      <td>Paraguay</td>\n",
       "      <td>Parana</td>\n",
       "      <td>MULTILINESTRING ((-53.47152 -16.67963, -54.309...</td>\n",
       "    </tr>\n",
       "    <tr>\n",
       "      <th>56</th>\n",
       "      <td>Parana</td>\n",
       "      <td>Parana</td>\n",
       "      <td>MULTILINESTRING ((-58.48091 -27.30186, -58.402...</td>\n",
       "    </tr>\n",
       "    <tr>\n",
       "      <th>59</th>\n",
       "      <td>Purus</td>\n",
       "      <td>Amazon</td>\n",
       "      <td>MULTILINESTRING ((-72.21624 -10.77936, -71.803...</td>\n",
       "    </tr>\n",
       "    <tr>\n",
       "      <th>60</th>\n",
       "      <td>Putamayo</td>\n",
       "      <td>Amazon</td>\n",
       "      <td>MULTILINESTRING ((-76.65652 1.36565, -76.77346...</td>\n",
       "    </tr>\n",
       "    <tr>\n",
       "      <th>62</th>\n",
       "      <td>Rio Branco</td>\n",
       "      <td>Amazon</td>\n",
       "      <td>MULTILINESTRING ((-59.64679 3.62898, -60.19013...</td>\n",
       "    </tr>\n",
       "    <tr>\n",
       "      <th>64</th>\n",
       "      <td>Rio Juruena</td>\n",
       "      <td>Amazon</td>\n",
       "      <td>MULTILINESTRING ((-58.74846 -14.57408, -58.045...</td>\n",
       "    </tr>\n",
       "    <tr>\n",
       "      <th>65</th>\n",
       "      <td>Rio Maranon</td>\n",
       "      <td>Amazon</td>\n",
       "      <td>MULTILINESTRING ((-76.49432 -10.32964, -76.523...</td>\n",
       "    </tr>\n",
       "    <tr>\n",
       "      <th>66</th>\n",
       "      <td>Rio Negro</td>\n",
       "      <td>Amazon</td>\n",
       "      <td>MULTILINESTRING ((-69.80154 2.04259, -69.48542...</td>\n",
       "    </tr>\n",
       "    <tr>\n",
       "      <th>67</th>\n",
       "      <td>Rio Paranaiba</td>\n",
       "      <td>Parana</td>\n",
       "      <td>MULTILINESTRING ((-46.02263 -19.02853, -46.130...</td>\n",
       "    </tr>\n",
       "    <tr>\n",
       "      <th>68</th>\n",
       "      <td>Rio Teles Pires</td>\n",
       "      <td>Amazon</td>\n",
       "      <td>MULTILINESTRING ((-55.02068 -14.5688, -54.6526...</td>\n",
       "    </tr>\n",
       "    <tr>\n",
       "      <th>80</th>\n",
       "      <td>Tapajos</td>\n",
       "      <td>Amazon</td>\n",
       "      <td>MULTILINESTRING ((-54.39421 -2.36508, -54.8251...</td>\n",
       "    </tr>\n",
       "    <tr>\n",
       "      <th>85</th>\n",
       "      <td>Ucayali</td>\n",
       "      <td>Amazon</td>\n",
       "      <td>MULTILINESTRING ((-71.67654 -15.38325, -71.373...</td>\n",
       "    </tr>\n",
       "    <tr>\n",
       "      <th>92</th>\n",
       "      <td>Xingu</td>\n",
       "      <td>Amazon</td>\n",
       "      <td>MULTILINESTRING ((-54.72902 -15.05463, -53.670...</td>\n",
       "    </tr>\n",
       "    <tr>\n",
       "      <th>97</th>\n",
       "      <td>Rio Grande, South America</td>\n",
       "      <td>Parana</td>\n",
       "      <td>MULTILINESTRING ((-44.37152 -22.17241, -43.860...</td>\n",
       "    </tr>\n",
       "  </tbody>\n",
       "</table>\n",
       "</div>"
      ],
      "text/plain": [
       "                        RIVER  SYSTEM  \\\n",
       "1                      Amazon  Amazon   \n",
       "24                    Guapore  Amazon   \n",
       "29                     Japura  Amazon   \n",
       "37                    Madeira  Amazon   \n",
       "38              Madre de Dios  Amazon   \n",
       "55                   Paraguay  Parana   \n",
       "56                     Parana  Parana   \n",
       "59                      Purus  Amazon   \n",
       "60                   Putamayo  Amazon   \n",
       "62                 Rio Branco  Amazon   \n",
       "64                Rio Juruena  Amazon   \n",
       "65                Rio Maranon  Amazon   \n",
       "66                  Rio Negro  Amazon   \n",
       "67              Rio Paranaiba  Parana   \n",
       "68            Rio Teles Pires  Amazon   \n",
       "80                    Tapajos  Amazon   \n",
       "85                    Ucayali  Amazon   \n",
       "92                      Xingu  Amazon   \n",
       "97  Rio Grande, South America  Parana   \n",
       "\n",
       "                                             geometry  \n",
       "1   MULTILINESTRING ((-61.2773 -3.60706, -60.68466...  \n",
       "24  MULTILINESTRING ((-65.1024 -10.27593, -65.1201...  \n",
       "29  MULTILINESTRING ((-64.94595 -2.23269, -64.5731...  \n",
       "37  MULTILINESTRING ((-65.1024 -10.27593, -65.0844...  \n",
       "38  MULTILINESTRING ((-68.84791 -15.35547, -68.594...  \n",
       "55  MULTILINESTRING ((-53.47152 -16.67963, -54.309...  \n",
       "56  MULTILINESTRING ((-58.48091 -27.30186, -58.402...  \n",
       "59  MULTILINESTRING ((-72.21624 -10.77936, -71.803...  \n",
       "60  MULTILINESTRING ((-76.65652 1.36565, -76.77346...  \n",
       "62  MULTILINESTRING ((-59.64679 3.62898, -60.19013...  \n",
       "64  MULTILINESTRING ((-58.74846 -14.57408, -58.045...  \n",
       "65  MULTILINESTRING ((-76.49432 -10.32964, -76.523...  \n",
       "66  MULTILINESTRING ((-69.80154 2.04259, -69.48542...  \n",
       "67  MULTILINESTRING ((-46.02263 -19.02853, -46.130...  \n",
       "68  MULTILINESTRING ((-55.02068 -14.5688, -54.6526...  \n",
       "80  MULTILINESTRING ((-54.39421 -2.36508, -54.8251...  \n",
       "85  MULTILINESTRING ((-71.67654 -15.38325, -71.373...  \n",
       "92  MULTILINESTRING ((-54.72902 -15.05463, -53.670...  \n",
       "97  MULTILINESTRING ((-44.37152 -22.17241, -43.860...  "
      ]
     },
     "execution_count": 49,
     "metadata": {},
     "output_type": "execute_result"
    }
   ],
   "source": [
    "river_systems=world_rivers.query(\"SYSTEM in ['Amazon','Parana']\")\n",
    "river_systems"
   ]
  },
  {
   "cell_type": "markdown",
   "id": "b0414c61-e3a5-476a-af4c-0bd58e3c745a",
   "metadata": {},
   "source": [
    "Let me combine per system:"
   ]
  },
  {
   "cell_type": "code",
   "execution_count": 52,
   "id": "dae1761f-7914-4b9d-9140-8ef51a7b5cb3",
   "metadata": {},
   "outputs": [
    {
     "data": {
      "text/html": [
       "<div>\n",
       "<style scoped>\n",
       "    .dataframe tbody tr th:only-of-type {\n",
       "        vertical-align: middle;\n",
       "    }\n",
       "\n",
       "    .dataframe tbody tr th {\n",
       "        vertical-align: top;\n",
       "    }\n",
       "\n",
       "    .dataframe thead th {\n",
       "        text-align: right;\n",
       "    }\n",
       "</style>\n",
       "<table border=\"1\" class=\"dataframe\">\n",
       "  <thead>\n",
       "    <tr style=\"text-align: right;\">\n",
       "      <th></th>\n",
       "      <th>geometry</th>\n",
       "    </tr>\n",
       "    <tr>\n",
       "      <th>SYSTEM</th>\n",
       "      <th></th>\n",
       "    </tr>\n",
       "  </thead>\n",
       "  <tbody>\n",
       "    <tr>\n",
       "      <th>Amazon</th>\n",
       "      <td>MULTILINESTRING ((-61.2773 -3.60706, -60.68466...</td>\n",
       "    </tr>\n",
       "    <tr>\n",
       "      <th>Parana</th>\n",
       "      <td>MULTILINESTRING ((-53.47152 -16.67963, -54.309...</td>\n",
       "    </tr>\n",
       "  </tbody>\n",
       "</table>\n",
       "</div>"
      ],
      "text/plain": [
       "                                                 geometry\n",
       "SYSTEM                                                   \n",
       "Amazon  MULTILINESTRING ((-61.2773 -3.60706, -60.68466...\n",
       "Parana  MULTILINESTRING ((-53.47152 -16.67963, -54.309..."
      ]
     },
     "execution_count": 52,
     "metadata": {},
     "output_type": "execute_result"
    }
   ],
   "source": [
    "ama_para=river_systems.dissolve(by='SYSTEM')\n",
    "ama_para.drop(columns='RIVER',inplace=True)\n",
    "ama_para"
   ]
  },
  {
   "cell_type": "markdown",
   "id": "7f20d8a7-a2ab-4997-af3b-b05902ce2f33",
   "metadata": {},
   "source": [
    "We still have lines:"
   ]
  },
  {
   "cell_type": "code",
   "execution_count": 53,
   "id": "8cd483d9-5585-45b7-ad3f-8416a6b2b496",
   "metadata": {},
   "outputs": [
    {
     "data": {
      "text/plain": [
       "<Axes: >"
      ]
     },
     "execution_count": 53,
     "metadata": {},
     "output_type": "execute_result"
    },
    {
     "data": {
      "image/png": "[encoded data removed]",
      "text/plain": [
       "<Figure size 640x480 with 1 Axes>"
      ]
     },
     "metadata": {},
     "output_type": "display_data"
    }
   ],
   "source": [
    "ama_para.plot(cmap='viridis')"
   ]
  },
  {
   "cell_type": "markdown",
   "id": "755dabce-1a0b-4f09-adfe-424bb56ea391",
   "metadata": {},
   "source": [
    "But we will have polygons after this:"
   ]
  },
  {
   "cell_type": "code",
   "execution_count": 59,
   "id": "a40a5543-d676-4696-a2d8-a0447b19d3d9",
   "metadata": {},
   "outputs": [
    {
     "data": {
      "text/plain": [
       "<Axes: >"
      ]
     },
     "execution_count": 59,
     "metadata": {},
     "output_type": "execute_result"
    },
    {
     "data": {
      "image/png": "[encoded data removed]",
      "text/plain": [
       "<Figure size 640x480 with 1 Axes>"
      ]
     },
     "metadata": {},
     "output_type": "display_data"
    }
   ],
   "source": [
    "ama_para.convex_hull.plot(cmap='viridis')"
   ]
  },
  {
   "cell_type": "markdown",
   "id": "eea2280b-f1d7-4b62-a891-1f2cd3c48d0c",
   "metadata": {},
   "source": [
    "As we have a geoseries of two geometries..."
   ]
  },
  {
   "cell_type": "code",
   "execution_count": 60,
   "id": "b480caad-02ae-4525-a823-3fb7c4c83aa9",
   "metadata": {},
   "outputs": [
    {
     "data": {
      "text/plain": [
       "(SYSTEM\n",
       " Amazon    POLYGON ((-68.59431 -15.48713, -71.67654 -15.3...\n",
       " Parana    POLYGON ((-58.13602 -34.19917, -59.41318 -33.6...\n",
       " dtype: geometry,\n",
       " geopandas.geoseries.GeoSeries)"
      ]
     },
     "execution_count": 60,
     "metadata": {},
     "output_type": "execute_result"
    }
   ],
   "source": [
    "ama_para.convex_hull,type(ama_para.convex_hull)"
   ]
  },
  {
   "cell_type": "markdown",
   "id": "fc972130-f2ba-49b8-97d4-624ec1d0791d",
   "metadata": {},
   "source": [
    "Let's turn that into a GDF:"
   ]
  },
  {
   "cell_type": "code",
   "execution_count": 61,
   "id": "f6085f9d-044c-43eb-ac09-110dba687c53",
   "metadata": {},
   "outputs": [
    {
     "data": {
      "text/html": [
       "<div>\n",
       "<style scoped>\n",
       "    .dataframe tbody tr th:only-of-type {\n",
       "        vertical-align: middle;\n",
       "    }\n",
       "\n",
       "    .dataframe tbody tr th {\n",
       "        vertical-align: top;\n",
       "    }\n",
       "\n",
       "    .dataframe thead th {\n",
       "        text-align: right;\n",
       "    }\n",
       "</style>\n",
       "<table border=\"1\" class=\"dataframe\">\n",
       "  <thead>\n",
       "    <tr style=\"text-align: right;\">\n",
       "      <th></th>\n",
       "      <th>geometry</th>\n",
       "    </tr>\n",
       "    <tr>\n",
       "      <th>SYSTEM</th>\n",
       "      <th></th>\n",
       "    </tr>\n",
       "  </thead>\n",
       "  <tbody>\n",
       "    <tr>\n",
       "      <th>Amazon</th>\n",
       "      <td>POLYGON ((-68.594 -15.487, -71.677 -15.383, -7...</td>\n",
       "    </tr>\n",
       "    <tr>\n",
       "      <th>Parana</th>\n",
       "      <td>POLYGON ((-58.136 -34.199, -59.413 -33.614, -6...</td>\n",
       "    </tr>\n",
       "  </tbody>\n",
       "</table>\n",
       "</div>"
      ],
      "text/plain": [
       "                                                 geometry\n",
       "SYSTEM                                                   \n",
       "Amazon  POLYGON ((-68.594 -15.487, -71.677 -15.383, -7...\n",
       "Parana  POLYGON ((-58.136 -34.199, -59.413 -33.614, -6..."
      ]
     },
     "execution_count": 61,
     "metadata": {},
     "output_type": "execute_result"
    }
   ],
   "source": [
    "ama_para_hulls=ama_para.convex_hull.to_frame()\n",
    "ama_para_hulls.rename(columns={0:'geometry'},inplace=True)\n",
    "ama_para_hulls=ama_para_hulls.set_geometry('geometry')\n",
    "ama_para_hulls.crs=\"EPSG:5880\"\n",
    "\n",
    "#voila\n",
    "ama_para_hulls"
   ]
  },
  {
   "cell_type": "markdown",
   "id": "6c0a05f1-9e77-451b-a0b6-f0a69ecbd044",
   "metadata": {},
   "source": [
    "And now, the distance matrix:"
   ]
  },
  {
   "cell_type": "code",
   "execution_count": 63,
   "id": "f4d2e3c6-6a33-4247-b83b-5055b5ac980e",
   "metadata": {},
   "outputs": [
    {
     "data": {
      "text/html": [
       "<div>\n",
       "<style scoped>\n",
       "    .dataframe tbody tr th:only-of-type {\n",
       "        vertical-align: middle;\n",
       "    }\n",
       "\n",
       "    .dataframe tbody tr th {\n",
       "        vertical-align: top;\n",
       "    }\n",
       "\n",
       "    .dataframe thead th {\n",
       "        text-align: right;\n",
       "    }\n",
       "</style>\n",
       "<table border=\"1\" class=\"dataframe\">\n",
       "  <thead>\n",
       "    <tr style=\"text-align: right;\">\n",
       "      <th>airport_name</th>\n",
       "      <th>Guarulhos - Governador André Franco Montoro International Airport</th>\n",
       "      <th>Rio Galeão – Tom Jobim International Airport</th>\n",
       "      <th>Presidente Juscelino Kubitschek International Airport</th>\n",
       "      <th>Deputado Luiz Eduardo Magalhães International Airport</th>\n",
       "      <th>Tancredo Neves International Airport</th>\n",
       "      <th>Eduardo Gomes International Airport</th>\n",
       "      <th>Hercílio Luz International Airport</th>\n",
       "      <th>Val de Cans/Júlio Cezar Ribeiro International Airport</th>\n",
       "    </tr>\n",
       "    <tr>\n",
       "      <th>SYSTEM</th>\n",
       "      <th></th>\n",
       "      <th></th>\n",
       "      <th></th>\n",
       "      <th></th>\n",
       "      <th></th>\n",
       "      <th></th>\n",
       "      <th></th>\n",
       "      <th></th>\n",
       "    </tr>\n",
       "  </thead>\n",
       "  <tbody>\n",
       "    <tr>\n",
       "      <th>Amazon</th>\n",
       "      <td>9373.464024</td>\n",
       "      <td>9619.902769</td>\n",
       "      <td>9987.801447</td>\n",
       "      <td>10839.402030</td>\n",
       "      <td>9870.020232</td>\n",
       "      <td>10586.985788</td>\n",
       "      <td>8867.621633</td>\n",
       "      <td>11335.110218</td>\n",
       "    </tr>\n",
       "    <tr>\n",
       "      <th>Parana</th>\n",
       "      <td>9373.473877</td>\n",
       "      <td>9619.912262</td>\n",
       "      <td>9987.812192</td>\n",
       "      <td>10839.411834</td>\n",
       "      <td>9870.030130</td>\n",
       "      <td>10587.000384</td>\n",
       "      <td>8867.631318</td>\n",
       "      <td>11335.122740</td>\n",
       "    </tr>\n",
       "  </tbody>\n",
       "</table>\n",
       "</div>"
      ],
      "text/plain": [
       "airport_name  Guarulhos - Governador André Franco Montoro International Airport  \\\n",
       "SYSTEM                                                                            \n",
       "Amazon                                              9373.464024                   \n",
       "Parana                                              9373.473877                   \n",
       "\n",
       "airport_name  Rio Galeão – Tom Jobim International Airport  \\\n",
       "SYSTEM                                                       \n",
       "Amazon                                         9619.902769   \n",
       "Parana                                         9619.912262   \n",
       "\n",
       "airport_name  Presidente Juscelino Kubitschek International Airport  \\\n",
       "SYSTEM                                                                \n",
       "Amazon                                              9987.801447       \n",
       "Parana                                              9987.812192       \n",
       "\n",
       "airport_name  Deputado Luiz Eduardo Magalhães International Airport  \\\n",
       "SYSTEM                                                                \n",
       "Amazon                                             10839.402030       \n",
       "Parana                                             10839.411834       \n",
       "\n",
       "airport_name  Tancredo Neves International Airport  \\\n",
       "SYSTEM                                               \n",
       "Amazon                                 9870.020232   \n",
       "Parana                                 9870.030130   \n",
       "\n",
       "airport_name  Eduardo Gomes International Airport  \\\n",
       "SYSTEM                                              \n",
       "Amazon                               10586.985788   \n",
       "Parana                               10587.000384   \n",
       "\n",
       "airport_name  Hercílio Luz International Airport  \\\n",
       "SYSTEM                                             \n",
       "Amazon                               8867.621633   \n",
       "Parana                               8867.631318   \n",
       "\n",
       "airport_name  Val de Cans/Júlio Cezar Ribeiro International Airport  \n",
       "SYSTEM                                                               \n",
       "Amazon                                             11335.110218      \n",
       "Parana                                             11335.122740      "
      ]
     },
     "execution_count": 63,
     "metadata": {},
     "output_type": "execute_result"
    }
   ],
   "source": [
    "D_Matrix_SYSHulls_air=ama_para_hulls.geometry.apply \\\n",
    "                (lambda system: large_airports.geometry.distance(system)/1000)\n",
    "D_Matrix_SYSHulls_air"
   ]
  },
  {
   "cell_type": "markdown",
   "id": "d97ed48a-1dd4-48e0-9940-de75ea43b5ed",
   "metadata": {},
   "source": [
    "From here, you can compute distances between other kinds of geometries."
   ]
  },
  {
   "cell_type": "markdown",
   "id": "be643505-1c8f-435c-b3ca-150aee9c4b3b",
   "metadata": {
    "id": "be643505-1c8f-435c-b3ca-150aee9c4b3b"
   },
   "source": [
    "## II. Clipping\n",
    "\n",
    "Clipping uses a GDF geometry as a MASK to cut another GDF which suppossedly is bigger and needes to be clipped."
   ]
  },
  {
   "cell_type": "markdown",
   "id": "01e11a63-f60d-46b7-90b3-29f8e554227f",
   "metadata": {
    "id": "01e11a63-f60d-46b7-90b3-29f8e554227f"
   },
   "source": [
    "Pay attention to the world rivers again:"
   ]
  },
  {
   "cell_type": "code",
   "execution_count": 64,
   "id": "e04c8325-ac9e-416a-a15d-165a3945c028",
   "metadata": {
    "colab": {
     "base_uri": "https://localhost:8080/",
     "height": 424
    },
    "id": "e04c8325-ac9e-416a-a15d-165a3945c028",
    "outputId": "59e3b63c-7f48-4f5c-f269-102a2f7388b5"
   },
   "outputs": [
    {
     "data": {
      "text/html": [
       "<div>\n",
       "<style scoped>\n",
       "    .dataframe tbody tr th:only-of-type {\n",
       "        vertical-align: middle;\n",
       "    }\n",
       "\n",
       "    .dataframe tbody tr th {\n",
       "        vertical-align: top;\n",
       "    }\n",
       "\n",
       "    .dataframe thead th {\n",
       "        text-align: right;\n",
       "    }\n",
       "</style>\n",
       "<table border=\"1\" class=\"dataframe\">\n",
       "  <thead>\n",
       "    <tr style=\"text-align: right;\">\n",
       "      <th></th>\n",
       "      <th>RIVER</th>\n",
       "      <th>SYSTEM</th>\n",
       "      <th>geometry</th>\n",
       "    </tr>\n",
       "  </thead>\n",
       "  <tbody>\n",
       "    <tr>\n",
       "      <th>0</th>\n",
       "      <td>Aldan</td>\n",
       "      <td>Lena</td>\n",
       "      <td>MULTILINESTRING ((124.00678 56.47258, 123.2595...</td>\n",
       "    </tr>\n",
       "    <tr>\n",
       "      <th>1</th>\n",
       "      <td>Amazon</td>\n",
       "      <td>Amazon</td>\n",
       "      <td>MULTILINESTRING ((-61.2773 -3.60706, -60.68466...</td>\n",
       "    </tr>\n",
       "    <tr>\n",
       "      <th>2</th>\n",
       "      <td>Amu Darya</td>\n",
       "      <td>None</td>\n",
       "      <td>MULTILINESTRING ((73.98818 37.49952, 73.52595 ...</td>\n",
       "    </tr>\n",
       "    <tr>\n",
       "      <th>3</th>\n",
       "      <td>Amur</td>\n",
       "      <td>None</td>\n",
       "      <td>MULTILINESTRING ((122.63956 49.9973, 120.47874...</td>\n",
       "    </tr>\n",
       "    <tr>\n",
       "      <th>4</th>\n",
       "      <td>Angara</td>\n",
       "      <td>None</td>\n",
       "      <td>MULTILINESTRING ((105.07841 51.93053, 103.9295...</td>\n",
       "    </tr>\n",
       "    <tr>\n",
       "      <th>...</th>\n",
       "      <td>...</td>\n",
       "      <td>...</td>\n",
       "      <td>...</td>\n",
       "    </tr>\n",
       "    <tr>\n",
       "      <th>93</th>\n",
       "      <td>Yangtze</td>\n",
       "      <td>None</td>\n",
       "      <td>MULTILINESTRING ((119.82609 32.24864, 118.9707...</td>\n",
       "    </tr>\n",
       "    <tr>\n",
       "      <th>94</th>\n",
       "      <td>Yenisey</td>\n",
       "      <td>None</td>\n",
       "      <td>MULTILINESTRING ((98.94706 52.57675, 98.12095 ...</td>\n",
       "    </tr>\n",
       "    <tr>\n",
       "      <th>95</th>\n",
       "      <td>Yukon</td>\n",
       "      <td>None</td>\n",
       "      <td>MULTILINESTRING ((-130.89319 59.2448, -131.065...</td>\n",
       "    </tr>\n",
       "    <tr>\n",
       "      <th>96</th>\n",
       "      <td>Zambezi</td>\n",
       "      <td>None</td>\n",
       "      <td>MULTILINESTRING ((35.52866 -17.66773, 36.28055...</td>\n",
       "    </tr>\n",
       "    <tr>\n",
       "      <th>97</th>\n",
       "      <td>Rio Grande, South America</td>\n",
       "      <td>Parana</td>\n",
       "      <td>MULTILINESTRING ((-44.37152 -22.17241, -43.860...</td>\n",
       "    </tr>\n",
       "  </tbody>\n",
       "</table>\n",
       "<p>98 rows × 3 columns</p>\n",
       "</div>"
      ],
      "text/plain": [
       "                        RIVER  SYSTEM  \\\n",
       "0                       Aldan    Lena   \n",
       "1                      Amazon  Amazon   \n",
       "2                   Amu Darya    None   \n",
       "3                        Amur    None   \n",
       "4                      Angara    None   \n",
       "..                        ...     ...   \n",
       "93                    Yangtze    None   \n",
       "94                    Yenisey    None   \n",
       "95                      Yukon    None   \n",
       "96                    Zambezi    None   \n",
       "97  Rio Grande, South America  Parana   \n",
       "\n",
       "                                             geometry  \n",
       "0   MULTILINESTRING ((124.00678 56.47258, 123.2595...  \n",
       "1   MULTILINESTRING ((-61.2773 -3.60706, -60.68466...  \n",
       "2   MULTILINESTRING ((73.98818 37.49952, 73.52595 ...  \n",
       "3   MULTILINESTRING ((122.63956 49.9973, 120.47874...  \n",
       "4   MULTILINESTRING ((105.07841 51.93053, 103.9295...  \n",
       "..                                                ...  \n",
       "93  MULTILINESTRING ((119.82609 32.24864, 118.9707...  \n",
       "94  MULTILINESTRING ((98.94706 52.57675, 98.12095 ...  \n",
       "95  MULTILINESTRING ((-130.89319 59.2448, -131.065...  \n",
       "96  MULTILINESTRING ((35.52866 -17.66773, 36.28055...  \n",
       "97  MULTILINESTRING ((-44.37152 -22.17241, -43.860...  \n",
       "\n",
       "[98 rows x 3 columns]"
      ]
     },
     "execution_count": 64,
     "metadata": {},
     "output_type": "execute_result"
    }
   ],
   "source": [
    "world_rivers"
   ]
  },
  {
   "cell_type": "markdown",
   "id": "c6fcbcc4-6b4e-45ea-ba63-814549807e6d",
   "metadata": {
    "id": "c6fcbcc4-6b4e-45ea-ba63-814549807e6d"
   },
   "source": [
    "As you see, this GDF has no Country column. But since it has geometry, you can keep the rivers, or their sections, that serve a country:"
   ]
  },
  {
   "cell_type": "code",
   "execution_count": 65,
   "id": "5b6a5884-4c38-4cf9-b452-c472e409d82b",
   "metadata": {
    "id": "5b6a5884-4c38-4cf9-b452-c472e409d82b"
   },
   "outputs": [],
   "source": [
    "rivers_brazil5880 = gpd.clip(gdf=world_rivers.to_crs(5880),\n",
    "                             mask=brazil5880)"
   ]
  },
  {
   "cell_type": "markdown",
   "id": "59424b3b-f335-47dd-8496-c4a7a5b7ee72",
   "metadata": {
    "id": "59424b3b-f335-47dd-8496-c4a7a5b7ee72"
   },
   "source": [
    "Then, you can plot the clipped version:"
   ]
  },
  {
   "cell_type": "code",
   "execution_count": 66,
   "id": "4cc43012-dcc3-45b3-b31e-35bcb26cab94",
   "metadata": {
    "colab": {
     "base_uri": "https://localhost:8080/",
     "height": 463
    },
    "id": "4cc43012-dcc3-45b3-b31e-35bcb26cab94",
    "outputId": "684ed3d4-de8e-4541-f1b2-8c2dc6e30281"
   },
   "outputs": [
    {
     "data": {
      "text/plain": [
       "<Axes: >"
      ]
     },
     "execution_count": 66,
     "metadata": {},
     "output_type": "execute_result"
    },
    {
     "data": {
      "image/png": "[encoded data removed]",
      "text/plain": [
       "<Figure size 500x500 with 1 Axes>"
      ]
     },
     "metadata": {},
     "output_type": "display_data"
    }
   ],
   "source": [
    "base = brazil5880.plot(facecolor=\"greenyellow\", edgecolor='black', linewidth=0.4,figsize=(5,5))\n",
    "rivers_brazil5880.plot(edgecolor='blue', linewidth=0.5,\n",
    "                    ax=base)"
   ]
  },
  {
   "cell_type": "markdown",
   "id": "c77dfd82-1685-4f2d-a1ae-3ff26f8f3041",
   "metadata": {},
   "source": [
    "We can create our own mask for clipping:\n",
    "\n",
    "Let me get the **bounding box** of the map (the smallest possible rectangle that completely encloses a geometric shape or set of shapes):"
   ]
  },
  {
   "cell_type": "code",
   "execution_count": 67,
   "id": "80f8a267-da8a-4831-be2b-7d83bac3c595",
   "metadata": {
    "colab": {
     "base_uri": "https://localhost:8080/"
    },
    "id": "80f8a267-da8a-4831-be2b-7d83bac3c595",
    "outputId": "0abc437a-fd5d-42e9-9e5a-8ec183735ac7",
    "scrolled": true
   },
   "outputs": [
    {
     "data": {
      "text/plain": [
       "array([ 2793074.63914733,  6264891.06203913,  7120881.08835731,\n",
       "       10586462.14322563])"
      ]
     },
     "execution_count": 67,
     "metadata": {},
     "output_type": "execute_result"
    }
   ],
   "source": [
    "brazil5880.total_bounds #[minx, miny, maxx, maxy]"
   ]
  },
  {
   "cell_type": "code",
   "execution_count": 69,
   "id": "76f1dee2-1db3-4aca-a389-0d9b87718514",
   "metadata": {},
   "outputs": [
    {
     "data": {
      "text/plain": [
       "(np.float64(2793074.6391473296),\n",
       " np.float64(6264891.0620391285),\n",
       " np.float64(7120881.088357305),\n",
       " np.float64(10586462.143225627))"
      ]
     },
     "execution_count": 69,
     "metadata": {},
     "output_type": "execute_result"
    }
   ],
   "source": [
    "# saving the output\n",
    "minx, miny, maxx, maxy=brazil5880.total_bounds\n",
    "minx, miny, maxx, maxy"
   ]
  },
  {
   "cell_type": "markdown",
   "id": "e00d037a-9493-4bee-807a-c04202409990",
   "metadata": {},
   "source": [
    "I will combine those coordinates with the _centroid_ (mid_x,mid_y)to create a BOX of the north and south of Brazil:"
   ]
  },
  {
   "cell_type": "code",
   "execution_count": 70,
   "id": "0180a0cd-311b-43e4-a68a-2fe82f46b4a0",
   "metadata": {
    "colab": {
     "base_uri": "https://localhost:8080/"
    },
    "id": "0180a0cd-311b-43e4-a68a-2fe82f46b4a0",
    "outputId": "8e33577f-7505-4442-fc2e-e55014d0f49c"
   },
   "outputs": [
    {
     "data": {
      "text/plain": [
       "<Axes: >"
      ]
     },
     "execution_count": 70,
     "metadata": {},
     "output_type": "execute_result"
    },
    {
     "data": {
      "image/png": "[encoded data removed]",
      "text/plain": [
       "<Figure size 640x480 with 1 Axes>"
      ]
     },
     "metadata": {},
     "output_type": "display_data"
    }
   ],
   "source": [
    "north_mask = [minx, mid_y, maxx, maxy]\n",
    "south_mask = [minx, minx, maxx, mid_y]\n",
    "\n",
    "# split Brazil\n",
    "states_brazil5880.clip(north_mask).plot(edgecolor=\"yellow\")"
   ]
  },
  {
   "cell_type": "code",
   "execution_count": 71,
   "id": "1b9e1c22-e6ec-4671-b60c-a946bccb7791",
   "metadata": {},
   "outputs": [
    {
     "data": {
      "text/plain": [
       "<Axes: >"
      ]
     },
     "execution_count": 71,
     "metadata": {},
     "output_type": "execute_result"
    },
    {
     "data": {
      "image/png": "[encoded data removed]",
      "text/plain": [
       "<Figure size 640x480 with 1 Axes>"
      ]
     },
     "metadata": {},
     "output_type": "display_data"
    }
   ],
   "source": [
    "states_brazil5880.clip(south_mask).plot(edgecolor=\"yellow\")"
   ]
  },
  {
   "cell_type": "markdown",
   "id": "f465c328-5cb2-49ce-a90a-37419ade4a6f",
   "metadata": {},
   "source": [
    "As you see, with clip we can cut polygons (not respecting the borders)."
   ]
  },
  {
   "cell_type": "markdown",
   "id": "b5c4eee9-24fc-4fa2-a639-9d774eb60825",
   "metadata": {},
   "source": [
    "## III. Spatial Joins\n",
    "\n",
    "We’re familiar with **merging**, which joins tables using common keys. Spatial joins, by contrast, rely solely on **geometry columns** to perform various types of filtering. \n",
    "\n",
    "Let me use the brazilian large airports and states:"
   ]
  },
  {
   "cell_type": "code",
   "execution_count": 72,
   "id": "a0dfc63d-650e-4f89-bd29-817a42534b8e",
   "metadata": {},
   "outputs": [
    {
     "data": {
      "text/html": [
       "<div>\n",
       "<style scoped>\n",
       "    .dataframe tbody tr th:only-of-type {\n",
       "        vertical-align: middle;\n",
       "    }\n",
       "\n",
       "    .dataframe tbody tr th {\n",
       "        vertical-align: top;\n",
       "    }\n",
       "\n",
       "    .dataframe thead th {\n",
       "        text-align: right;\n",
       "    }\n",
       "</style>\n",
       "<table border=\"1\" class=\"dataframe\">\n",
       "  <thead>\n",
       "    <tr style=\"text-align: right;\">\n",
       "      <th></th>\n",
       "      <th>airport_type</th>\n",
       "      <th>elevation_ft</th>\n",
       "      <th>region</th>\n",
       "      <th>municipality</th>\n",
       "      <th>geometry</th>\n",
       "    </tr>\n",
       "    <tr>\n",
       "      <th>airport_name</th>\n",
       "      <th></th>\n",
       "      <th></th>\n",
       "      <th></th>\n",
       "      <th></th>\n",
       "      <th></th>\n",
       "    </tr>\n",
       "  </thead>\n",
       "  <tbody>\n",
       "    <tr>\n",
       "      <th>Guarulhos - Governador André Franco Montoro International Airport</th>\n",
       "      <td>large_airport</td>\n",
       "      <td>2461.0</td>\n",
       "      <td>São Paulo</td>\n",
       "      <td>São Paulo</td>\n",
       "      <td>POINT (5769392.959 7387510.487)</td>\n",
       "    </tr>\n",
       "    <tr>\n",
       "      <th>Rio Galeão – Tom Jobim International Airport</th>\n",
       "      <td>large_airport</td>\n",
       "      <td>28.0</td>\n",
       "      <td>Rio de Janeiro</td>\n",
       "      <td>Rio De Janeiro</td>\n",
       "      <td>POINT (6102623.812 7436387.271)</td>\n",
       "    </tr>\n",
       "    <tr>\n",
       "      <th>Presidente Juscelino Kubitschek International Airport</th>\n",
       "      <td>large_airport</td>\n",
       "      <td>3497.0</td>\n",
       "      <td>Distrito Federal</td>\n",
       "      <td>Brasília</td>\n",
       "      <td>POINT (5651010.181 8235390.09)</td>\n",
       "    </tr>\n",
       "    <tr>\n",
       "      <th>Deputado Luiz Eduardo Magalhães International Airport</th>\n",
       "      <td>large_airport</td>\n",
       "      <td>64.0</td>\n",
       "      <td>Bahia</td>\n",
       "      <td>Salvador</td>\n",
       "      <td>POINT (6700330.807 8520415.591)</td>\n",
       "    </tr>\n",
       "    <tr>\n",
       "      <th>Tancredo Neves International Airport</th>\n",
       "      <td>large_airport</td>\n",
       "      <td>2721.0</td>\n",
       "      <td>Minas Gerais</td>\n",
       "      <td>Belo Horizonte</td>\n",
       "      <td>POINT (6051718.72 7797008.905)</td>\n",
       "    </tr>\n",
       "  </tbody>\n",
       "</table>\n",
       "</div>"
      ],
      "text/plain": [
       "                                                     airport_type  \\\n",
       "airport_name                                                        \n",
       "Guarulhos - Governador André Franco Montoro Int...  large_airport   \n",
       "Rio Galeão – Tom Jobim International Airport        large_airport   \n",
       "Presidente Juscelino Kubitschek International A...  large_airport   \n",
       "Deputado Luiz Eduardo Magalhães International A...  large_airport   \n",
       "Tancredo Neves International Airport                large_airport   \n",
       "\n",
       "                                                    elevation_ft  \\\n",
       "airport_name                                                       \n",
       "Guarulhos - Governador André Franco Montoro Int...        2461.0   \n",
       "Rio Galeão – Tom Jobim International Airport                28.0   \n",
       "Presidente Juscelino Kubitschek International A...        3497.0   \n",
       "Deputado Luiz Eduardo Magalhães International A...          64.0   \n",
       "Tancredo Neves International Airport                      2721.0   \n",
       "\n",
       "                                                              region  \\\n",
       "airport_name                                                           \n",
       "Guarulhos - Governador André Franco Montoro Int...         São Paulo   \n",
       "Rio Galeão – Tom Jobim International Airport          Rio de Janeiro   \n",
       "Presidente Juscelino Kubitschek International A...  Distrito Federal   \n",
       "Deputado Luiz Eduardo Magalhães International A...             Bahia   \n",
       "Tancredo Neves International Airport                    Minas Gerais   \n",
       "\n",
       "                                                      municipality  \\\n",
       "airport_name                                                         \n",
       "Guarulhos - Governador André Franco Montoro Int...       São Paulo   \n",
       "Rio Galeão – Tom Jobim International Airport        Rio De Janeiro   \n",
       "Presidente Juscelino Kubitschek International A...        Brasília   \n",
       "Deputado Luiz Eduardo Magalhães International A...        Salvador   \n",
       "Tancredo Neves International Airport                Belo Horizonte   \n",
       "\n",
       "                                                                           geometry  \n",
       "airport_name                                                                         \n",
       "Guarulhos - Governador André Franco Montoro Int...  POINT (5769392.959 7387510.487)  \n",
       "Rio Galeão – Tom Jobim International Airport        POINT (6102623.812 7436387.271)  \n",
       "Presidente Juscelino Kubitschek International A...   POINT (5651010.181 8235390.09)  \n",
       "Deputado Luiz Eduardo Magalhães International A...  POINT (6700330.807 8520415.591)  \n",
       "Tancredo Neves International Airport                 POINT (6051718.72 7797008.905)  "
      ]
     },
     "execution_count": 72,
     "metadata": {},
     "output_type": "execute_result"
    }
   ],
   "source": [
    "large_airports.head()"
   ]
  },
  {
   "cell_type": "markdown",
   "id": "b887209c-7a1a-4a3c-a79e-e74321e373ad",
   "metadata": {},
   "source": [
    "...and:"
   ]
  },
  {
   "cell_type": "code",
   "execution_count": 73,
   "id": "e30b503a-c304-4615-aa27-72a66a3a3cc9",
   "metadata": {},
   "outputs": [
    {
     "data": {
      "text/html": [
       "<div>\n",
       "<style scoped>\n",
       "    .dataframe tbody tr th:only-of-type {\n",
       "        vertical-align: middle;\n",
       "    }\n",
       "\n",
       "    .dataframe tbody tr th {\n",
       "        vertical-align: top;\n",
       "    }\n",
       "\n",
       "    .dataframe thead th {\n",
       "        text-align: right;\n",
       "    }\n",
       "</style>\n",
       "<table border=\"1\" class=\"dataframe\">\n",
       "  <thead>\n",
       "    <tr style=\"text-align: right;\">\n",
       "      <th></th>\n",
       "      <th>state_name</th>\n",
       "      <th>state_code</th>\n",
       "      <th>geometry</th>\n",
       "    </tr>\n",
       "  </thead>\n",
       "  <tbody>\n",
       "    <tr>\n",
       "      <th>0</th>\n",
       "      <td>Acre</td>\n",
       "      <td>BR12</td>\n",
       "      <td>MULTIPOLYGON (((3374854.317 8740996.704, 33745...</td>\n",
       "    </tr>\n",
       "    <tr>\n",
       "      <th>1</th>\n",
       "      <td>Alagoas</td>\n",
       "      <td>BR27</td>\n",
       "      <td>MULTIPOLYGON (((7038407.237 8973545.06, 703823...</td>\n",
       "    </tr>\n",
       "    <tr>\n",
       "      <th>2</th>\n",
       "      <td>Amapá</td>\n",
       "      <td>BR16</td>\n",
       "      <td>MULTIPOLYGON (((5393641.625 10233907.833, 5394...</td>\n",
       "    </tr>\n",
       "    <tr>\n",
       "      <th>3</th>\n",
       "      <td>Amazonas</td>\n",
       "      <td>BR13</td>\n",
       "      <td>MULTIPOLYGON (((4499820.936 9906611.648, 45003...</td>\n",
       "    </tr>\n",
       "    <tr>\n",
       "      <th>4</th>\n",
       "      <td>Bahia</td>\n",
       "      <td>BR29</td>\n",
       "      <td>MULTIPOLYGON (((6618113.779 7946308.264, 66178...</td>\n",
       "    </tr>\n",
       "  </tbody>\n",
       "</table>\n",
       "</div>"
      ],
      "text/plain": [
       "  state_name state_code                                           geometry\n",
       "0       Acre       BR12  MULTIPOLYGON (((3374854.317 8740996.704, 33745...\n",
       "1    Alagoas       BR27  MULTIPOLYGON (((7038407.237 8973545.06, 703823...\n",
       "2      Amapá       BR16  MULTIPOLYGON (((5393641.625 10233907.833, 5394...\n",
       "3   Amazonas       BR13  MULTIPOLYGON (((4499820.936 9906611.648, 45003...\n",
       "4      Bahia       BR29  MULTIPOLYGON (((6618113.779 7946308.264, 66178..."
      ]
     },
     "execution_count": 73,
     "metadata": {},
     "output_type": "execute_result"
    }
   ],
   "source": [
    "states_brazil5880.head()"
   ]
  },
  {
   "cell_type": "code",
   "execution_count": 78,
   "id": "58d5a4e6-1d55-434d-9d0e-616394bba9a8",
   "metadata": {},
   "outputs": [],
   "source": [
    "# as before\n",
    "states_brazil5880.set_index('state_name',inplace=True)"
   ]
  },
  {
   "cell_type": "markdown",
   "id": "bc834d8a-ada5-4cfc-9a23-f04800d4cd3e",
   "metadata": {},
   "source": [
    "### a. Within"
   ]
  },
  {
   "cell_type": "markdown",
   "id": "92e16665-bba3-462b-a6cb-971fd2cac082",
   "metadata": {},
   "source": [
    "Let's ask:\n",
    "> The large airports whose geometries are within the borders of a state in Brazil."
   ]
  },
  {
   "cell_type": "code",
   "execution_count": 79,
   "id": "e4093e9f-2149-4390-b7fb-676b6a24beff",
   "metadata": {},
   "outputs": [
    {
     "data": {
      "text/html": [
       "<div>\n",
       "<style scoped>\n",
       "    .dataframe tbody tr th:only-of-type {\n",
       "        vertical-align: middle;\n",
       "    }\n",
       "\n",
       "    .dataframe tbody tr th {\n",
       "        vertical-align: top;\n",
       "    }\n",
       "\n",
       "    .dataframe thead th {\n",
       "        text-align: right;\n",
       "    }\n",
       "</style>\n",
       "<table border=\"1\" class=\"dataframe\">\n",
       "  <thead>\n",
       "    <tr style=\"text-align: right;\">\n",
       "      <th></th>\n",
       "      <th>airport_type</th>\n",
       "      <th>elevation_ft</th>\n",
       "      <th>region</th>\n",
       "      <th>municipality</th>\n",
       "      <th>geometry</th>\n",
       "      <th>state_name</th>\n",
       "      <th>state_code</th>\n",
       "    </tr>\n",
       "    <tr>\n",
       "      <th>airport_name</th>\n",
       "      <th></th>\n",
       "      <th></th>\n",
       "      <th></th>\n",
       "      <th></th>\n",
       "      <th></th>\n",
       "      <th></th>\n",
       "      <th></th>\n",
       "    </tr>\n",
       "  </thead>\n",
       "  <tbody>\n",
       "    <tr>\n",
       "      <th>Guarulhos - Governador André Franco Montoro International Airport</th>\n",
       "      <td>large_airport</td>\n",
       "      <td>2461.0</td>\n",
       "      <td>São Paulo</td>\n",
       "      <td>São Paulo</td>\n",
       "      <td>POINT (5769392.959 7387510.487)</td>\n",
       "      <td>São Paulo</td>\n",
       "      <td>BR35</td>\n",
       "    </tr>\n",
       "    <tr>\n",
       "      <th>Rio Galeão – Tom Jobim International Airport</th>\n",
       "      <td>large_airport</td>\n",
       "      <td>28.0</td>\n",
       "      <td>Rio de Janeiro</td>\n",
       "      <td>Rio De Janeiro</td>\n",
       "      <td>POINT (6102623.812 7436387.271)</td>\n",
       "      <td>Rio de Janeiro</td>\n",
       "      <td>BR33</td>\n",
       "    </tr>\n",
       "    <tr>\n",
       "      <th>Presidente Juscelino Kubitschek International Airport</th>\n",
       "      <td>large_airport</td>\n",
       "      <td>3497.0</td>\n",
       "      <td>Distrito Federal</td>\n",
       "      <td>Brasília</td>\n",
       "      <td>POINT (5651010.181 8235390.09)</td>\n",
       "      <td>Distrito Federal</td>\n",
       "      <td>BR53</td>\n",
       "    </tr>\n",
       "    <tr>\n",
       "      <th>Deputado Luiz Eduardo Magalhães International Airport</th>\n",
       "      <td>large_airport</td>\n",
       "      <td>64.0</td>\n",
       "      <td>Bahia</td>\n",
       "      <td>Salvador</td>\n",
       "      <td>POINT (6700330.807 8520415.591)</td>\n",
       "      <td>Bahia</td>\n",
       "      <td>BR29</td>\n",
       "    </tr>\n",
       "    <tr>\n",
       "      <th>Tancredo Neves International Airport</th>\n",
       "      <td>large_airport</td>\n",
       "      <td>2721.0</td>\n",
       "      <td>Minas Gerais</td>\n",
       "      <td>Belo Horizonte</td>\n",
       "      <td>POINT (6051718.72 7797008.905)</td>\n",
       "      <td>Minas Gerais</td>\n",
       "      <td>BR31</td>\n",
       "    </tr>\n",
       "    <tr>\n",
       "      <th>Eduardo Gomes International Airport</th>\n",
       "      <td>large_airport</td>\n",
       "      <td>264.0</td>\n",
       "      <td>Amazonas</td>\n",
       "      <td>Manaus</td>\n",
       "      <td>POINT (4327494.283 9662122.706)</td>\n",
       "      <td>Amazonas</td>\n",
       "      <td>BR13</td>\n",
       "    </tr>\n",
       "    <tr>\n",
       "      <th>Hercílio Luz International Airport</th>\n",
       "      <td>large_airport</td>\n",
       "      <td>16.0</td>\n",
       "      <td>Santa Catarina</td>\n",
       "      <td>Florianópolis</td>\n",
       "      <td>POINT (5537273.577 6926234.097)</td>\n",
       "      <td>Santa Catarina</td>\n",
       "      <td>BR42</td>\n",
       "    </tr>\n",
       "    <tr>\n",
       "      <th>Val de Cans/Júlio Cezar Ribeiro International Airport</th>\n",
       "      <td>large_airport</td>\n",
       "      <td>54.0</td>\n",
       "      <td>Pará</td>\n",
       "      <td>Belém</td>\n",
       "      <td>POINT (5614728.302 9846773.655)</td>\n",
       "      <td>Pará</td>\n",
       "      <td>BR15</td>\n",
       "    </tr>\n",
       "  </tbody>\n",
       "</table>\n",
       "</div>"
      ],
      "text/plain": [
       "                                                     airport_type  \\\n",
       "airport_name                                                        \n",
       "Guarulhos - Governador André Franco Montoro Int...  large_airport   \n",
       "Rio Galeão – Tom Jobim International Airport        large_airport   \n",
       "Presidente Juscelino Kubitschek International A...  large_airport   \n",
       "Deputado Luiz Eduardo Magalhães International A...  large_airport   \n",
       "Tancredo Neves International Airport                large_airport   \n",
       "Eduardo Gomes International Airport                 large_airport   \n",
       "Hercílio Luz International Airport                  large_airport   \n",
       "Val de Cans/Júlio Cezar Ribeiro International A...  large_airport   \n",
       "\n",
       "                                                    elevation_ft  \\\n",
       "airport_name                                                       \n",
       "Guarulhos - Governador André Franco Montoro Int...        2461.0   \n",
       "Rio Galeão – Tom Jobim International Airport                28.0   \n",
       "Presidente Juscelino Kubitschek International A...        3497.0   \n",
       "Deputado Luiz Eduardo Magalhães International A...          64.0   \n",
       "Tancredo Neves International Airport                      2721.0   \n",
       "Eduardo Gomes International Airport                        264.0   \n",
       "Hercílio Luz International Airport                          16.0   \n",
       "Val de Cans/Júlio Cezar Ribeiro International A...          54.0   \n",
       "\n",
       "                                                              region  \\\n",
       "airport_name                                                           \n",
       "Guarulhos - Governador André Franco Montoro Int...         São Paulo   \n",
       "Rio Galeão – Tom Jobim International Airport          Rio de Janeiro   \n",
       "Presidente Juscelino Kubitschek International A...  Distrito Federal   \n",
       "Deputado Luiz Eduardo Magalhães International A...             Bahia   \n",
       "Tancredo Neves International Airport                    Minas Gerais   \n",
       "Eduardo Gomes International Airport                         Amazonas   \n",
       "Hercílio Luz International Airport                    Santa Catarina   \n",
       "Val de Cans/Júlio Cezar Ribeiro International A...              Pará   \n",
       "\n",
       "                                                      municipality  \\\n",
       "airport_name                                                         \n",
       "Guarulhos - Governador André Franco Montoro Int...       São Paulo   \n",
       "Rio Galeão – Tom Jobim International Airport        Rio De Janeiro   \n",
       "Presidente Juscelino Kubitschek International A...        Brasília   \n",
       "Deputado Luiz Eduardo Magalhães International A...        Salvador   \n",
       "Tancredo Neves International Airport                Belo Horizonte   \n",
       "Eduardo Gomes International Airport                         Manaus   \n",
       "Hercílio Luz International Airport                   Florianópolis   \n",
       "Val de Cans/Júlio Cezar Ribeiro International A...           Belém   \n",
       "\n",
       "                                                                           geometry  \\\n",
       "airport_name                                                                          \n",
       "Guarulhos - Governador André Franco Montoro Int...  POINT (5769392.959 7387510.487)   \n",
       "Rio Galeão – Tom Jobim International Airport        POINT (6102623.812 7436387.271)   \n",
       "Presidente Juscelino Kubitschek International A...   POINT (5651010.181 8235390.09)   \n",
       "Deputado Luiz Eduardo Magalhães International A...  POINT (6700330.807 8520415.591)   \n",
       "Tancredo Neves International Airport                 POINT (6051718.72 7797008.905)   \n",
       "Eduardo Gomes International Airport                 POINT (4327494.283 9662122.706)   \n",
       "Hercílio Luz International Airport                  POINT (5537273.577 6926234.097)   \n",
       "Val de Cans/Júlio Cezar Ribeiro International A...  POINT (5614728.302 9846773.655)   \n",
       "\n",
       "                                                          state_name  \\\n",
       "airport_name                                                           \n",
       "Guarulhos - Governador André Franco Montoro Int...         São Paulo   \n",
       "Rio Galeão – Tom Jobim International Airport          Rio de Janeiro   \n",
       "Presidente Juscelino Kubitschek International A...  Distrito Federal   \n",
       "Deputado Luiz Eduardo Magalhães International A...             Bahia   \n",
       "Tancredo Neves International Airport                    Minas Gerais   \n",
       "Eduardo Gomes International Airport                         Amazonas   \n",
       "Hercílio Luz International Airport                    Santa Catarina   \n",
       "Val de Cans/Júlio Cezar Ribeiro International A...              Pará   \n",
       "\n",
       "                                                   state_code  \n",
       "airport_name                                                   \n",
       "Guarulhos - Governador André Franco Montoro Int...       BR35  \n",
       "Rio Galeão – Tom Jobim International Airport             BR33  \n",
       "Presidente Juscelino Kubitschek International A...       BR53  \n",
       "Deputado Luiz Eduardo Magalhães International A...       BR29  \n",
       "Tancredo Neves International Airport                     BR31  \n",
       "Eduardo Gomes International Airport                      BR13  \n",
       "Hercílio Luz International Airport                       BR42  \n",
       "Val de Cans/Júlio Cezar Ribeiro International A...       BR15  "
      ]
     },
     "execution_count": 79,
     "metadata": {},
     "output_type": "execute_result"
    }
   ],
   "source": [
    "airports_within_states = gpd.sjoin(\n",
    "    large_airports,         # LEFT: airports we want to filter/keep\n",
    "    states_brazil5880,      # RIGHT: spatial boundaries to check against\n",
    "    how='inner',            # return geometries that match in both LEFT/RIGHT (jointype)\n",
    "    predicate='within'      # spatial condition: LEFT geometry within RIGHT geometry\n",
    ")\n",
    "\n",
    "# these are:\n",
    "airports_within_states"
   ]
  },
  {
   "cell_type": "markdown",
   "id": "d15e0714-7198-4d4f-9c60-e295520f5ce6",
   "metadata": {},
   "source": [
    "We just performed a point-to-polygon spatial join.\n",
    "Notice that the result preserves the original geometries from the LEFT GeoDataFrame — specifically, only those features whose spatial relationship satisfied both the predicate (e.g., 'within') and the join type ('inner').\n",
    "The non-geometric attributes (columns) from the RIGHT GeoDataFrame are joined to the matching rows."
   ]
  },
  {
   "cell_type": "markdown",
   "id": "b5304d8d-9ff5-4c65-94ad-5a7c4727396a",
   "metadata": {},
   "source": [
    "### b. Contains"
   ]
  },
  {
   "cell_type": "markdown",
   "id": "9a8607e8-a979-4cdb-b980-83d474c2418d",
   "metadata": {},
   "source": [
    "Importantly, if the LEFT GeoDataFrame contains polygons and the RIGHT contains points (a polygon-to-point join), you’ll typically need to use a different predicate — such as 'contains' — to express the spatial relationship correctly.\n",
    "\n",
    "> Brazilian states that house large airports"
   ]
  },
  {
   "cell_type": "code",
   "execution_count": 80,
   "id": "86d0683e-21fd-4300-a04e-59cc7392ef25",
   "metadata": {},
   "outputs": [
    {
     "data": {
      "text/html": [
       "<div>\n",
       "<style scoped>\n",
       "    .dataframe tbody tr th:only-of-type {\n",
       "        vertical-align: middle;\n",
       "    }\n",
       "\n",
       "    .dataframe tbody tr th {\n",
       "        vertical-align: top;\n",
       "    }\n",
       "\n",
       "    .dataframe thead th {\n",
       "        text-align: right;\n",
       "    }\n",
       "</style>\n",
       "<table border=\"1\" class=\"dataframe\">\n",
       "  <thead>\n",
       "    <tr style=\"text-align: right;\">\n",
       "      <th></th>\n",
       "      <th>state_code</th>\n",
       "      <th>geometry</th>\n",
       "      <th>airport_name</th>\n",
       "      <th>airport_type</th>\n",
       "      <th>elevation_ft</th>\n",
       "      <th>region</th>\n",
       "      <th>municipality</th>\n",
       "    </tr>\n",
       "    <tr>\n",
       "      <th>state_name</th>\n",
       "      <th></th>\n",
       "      <th></th>\n",
       "      <th></th>\n",
       "      <th></th>\n",
       "      <th></th>\n",
       "      <th></th>\n",
       "      <th></th>\n",
       "    </tr>\n",
       "  </thead>\n",
       "  <tbody>\n",
       "    <tr>\n",
       "      <th>Amazonas</th>\n",
       "      <td>BR13</td>\n",
       "      <td>MULTIPOLYGON (((4499820.936 9906611.648, 45003...</td>\n",
       "      <td>Eduardo Gomes International Airport</td>\n",
       "      <td>large_airport</td>\n",
       "      <td>264.0</td>\n",
       "      <td>Amazonas</td>\n",
       "      <td>Manaus</td>\n",
       "    </tr>\n",
       "    <tr>\n",
       "      <th>Bahia</th>\n",
       "      <td>BR29</td>\n",
       "      <td>MULTIPOLYGON (((6618113.779 7946308.264, 66178...</td>\n",
       "      <td>Deputado Luiz Eduardo Magalhães International ...</td>\n",
       "      <td>large_airport</td>\n",
       "      <td>64.0</td>\n",
       "      <td>Bahia</td>\n",
       "      <td>Salvador</td>\n",
       "    </tr>\n",
       "    <tr>\n",
       "      <th>Distrito Federal</th>\n",
       "      <td>BR53</td>\n",
       "      <td>MULTIPOLYGON (((5709200.339 8232316.484, 57090...</td>\n",
       "      <td>Presidente Juscelino Kubitschek International ...</td>\n",
       "      <td>large_airport</td>\n",
       "      <td>3497.0</td>\n",
       "      <td>Distrito Federal</td>\n",
       "      <td>Brasília</td>\n",
       "    </tr>\n",
       "    <tr>\n",
       "      <th>Minas Gerais</th>\n",
       "      <td>BR31</td>\n",
       "      <td>MULTIPOLYGON (((5730280.854 8106234.254, 57299...</td>\n",
       "      <td>Tancredo Neves International Airport</td>\n",
       "      <td>large_airport</td>\n",
       "      <td>2721.0</td>\n",
       "      <td>Minas Gerais</td>\n",
       "      <td>Belo Horizonte</td>\n",
       "    </tr>\n",
       "    <tr>\n",
       "      <th>Pará</th>\n",
       "      <td>BR15</td>\n",
       "      <td>MULTIPOLYGON (((5842059.053 9886741.08, 584156...</td>\n",
       "      <td>Val de Cans/Júlio Cezar Ribeiro International ...</td>\n",
       "      <td>large_airport</td>\n",
       "      <td>54.0</td>\n",
       "      <td>Pará</td>\n",
       "      <td>Belém</td>\n",
       "    </tr>\n",
       "    <tr>\n",
       "      <th>Rio de Janeiro</th>\n",
       "      <td>BR33</td>\n",
       "      <td>MULTIPOLYGON (((5957764.631 7386508.56, 595773...</td>\n",
       "      <td>Rio Galeão – Tom Jobim International Airport</td>\n",
       "      <td>large_airport</td>\n",
       "      <td>28.0</td>\n",
       "      <td>Rio de Janeiro</td>\n",
       "      <td>Rio De Janeiro</td>\n",
       "    </tr>\n",
       "    <tr>\n",
       "      <th>Santa Catarina</th>\n",
       "      <td>BR42</td>\n",
       "      <td>MULTIPOLYGON (((5384989.919 6745543.64, 538466...</td>\n",
       "      <td>Hercílio Luz International Airport</td>\n",
       "      <td>large_airport</td>\n",
       "      <td>16.0</td>\n",
       "      <td>Santa Catarina</td>\n",
       "      <td>Florianópolis</td>\n",
       "    </tr>\n",
       "    <tr>\n",
       "      <th>São Paulo</th>\n",
       "      <td>BR35</td>\n",
       "      <td>MULTIPOLYGON (((5619062.728 7205958.887, 56186...</td>\n",
       "      <td>Guarulhos - Governador André Franco Montoro In...</td>\n",
       "      <td>large_airport</td>\n",
       "      <td>2461.0</td>\n",
       "      <td>São Paulo</td>\n",
       "      <td>São Paulo</td>\n",
       "    </tr>\n",
       "  </tbody>\n",
       "</table>\n",
       "</div>"
      ],
      "text/plain": [
       "                 state_code  \\\n",
       "state_name                    \n",
       "Amazonas               BR13   \n",
       "Bahia                  BR29   \n",
       "Distrito Federal       BR53   \n",
       "Minas Gerais           BR31   \n",
       "Pará                   BR15   \n",
       "Rio de Janeiro         BR33   \n",
       "Santa Catarina         BR42   \n",
       "São Paulo              BR35   \n",
       "\n",
       "                                                           geometry  \\\n",
       "state_name                                                            \n",
       "Amazonas          MULTIPOLYGON (((4499820.936 9906611.648, 45003...   \n",
       "Bahia             MULTIPOLYGON (((6618113.779 7946308.264, 66178...   \n",
       "Distrito Federal  MULTIPOLYGON (((5709200.339 8232316.484, 57090...   \n",
       "Minas Gerais      MULTIPOLYGON (((5730280.854 8106234.254, 57299...   \n",
       "Pará              MULTIPOLYGON (((5842059.053 9886741.08, 584156...   \n",
       "Rio de Janeiro    MULTIPOLYGON (((5957764.631 7386508.56, 595773...   \n",
       "Santa Catarina    MULTIPOLYGON (((5384989.919 6745543.64, 538466...   \n",
       "São Paulo         MULTIPOLYGON (((5619062.728 7205958.887, 56186...   \n",
       "\n",
       "                                                       airport_name  \\\n",
       "state_name                                                            \n",
       "Amazonas                        Eduardo Gomes International Airport   \n",
       "Bahia             Deputado Luiz Eduardo Magalhães International ...   \n",
       "Distrito Federal  Presidente Juscelino Kubitschek International ...   \n",
       "Minas Gerais                   Tancredo Neves International Airport   \n",
       "Pará              Val de Cans/Júlio Cezar Ribeiro International ...   \n",
       "Rio de Janeiro         Rio Galeão – Tom Jobim International Airport   \n",
       "Santa Catarina                   Hercílio Luz International Airport   \n",
       "São Paulo         Guarulhos - Governador André Franco Montoro In...   \n",
       "\n",
       "                   airport_type  elevation_ft            region  \\\n",
       "state_name                                                        \n",
       "Amazonas          large_airport         264.0          Amazonas   \n",
       "Bahia             large_airport          64.0             Bahia   \n",
       "Distrito Federal  large_airport        3497.0  Distrito Federal   \n",
       "Minas Gerais      large_airport        2721.0      Minas Gerais   \n",
       "Pará              large_airport          54.0              Pará   \n",
       "Rio de Janeiro    large_airport          28.0    Rio de Janeiro   \n",
       "Santa Catarina    large_airport          16.0    Santa Catarina   \n",
       "São Paulo         large_airport        2461.0         São Paulo   \n",
       "\n",
       "                    municipality  \n",
       "state_name                        \n",
       "Amazonas                  Manaus  \n",
       "Bahia                   Salvador  \n",
       "Distrito Federal        Brasília  \n",
       "Minas Gerais      Belo Horizonte  \n",
       "Pará                       Belém  \n",
       "Rio de Janeiro    Rio De Janeiro  \n",
       "Santa Catarina     Florianópolis  \n",
       "São Paulo              São Paulo  "
      ]
     },
     "execution_count": 80,
     "metadata": {},
     "output_type": "execute_result"
    }
   ],
   "source": [
    "states_containing_LargeAirports = gpd.sjoin(states_brazil5880,large_airports,how='inner',\n",
    "                                            predicate='contains')\n",
    "\n",
    "states_containing_LargeAirports"
   ]
  },
  {
   "cell_type": "markdown",
   "id": "1d051af3-f9e2-47f2-974a-f22731bcab89",
   "metadata": {},
   "source": [
    "### c. Intersects\n",
    "\n",
    "'Contains' is literally strict: Any airport located exactly on a state boundary — whether due to data precision, snapping, or real geography — will be excluded, even if it’s “practically” inside the state. More flexibility is achieved with **intersects**.\n",
    "\n",
    "> Large airports whose location is anywhere belonging to a particular state"
   ]
  },
  {
   "cell_type": "code",
   "execution_count": 81,
   "id": "ed58e5eb-663f-4973-b6c0-f9e1a00f6532",
   "metadata": {},
   "outputs": [
    {
     "data": {
      "text/html": [
       "<div>\n",
       "<style scoped>\n",
       "    .dataframe tbody tr th:only-of-type {\n",
       "        vertical-align: middle;\n",
       "    }\n",
       "\n",
       "    .dataframe tbody tr th {\n",
       "        vertical-align: top;\n",
       "    }\n",
       "\n",
       "    .dataframe thead th {\n",
       "        text-align: right;\n",
       "    }\n",
       "</style>\n",
       "<table border=\"1\" class=\"dataframe\">\n",
       "  <thead>\n",
       "    <tr style=\"text-align: right;\">\n",
       "      <th></th>\n",
       "      <th>state_code</th>\n",
       "      <th>geometry</th>\n",
       "      <th>airport_name</th>\n",
       "      <th>airport_type</th>\n",
       "      <th>elevation_ft</th>\n",
       "      <th>region</th>\n",
       "      <th>municipality</th>\n",
       "    </tr>\n",
       "    <tr>\n",
       "      <th>state_name</th>\n",
       "      <th></th>\n",
       "      <th></th>\n",
       "      <th></th>\n",
       "      <th></th>\n",
       "      <th></th>\n",
       "      <th></th>\n",
       "      <th></th>\n",
       "    </tr>\n",
       "  </thead>\n",
       "  <tbody>\n",
       "    <tr>\n",
       "      <th>Amazonas</th>\n",
       "      <td>BR13</td>\n",
       "      <td>MULTIPOLYGON (((4499820.936 9906611.648, 45003...</td>\n",
       "      <td>Eduardo Gomes International Airport</td>\n",
       "      <td>large_airport</td>\n",
       "      <td>264.0</td>\n",
       "      <td>Amazonas</td>\n",
       "      <td>Manaus</td>\n",
       "    </tr>\n",
       "    <tr>\n",
       "      <th>Bahia</th>\n",
       "      <td>BR29</td>\n",
       "      <td>MULTIPOLYGON (((6618113.779 7946308.264, 66178...</td>\n",
       "      <td>Deputado Luiz Eduardo Magalhães International ...</td>\n",
       "      <td>large_airport</td>\n",
       "      <td>64.0</td>\n",
       "      <td>Bahia</td>\n",
       "      <td>Salvador</td>\n",
       "    </tr>\n",
       "    <tr>\n",
       "      <th>Distrito Federal</th>\n",
       "      <td>BR53</td>\n",
       "      <td>MULTIPOLYGON (((5709200.339 8232316.484, 57090...</td>\n",
       "      <td>Presidente Juscelino Kubitschek International ...</td>\n",
       "      <td>large_airport</td>\n",
       "      <td>3497.0</td>\n",
       "      <td>Distrito Federal</td>\n",
       "      <td>Brasília</td>\n",
       "    </tr>\n",
       "    <tr>\n",
       "      <th>Minas Gerais</th>\n",
       "      <td>BR31</td>\n",
       "      <td>MULTIPOLYGON (((5730280.854 8106234.254, 57299...</td>\n",
       "      <td>Tancredo Neves International Airport</td>\n",
       "      <td>large_airport</td>\n",
       "      <td>2721.0</td>\n",
       "      <td>Minas Gerais</td>\n",
       "      <td>Belo Horizonte</td>\n",
       "    </tr>\n",
       "    <tr>\n",
       "      <th>Pará</th>\n",
       "      <td>BR15</td>\n",
       "      <td>MULTIPOLYGON (((5842059.053 9886741.08, 584156...</td>\n",
       "      <td>Val de Cans/Júlio Cezar Ribeiro International ...</td>\n",
       "      <td>large_airport</td>\n",
       "      <td>54.0</td>\n",
       "      <td>Pará</td>\n",
       "      <td>Belém</td>\n",
       "    </tr>\n",
       "    <tr>\n",
       "      <th>Rio de Janeiro</th>\n",
       "      <td>BR33</td>\n",
       "      <td>MULTIPOLYGON (((5957764.631 7386508.56, 595773...</td>\n",
       "      <td>Rio Galeão – Tom Jobim International Airport</td>\n",
       "      <td>large_airport</td>\n",
       "      <td>28.0</td>\n",
       "      <td>Rio de Janeiro</td>\n",
       "      <td>Rio De Janeiro</td>\n",
       "    </tr>\n",
       "    <tr>\n",
       "      <th>Santa Catarina</th>\n",
       "      <td>BR42</td>\n",
       "      <td>MULTIPOLYGON (((5384989.919 6745543.64, 538466...</td>\n",
       "      <td>Hercílio Luz International Airport</td>\n",
       "      <td>large_airport</td>\n",
       "      <td>16.0</td>\n",
       "      <td>Santa Catarina</td>\n",
       "      <td>Florianópolis</td>\n",
       "    </tr>\n",
       "    <tr>\n",
       "      <th>São Paulo</th>\n",
       "      <td>BR35</td>\n",
       "      <td>MULTIPOLYGON (((5619062.728 7205958.887, 56186...</td>\n",
       "      <td>Guarulhos - Governador André Franco Montoro In...</td>\n",
       "      <td>large_airport</td>\n",
       "      <td>2461.0</td>\n",
       "      <td>São Paulo</td>\n",
       "      <td>São Paulo</td>\n",
       "    </tr>\n",
       "  </tbody>\n",
       "</table>\n",
       "</div>"
      ],
      "text/plain": [
       "                 state_code  \\\n",
       "state_name                    \n",
       "Amazonas               BR13   \n",
       "Bahia                  BR29   \n",
       "Distrito Federal       BR53   \n",
       "Minas Gerais           BR31   \n",
       "Pará                   BR15   \n",
       "Rio de Janeiro         BR33   \n",
       "Santa Catarina         BR42   \n",
       "São Paulo              BR35   \n",
       "\n",
       "                                                           geometry  \\\n",
       "state_name                                                            \n",
       "Amazonas          MULTIPOLYGON (((4499820.936 9906611.648, 45003...   \n",
       "Bahia             MULTIPOLYGON (((6618113.779 7946308.264, 66178...   \n",
       "Distrito Federal  MULTIPOLYGON (((5709200.339 8232316.484, 57090...   \n",
       "Minas Gerais      MULTIPOLYGON (((5730280.854 8106234.254, 57299...   \n",
       "Pará              MULTIPOLYGON (((5842059.053 9886741.08, 584156...   \n",
       "Rio de Janeiro    MULTIPOLYGON (((5957764.631 7386508.56, 595773...   \n",
       "Santa Catarina    MULTIPOLYGON (((5384989.919 6745543.64, 538466...   \n",
       "São Paulo         MULTIPOLYGON (((5619062.728 7205958.887, 56186...   \n",
       "\n",
       "                                                       airport_name  \\\n",
       "state_name                                                            \n",
       "Amazonas                        Eduardo Gomes International Airport   \n",
       "Bahia             Deputado Luiz Eduardo Magalhães International ...   \n",
       "Distrito Federal  Presidente Juscelino Kubitschek International ...   \n",
       "Minas Gerais                   Tancredo Neves International Airport   \n",
       "Pará              Val de Cans/Júlio Cezar Ribeiro International ...   \n",
       "Rio de Janeiro         Rio Galeão – Tom Jobim International Airport   \n",
       "Santa Catarina                   Hercílio Luz International Airport   \n",
       "São Paulo         Guarulhos - Governador André Franco Montoro In...   \n",
       "\n",
       "                   airport_type  elevation_ft            region  \\\n",
       "state_name                                                        \n",
       "Amazonas          large_airport         264.0          Amazonas   \n",
       "Bahia             large_airport          64.0             Bahia   \n",
       "Distrito Federal  large_airport        3497.0  Distrito Federal   \n",
       "Minas Gerais      large_airport        2721.0      Minas Gerais   \n",
       "Pará              large_airport          54.0              Pará   \n",
       "Rio de Janeiro    large_airport          28.0    Rio de Janeiro   \n",
       "Santa Catarina    large_airport          16.0    Santa Catarina   \n",
       "São Paulo         large_airport        2461.0         São Paulo   \n",
       "\n",
       "                    municipality  \n",
       "state_name                        \n",
       "Amazonas                  Manaus  \n",
       "Bahia                   Salvador  \n",
       "Distrito Federal        Brasília  \n",
       "Minas Gerais      Belo Horizonte  \n",
       "Pará                       Belém  \n",
       "Rio de Janeiro    Rio De Janeiro  \n",
       "Santa Catarina     Florianópolis  \n",
       "São Paulo              São Paulo  "
      ]
     },
     "execution_count": 81,
     "metadata": {},
     "output_type": "execute_result"
    }
   ],
   "source": [
    "## Intersects needs at least a common point between both GeoDFs. \n",
    "gpd.sjoin(states_brazil5880,large_airports,\n",
    "          how='inner', predicate='intersects')"
   ]
  },
  {
   "cell_type": "markdown",
   "id": "fa2ca902-c593-4b74-a33a-8169a49c0250",
   "metadata": {},
   "source": [
    "### d. Touches\n",
    "\n",
    "We also have 'touches', a more stringent predicate than 'intersects'. It returns geometries that:\n",
    " - Share a border (for polygons or lines), or\n",
    " - Contact at exactly one point (for points or endpoints).\n",
    "\n",
    "> Which states are neighbors of 'BAHIA\", including BAHIA"
   ]
  },
  {
   "cell_type": "code",
   "execution_count": 82,
   "id": "9c2276e2-4e96-43b3-ab33-45f90eeea7fc",
   "metadata": {},
   "outputs": [
    {
     "data": {
      "text/plain": [
       "(6, 6)"
      ]
     },
     "execution_count": 82,
     "metadata": {},
     "output_type": "execute_result"
    }
   ],
   "source": [
    "# Neighbors of Bahia?\n",
    "gpd.sjoin(N_brazil.loc[N_brazil.state_name=='Bahia',:],N_brazil,how='inner', predicate='intersects').shape"
   ]
  },
  {
   "cell_type": "markdown",
   "id": "f862a19d-e5ec-4268-b126-dcbab84693c3",
   "metadata": {},
   "source": [
    "That is, Bahia seems to share borders with 5 states:"
   ]
  },
  {
   "cell_type": "code",
   "execution_count": 83,
   "id": "65d81e9d-b406-47de-9b06-dd26ed2b58d7",
   "metadata": {},
   "outputs": [
    {
     "data": {
      "text/plain": [
       "<Axes: >"
      ]
     },
     "execution_count": 83,
     "metadata": {},
     "output_type": "execute_result"
    },
    {
     "data": {
      "image/png": "[encoded data removed]",
      "text/plain": [
       "<Figure size 640x480 with 1 Axes>"
      ]
     },
     "metadata": {},
     "output_type": "display_data"
    }
   ],
   "source": [
    "base=gpd.sjoin(N_brazil,N_brazil.loc[N_brazil.state_name=='Bahia',:],\n",
    "               how='inner', \n",
    "               predicate='intersects').plot(color='yellow',edgecolor='red')\n",
    "N_brazil.loc[N_brazil.state_name=='Bahia',:].plot(ax=base, color='red')"
   ]
  },
  {
   "cell_type": "markdown",
   "id": "bbe020a9-92cf-40de-8eab-2edb5d9088ee",
   "metadata": {},
   "source": [
    "However, because many free GeoDataFrames — especially those sourced as Shapefiles — contain topological imperfections like gaps, overlaps, or misaligned vertices, 'touches' often fails to detect what should be adjacent features. Ironically, this “failure” can be useful: 'touches' acts as a diagnostic tool — highlighting where boundaries are not perfectly aligned."
   ]
  },
  {
   "cell_type": "code",
   "execution_count": 84,
   "id": "a2fcd8fc-b227-40c4-860e-c6367385d980",
   "metadata": {},
   "outputs": [
    {
     "data": {
      "text/plain": [
       "(4, 6)"
      ]
     },
     "execution_count": 84,
     "metadata": {},
     "output_type": "execute_result"
    }
   ],
   "source": [
    "gpd.sjoin(N_brazil.loc[N_brazil.state_name=='Bahia',:],N_brazil,how='inner', predicate='touches').shape"
   ]
  },
  {
   "cell_type": "markdown",
   "id": "a78b37ed-372c-48db-ad41-193e70866a5c",
   "metadata": {},
   "source": [
    "See the neighbor that disappears:"
   ]
  },
  {
   "cell_type": "code",
   "execution_count": 85,
   "id": "0f7315ce-674e-4ed4-a3ea-c302d5bbdd8b",
   "metadata": {},
   "outputs": [
    {
     "data": {
      "text/plain": [
       "<Axes: >"
      ]
     },
     "execution_count": 85,
     "metadata": {},
     "output_type": "execute_result"
    },
    {
     "data": {
      "image/png": "[encoded data removed]",
      "text/plain": [
       "<Figure size 640x480 with 1 Axes>"
      ]
     },
     "metadata": {},
     "output_type": "display_data"
    }
   ],
   "source": [
    "base=gpd.sjoin(N_brazil,N_brazil.loc[N_brazil.state_name=='Bahia',:],\n",
    "               how='inner', \n",
    "               predicate='touches').plot(color='yellow',edgecolor='red')\n",
    "N_brazil.loc[N_brazil.state_name=='Bahia',:].plot(ax=base, color='red')"
   ]
  },
  {
   "cell_type": "markdown",
   "id": "542dcd95-0a36-4d83-8216-13a7da41b41e",
   "metadata": {},
   "source": [
    "### e. Crosses\n",
    "\n",
    "When we have **lines**, we may need **crosses**. Let me subset our rivers:"
   ]
  },
  {
   "cell_type": "code",
   "execution_count": 93,
   "id": "d74706f6-8eb3-4d5a-a5ad-00b896a0738c",
   "metadata": {},
   "outputs": [],
   "source": [
    "amazonSystem=rivers_brazil5880[rivers_brazil5880.SYSTEM=='Amazon']\n",
    "amazonSystem.set_index('RIVER',inplace=True)"
   ]
  },
  {
   "cell_type": "markdown",
   "id": "06bf70f4-9fa3-4d2c-bb19-099e0317641b",
   "metadata": {},
   "source": [
    "Then,\n",
    "> Which rivers from the Amazon system are intersecting states?"
   ]
  },
  {
   "cell_type": "code",
   "execution_count": 94,
   "id": "4b255e2d-1410-47c5-ae3a-936757b47152",
   "metadata": {},
   "outputs": [
    {
     "data": {
      "text/html": [
       "<div>\n",
       "<style scoped>\n",
       "    .dataframe tbody tr th:only-of-type {\n",
       "        vertical-align: middle;\n",
       "    }\n",
       "\n",
       "    .dataframe tbody tr th {\n",
       "        vertical-align: top;\n",
       "    }\n",
       "\n",
       "    .dataframe thead th {\n",
       "        text-align: right;\n",
       "    }\n",
       "</style>\n",
       "<table border=\"1\" class=\"dataframe\">\n",
       "  <thead>\n",
       "    <tr style=\"text-align: right;\">\n",
       "      <th></th>\n",
       "      <th>SYSTEM</th>\n",
       "      <th>geometry</th>\n",
       "      <th>state_name</th>\n",
       "      <th>state_code</th>\n",
       "    </tr>\n",
       "    <tr>\n",
       "      <th>RIVER</th>\n",
       "      <th></th>\n",
       "      <th></th>\n",
       "      <th></th>\n",
       "      <th></th>\n",
       "    </tr>\n",
       "  </thead>\n",
       "  <tbody>\n",
       "    <tr>\n",
       "      <th>Madre de Dios</th>\n",
       "      <td>Amazon</td>\n",
       "      <td>LINESTRING (3747782.967 8816805.526, 3784022.8...</td>\n",
       "      <td>Rondônia</td>\n",
       "      <td>BR11</td>\n",
       "    </tr>\n",
       "    <tr>\n",
       "      <th>Guapore</th>\n",
       "      <td>Amazon</td>\n",
       "      <td>MULTILINESTRING ((3784022.891 8842606.845, 378...</td>\n",
       "      <td>Rondônia</td>\n",
       "      <td>BR11</td>\n",
       "    </tr>\n",
       "    <tr>\n",
       "      <th>Rio Juruena</th>\n",
       "      <td>Amazon</td>\n",
       "      <td>LINESTRING (4488340.769 8382801.957, 4561243.9...</td>\n",
       "      <td>Mato Grosso</td>\n",
       "      <td>BR51</td>\n",
       "    </tr>\n",
       "    <tr>\n",
       "      <th>Rio Juruena</th>\n",
       "      <td>Amazon</td>\n",
       "      <td>LINESTRING (4488340.769 8382801.957, 4561243.9...</td>\n",
       "      <td>Pará</td>\n",
       "      <td>BR15</td>\n",
       "    </tr>\n",
       "    <tr>\n",
       "      <th>Rio Teles Pires</th>\n",
       "      <td>Amazon</td>\n",
       "      <td>LINESTRING (4890008.905 8388474.8, 4929569.193...</td>\n",
       "      <td>Mato Grosso</td>\n",
       "      <td>BR51</td>\n",
       "    </tr>\n",
       "    <tr>\n",
       "      <th>Rio Teles Pires</th>\n",
       "      <td>Amazon</td>\n",
       "      <td>LINESTRING (4890008.905 8388474.8, 4929569.193...</td>\n",
       "      <td>Pará</td>\n",
       "      <td>BR15</td>\n",
       "    </tr>\n",
       "    <tr>\n",
       "      <th>Xingu</th>\n",
       "      <td>Amazon</td>\n",
       "      <td>MULTILINESTRING ((4921614.129 8334835.678, 503...</td>\n",
       "      <td>Mato Grosso</td>\n",
       "      <td>BR51</td>\n",
       "    </tr>\n",
       "    <tr>\n",
       "      <th>Xingu</th>\n",
       "      <td>Amazon</td>\n",
       "      <td>MULTILINESTRING ((4921614.129 8334835.678, 503...</td>\n",
       "      <td>Pará</td>\n",
       "      <td>BR15</td>\n",
       "    </tr>\n",
       "    <tr>\n",
       "      <th>Purus</th>\n",
       "      <td>Amazon</td>\n",
       "      <td>LINESTRING (3179817.343 8884480.014, 3233812.4...</td>\n",
       "      <td>Acre</td>\n",
       "      <td>BR12</td>\n",
       "    </tr>\n",
       "    <tr>\n",
       "      <th>Purus</th>\n",
       "      <td>Amazon</td>\n",
       "      <td>LINESTRING (3179817.343 8884480.014, 3233812.4...</td>\n",
       "      <td>Amazonas</td>\n",
       "      <td>BR13</td>\n",
       "    </tr>\n",
       "    <tr>\n",
       "      <th>Madeira</th>\n",
       "      <td>Amazon</td>\n",
       "      <td>LINESTRING (3784022.891 8842606.845, 3785447.5...</td>\n",
       "      <td>Rondônia</td>\n",
       "      <td>BR11</td>\n",
       "    </tr>\n",
       "    <tr>\n",
       "      <th>Madeira</th>\n",
       "      <td>Amazon</td>\n",
       "      <td>LINESTRING (3784022.891 8842606.845, 3785447.5...</td>\n",
       "      <td>Amazonas</td>\n",
       "      <td>BR13</td>\n",
       "    </tr>\n",
       "    <tr>\n",
       "      <th>Tapajos</th>\n",
       "      <td>Amazon</td>\n",
       "      <td>LINESTRING (4956154.209 9738475.606, 4908229.1...</td>\n",
       "      <td>Pará</td>\n",
       "      <td>BR15</td>\n",
       "    </tr>\n",
       "    <tr>\n",
       "      <th>Amazon</th>\n",
       "      <td>Amazon</td>\n",
       "      <td>MULTILINESTRING ((4191497.619 9597916.381, 425...</td>\n",
       "      <td>Amazonas</td>\n",
       "      <td>BR13</td>\n",
       "    </tr>\n",
       "    <tr>\n",
       "      <th>Amazon</th>\n",
       "      <td>Amazon</td>\n",
       "      <td>MULTILINESTRING ((4191497.619 9597916.381, 425...</td>\n",
       "      <td>Pará</td>\n",
       "      <td>BR15</td>\n",
       "    </tr>\n",
       "    <tr>\n",
       "      <th>Putamayo</th>\n",
       "      <td>Amazon</td>\n",
       "      <td>LINESTRING (3255840.239 9675268.883, 3294855.9...</td>\n",
       "      <td>Amazonas</td>\n",
       "      <td>BR13</td>\n",
       "    </tr>\n",
       "    <tr>\n",
       "      <th>Japura</th>\n",
       "      <td>Amazon</td>\n",
       "      <td>MULTILINESTRING ((3782432.967 9748590.005, 382...</td>\n",
       "      <td>Amazonas</td>\n",
       "      <td>BR13</td>\n",
       "    </tr>\n",
       "    <tr>\n",
       "      <th>Rio Negro</th>\n",
       "      <td>Amazon</td>\n",
       "      <td>MULTILINESTRING ((3592372.872 10116670.869, 35...</td>\n",
       "      <td>Amazonas</td>\n",
       "      <td>BR13</td>\n",
       "    </tr>\n",
       "    <tr>\n",
       "      <th>Rio Negro</th>\n",
       "      <td>Amazon</td>\n",
       "      <td>MULTILINESTRING ((3592372.872 10116670.869, 35...</td>\n",
       "      <td>Roraima</td>\n",
       "      <td>BR14</td>\n",
       "    </tr>\n",
       "    <tr>\n",
       "      <th>Rio Branco</th>\n",
       "      <td>Amazon</td>\n",
       "      <td>LINESTRING (4352974.168 10393701.397, 4312100....</td>\n",
       "      <td>Roraima</td>\n",
       "      <td>BR14</td>\n",
       "    </tr>\n",
       "  </tbody>\n",
       "</table>\n",
       "</div>"
      ],
      "text/plain": [
       "                 SYSTEM                                           geometry  \\\n",
       "RIVER                                                                        \n",
       "Madre de Dios    Amazon  LINESTRING (3747782.967 8816805.526, 3784022.8...   \n",
       "Guapore          Amazon  MULTILINESTRING ((3784022.891 8842606.845, 378...   \n",
       "Rio Juruena      Amazon  LINESTRING (4488340.769 8382801.957, 4561243.9...   \n",
       "Rio Juruena      Amazon  LINESTRING (4488340.769 8382801.957, 4561243.9...   \n",
       "Rio Teles Pires  Amazon  LINESTRING (4890008.905 8388474.8, 4929569.193...   \n",
       "Rio Teles Pires  Amazon  LINESTRING (4890008.905 8388474.8, 4929569.193...   \n",
       "Xingu            Amazon  MULTILINESTRING ((4921614.129 8334835.678, 503...   \n",
       "Xingu            Amazon  MULTILINESTRING ((4921614.129 8334835.678, 503...   \n",
       "Purus            Amazon  LINESTRING (3179817.343 8884480.014, 3233812.4...   \n",
       "Purus            Amazon  LINESTRING (3179817.343 8884480.014, 3233812.4...   \n",
       "Madeira          Amazon  LINESTRING (3784022.891 8842606.845, 3785447.5...   \n",
       "Madeira          Amazon  LINESTRING (3784022.891 8842606.845, 3785447.5...   \n",
       "Tapajos          Amazon  LINESTRING (4956154.209 9738475.606, 4908229.1...   \n",
       "Amazon           Amazon  MULTILINESTRING ((4191497.619 9597916.381, 425...   \n",
       "Amazon           Amazon  MULTILINESTRING ((4191497.619 9597916.381, 425...   \n",
       "Putamayo         Amazon  LINESTRING (3255840.239 9675268.883, 3294855.9...   \n",
       "Japura           Amazon  MULTILINESTRING ((3782432.967 9748590.005, 382...   \n",
       "Rio Negro        Amazon  MULTILINESTRING ((3592372.872 10116670.869, 35...   \n",
       "Rio Negro        Amazon  MULTILINESTRING ((3592372.872 10116670.869, 35...   \n",
       "Rio Branco       Amazon  LINESTRING (4352974.168 10393701.397, 4312100....   \n",
       "\n",
       "                  state_name state_code  \n",
       "RIVER                                    \n",
       "Madre de Dios       Rondônia       BR11  \n",
       "Guapore             Rondônia       BR11  \n",
       "Rio Juruena      Mato Grosso       BR51  \n",
       "Rio Juruena             Pará       BR15  \n",
       "Rio Teles Pires  Mato Grosso       BR51  \n",
       "Rio Teles Pires         Pará       BR15  \n",
       "Xingu            Mato Grosso       BR51  \n",
       "Xingu                   Pará       BR15  \n",
       "Purus                   Acre       BR12  \n",
       "Purus               Amazonas       BR13  \n",
       "Madeira             Rondônia       BR11  \n",
       "Madeira             Amazonas       BR13  \n",
       "Tapajos                 Pará       BR15  \n",
       "Amazon              Amazonas       BR13  \n",
       "Amazon                  Pará       BR15  \n",
       "Putamayo            Amazonas       BR13  \n",
       "Japura              Amazonas       BR13  \n",
       "Rio Negro           Amazonas       BR13  \n",
       "Rio Negro            Roraima       BR14  \n",
       "Rio Branco           Roraima       BR14  "
      ]
     },
     "execution_count": 94,
     "metadata": {},
     "output_type": "execute_result"
    }
   ],
   "source": [
    "gpd.sjoin(amazonSystem,states_brazil5880,how='inner', predicate='intersects')"
   ]
  },
  {
   "cell_type": "markdown",
   "id": "4e3fd7eb-bf69-4f62-8f85-93f4a6e908bc",
   "metadata": {},
   "source": [
    "A count of the result:"
   ]
  },
  {
   "cell_type": "code",
   "execution_count": 95,
   "id": "96be5973-9fea-45d3-a6de-a8a6ff7b868a",
   "metadata": {},
   "outputs": [
    {
     "data": {
      "text/plain": [
       "(20, 4)"
      ]
     },
     "execution_count": 95,
     "metadata": {},
     "output_type": "execute_result"
    }
   ],
   "source": [
    "gpd.sjoin(amazonSystem,states_brazil5880,how='inner', predicate='intersects').shape"
   ]
  },
  {
   "cell_type": "markdown",
   "id": "ea5546ab-0870-406a-9ef6-dff58b69ad03",
   "metadata": {},
   "source": [
    "Alternatively,\n",
    "\n",
    "> Which rivers from the Amazon system are crossing states?"
   ]
  },
  {
   "cell_type": "code",
   "execution_count": 96,
   "id": "ebd2b4be-3b5f-47d4-b42d-e4a4d0a0f6ad",
   "metadata": {},
   "outputs": [
    {
     "data": {
      "text/html": [
       "<div>\n",
       "<style scoped>\n",
       "    .dataframe tbody tr th:only-of-type {\n",
       "        vertical-align: middle;\n",
       "    }\n",
       "\n",
       "    .dataframe tbody tr th {\n",
       "        vertical-align: top;\n",
       "    }\n",
       "\n",
       "    .dataframe thead th {\n",
       "        text-align: right;\n",
       "    }\n",
       "</style>\n",
       "<table border=\"1\" class=\"dataframe\">\n",
       "  <thead>\n",
       "    <tr style=\"text-align: right;\">\n",
       "      <th></th>\n",
       "      <th>SYSTEM</th>\n",
       "      <th>geometry</th>\n",
       "      <th>state_name</th>\n",
       "      <th>state_code</th>\n",
       "    </tr>\n",
       "    <tr>\n",
       "      <th>RIVER</th>\n",
       "      <th></th>\n",
       "      <th></th>\n",
       "      <th></th>\n",
       "      <th></th>\n",
       "    </tr>\n",
       "  </thead>\n",
       "  <tbody>\n",
       "    <tr>\n",
       "      <th>Madre de Dios</th>\n",
       "      <td>Amazon</td>\n",
       "      <td>LINESTRING (3747782.967 8816805.526, 3784022.8...</td>\n",
       "      <td>Rondônia</td>\n",
       "      <td>BR11</td>\n",
       "    </tr>\n",
       "    <tr>\n",
       "      <th>Guapore</th>\n",
       "      <td>Amazon</td>\n",
       "      <td>MULTILINESTRING ((3784022.891 8842606.845, 378...</td>\n",
       "      <td>Rondônia</td>\n",
       "      <td>BR11</td>\n",
       "    </tr>\n",
       "    <tr>\n",
       "      <th>Rio Juruena</th>\n",
       "      <td>Amazon</td>\n",
       "      <td>LINESTRING (4488340.769 8382801.957, 4561243.9...</td>\n",
       "      <td>Mato Grosso</td>\n",
       "      <td>BR51</td>\n",
       "    </tr>\n",
       "    <tr>\n",
       "      <th>Rio Juruena</th>\n",
       "      <td>Amazon</td>\n",
       "      <td>LINESTRING (4488340.769 8382801.957, 4561243.9...</td>\n",
       "      <td>Pará</td>\n",
       "      <td>BR15</td>\n",
       "    </tr>\n",
       "    <tr>\n",
       "      <th>Rio Teles Pires</th>\n",
       "      <td>Amazon</td>\n",
       "      <td>LINESTRING (4890008.905 8388474.8, 4929569.193...</td>\n",
       "      <td>Mato Grosso</td>\n",
       "      <td>BR51</td>\n",
       "    </tr>\n",
       "    <tr>\n",
       "      <th>Rio Teles Pires</th>\n",
       "      <td>Amazon</td>\n",
       "      <td>LINESTRING (4890008.905 8388474.8, 4929569.193...</td>\n",
       "      <td>Pará</td>\n",
       "      <td>BR15</td>\n",
       "    </tr>\n",
       "    <tr>\n",
       "      <th>Xingu</th>\n",
       "      <td>Amazon</td>\n",
       "      <td>MULTILINESTRING ((4921614.129 8334835.678, 503...</td>\n",
       "      <td>Mato Grosso</td>\n",
       "      <td>BR51</td>\n",
       "    </tr>\n",
       "    <tr>\n",
       "      <th>Xingu</th>\n",
       "      <td>Amazon</td>\n",
       "      <td>MULTILINESTRING ((4921614.129 8334835.678, 503...</td>\n",
       "      <td>Pará</td>\n",
       "      <td>BR15</td>\n",
       "    </tr>\n",
       "    <tr>\n",
       "      <th>Purus</th>\n",
       "      <td>Amazon</td>\n",
       "      <td>LINESTRING (3179817.343 8884480.014, 3233812.4...</td>\n",
       "      <td>Acre</td>\n",
       "      <td>BR12</td>\n",
       "    </tr>\n",
       "    <tr>\n",
       "      <th>Purus</th>\n",
       "      <td>Amazon</td>\n",
       "      <td>LINESTRING (3179817.343 8884480.014, 3233812.4...</td>\n",
       "      <td>Amazonas</td>\n",
       "      <td>BR13</td>\n",
       "    </tr>\n",
       "    <tr>\n",
       "      <th>Madeira</th>\n",
       "      <td>Amazon</td>\n",
       "      <td>LINESTRING (3784022.891 8842606.845, 3785447.5...</td>\n",
       "      <td>Rondônia</td>\n",
       "      <td>BR11</td>\n",
       "    </tr>\n",
       "    <tr>\n",
       "      <th>Madeira</th>\n",
       "      <td>Amazon</td>\n",
       "      <td>LINESTRING (3784022.891 8842606.845, 3785447.5...</td>\n",
       "      <td>Amazonas</td>\n",
       "      <td>BR13</td>\n",
       "    </tr>\n",
       "    <tr>\n",
       "      <th>Amazon</th>\n",
       "      <td>Amazon</td>\n",
       "      <td>MULTILINESTRING ((4191497.619 9597916.381, 425...</td>\n",
       "      <td>Amazonas</td>\n",
       "      <td>BR13</td>\n",
       "    </tr>\n",
       "    <tr>\n",
       "      <th>Amazon</th>\n",
       "      <td>Amazon</td>\n",
       "      <td>MULTILINESTRING ((4191497.619 9597916.381, 425...</td>\n",
       "      <td>Pará</td>\n",
       "      <td>BR15</td>\n",
       "    </tr>\n",
       "    <tr>\n",
       "      <th>Putamayo</th>\n",
       "      <td>Amazon</td>\n",
       "      <td>LINESTRING (3255840.239 9675268.883, 3294855.9...</td>\n",
       "      <td>Amazonas</td>\n",
       "      <td>BR13</td>\n",
       "    </tr>\n",
       "    <tr>\n",
       "      <th>Japura</th>\n",
       "      <td>Amazon</td>\n",
       "      <td>MULTILINESTRING ((3782432.967 9748590.005, 382...</td>\n",
       "      <td>Amazonas</td>\n",
       "      <td>BR13</td>\n",
       "    </tr>\n",
       "    <tr>\n",
       "      <th>Rio Negro</th>\n",
       "      <td>Amazon</td>\n",
       "      <td>MULTILINESTRING ((3592372.872 10116670.869, 35...</td>\n",
       "      <td>Amazonas</td>\n",
       "      <td>BR13</td>\n",
       "    </tr>\n",
       "    <tr>\n",
       "      <th>Rio Negro</th>\n",
       "      <td>Amazon</td>\n",
       "      <td>MULTILINESTRING ((3592372.872 10116670.869, 35...</td>\n",
       "      <td>Roraima</td>\n",
       "      <td>BR14</td>\n",
       "    </tr>\n",
       "    <tr>\n",
       "      <th>Rio Branco</th>\n",
       "      <td>Amazon</td>\n",
       "      <td>LINESTRING (4352974.168 10393701.397, 4312100....</td>\n",
       "      <td>Roraima</td>\n",
       "      <td>BR14</td>\n",
       "    </tr>\n",
       "  </tbody>\n",
       "</table>\n",
       "</div>"
      ],
      "text/plain": [
       "                 SYSTEM                                           geometry  \\\n",
       "RIVER                                                                        \n",
       "Madre de Dios    Amazon  LINESTRING (3747782.967 8816805.526, 3784022.8...   \n",
       "Guapore          Amazon  MULTILINESTRING ((3784022.891 8842606.845, 378...   \n",
       "Rio Juruena      Amazon  LINESTRING (4488340.769 8382801.957, 4561243.9...   \n",
       "Rio Juruena      Amazon  LINESTRING (4488340.769 8382801.957, 4561243.9...   \n",
       "Rio Teles Pires  Amazon  LINESTRING (4890008.905 8388474.8, 4929569.193...   \n",
       "Rio Teles Pires  Amazon  LINESTRING (4890008.905 8388474.8, 4929569.193...   \n",
       "Xingu            Amazon  MULTILINESTRING ((4921614.129 8334835.678, 503...   \n",
       "Xingu            Amazon  MULTILINESTRING ((4921614.129 8334835.678, 503...   \n",
       "Purus            Amazon  LINESTRING (3179817.343 8884480.014, 3233812.4...   \n",
       "Purus            Amazon  LINESTRING (3179817.343 8884480.014, 3233812.4...   \n",
       "Madeira          Amazon  LINESTRING (3784022.891 8842606.845, 3785447.5...   \n",
       "Madeira          Amazon  LINESTRING (3784022.891 8842606.845, 3785447.5...   \n",
       "Amazon           Amazon  MULTILINESTRING ((4191497.619 9597916.381, 425...   \n",
       "Amazon           Amazon  MULTILINESTRING ((4191497.619 9597916.381, 425...   \n",
       "Putamayo         Amazon  LINESTRING (3255840.239 9675268.883, 3294855.9...   \n",
       "Japura           Amazon  MULTILINESTRING ((3782432.967 9748590.005, 382...   \n",
       "Rio Negro        Amazon  MULTILINESTRING ((3592372.872 10116670.869, 35...   \n",
       "Rio Negro        Amazon  MULTILINESTRING ((3592372.872 10116670.869, 35...   \n",
       "Rio Branco       Amazon  LINESTRING (4352974.168 10393701.397, 4312100....   \n",
       "\n",
       "                  state_name state_code  \n",
       "RIVER                                    \n",
       "Madre de Dios       Rondônia       BR11  \n",
       "Guapore             Rondônia       BR11  \n",
       "Rio Juruena      Mato Grosso       BR51  \n",
       "Rio Juruena             Pará       BR15  \n",
       "Rio Teles Pires  Mato Grosso       BR51  \n",
       "Rio Teles Pires         Pará       BR15  \n",
       "Xingu            Mato Grosso       BR51  \n",
       "Xingu                   Pará       BR15  \n",
       "Purus                   Acre       BR12  \n",
       "Purus               Amazonas       BR13  \n",
       "Madeira             Rondônia       BR11  \n",
       "Madeira             Amazonas       BR13  \n",
       "Amazon              Amazonas       BR13  \n",
       "Amazon                  Pará       BR15  \n",
       "Putamayo            Amazonas       BR13  \n",
       "Japura              Amazonas       BR13  \n",
       "Rio Negro           Amazonas       BR13  \n",
       "Rio Negro            Roraima       BR14  \n",
       "Rio Branco           Roraima       BR14  "
      ]
     },
     "execution_count": 96,
     "metadata": {},
     "output_type": "execute_result"
    }
   ],
   "source": [
    "gpd.sjoin(amazonSystem,states_brazil5880,how='inner', predicate='crosses')"
   ]
  },
  {
   "cell_type": "markdown",
   "id": "0d8dd114-c458-4e54-8abf-34bf9d7c0ba8",
   "metadata": {},
   "source": [
    "You got one less:"
   ]
  },
  {
   "cell_type": "code",
   "execution_count": 97,
   "id": "80662036-9e9a-47b3-af64-8287707c95ed",
   "metadata": {},
   "outputs": [
    {
     "data": {
      "text/plain": [
       "(19, 4)"
      ]
     },
     "execution_count": 97,
     "metadata": {},
     "output_type": "execute_result"
    }
   ],
   "source": [
    "gpd.sjoin(amazonSystem,states_brazil5880,how='inner', predicate='crosses').shape"
   ]
  },
  {
   "cell_type": "markdown",
   "id": "49f10269-28e7-4ec2-851c-d8b8acacb161",
   "metadata": {},
   "source": [
    "Again, _intersects_ means both geometries have some 'space' in common. But **crosses** is an intersection that has to cross the spatial object. From the result above, there is one river that shares space with the state, but is not crossing its border:"
   ]
  },
  {
   "cell_type": "code",
   "execution_count": 99,
   "id": "1ce5511d-bcfe-4008-9989-6c349685a83a",
   "metadata": {},
   "outputs": [
    {
     "data": {
      "text/html": [
       "<div>\n",
       "<style scoped>\n",
       "    .dataframe tbody tr th:only-of-type {\n",
       "        vertical-align: middle;\n",
       "    }\n",
       "\n",
       "    .dataframe tbody tr th {\n",
       "        vertical-align: top;\n",
       "    }\n",
       "\n",
       "    .dataframe thead th {\n",
       "        text-align: right;\n",
       "    }\n",
       "</style>\n",
       "<table border=\"1\" class=\"dataframe\">\n",
       "  <thead>\n",
       "    <tr style=\"text-align: right;\">\n",
       "      <th></th>\n",
       "      <th>SYSTEM</th>\n",
       "      <th>geometry</th>\n",
       "      <th>state_name</th>\n",
       "      <th>state_code</th>\n",
       "    </tr>\n",
       "    <tr>\n",
       "      <th>RIVER</th>\n",
       "      <th></th>\n",
       "      <th></th>\n",
       "      <th></th>\n",
       "      <th></th>\n",
       "    </tr>\n",
       "  </thead>\n",
       "  <tbody>\n",
       "    <tr>\n",
       "      <th>Madre de Dios</th>\n",
       "      <td>Amazon</td>\n",
       "      <td>LINESTRING (3747782.967 8816805.526, 3784022.8...</td>\n",
       "      <td>Rondônia</td>\n",
       "      <td>BR11</td>\n",
       "    </tr>\n",
       "    <tr>\n",
       "      <th>Guapore</th>\n",
       "      <td>Amazon</td>\n",
       "      <td>MULTILINESTRING ((3784022.891 8842606.845, 378...</td>\n",
       "      <td>Rondônia</td>\n",
       "      <td>BR11</td>\n",
       "    </tr>\n",
       "    <tr>\n",
       "      <th>Rio Juruena</th>\n",
       "      <td>Amazon</td>\n",
       "      <td>LINESTRING (4488340.769 8382801.957, 4561243.9...</td>\n",
       "      <td>Mato Grosso</td>\n",
       "      <td>BR51</td>\n",
       "    </tr>\n",
       "    <tr>\n",
       "      <th>Rio Juruena</th>\n",
       "      <td>Amazon</td>\n",
       "      <td>LINESTRING (4488340.769 8382801.957, 4561243.9...</td>\n",
       "      <td>Pará</td>\n",
       "      <td>BR15</td>\n",
       "    </tr>\n",
       "    <tr>\n",
       "      <th>Rio Teles Pires</th>\n",
       "      <td>Amazon</td>\n",
       "      <td>LINESTRING (4890008.905 8388474.8, 4929569.193...</td>\n",
       "      <td>Mato Grosso</td>\n",
       "      <td>BR51</td>\n",
       "    </tr>\n",
       "    <tr>\n",
       "      <th>Rio Teles Pires</th>\n",
       "      <td>Amazon</td>\n",
       "      <td>LINESTRING (4890008.905 8388474.8, 4929569.193...</td>\n",
       "      <td>Pará</td>\n",
       "      <td>BR15</td>\n",
       "    </tr>\n",
       "    <tr>\n",
       "      <th>Xingu</th>\n",
       "      <td>Amazon</td>\n",
       "      <td>MULTILINESTRING ((4921614.129 8334835.678, 503...</td>\n",
       "      <td>Mato Grosso</td>\n",
       "      <td>BR51</td>\n",
       "    </tr>\n",
       "    <tr>\n",
       "      <th>Xingu</th>\n",
       "      <td>Amazon</td>\n",
       "      <td>MULTILINESTRING ((4921614.129 8334835.678, 503...</td>\n",
       "      <td>Pará</td>\n",
       "      <td>BR15</td>\n",
       "    </tr>\n",
       "    <tr>\n",
       "      <th>Purus</th>\n",
       "      <td>Amazon</td>\n",
       "      <td>LINESTRING (3179817.343 8884480.014, 3233812.4...</td>\n",
       "      <td>Acre</td>\n",
       "      <td>BR12</td>\n",
       "    </tr>\n",
       "    <tr>\n",
       "      <th>Purus</th>\n",
       "      <td>Amazon</td>\n",
       "      <td>LINESTRING (3179817.343 8884480.014, 3233812.4...</td>\n",
       "      <td>Amazonas</td>\n",
       "      <td>BR13</td>\n",
       "    </tr>\n",
       "    <tr>\n",
       "      <th>Madeira</th>\n",
       "      <td>Amazon</td>\n",
       "      <td>LINESTRING (3784022.891 8842606.845, 3785447.5...</td>\n",
       "      <td>Rondônia</td>\n",
       "      <td>BR11</td>\n",
       "    </tr>\n",
       "    <tr>\n",
       "      <th>Madeira</th>\n",
       "      <td>Amazon</td>\n",
       "      <td>LINESTRING (3784022.891 8842606.845, 3785447.5...</td>\n",
       "      <td>Amazonas</td>\n",
       "      <td>BR13</td>\n",
       "    </tr>\n",
       "    <tr>\n",
       "      <th>Tapajos</th>\n",
       "      <td>Amazon</td>\n",
       "      <td>LINESTRING (4956154.209 9738475.606, 4908229.1...</td>\n",
       "      <td>Pará</td>\n",
       "      <td>BR15</td>\n",
       "    </tr>\n",
       "    <tr>\n",
       "      <th>Amazon</th>\n",
       "      <td>Amazon</td>\n",
       "      <td>MULTILINESTRING ((4191497.619 9597916.381, 425...</td>\n",
       "      <td>Amazonas</td>\n",
       "      <td>BR13</td>\n",
       "    </tr>\n",
       "    <tr>\n",
       "      <th>Amazon</th>\n",
       "      <td>Amazon</td>\n",
       "      <td>MULTILINESTRING ((4191497.619 9597916.381, 425...</td>\n",
       "      <td>Pará</td>\n",
       "      <td>BR15</td>\n",
       "    </tr>\n",
       "    <tr>\n",
       "      <th>Putamayo</th>\n",
       "      <td>Amazon</td>\n",
       "      <td>LINESTRING (3255840.239 9675268.883, 3294855.9...</td>\n",
       "      <td>Amazonas</td>\n",
       "      <td>BR13</td>\n",
       "    </tr>\n",
       "    <tr>\n",
       "      <th>Japura</th>\n",
       "      <td>Amazon</td>\n",
       "      <td>MULTILINESTRING ((3782432.967 9748590.005, 382...</td>\n",
       "      <td>Amazonas</td>\n",
       "      <td>BR13</td>\n",
       "    </tr>\n",
       "    <tr>\n",
       "      <th>Rio Negro</th>\n",
       "      <td>Amazon</td>\n",
       "      <td>MULTILINESTRING ((3592372.872 10116670.869, 35...</td>\n",
       "      <td>Amazonas</td>\n",
       "      <td>BR13</td>\n",
       "    </tr>\n",
       "    <tr>\n",
       "      <th>Rio Negro</th>\n",
       "      <td>Amazon</td>\n",
       "      <td>MULTILINESTRING ((3592372.872 10116670.869, 35...</td>\n",
       "      <td>Roraima</td>\n",
       "      <td>BR14</td>\n",
       "    </tr>\n",
       "    <tr>\n",
       "      <th>Rio Branco</th>\n",
       "      <td>Amazon</td>\n",
       "      <td>LINESTRING (4352974.168 10393701.397, 4312100....</td>\n",
       "      <td>Roraima</td>\n",
       "      <td>BR14</td>\n",
       "    </tr>\n",
       "  </tbody>\n",
       "</table>\n",
       "</div>"
      ],
      "text/plain": [
       "                 SYSTEM                                           geometry  \\\n",
       "RIVER                                                                        \n",
       "Madre de Dios    Amazon  LINESTRING (3747782.967 8816805.526, 3784022.8...   \n",
       "Guapore          Amazon  MULTILINESTRING ((3784022.891 8842606.845, 378...   \n",
       "Rio Juruena      Amazon  LINESTRING (4488340.769 8382801.957, 4561243.9...   \n",
       "Rio Juruena      Amazon  LINESTRING (4488340.769 8382801.957, 4561243.9...   \n",
       "Rio Teles Pires  Amazon  LINESTRING (4890008.905 8388474.8, 4929569.193...   \n",
       "Rio Teles Pires  Amazon  LINESTRING (4890008.905 8388474.8, 4929569.193...   \n",
       "Xingu            Amazon  MULTILINESTRING ((4921614.129 8334835.678, 503...   \n",
       "Xingu            Amazon  MULTILINESTRING ((4921614.129 8334835.678, 503...   \n",
       "Purus            Amazon  LINESTRING (3179817.343 8884480.014, 3233812.4...   \n",
       "Purus            Amazon  LINESTRING (3179817.343 8884480.014, 3233812.4...   \n",
       "Madeira          Amazon  LINESTRING (3784022.891 8842606.845, 3785447.5...   \n",
       "Madeira          Amazon  LINESTRING (3784022.891 8842606.845, 3785447.5...   \n",
       "Tapajos          Amazon  LINESTRING (4956154.209 9738475.606, 4908229.1...   \n",
       "Amazon           Amazon  MULTILINESTRING ((4191497.619 9597916.381, 425...   \n",
       "Amazon           Amazon  MULTILINESTRING ((4191497.619 9597916.381, 425...   \n",
       "Putamayo         Amazon  LINESTRING (3255840.239 9675268.883, 3294855.9...   \n",
       "Japura           Amazon  MULTILINESTRING ((3782432.967 9748590.005, 382...   \n",
       "Rio Negro        Amazon  MULTILINESTRING ((3592372.872 10116670.869, 35...   \n",
       "Rio Negro        Amazon  MULTILINESTRING ((3592372.872 10116670.869, 35...   \n",
       "Rio Branco       Amazon  LINESTRING (4352974.168 10393701.397, 4312100....   \n",
       "\n",
       "                  state_name state_code  \n",
       "RIVER                                    \n",
       "Madre de Dios       Rondônia       BR11  \n",
       "Guapore             Rondônia       BR11  \n",
       "Rio Juruena      Mato Grosso       BR51  \n",
       "Rio Juruena             Pará       BR15  \n",
       "Rio Teles Pires  Mato Grosso       BR51  \n",
       "Rio Teles Pires         Pará       BR15  \n",
       "Xingu            Mato Grosso       BR51  \n",
       "Xingu                   Pará       BR15  \n",
       "Purus                   Acre       BR12  \n",
       "Purus               Amazonas       BR13  \n",
       "Madeira             Rondônia       BR11  \n",
       "Madeira             Amazonas       BR13  \n",
       "Tapajos                 Pará       BR15  \n",
       "Amazon              Amazonas       BR13  \n",
       "Amazon                  Pará       BR15  \n",
       "Putamayo            Amazonas       BR13  \n",
       "Japura              Amazonas       BR13  \n",
       "Rio Negro           Amazonas       BR13  \n",
       "Rio Negro            Roraima       BR14  \n",
       "Rio Branco           Roraima       BR14  "
      ]
     },
     "execution_count": 99,
     "metadata": {},
     "output_type": "execute_result"
    }
   ],
   "source": [
    "# Get intersects result\n",
    "intersects_result = gpd.sjoin(amazonSystem,states_brazil5880, how='inner', predicate='intersects')\n",
    "intersects_result"
   ]
  },
  {
   "cell_type": "code",
   "execution_count": 100,
   "id": "9f702482-0263-498b-bd87-49686f5d00ba",
   "metadata": {},
   "outputs": [
    {
     "data": {
      "text/html": [
       "<div>\n",
       "<style scoped>\n",
       "    .dataframe tbody tr th:only-of-type {\n",
       "        vertical-align: middle;\n",
       "    }\n",
       "\n",
       "    .dataframe tbody tr th {\n",
       "        vertical-align: top;\n",
       "    }\n",
       "\n",
       "    .dataframe thead th {\n",
       "        text-align: right;\n",
       "    }\n",
       "</style>\n",
       "<table border=\"1\" class=\"dataframe\">\n",
       "  <thead>\n",
       "    <tr style=\"text-align: right;\">\n",
       "      <th></th>\n",
       "      <th>SYSTEM</th>\n",
       "      <th>geometry</th>\n",
       "      <th>state_name</th>\n",
       "      <th>state_code</th>\n",
       "    </tr>\n",
       "    <tr>\n",
       "      <th>RIVER</th>\n",
       "      <th></th>\n",
       "      <th></th>\n",
       "      <th></th>\n",
       "      <th></th>\n",
       "    </tr>\n",
       "  </thead>\n",
       "  <tbody>\n",
       "    <tr>\n",
       "      <th>Madre de Dios</th>\n",
       "      <td>Amazon</td>\n",
       "      <td>LINESTRING (3747782.967 8816805.526, 3784022.8...</td>\n",
       "      <td>Rondônia</td>\n",
       "      <td>BR11</td>\n",
       "    </tr>\n",
       "    <tr>\n",
       "      <th>Guapore</th>\n",
       "      <td>Amazon</td>\n",
       "      <td>MULTILINESTRING ((3784022.891 8842606.845, 378...</td>\n",
       "      <td>Rondônia</td>\n",
       "      <td>BR11</td>\n",
       "    </tr>\n",
       "    <tr>\n",
       "      <th>Rio Juruena</th>\n",
       "      <td>Amazon</td>\n",
       "      <td>LINESTRING (4488340.769 8382801.957, 4561243.9...</td>\n",
       "      <td>Mato Grosso</td>\n",
       "      <td>BR51</td>\n",
       "    </tr>\n",
       "    <tr>\n",
       "      <th>Rio Juruena</th>\n",
       "      <td>Amazon</td>\n",
       "      <td>LINESTRING (4488340.769 8382801.957, 4561243.9...</td>\n",
       "      <td>Pará</td>\n",
       "      <td>BR15</td>\n",
       "    </tr>\n",
       "    <tr>\n",
       "      <th>Rio Teles Pires</th>\n",
       "      <td>Amazon</td>\n",
       "      <td>LINESTRING (4890008.905 8388474.8, 4929569.193...</td>\n",
       "      <td>Mato Grosso</td>\n",
       "      <td>BR51</td>\n",
       "    </tr>\n",
       "    <tr>\n",
       "      <th>Rio Teles Pires</th>\n",
       "      <td>Amazon</td>\n",
       "      <td>LINESTRING (4890008.905 8388474.8, 4929569.193...</td>\n",
       "      <td>Pará</td>\n",
       "      <td>BR15</td>\n",
       "    </tr>\n",
       "    <tr>\n",
       "      <th>Xingu</th>\n",
       "      <td>Amazon</td>\n",
       "      <td>MULTILINESTRING ((4921614.129 8334835.678, 503...</td>\n",
       "      <td>Mato Grosso</td>\n",
       "      <td>BR51</td>\n",
       "    </tr>\n",
       "    <tr>\n",
       "      <th>Xingu</th>\n",
       "      <td>Amazon</td>\n",
       "      <td>MULTILINESTRING ((4921614.129 8334835.678, 503...</td>\n",
       "      <td>Pará</td>\n",
       "      <td>BR15</td>\n",
       "    </tr>\n",
       "    <tr>\n",
       "      <th>Purus</th>\n",
       "      <td>Amazon</td>\n",
       "      <td>LINESTRING (3179817.343 8884480.014, 3233812.4...</td>\n",
       "      <td>Acre</td>\n",
       "      <td>BR12</td>\n",
       "    </tr>\n",
       "    <tr>\n",
       "      <th>Purus</th>\n",
       "      <td>Amazon</td>\n",
       "      <td>LINESTRING (3179817.343 8884480.014, 3233812.4...</td>\n",
       "      <td>Amazonas</td>\n",
       "      <td>BR13</td>\n",
       "    </tr>\n",
       "    <tr>\n",
       "      <th>Madeira</th>\n",
       "      <td>Amazon</td>\n",
       "      <td>LINESTRING (3784022.891 8842606.845, 3785447.5...</td>\n",
       "      <td>Rondônia</td>\n",
       "      <td>BR11</td>\n",
       "    </tr>\n",
       "    <tr>\n",
       "      <th>Madeira</th>\n",
       "      <td>Amazon</td>\n",
       "      <td>LINESTRING (3784022.891 8842606.845, 3785447.5...</td>\n",
       "      <td>Amazonas</td>\n",
       "      <td>BR13</td>\n",
       "    </tr>\n",
       "    <tr>\n",
       "      <th>Amazon</th>\n",
       "      <td>Amazon</td>\n",
       "      <td>MULTILINESTRING ((4191497.619 9597916.381, 425...</td>\n",
       "      <td>Amazonas</td>\n",
       "      <td>BR13</td>\n",
       "    </tr>\n",
       "    <tr>\n",
       "      <th>Amazon</th>\n",
       "      <td>Amazon</td>\n",
       "      <td>MULTILINESTRING ((4191497.619 9597916.381, 425...</td>\n",
       "      <td>Pará</td>\n",
       "      <td>BR15</td>\n",
       "    </tr>\n",
       "    <tr>\n",
       "      <th>Putamayo</th>\n",
       "      <td>Amazon</td>\n",
       "      <td>LINESTRING (3255840.239 9675268.883, 3294855.9...</td>\n",
       "      <td>Amazonas</td>\n",
       "      <td>BR13</td>\n",
       "    </tr>\n",
       "    <tr>\n",
       "      <th>Japura</th>\n",
       "      <td>Amazon</td>\n",
       "      <td>MULTILINESTRING ((3782432.967 9748590.005, 382...</td>\n",
       "      <td>Amazonas</td>\n",
       "      <td>BR13</td>\n",
       "    </tr>\n",
       "    <tr>\n",
       "      <th>Rio Negro</th>\n",
       "      <td>Amazon</td>\n",
       "      <td>MULTILINESTRING ((3592372.872 10116670.869, 35...</td>\n",
       "      <td>Amazonas</td>\n",
       "      <td>BR13</td>\n",
       "    </tr>\n",
       "    <tr>\n",
       "      <th>Rio Negro</th>\n",
       "      <td>Amazon</td>\n",
       "      <td>MULTILINESTRING ((3592372.872 10116670.869, 35...</td>\n",
       "      <td>Roraima</td>\n",
       "      <td>BR14</td>\n",
       "    </tr>\n",
       "    <tr>\n",
       "      <th>Rio Branco</th>\n",
       "      <td>Amazon</td>\n",
       "      <td>LINESTRING (4352974.168 10393701.397, 4312100....</td>\n",
       "      <td>Roraima</td>\n",
       "      <td>BR14</td>\n",
       "    </tr>\n",
       "  </tbody>\n",
       "</table>\n",
       "</div>"
      ],
      "text/plain": [
       "                 SYSTEM                                           geometry  \\\n",
       "RIVER                                                                        \n",
       "Madre de Dios    Amazon  LINESTRING (3747782.967 8816805.526, 3784022.8...   \n",
       "Guapore          Amazon  MULTILINESTRING ((3784022.891 8842606.845, 378...   \n",
       "Rio Juruena      Amazon  LINESTRING (4488340.769 8382801.957, 4561243.9...   \n",
       "Rio Juruena      Amazon  LINESTRING (4488340.769 8382801.957, 4561243.9...   \n",
       "Rio Teles Pires  Amazon  LINESTRING (4890008.905 8388474.8, 4929569.193...   \n",
       "Rio Teles Pires  Amazon  LINESTRING (4890008.905 8388474.8, 4929569.193...   \n",
       "Xingu            Amazon  MULTILINESTRING ((4921614.129 8334835.678, 503...   \n",
       "Xingu            Amazon  MULTILINESTRING ((4921614.129 8334835.678, 503...   \n",
       "Purus            Amazon  LINESTRING (3179817.343 8884480.014, 3233812.4...   \n",
       "Purus            Amazon  LINESTRING (3179817.343 8884480.014, 3233812.4...   \n",
       "Madeira          Amazon  LINESTRING (3784022.891 8842606.845, 3785447.5...   \n",
       "Madeira          Amazon  LINESTRING (3784022.891 8842606.845, 3785447.5...   \n",
       "Amazon           Amazon  MULTILINESTRING ((4191497.619 9597916.381, 425...   \n",
       "Amazon           Amazon  MULTILINESTRING ((4191497.619 9597916.381, 425...   \n",
       "Putamayo         Amazon  LINESTRING (3255840.239 9675268.883, 3294855.9...   \n",
       "Japura           Amazon  MULTILINESTRING ((3782432.967 9748590.005, 382...   \n",
       "Rio Negro        Amazon  MULTILINESTRING ((3592372.872 10116670.869, 35...   \n",
       "Rio Negro        Amazon  MULTILINESTRING ((3592372.872 10116670.869, 35...   \n",
       "Rio Branco       Amazon  LINESTRING (4352974.168 10393701.397, 4312100....   \n",
       "\n",
       "                  state_name state_code  \n",
       "RIVER                                    \n",
       "Madre de Dios       Rondônia       BR11  \n",
       "Guapore             Rondônia       BR11  \n",
       "Rio Juruena      Mato Grosso       BR51  \n",
       "Rio Juruena             Pará       BR15  \n",
       "Rio Teles Pires  Mato Grosso       BR51  \n",
       "Rio Teles Pires         Pará       BR15  \n",
       "Xingu            Mato Grosso       BR51  \n",
       "Xingu                   Pará       BR15  \n",
       "Purus                   Acre       BR12  \n",
       "Purus               Amazonas       BR13  \n",
       "Madeira             Rondônia       BR11  \n",
       "Madeira             Amazonas       BR13  \n",
       "Amazon              Amazonas       BR13  \n",
       "Amazon                  Pará       BR15  \n",
       "Putamayo            Amazonas       BR13  \n",
       "Japura              Amazonas       BR13  \n",
       "Rio Negro           Amazonas       BR13  \n",
       "Rio Negro            Roraima       BR14  \n",
       "Rio Branco           Roraima       BR14  "
      ]
     },
     "execution_count": 100,
     "metadata": {},
     "output_type": "execute_result"
    }
   ],
   "source": [
    "# Get crosses result\n",
    "crosses_result = gpd.sjoin(amazonSystem,states_brazil5880, how='inner', predicate='crosses')\n",
    "crosses_result"
   ]
  },
  {
   "cell_type": "code",
   "execution_count": 128,
   "id": "3bda6206-14b8-4d32-822e-9dc599e1a8c4",
   "metadata": {},
   "outputs": [
    {
     "data": {
      "text/plain": [
       "['Tapajos']"
      ]
     },
     "execution_count": 128,
     "metadata": {},
     "output_type": "execute_result"
    }
   ],
   "source": [
    "river_notCrossing=list(set(intersects_result.index)-set(crosses_result.index))\n",
    "river_notCrossing"
   ]
  },
  {
   "cell_type": "code",
   "execution_count": 156,
   "id": "ac682687-f791-47ca-b6d1-86fb80ba6eef",
   "metadata": {},
   "outputs": [
    {
     "data": {
      "text/plain": [
       "['Pará']"
      ]
     },
     "execution_count": 156,
     "metadata": {},
     "output_type": "execute_result"
    }
   ],
   "source": [
    "# Find indexes/columns\n",
    "state_notCrossed=intersects_result.loc[river_notCrossing,'state_name'].to_list()\n",
    "state_notCrossed"
   ]
  },
  {
   "cell_type": "markdown",
   "id": "98684eea-ab6b-42f8-8afa-d66000fd0c17",
   "metadata": {},
   "source": [
    "Now we know the river that is not crossing an state, and the name of that state."
   ]
  },
  {
   "cell_type": "code",
   "execution_count": 157,
   "id": "06cc6736-5808-41c8-8062-5f72527c8cdb",
   "metadata": {},
   "outputs": [
    {
     "data": {
      "text/plain": [
       "<Axes: >"
      ]
     },
     "execution_count": 157,
     "metadata": {},
     "output_type": "execute_result"
    },
    {
     "data": {
      "image/png": "[encoded data removed]",
      "text/plain": [
       "<Figure size 1200x800 with 1 Axes>"
      ]
     },
     "metadata": {},
     "output_type": "display_data"
    }
   ],
   "source": [
    "base=states_brazil5880.loc[state_notCrossed,:].plot(color='w',edgecolor='k',figsize=(12, 8))\n",
    "amazonSystem.plot(ax=base)\n",
    "amazonSystem.loc[river_notCrossing,:].plot(color='red',ax=base)\n"
   ]
  },
  {
   "cell_type": "markdown",
   "id": "aff9f8ed-ce13-4c36-a219-ae4d5f2d0b83",
   "metadata": {},
   "source": [
    "## IV. Spatial Overlay\n",
    "\n",
    "As the name implies, you need two inputs. We might need to create or find some geometries from the geometries we already have. Using a set theory approach, we will see the use of _intersection_, _union_, _difference_, and _symmetric difference_.\n",
    "Let's remember these results:"
   ]
  },
  {
   "cell_type": "code",
   "execution_count": 158,
   "id": "5b9c5caf-9e85-4462-b529-89784ecad92c",
   "metadata": {},
   "outputs": [
    {
     "data": {
      "text/html": [
       "<div>\n",
       "<style scoped>\n",
       "    .dataframe tbody tr th:only-of-type {\n",
       "        vertical-align: middle;\n",
       "    }\n",
       "\n",
       "    .dataframe tbody tr th {\n",
       "        vertical-align: top;\n",
       "    }\n",
       "\n",
       "    .dataframe thead th {\n",
       "        text-align: right;\n",
       "    }\n",
       "</style>\n",
       "<table border=\"1\" class=\"dataframe\">\n",
       "  <thead>\n",
       "    <tr style=\"text-align: right;\">\n",
       "      <th></th>\n",
       "      <th>state_name</th>\n",
       "      <th>state_code</th>\n",
       "      <th>geometry</th>\n",
       "    </tr>\n",
       "  </thead>\n",
       "  <tbody>\n",
       "    <tr>\n",
       "      <th>0</th>\n",
       "      <td>Acre</td>\n",
       "      <td>BR12</td>\n",
       "      <td>MULTIPOLYGON (((3374854.317 8740996.704, 33745...</td>\n",
       "    </tr>\n",
       "    <tr>\n",
       "      <th>1</th>\n",
       "      <td>Alagoas</td>\n",
       "      <td>BR27</td>\n",
       "      <td>MULTIPOLYGON (((7038407.237 8973545.06, 703823...</td>\n",
       "    </tr>\n",
       "    <tr>\n",
       "      <th>2</th>\n",
       "      <td>Amapá</td>\n",
       "      <td>BR16</td>\n",
       "      <td>MULTIPOLYGON (((5393641.625 10233907.833, 5394...</td>\n",
       "    </tr>\n",
       "    <tr>\n",
       "      <th>3</th>\n",
       "      <td>Amazonas</td>\n",
       "      <td>BR13</td>\n",
       "      <td>MULTIPOLYGON (((4499820.936 9906611.648, 45003...</td>\n",
       "    </tr>\n",
       "    <tr>\n",
       "      <th>4</th>\n",
       "      <td>Bahia</td>\n",
       "      <td>BR29</td>\n",
       "      <td>MULTIPOLYGON (((6618113.779 7946308.264, 66178...</td>\n",
       "    </tr>\n",
       "    <tr>\n",
       "      <th>5</th>\n",
       "      <td>Ceará</td>\n",
       "      <td>BR23</td>\n",
       "      <td>MULTIPOLYGON (((6566662.514 9672539.24, 656620...</td>\n",
       "    </tr>\n",
       "    <tr>\n",
       "      <th>9</th>\n",
       "      <td>Maranhão</td>\n",
       "      <td>BR21</td>\n",
       "      <td>MULTIPOLYGON (((5766252.527 8999101.029, 57658...</td>\n",
       "    </tr>\n",
       "    <tr>\n",
       "      <th>10</th>\n",
       "      <td>Mato Grosso</td>\n",
       "      <td>BR51</td>\n",
       "      <td>MULTIPOLYGON (((4718274.258 8081710.261, 47189...</td>\n",
       "    </tr>\n",
       "    <tr>\n",
       "      <th>13</th>\n",
       "      <td>Pará</td>\n",
       "      <td>BR15</td>\n",
       "      <td>MULTIPOLYGON (((5842059.053 9886741.08, 584156...</td>\n",
       "    </tr>\n",
       "    <tr>\n",
       "      <th>14</th>\n",
       "      <td>Paraíba</td>\n",
       "      <td>BR25</td>\n",
       "      <td>MULTIPOLYGON (((7114219.231 9185077.165, 71147...</td>\n",
       "    </tr>\n",
       "    <tr>\n",
       "      <th>16</th>\n",
       "      <td>Pernambuco</td>\n",
       "      <td>BR26</td>\n",
       "      <td>MULTIPOLYGON (((7095445.753 9023059.649, 70956...</td>\n",
       "    </tr>\n",
       "    <tr>\n",
       "      <th>17</th>\n",
       "      <td>Piauí</td>\n",
       "      <td>BR22</td>\n",
       "      <td>MULTIPOLYGON (((6358657.71 9687749.374, 635880...</td>\n",
       "    </tr>\n",
       "    <tr>\n",
       "      <th>19</th>\n",
       "      <td>Rio Grande do Norte</td>\n",
       "      <td>BR24</td>\n",
       "      <td>MULTIPOLYGON (((6868688.822 9429004.223, 68691...</td>\n",
       "    </tr>\n",
       "    <tr>\n",
       "      <th>21</th>\n",
       "      <td>Rondônia</td>\n",
       "      <td>BR11</td>\n",
       "      <td>MULTIPOLYGON (((4336272.896 8681520.943, 43360...</td>\n",
       "    </tr>\n",
       "    <tr>\n",
       "      <th>22</th>\n",
       "      <td>Roraima</td>\n",
       "      <td>BR14</td>\n",
       "      <td>MULTIPOLYGON (((4313509.624 10584074.014, 4313...</td>\n",
       "    </tr>\n",
       "    <tr>\n",
       "      <th>25</th>\n",
       "      <td>Sergipe</td>\n",
       "      <td>BR28</td>\n",
       "      <td>MULTIPOLYGON (((6758585.616 8905265.231, 67589...</td>\n",
       "    </tr>\n",
       "    <tr>\n",
       "      <th>26</th>\n",
       "      <td>Tocantins</td>\n",
       "      <td>BR17</td>\n",
       "      <td>MULTIPOLYGON (((5766252.527 8999101.029, 57662...</td>\n",
       "    </tr>\n",
       "  </tbody>\n",
       "</table>\n",
       "</div>"
      ],
      "text/plain": [
       "             state_name state_code  \\\n",
       "0                  Acre       BR12   \n",
       "1               Alagoas       BR27   \n",
       "2                 Amapá       BR16   \n",
       "3              Amazonas       BR13   \n",
       "4                 Bahia       BR29   \n",
       "5                 Ceará       BR23   \n",
       "9              Maranhão       BR21   \n",
       "10          Mato Grosso       BR51   \n",
       "13                 Pará       BR15   \n",
       "14              Paraíba       BR25   \n",
       "16           Pernambuco       BR26   \n",
       "17                Piauí       BR22   \n",
       "19  Rio Grande do Norte       BR24   \n",
       "21             Rondônia       BR11   \n",
       "22              Roraima       BR14   \n",
       "25              Sergipe       BR28   \n",
       "26            Tocantins       BR17   \n",
       "\n",
       "                                             geometry  \n",
       "0   MULTIPOLYGON (((3374854.317 8740996.704, 33745...  \n",
       "1   MULTIPOLYGON (((7038407.237 8973545.06, 703823...  \n",
       "2   MULTIPOLYGON (((5393641.625 10233907.833, 5394...  \n",
       "3   MULTIPOLYGON (((4499820.936 9906611.648, 45003...  \n",
       "4   MULTIPOLYGON (((6618113.779 7946308.264, 66178...  \n",
       "5   MULTIPOLYGON (((6566662.514 9672539.24, 656620...  \n",
       "9   MULTIPOLYGON (((5766252.527 8999101.029, 57658...  \n",
       "10  MULTIPOLYGON (((4718274.258 8081710.261, 47189...  \n",
       "13  MULTIPOLYGON (((5842059.053 9886741.08, 584156...  \n",
       "14  MULTIPOLYGON (((7114219.231 9185077.165, 71147...  \n",
       "16  MULTIPOLYGON (((7095445.753 9023059.649, 70956...  \n",
       "17  MULTIPOLYGON (((6358657.71 9687749.374, 635880...  \n",
       "19  MULTIPOLYGON (((6868688.822 9429004.223, 68691...  \n",
       "21  MULTIPOLYGON (((4336272.896 8681520.943, 43360...  \n",
       "22  MULTIPOLYGON (((4313509.624 10584074.014, 4313...  \n",
       "25  MULTIPOLYGON (((6758585.616 8905265.231, 67589...  \n",
       "26  MULTIPOLYGON (((5766252.527 8999101.029, 57662...  "
      ]
     },
     "execution_count": 158,
     "metadata": {},
     "output_type": "execute_result"
    }
   ],
   "source": [
    "N_brazil"
   ]
  },
  {
   "cell_type": "code",
   "execution_count": 159,
   "id": "1a8b28f5-aba3-4ea9-abbb-6d80f0480fbe",
   "metadata": {},
   "outputs": [
    {
     "data": {
      "text/html": [
       "<div>\n",
       "<style scoped>\n",
       "    .dataframe tbody tr th:only-of-type {\n",
       "        vertical-align: middle;\n",
       "    }\n",
       "\n",
       "    .dataframe tbody tr th {\n",
       "        vertical-align: top;\n",
       "    }\n",
       "\n",
       "    .dataframe thead th {\n",
       "        text-align: right;\n",
       "    }\n",
       "</style>\n",
       "<table border=\"1\" class=\"dataframe\">\n",
       "  <thead>\n",
       "    <tr style=\"text-align: right;\">\n",
       "      <th></th>\n",
       "      <th>state_name</th>\n",
       "      <th>state_code</th>\n",
       "      <th>geometry</th>\n",
       "    </tr>\n",
       "  </thead>\n",
       "  <tbody>\n",
       "    <tr>\n",
       "      <th>0</th>\n",
       "      <td>Acre</td>\n",
       "      <td>BR12</td>\n",
       "      <td>MULTIPOLYGON (((3374854.317 8740996.704, 33745...</td>\n",
       "    </tr>\n",
       "    <tr>\n",
       "      <th>1</th>\n",
       "      <td>Alagoas</td>\n",
       "      <td>BR27</td>\n",
       "      <td>MULTIPOLYGON (((7038407.237 8973545.06, 703823...</td>\n",
       "    </tr>\n",
       "    <tr>\n",
       "      <th>4</th>\n",
       "      <td>Bahia</td>\n",
       "      <td>BR29</td>\n",
       "      <td>MULTIPOLYGON (((6618113.779 7946308.264, 66178...</td>\n",
       "    </tr>\n",
       "    <tr>\n",
       "      <th>6</th>\n",
       "      <td>Distrito Federal</td>\n",
       "      <td>BR53</td>\n",
       "      <td>MULTIPOLYGON (((5709200.339 8232316.484, 57090...</td>\n",
       "    </tr>\n",
       "    <tr>\n",
       "      <th>7</th>\n",
       "      <td>Espírito Santo</td>\n",
       "      <td>BR32</td>\n",
       "      <td>MULTIPOLYGON (((7566463.228 7535792.386, 75661...</td>\n",
       "    </tr>\n",
       "    <tr>\n",
       "      <th>8</th>\n",
       "      <td>Goiás</td>\n",
       "      <td>BR52</td>\n",
       "      <td>MULTIPOLYGON (((5714835.191 8093308.232, 57153...</td>\n",
       "    </tr>\n",
       "    <tr>\n",
       "      <th>10</th>\n",
       "      <td>Mato Grosso</td>\n",
       "      <td>BR51</td>\n",
       "      <td>MULTIPOLYGON (((4718274.258 8081710.261, 47189...</td>\n",
       "    </tr>\n",
       "    <tr>\n",
       "      <th>11</th>\n",
       "      <td>Mato Grosso do Sul</td>\n",
       "      <td>BR50</td>\n",
       "      <td>MULTIPOLYGON (((4643554.93 7541102.839, 464377...</td>\n",
       "    </tr>\n",
       "    <tr>\n",
       "      <th>12</th>\n",
       "      <td>Minas Gerais</td>\n",
       "      <td>BR31</td>\n",
       "      <td>MULTIPOLYGON (((5730280.854 8106234.254, 57299...</td>\n",
       "    </tr>\n",
       "    <tr>\n",
       "      <th>15</th>\n",
       "      <td>Paraná</td>\n",
       "      <td>BR41</td>\n",
       "      <td>MULTIPOLYGON (((5445488.893 7090357.876, 54459...</td>\n",
       "    </tr>\n",
       "    <tr>\n",
       "      <th>17</th>\n",
       "      <td>Piauí</td>\n",
       "      <td>BR22</td>\n",
       "      <td>MULTIPOLYGON (((6358657.71 9687749.374, 635880...</td>\n",
       "    </tr>\n",
       "    <tr>\n",
       "      <th>18</th>\n",
       "      <td>Rio de Janeiro</td>\n",
       "      <td>BR33</td>\n",
       "      <td>MULTIPOLYGON (((5957764.631 7386508.56, 595773...</td>\n",
       "    </tr>\n",
       "    <tr>\n",
       "      <th>20</th>\n",
       "      <td>Rio Grande do Sul</td>\n",
       "      <td>BR43</td>\n",
       "      <td>MULTIPOLYGON (((5390657.229 6768894.914, 53909...</td>\n",
       "    </tr>\n",
       "    <tr>\n",
       "      <th>21</th>\n",
       "      <td>Rondônia</td>\n",
       "      <td>BR11</td>\n",
       "      <td>MULTIPOLYGON (((4336272.896 8681520.943, 43360...</td>\n",
       "    </tr>\n",
       "    <tr>\n",
       "      <th>23</th>\n",
       "      <td>Santa Catarina</td>\n",
       "      <td>BR42</td>\n",
       "      <td>MULTIPOLYGON (((5384989.919 6745543.64, 538466...</td>\n",
       "    </tr>\n",
       "    <tr>\n",
       "      <th>24</th>\n",
       "      <td>São Paulo</td>\n",
       "      <td>BR35</td>\n",
       "      <td>MULTIPOLYGON (((5619062.728 7205958.887, 56186...</td>\n",
       "    </tr>\n",
       "    <tr>\n",
       "      <th>25</th>\n",
       "      <td>Sergipe</td>\n",
       "      <td>BR28</td>\n",
       "      <td>MULTIPOLYGON (((6758585.616 8905265.231, 67589...</td>\n",
       "    </tr>\n",
       "    <tr>\n",
       "      <th>26</th>\n",
       "      <td>Tocantins</td>\n",
       "      <td>BR17</td>\n",
       "      <td>MULTIPOLYGON (((5766252.527 8999101.029, 57662...</td>\n",
       "    </tr>\n",
       "  </tbody>\n",
       "</table>\n",
       "</div>"
      ],
      "text/plain": [
       "            state_name state_code  \\\n",
       "0                 Acre       BR12   \n",
       "1              Alagoas       BR27   \n",
       "4                Bahia       BR29   \n",
       "6     Distrito Federal       BR53   \n",
       "7       Espírito Santo       BR32   \n",
       "8                Goiás       BR52   \n",
       "10         Mato Grosso       BR51   \n",
       "11  Mato Grosso do Sul       BR50   \n",
       "12        Minas Gerais       BR31   \n",
       "15              Paraná       BR41   \n",
       "17               Piauí       BR22   \n",
       "18      Rio de Janeiro       BR33   \n",
       "20   Rio Grande do Sul       BR43   \n",
       "21            Rondônia       BR11   \n",
       "23      Santa Catarina       BR42   \n",
       "24           São Paulo       BR35   \n",
       "25             Sergipe       BR28   \n",
       "26           Tocantins       BR17   \n",
       "\n",
       "                                             geometry  \n",
       "0   MULTIPOLYGON (((3374854.317 8740996.704, 33745...  \n",
       "1   MULTIPOLYGON (((7038407.237 8973545.06, 703823...  \n",
       "4   MULTIPOLYGON (((6618113.779 7946308.264, 66178...  \n",
       "6   MULTIPOLYGON (((5709200.339 8232316.484, 57090...  \n",
       "7   MULTIPOLYGON (((7566463.228 7535792.386, 75661...  \n",
       "8   MULTIPOLYGON (((5714835.191 8093308.232, 57153...  \n",
       "10  MULTIPOLYGON (((4718274.258 8081710.261, 47189...  \n",
       "11  MULTIPOLYGON (((4643554.93 7541102.839, 464377...  \n",
       "12  MULTIPOLYGON (((5730280.854 8106234.254, 57299...  \n",
       "15  MULTIPOLYGON (((5445488.893 7090357.876, 54459...  \n",
       "17  MULTIPOLYGON (((6358657.71 9687749.374, 635880...  \n",
       "18  MULTIPOLYGON (((5957764.631 7386508.56, 595773...  \n",
       "20  MULTIPOLYGON (((5390657.229 6768894.914, 53909...  \n",
       "21  MULTIPOLYGON (((4336272.896 8681520.943, 43360...  \n",
       "23  MULTIPOLYGON (((5384989.919 6745543.64, 538466...  \n",
       "24  MULTIPOLYGON (((5619062.728 7205958.887, 56186...  \n",
       "25  MULTIPOLYGON (((6758585.616 8905265.231, 67589...  \n",
       "26  MULTIPOLYGON (((5766252.527 8999101.029, 57662...  "
      ]
     },
     "execution_count": 159,
     "metadata": {},
     "output_type": "execute_result"
    }
   ],
   "source": [
    "S_brazil"
   ]
  },
  {
   "cell_type": "markdown",
   "id": "c4f50822-09a7-4845-9652-a64cad41d5e7",
   "metadata": {},
   "source": [
    "Let me plot both of them:"
   ]
  },
  {
   "cell_type": "code",
   "execution_count": 160,
   "id": "7a5a27d5-7117-43a5-bf61-6542de99e280",
   "metadata": {
    "colab": {
     "base_uri": "https://localhost:8080/",
     "height": 481
    },
    "id": "7a5a27d5-7117-43a5-bf61-6542de99e280",
    "outputId": "efbce584-091a-4ec2-9724-089756d5decf"
   },
   "outputs": [
    {
     "data": {
      "text/plain": [
       "<Axes: >"
      ]
     },
     "execution_count": 160,
     "metadata": {},
     "output_type": "execute_result"
    },
    {
     "data": {
      "image/png": "[encoded data removed]",
      "text/plain": [
       "<Figure size 640x480 with 1 Axes>"
      ]
     },
     "metadata": {},
     "output_type": "display_data"
    }
   ],
   "source": [
    "base= N_brazil.plot(facecolor='black', edgecolor='white',linewidth=0.2, alpha=0.6)\n",
    "S_brazil.plot(facecolor='white', edgecolor='black',linewidth=0.2,ax=base, alpha=0.6)"
   ]
  },
  {
   "cell_type": "markdown",
   "id": "940832b7-250c-46f6-ab20-c65e92e0bd31",
   "metadata": {},
   "source": [
    "The grey area reminds you that the coordinates we used to split the states did not give us a clean cut. Here you see the states in common:"
   ]
  },
  {
   "cell_type": "code",
   "execution_count": null,
   "id": "bf1d298a-325d-4996-8fa0-4cbd48471b25",
   "metadata": {},
   "outputs": [],
   "source": [
    "set(S_brazil.state_name) & set(N_brazil.state_name)"
   ]
  },
  {
   "cell_type": "markdown",
   "id": "69fcdb81-597c-4812-8544-343764ef568a",
   "metadata": {},
   "source": [
    "The same happened in East vs West:"
   ]
  },
  {
   "cell_type": "code",
   "execution_count": null,
   "id": "f6c71c71-f9d1-4a3d-b03e-d3a492ddb2e7",
   "metadata": {},
   "outputs": [],
   "source": [
    "set(E_brazil.state_name) & set(W_brazil.state_name)"
   ]
  },
  {
   "cell_type": "code",
   "execution_count": null,
   "id": "1e119335-f1d0-42fb-8c7a-bcd5f0231578",
   "metadata": {
    "colab": {
     "base_uri": "https://localhost:8080/",
     "height": 481
    },
    "id": "1e119335-f1d0-42fb-8c7a-bcd5f0231578",
    "outputId": "84460d11-0d8a-4259-b753-b07999c6feef"
   },
   "outputs": [],
   "source": [
    "# visualizing\n",
    "base= E_brazil.plot(facecolor='black', edgecolor='white',linewidth=0.2, alpha=0.6)\n",
    "W_brazil.plot(facecolor='white', edgecolor='black',linewidth=0.2,ax=base, alpha=0.6)"
   ]
  },
  {
   "cell_type": "markdown",
   "id": "8e770e96-da53-412d-8ab5-70e186c62f53",
   "metadata": {},
   "source": [
    "Let's play with these GDFs, keep in mind the position of the GDFs:\n",
    "\n",
    "```\n",
    "GDF_left.overlay(GDF_right, ...)\n",
    "```"
   ]
  },
  {
   "cell_type": "markdown",
   "id": "b751684b-270f-4b3a-9b7d-d51ae7f2b641",
   "metadata": {
    "id": "b751684b-270f-4b3a-9b7d-d51ae7f2b641"
   },
   "source": [
    "### a. Intersection\n",
    "\n",
    "We keep what is common between _left_ and _right_ GDFs :"
   ]
  },
  {
   "cell_type": "code",
   "execution_count": null,
   "id": "b6517bb9-b20a-46f9-ba77-d8a0f120f97c",
   "metadata": {
    "colab": {
     "base_uri": "https://localhost:8080/",
     "height": 163
    },
    "id": "b6517bb9-b20a-46f9-ba77-d8a0f120f97c",
    "outputId": "7a93953c-3c9c-4d00-8142-1f05532068e0"
   },
   "outputs": [],
   "source": [
    "NS_brazil=N_brazil.overlay(S_brazil, how=\"intersection\",keep_geom_type=True)\n",
    "# see results\n",
    "NS_brazil"
   ]
  },
  {
   "cell_type": "markdown",
   "id": "539a5c97-abc2-4368-8831-5eb93f2a8e15",
   "metadata": {},
   "source": [
    "Notice we got more rows than when we did this operation:\n",
    "\n",
    "```\n",
    "set(S_brazil.state_name) & set(N_brazil.state_name)\n",
    "```\n",
    "We have three more polygons:"
   ]
  },
  {
   "cell_type": "code",
   "execution_count": null,
   "id": "b977c127-d413-4d2f-ac97-1de1b0d97f05",
   "metadata": {},
   "outputs": [],
   "source": [
    "NS_brazil[NS_brazil.state_name_1!= NS_brazil.state_name_2]"
   ]
  },
  {
   "cell_type": "markdown",
   "id": "ddb5e74e-2a4a-4b97-9476-ad296465cd09",
   "metadata": {},
   "source": [
    "In fact, we are NOT intersecting state names, we are intersecting geometries. Then, the input maps have some topological issues.\n",
    "\n",
    "This is the amount of area that is in fact a topological problem:"
   ]
  },
  {
   "cell_type": "code",
   "execution_count": null,
   "id": "ed29af30-f7b1-4fb2-a48e-e76ca3d242a0",
   "metadata": {},
   "outputs": [],
   "source": [
    "NS_brazil[NS_brazil.state_name_1!= NS_brazil.state_name_2].geometry.area.sum()"
   ]
  },
  {
   "cell_type": "markdown",
   "id": "c5c03087-f4a6-4870-9ef7-19ea6ccc3710",
   "metadata": {},
   "source": [
    "A way to measure the share of the low quality:"
   ]
  },
  {
   "cell_type": "code",
   "execution_count": null,
   "id": "1fb79b39-3c17-42c0-91f6-f9b5056cbeb7",
   "metadata": {},
   "outputs": [],
   "source": [
    "NS_brazil[NS_brazil.state_name_1!= NS_brazil.state_name_2].geometry.area.sum()/  \\\n",
    "NS_brazil[NS_brazil.state_name_1== NS_brazil.state_name_2].geometry.area.sum() #continues from above"
   ]
  },
  {
   "cell_type": "markdown",
   "id": "8b8aad96-b3f9-4c25-9f20-83ce699d763a",
   "metadata": {},
   "source": [
    "So, spatial overlay operations do their best to give you true results; but unfortunately, as the quality of the sources is not perfect, you may get messy results. It is our job to detect and make decisions. Let's keep two GDFs, one with the unperfect result, and another with a 'valid' output."
   ]
  },
  {
   "cell_type": "code",
   "execution_count": null,
   "id": "333abaf6-0a6e-4f87-9b66-d83ec8321fac",
   "metadata": {},
   "outputs": [],
   "source": [
    "NS_brazil_messy=NS_brazil.copy()\n",
    "NS_brazil=NS_brazil[NS_brazil.state_name_1== NS_brazil.state_name_2]"
   ]
  },
  {
   "cell_type": "markdown",
   "id": "63f0b701-618d-4090-a8aa-ea90d45930bc",
   "metadata": {},
   "source": [
    "This should be what we expected to see:"
   ]
  },
  {
   "cell_type": "code",
   "execution_count": null,
   "id": "7effbb8f-183e-4683-8466-619ecc5f03e1",
   "metadata": {},
   "outputs": [],
   "source": [
    "NS_brazil"
   ]
  },
  {
   "cell_type": "markdown",
   "id": "f2d4ee19-1074-4eb2-8b79-4405f4d551fb",
   "metadata": {},
   "source": [
    "The clean data has minor things to improve, delete redundant columns, rename columns, and reset the index so they are a correlative sequence. "
   ]
  },
  {
   "cell_type": "code",
   "execution_count": null,
   "id": "144f3447-84a7-4a04-94e2-0e0e386946a2",
   "metadata": {},
   "outputs": [],
   "source": [
    "# avoid redundancy\n",
    "keep=['state_name_1','state_code_1','geometry']\n",
    "NS_brazil=NS_brazil.loc[:,keep]\n",
    "NS_brazil.rename(columns={'state_name_1':'state_name','state_code_1':'state_code'},inplace=True)\n",
    "\n",
    "# reset for correlative sequence\n",
    "NS_brazil.reset_index(drop=True, inplace=True)"
   ]
  },
  {
   "cell_type": "markdown",
   "id": "81d97f1d-fa30-4793-8094-18e0573fa9b8",
   "metadata": {},
   "source": [
    "Based on the previous case, we may expect a similar situation here:"
   ]
  },
  {
   "cell_type": "code",
   "execution_count": null,
   "id": "a65bd362-ddde-4d7d-98c7-151d7a1d1b0b",
   "metadata": {
    "colab": {
     "base_uri": "https://localhost:8080/",
     "height": 481
    },
    "id": "a65bd362-ddde-4d7d-98c7-151d7a1d1b0b",
    "outputId": "6dc90a38-dab6-41f7-84c3-00d2701b9d18"
   },
   "outputs": [],
   "source": [
    "# keeping the overlay\n",
    "WE_brazil=W_brazil.overlay(E_brazil, how=\"intersection\",keep_geom_type=True)\n",
    "WE_brazil[WE_brazil.state_name_1!= WE_brazil.state_name_2]"
   ]
  },
  {
   "cell_type": "markdown",
   "id": "a4eae87b-6570-4ea2-951b-97c3848dbafd",
   "metadata": {},
   "source": [
    "Let's do the same as before:"
   ]
  },
  {
   "cell_type": "code",
   "execution_count": null,
   "id": "bc2d266d-1469-4850-bd6e-548bd272c6b2",
   "metadata": {},
   "outputs": [],
   "source": [
    "WE_brazil_messy=WE_brazil.copy()\n",
    "WE_brazil=WE_brazil[WE_brazil.state_name_1== WE_brazil.state_name_2]\n",
    "\n",
    "keep=['state_name_1','state_code_1','geometry']\n",
    "WE_brazil=WE_brazil.loc[:,keep]\n",
    "WE_brazil.rename(columns={'state_name_1':'state_name','state_code_1':'state_code'},inplace=True)\n",
    "WE_brazil.reset_index(drop=True, inplace=True)"
   ]
  },
  {
   "cell_type": "markdown",
   "id": "ec14306e-6c6e-4759-88e0-66a02b4294ec",
   "metadata": {
    "id": "ec14306e-6c6e-4759-88e0-66a02b4294ec"
   },
   "source": [
    "### b. Union\n",
    "\n",
    "Different from UNION_ALL (which acts as DISSOLVE), here we will combine the left and right GDFs. "
   ]
  },
  {
   "cell_type": "code",
   "execution_count": null,
   "id": "4bbcc6ab-975e-4e47-8a07-9ad723c68368",
   "metadata": {
    "colab": {
     "base_uri": "https://localhost:8080/"
    },
    "id": "4bbcc6ab-975e-4e47-8a07-9ad723c68368",
    "outputId": "327ebe28-14b9-4bbb-bcaa-c5bcb1861faa"
   },
   "outputs": [],
   "source": [
    "NS_brazil.info()"
   ]
  },
  {
   "cell_type": "code",
   "execution_count": null,
   "id": "c69c559c-987a-4335-b18c-bc9e0f9fea2b",
   "metadata": {
    "colab": {
     "base_uri": "https://localhost:8080/"
    },
    "id": "c69c559c-987a-4335-b18c-bc9e0f9fea2b",
    "outputId": "ac5add12-0b6c-4c83-c4c8-fa7b1a3011cf"
   },
   "outputs": [],
   "source": [
    "WE_brazil.info()"
   ]
  },
  {
   "cell_type": "code",
   "execution_count": null,
   "id": "5dfab57c-04e5-468d-b60a-0cc82ddeb1de",
   "metadata": {
    "colab": {
     "base_uri": "https://localhost:8080/",
     "height": 424
    },
    "id": "5dfab57c-04e5-468d-b60a-0cc82ddeb1de",
    "outputId": "bd796237-81bd-4a2e-8a18-c43a874113f5"
   },
   "outputs": [],
   "source": [
    "# now\n",
    "NS_brazil.overlay(WE_brazil,how=\"union\",keep_geom_type=True)"
   ]
  },
  {
   "cell_type": "markdown",
   "id": "4630ac7f-d8f5-4f98-b88b-4b3e201cdba3",
   "metadata": {
    "id": "4630ac7f-d8f5-4f98-b88b-4b3e201cdba3"
   },
   "source": [
    "As you see, geometries are fine, but missing values were created where no intersection exists. Notice this operation  identifies the intersection. \n",
    "\n",
    "Pandas has a _concat()_ function, which just pastes two tables, one of top of the other. Notice this will give you one more row (Mato Grosso appears twice) as nothing is done spite of geometries intersect."
   ]
  },
  {
   "cell_type": "code",
   "execution_count": null,
   "id": "dd26202c-f697-4635-9596-5eed71dc777d",
   "metadata": {
    "colab": {
     "base_uri": "https://localhost:8080/",
     "height": 424
    },
    "id": "dd26202c-f697-4635-9596-5eed71dc777d",
    "outputId": "da553bed-30d2-4bac-86b5-e226bf954c03"
   },
   "outputs": [],
   "source": [
    "# appending\n",
    "import pandas as pd\n",
    "\n",
    "pd.concat([NS_brazil,WE_brazil],ignore_index=True)"
   ]
  },
  {
   "cell_type": "markdown",
   "id": "2741107f-24c9-4dd0-bdd9-910a3666b61d",
   "metadata": {
    "id": "2741107f-24c9-4dd0-bdd9-910a3666b61d"
   },
   "source": [
    "Let me create an object to save the overlay result:"
   ]
  },
  {
   "cell_type": "code",
   "execution_count": null,
   "id": "cc7b3bca-13b5-4bae-a431-3a23811f1a73",
   "metadata": {
    "colab": {
     "base_uri": "https://localhost:8080/",
     "height": 89
    },
    "id": "cc7b3bca-13b5-4bae-a431-3a23811f1a73",
    "outputId": "a5dc285e-ea40-4db4-8f69-9317ffb00fa5"
   },
   "outputs": [],
   "source": [
    "MidBrazil=NS_brazil.overlay(WE_brazil,how=\"union\",keep_geom_type=True).dissolve()\n",
    "MidBrazil"
   ]
  },
  {
   "cell_type": "code",
   "execution_count": null,
   "id": "df9d6897-4e84-4b6b-8a76-398b19985d49",
   "metadata": {
    "colab": {
     "base_uri": "https://localhost:8080/",
     "height": 89
    },
    "id": "df9d6897-4e84-4b6b-8a76-398b19985d49",
    "outputId": "e07d59fb-fe67-42d9-dd27-0d16d2b8ee21"
   },
   "outputs": [],
   "source": [
    "# some cleaning\n",
    "\n",
    "MidBrazil['country']='Brazil'\n",
    "MidBrazil['region']='center'\n",
    "# reordering\n",
    "MidBrazil=MidBrazil.loc[:,['country','region','geometry']]\n",
    "\n",
    "MidBrazil"
   ]
  },
  {
   "cell_type": "code",
   "execution_count": null,
   "id": "7023d7a3-2b4f-4a0c-97d6-5e1ab524242a",
   "metadata": {},
   "outputs": [],
   "source": [
    "# see it\n",
    "base=brazil5880.plot(facecolor='yellow')\n",
    "MidBrazil.plot(ax=base)"
   ]
  },
  {
   "cell_type": "markdown",
   "id": "bd80963c-3d9e-4708-af62-6d19149a6a4b",
   "metadata": {
    "id": "bd80963c-3d9e-4708-af62-6d19149a6a4b"
   },
   "source": [
    "### c. Difference\n",
    "\n",
    "Here, you keep what belongs to the left GDF that is not in the right GDF:"
   ]
  },
  {
   "cell_type": "code",
   "execution_count": null,
   "id": "667a9eeb-dadb-4fcf-9c67-23ce0f6da08a",
   "metadata": {
    "colab": {
     "base_uri": "https://localhost:8080/",
     "height": 481
    },
    "id": "667a9eeb-dadb-4fcf-9c67-23ce0f6da08a",
    "outputId": "ca55f1ba-5263-4864-82ea-8c8643eccf05"
   },
   "outputs": [],
   "source": [
    "# we keep nothern states that are not in the southern ones\n",
    "N_brazil.overlay(S_brazil, how='difference')"
   ]
  },
  {
   "cell_type": "code",
   "execution_count": null,
   "id": "8fc7538f-4c2f-47ee-85ca-c3df2783f99c",
   "metadata": {},
   "outputs": [],
   "source": [
    "# using set operations:\n",
    "set(N_brazil.state_name)- set(S_brazil.state_name)"
   ]
  },
  {
   "cell_type": "markdown",
   "id": "796a135d-3c3b-4115-8c11-b9c001cc3476",
   "metadata": {},
   "source": [
    "We got a clean result (remember we are using the not messy GDFs). Let's plot this:"
   ]
  },
  {
   "cell_type": "code",
   "execution_count": null,
   "id": "0bc5fdd2-672b-4770-94ad-e886f7bb094a",
   "metadata": {},
   "outputs": [],
   "source": [
    "base=N_brazil.plot(color='yellow', edgecolor='black',alpha=0.1)\n",
    "N_brazil.overlay(S_brazil, how='difference').plot(ax=base)"
   ]
  },
  {
   "cell_type": "markdown",
   "id": "ae4cc49b-7302-424b-9dec-79dccb01122d",
   "metadata": {},
   "source": [
    "Keep in mind that **difference** is not commutative:"
   ]
  },
  {
   "cell_type": "code",
   "execution_count": null,
   "id": "3ed9cbaa-1036-4a76-935d-68c90210990d",
   "metadata": {},
   "outputs": [],
   "source": [
    "S_brazil.overlay(N_brazil, how='difference')"
   ]
  },
  {
   "cell_type": "markdown",
   "id": "aa1ddd55-aaa6-476f-ae68-5dc8f9fc440e",
   "metadata": {},
   "source": [
    "This a totally different result:"
   ]
  },
  {
   "cell_type": "code",
   "execution_count": null,
   "id": "74cf955a-71ff-4600-b4b9-256273357630",
   "metadata": {},
   "outputs": [],
   "source": [
    "base=N_brazil.plot(color='yellow', edgecolor='black',alpha=0.1)\n",
    "S_brazil.overlay(N_brazil, how='difference').plot(ax=base)"
   ]
  },
  {
   "cell_type": "markdown",
   "id": "8170b033-0707-43e8-b4ee-dca39e46f17a",
   "metadata": {
    "id": "8170b033-0707-43e8-b4ee-dca39e46f17a"
   },
   "source": [
    "### d. Symmetric Difference"
   ]
  },
  {
   "cell_type": "markdown",
   "id": "5f2728ec-f142-47a9-8de2-a65fef18680f",
   "metadata": {
    "id": "5f2728ec-f142-47a9-8de2-a65fef18680f"
   },
   "source": [
    "Here, we keep what is not in the intersection but in both GDFs. Notice that this operation is commutative!"
   ]
  },
  {
   "cell_type": "code",
   "execution_count": null,
   "id": "1a3e81f0-3f80-4a88-98c7-5f6611c50cfe",
   "metadata": {
    "colab": {
     "base_uri": "https://localhost:8080/",
     "height": 481
    },
    "id": "1a3e81f0-3f80-4a88-98c7-5f6611c50cfe",
    "outputId": "6f74eff7-5d91-4ce8-9771-4a4d8de818fd"
   },
   "outputs": [],
   "source": [
    "N_brazil.overlay(S_brazil, how='symmetric_difference')"
   ]
  },
  {
   "cell_type": "markdown",
   "id": "2317badb-dae3-4e00-a7fa-de3a157fbe1c",
   "metadata": {},
   "source": [
    "This operation gave a clean result again. Let's plot it:"
   ]
  },
  {
   "cell_type": "code",
   "execution_count": null,
   "id": "6feddf7a-056a-42f7-9408-62fe691f5635",
   "metadata": {},
   "outputs": [],
   "source": [
    "N_brazil.overlay(S_brazil, how='symmetric_difference').plot()"
   ]
  },
  {
   "cell_type": "markdown",
   "id": "7caa0e58",
   "metadata": {
    "id": "7caa0e58"
   },
   "source": [
    "\n",
    "_____________\n",
    "\n",
    "\n",
    "# Validity of Geometries\n",
    "\n",
    "Geometries are created in a way that some issues may appear, especially in (multi) polygons.\n",
    "Let's check if our recent maps on states and municipalities are valid:"
   ]
  },
  {
   "cell_type": "code",
   "execution_count": null,
   "id": "3a27c1ca",
   "metadata": {
    "colab": {
     "base_uri": "https://localhost:8080/",
     "height": 424
    },
    "id": "3a27c1ca",
    "outputId": "3ac8b3f8-eafb-438b-cf02-fb91d6748998"
   },
   "outputs": [],
   "source": [
    "# non valid\n",
    "S_brazil[~S_brazil.is_valid]"
   ]
  },
  {
   "cell_type": "code",
   "execution_count": null,
   "id": "ee29926a",
   "metadata": {
    "colab": {
     "base_uri": "https://localhost:8080/",
     "height": 481
    },
    "id": "ee29926a",
    "outputId": "02d6689b-8a2b-4788-9447-b9db3bac7413"
   },
   "outputs": [],
   "source": [
    "# see the invalid:\n",
    "S_brazil[~S_brazil.is_valid].plot()"
   ]
  },
  {
   "cell_type": "markdown",
   "id": "735abaa5",
   "metadata": {
    "id": "735abaa5"
   },
   "source": [
    "It is difficult to see what is wrong. Let's get some information:"
   ]
  },
  {
   "cell_type": "code",
   "execution_count": null,
   "id": "7c6591e0",
   "metadata": {
    "colab": {
     "base_uri": "https://localhost:8080/",
     "height": 458
    },
    "id": "7c6591e0",
    "outputId": "f5881f99-79d1-431f-e3ff-4e1fb9e613d4"
   },
   "outputs": [],
   "source": [
    "# what is wrong?\n",
    "\n",
    "from shapely.validation import explain_validity, make_valid\n",
    "\n",
    "explain_validity(S_brazil[~S_brazil.is_valid].geometry)"
   ]
  },
  {
   "cell_type": "markdown",
   "id": "f4078cd0-c30f-40cb-b596-48a2270553a9",
   "metadata": {},
   "source": [
    "This is the report:"
   ]
  },
  {
   "cell_type": "code",
   "execution_count": null,
   "id": "0045e65b-c10a-49ff-8c6c-c877bd55ceea",
   "metadata": {},
   "outputs": [],
   "source": [
    "explain_validity(S_brazil.geometry).str.split(\"[\",expand=True)[0].value_counts()"
   ]
  },
  {
   "cell_type": "markdown",
   "id": "101570e8-0cc0-4797-afad-dfd4e6e264e1",
   "metadata": {},
   "source": [
    "Let's use **make_valid**:"
   ]
  },
  {
   "cell_type": "code",
   "execution_count": null,
   "id": "d69f261b",
   "metadata": {
    "colab": {
     "base_uri": "https://localhost:8080/",
     "height": 142
    },
    "id": "d69f261b",
    "outputId": "fa739ed0-bd09-444b-cf31-555254c97afa"
   },
   "outputs": [],
   "source": [
    "S_brazil_valid=S_brazil.copy()\n",
    "\n",
    "S_brazil_valid['geometry'] = [make_valid(row)  if not row.is_valid else row for row in S_brazil['geometry'] ]\n",
    "\n",
    "#any invalid?\n",
    "S_brazil_valid[~S_brazil_valid.is_valid]"
   ]
  },
  {
   "cell_type": "markdown",
   "id": "cfa45bcf",
   "metadata": {
    "id": "cfa45bcf"
   },
   "source": [
    "The use of *make_valid* may output **collections**, this is not desirable:"
   ]
  },
  {
   "cell_type": "code",
   "execution_count": null,
   "id": "c072a9dc-411c-4d7d-a94b-0c2f2de9cf97",
   "metadata": {
    "colab": {
     "base_uri": "https://localhost:8080/",
     "height": 178
    },
    "id": "c072a9dc-411c-4d7d-a94b-0c2f2de9cf97",
    "outputId": "3f5c6824-39e4-4cbd-cd03-e0417184bae5"
   },
   "outputs": [],
   "source": [
    "pd.Series([type(x) for x in S_brazil_valid.geometry]).value_counts()"
   ]
  },
  {
   "cell_type": "markdown",
   "id": "65x2T7riHonF",
   "metadata": {
    "id": "65x2T7riHonF"
   },
   "source": [
    "## Buffers and Validity\n",
    "\n",
    "The buffering process helps cleaning simple invalidities:"
   ]
  },
  {
   "cell_type": "code",
   "execution_count": null,
   "id": "PAj05ydv8_hF",
   "metadata": {
    "colab": {
     "base_uri": "https://localhost:8080/",
     "height": 53
    },
    "id": "PAj05ydv8_hF",
    "outputId": "16bb514d-4673-4b56-dab4-8f45c51535ad"
   },
   "outputs": [],
   "source": [
    "S_brazil_valid=S_brazil.copy()\n",
    "\n",
    "S_brazil_valid['geometry'] = S_brazil_valid['geometry'].buffer(0)\n",
    "\n",
    "#any invalid?\n",
    "S_brazil_valid[~S_brazil_valid.is_valid]"
   ]
  },
  {
   "cell_type": "markdown",
   "id": "zDnnoMc7ICYW",
   "metadata": {
    "id": "zDnnoMc7ICYW"
   },
   "source": [
    "This 'buffer trick' may not always work:"
   ]
  },
  {
   "cell_type": "code",
   "execution_count": null,
   "id": "-bOp4B4F9sDN",
   "metadata": {
    "colab": {
     "base_uri": "https://localhost:8080/",
     "height": 540
    },
    "id": "-bOp4B4F9sDN",
    "outputId": "cebf92a3-3962-434d-c5af-13d1f905cb4d"
   },
   "outputs": [],
   "source": [
    "# previously\n",
    "indicatorsByRegion.plot(column =indicatorsByRegion.index,\n",
    "                        edgecolor='white',\n",
    "                        figsize=(15, 10))"
   ]
  },
  {
   "cell_type": "markdown",
   "id": "22e08b0c-a5ea-444c-a5cf-190684a161a8",
   "metadata": {},
   "source": [
    "The worst cases seem AFRICA and EAST AND SOUTHEAST ASIA, as both show some lines that should have disappeared after the dissolving we did a while ago.\n",
    "\n",
    "Did the dissolving process created invalid geometries?"
   ]
  },
  {
   "cell_type": "code",
   "execution_count": null,
   "id": "c3281864-c92e-4b68-a886-29e83e0cdb3e",
   "metadata": {},
   "outputs": [],
   "source": [
    "indicatorsByRegion.geometry.is_valid.value_counts()"
   ]
  },
  {
   "cell_type": "markdown",
   "id": "G7eQNSJJIKl-",
   "metadata": {
    "id": "G7eQNSJJIKl-"
   },
   "source": [
    "Since we do not have invalid geometries, we know the dissolving created some gaps, so the goal is to snap the boundaries together to eliminate these microscopic gaps.\n",
    "\n",
    "We could try the trick  of buffer(0), again:"
   ]
  },
  {
   "cell_type": "code",
   "execution_count": null,
   "id": "TXpvyu_d9umU",
   "metadata": {
    "colab": {
     "base_uri": "https://localhost:8080/",
     "height": 540
    },
    "id": "TXpvyu_d9umU",
    "outputId": "a9ed632f-487c-488c-93cd-b918cb64422a"
   },
   "outputs": [],
   "source": [
    "indicatorsByRegion_prjd=indicatorsByRegion.to_crs(\"ESRI:54052\").copy()\n",
    "indicatorsByRegion_prjd['geometry'] = indicatorsByRegion_prjd.buffer(0)\n",
    "\n",
    "# previously\n",
    "indicatorsByRegion_prjd.plot(column =indicatorsByRegion_prjd.index,\n",
    "                        edgecolor='white',\n",
    "                        figsize=(15, 10))"
   ]
  },
  {
   "cell_type": "markdown",
   "id": "Ng_3aPjpIc6M",
   "metadata": {
    "id": "Ng_3aPjpIc6M"
   },
   "source": [
    "It did not work either. We may increase the buffer:"
   ]
  },
  {
   "cell_type": "code",
   "execution_count": null,
   "id": "oTved9a8-UH8",
   "metadata": {
    "colab": {
     "base_uri": "https://localhost:8080/",
     "height": 540
    },
    "id": "oTved9a8-UH8",
    "outputId": "66fc8de2-37c0-423c-d7ab-6b6ca85d99b2"
   },
   "outputs": [],
   "source": [
    "indicatorsByRegion_prjd['geometry'] = indicatorsByRegion_prjd.buffer(1)\n",
    "\n",
    "indicatorsByRegion_prjd.plot(column =indicatorsByRegion_prjd.index,\n",
    "                        edgecolor='white',\n",
    "                        figsize=(15, 10))"
   ]
  },
  {
   "cell_type": "markdown",
   "id": "2b896eca-a50e-4434-b529-12e6fa4f28d4",
   "metadata": {},
   "source": [
    "The last version did got rid of the gaps, at least visually. Let's just check the counts in each case:"
   ]
  },
  {
   "cell_type": "code",
   "execution_count": null,
   "id": "effd1293-a115-4cbf-a68e-2dc08783a8df",
   "metadata": {},
   "outputs": [],
   "source": [
    "[(r,len(g.geoms)) for r,g in zip(indicatorsByRegion.index,indicatorsByRegion.geometry) if g.geom_type.startswith('Multi')]"
   ]
  },
  {
   "cell_type": "code",
   "execution_count": null,
   "id": "1ab0120c-27d0-498e-8dc1-f222244124dd",
   "metadata": {},
   "outputs": [],
   "source": [
    "[(r,len(g.geoms)) for r,g in zip(indicatorsByRegion_prjd.index,indicatorsByRegion_prjd.geometry)  if g.geom_type.startswith('Multi')]"
   ]
  },
  {
   "cell_type": "markdown",
   "id": "rdsk7MTUItrn",
   "metadata": {
    "id": "rdsk7MTUItrn"
   },
   "source": [
    "It seems AFRICA issue was solved, but not EAST AND SOUTHEAST ASIA. Thee seems to be a really big issue in those borders (Mongolia and China). Let's explore:"
   ]
  },
  {
   "cell_type": "code",
   "execution_count": null,
   "id": "49093b9a-e2bc-4a64-a0da-2bff5a0c360d",
   "metadata": {},
   "outputs": [],
   "source": [
    "china=indicators[indicators.Country.isin(['CHINA'])]\n",
    "mongolia=indicators[indicators.Country.isin(['MONGOLIA'])]\n",
    "\n",
    "china.overlay(mongolia, how='intersection',keep_geom_type=False).geometry"
   ]
  },
  {
   "cell_type": "markdown",
   "id": "ba893547-b00e-495b-9799-12a908271554",
   "metadata": {},
   "source": [
    "So, we have some really bad situation:\n",
    "\n",
    "- There is an intersection between two countries, and there should be none.\n",
    "- There intersection includes objects other than polygons: 'GEOMETRYCOLLECTION'\n",
    "\n",
    "See:\n"
   ]
  },
  {
   "cell_type": "code",
   "execution_count": null,
   "id": "82de9956-afb1-4146-a84a-821310f13ac9",
   "metadata": {},
   "outputs": [],
   "source": [
    "# Quick count of objects in the GeometryCollection\n",
    "result_geom = china.overlay(mongolia, how='intersection',keep_geom_type=False).geometry.iloc[0]\n",
    "if result_geom.geom_type == 'GeometryCollection':\n",
    "    print(f\"Objects in collection: {len(result_geom.geoms)}\")\n",
    "    from collections import Counter\n",
    "    print(dict(Counter(g.geom_type for g in result_geom.geoms)))"
   ]
  },
  {
   "cell_type": "code",
   "execution_count": null,
   "id": "a4d9aade-2583-495f-8a44-56227c43f2dd",
   "metadata": {},
   "outputs": [],
   "source": [
    "## see the intersection:\n",
    "base=china.plot(color='lightgrey')\n",
    "mongolia.plot(color='yellow',ax=base)\n",
    "china.overlay(mongolia, how='intersection',keep_geom_type=False).plot(ax=base)"
   ]
  },
  {
   "cell_type": "markdown",
   "id": "75f1fd42-45a2-41d5-a048-7a32d441b217",
   "metadata": {},
   "source": [
    "The solution to this, believe me, will not be trivial: the border is not continuous, and creating a 'new frontier' between China and Mongolia will demand more functions than the ones we have taught so far. Situations like this require smart decisions, like get a new map  with a [better quality](https://www.naturalearthdata.com/downloads/110m-cultural-vectors/)."
   ]
  }
 ],
 "metadata": {
  "anaconda-cloud": {
   "attach-environment": true,
   "summary": "test"
  },
  "colab": {
   "provenance": []
  },
  "hide_input": false,
  "jupytext": {
   "cell_metadata_filter": "-all",
   "notebook_metadata_filter": "-all"
  },
  "kernelspec": {
   "display_name": "Python 3 (ipykernel)",
   "language": "python",
   "name": "python3"
  },
  "language_info": {
   "codemirror_mode": {
    "name": "ipython",
    "version": 3
   },
   "file_extension": ".py",
   "mimetype": "text/x-python",
   "name": "python",
   "nbconvert_exporter": "python",
   "pygments_lexer": "ipython3",
   "version": "3.11.13"
  },
  "toc-autonumbering": false
 },
 "nbformat": 4,
 "nbformat_minor": 5
}
