{
 "cells": [
  {
   "cell_type": "markdown",
   "id": "f8746832",
   "metadata": {
    "id": "f8746832"
   },
   "source": [
    "<center><img src=\"https://i.imgur.com/zRrFdsf.png\" width=\"700\"></center>\n",
    "\n"
   ]
  },
  {
   "cell_type": "markdown",
   "id": "af76d2a2",
   "metadata": {
    "id": "af76d2a2"
   },
   "source": [
    "<a target=\"_blank\" href=\"https://colab.research.google.com/github/CienciaDeDatosEspacial/Operations-onGeoDF/blob/main/index.ipynb\">\n",
    "  <img src=\"https://colab.research.google.com/assets/colab-badge.svg\" alt=\"Open In Colab\"/>\n",
    "</a>\n",
    "\n",
    "# Binary Spatial operations on  Geo Dataframes\n",
    "\n",
    "This time the spatial operations will be applied when we have as input two GDFs. "
   ]
  },
  {
   "cell_type": "markdown",
   "id": "2677ec11-108e-441c-8231-c994d5dcf6a4",
   "metadata": {},
   "source": [
    "## Getting ready"
   ]
  },
  {
   "cell_type": "markdown",
   "id": "244a5266",
   "metadata": {
    "id": "244a5266"
   },
   "source": [
    "The links to the our maps on GitHub are here:"
   ]
  },
  {
   "cell_type": "code",
   "execution_count": null,
   "id": "f5bcb405-dfc6-4b14-8499-d9e42805336d",
   "metadata": {
    "colab": {
     "base_uri": "https://localhost:8080/",
     "height": 143
    },
    "id": "f5bcb405-dfc6-4b14-8499-d9e42805336d",
    "outputId": "5a969405-6147-4637-e40f-519a2e199062"
   },
   "outputs": [],
   "source": [
    "linkWorldMap=\"https://github.com/CienciaDeDatosEspacial/dataSets/raw/refs/heads/main/WORLD/worldMaps.gpkg\"\n",
    "linkBrazil=\"https://github.com/CienciaDeDatosEspacial/dataSets/raw/refs/heads/main/BRAZIL/brazil_5880.gpkg\"\n",
    "linkIndicators=\"https://github.com/CienciaDeDatosEspacial/dataSets/raw/refs/heads/main/WORLD/worldindicators.json\""
   ]
  },
  {
   "cell_type": "markdown",
   "id": "7b51c669-0bf7-4d3b-a746-991ff520922c",
   "metadata": {},
   "source": [
    "Let me introduce another [data source on seaports](https://msi.nga.mil/Publications/WPI). Their locations in long/lat is stored in the file **seaports.csv** which we already have on GitHub:"
   ]
  },
  {
   "cell_type": "code",
   "execution_count": null,
   "id": "23b37c56-cac3-45d7-b5a4-49012da52263",
   "metadata": {},
   "outputs": [],
   "source": [
    "linkSeaPorts='https://github.com/CienciaDeDatosEspacial/dataSets/raw/refs/heads/main/WORLD/seaports.csv'"
   ]
  },
  {
   "cell_type": "markdown",
   "id": "e8fb7cf4-1379-49f0-916d-0b3bf5be0c39",
   "metadata": {},
   "source": [
    "Let's get some maps:"
   ]
  },
  {
   "cell_type": "code",
   "execution_count": null,
   "id": "650f1ceb-2e67-487b-92ae-0735c12e9b4c",
   "metadata": {},
   "outputs": [],
   "source": [
    "import geopandas as gpd\n",
    "\n",
    "#world \n",
    "world_rivers=gpd.read_file(linkWorldMap,layer='rivers')\n",
    "#brazil \n",
    "brazil5880=gpd.read_file(linkBrazil,layer='country')\n",
    "airports_brazil5880=gpd.read_file(linkBrazil,layer='airports')\n",
    "states_brazil5880=gpd.read_file(linkBrazil,layer='states')\n",
    "municipalities_brazil5880=gpd.read_file(linkBrazil,layer='municipalities')\n",
    "#some indicators\n",
    "indicators=gpd.read_file(linkIndicators)\n",
    "\n",
    "# the seaports\n",
    "import pandas as pd \n",
    "infoseaports=pd.read_csv(linkSeaPorts)"
   ]
  },
  {
   "cell_type": "code",
   "execution_count": null,
   "id": "2ece4e65-d21c-404c-9921-9befdd3b5874",
   "metadata": {},
   "outputs": [],
   "source": [
    "# the sesports data has too manny columns:\n",
    "len(infoseaports.columns)"
   ]
  },
  {
   "cell_type": "markdown",
   "id": "97e9afb9-529b-416f-bc18-1bf773768ab7",
   "metadata": {},
   "source": [
    "Let me keep some columns, and turn the DF into a GDF:"
   ]
  },
  {
   "cell_type": "code",
   "execution_count": null,
   "id": "33c8c5f5-c135-43c0-a43b-b3472ba6d56a",
   "metadata": {},
   "outputs": [],
   "source": [
    "#rename\n",
    "infoseaports.rename(columns={'Main Port Name':'seaport_name','Country Code':'country_name'},inplace=True)\n",
    "\n",
    "#keep few columns\n",
    "infoseaports=infoseaports.loc[:,['seaport_name', 'country_name','Latitude', 'Longitude']]\n",
    "\n",
    "#spatial points (unprojected)\n",
    "seaports=gpd.GeoDataFrame(data=infoseaports.copy(),\n",
    "                           geometry=gpd.points_from_xy(infoseaports.Longitude,\n",
    "                                                       infoseaports.Latitude), \n",
    "                          crs=4326)# notice it is unprojected\n",
    "\n",
    "# keep Brazil\n",
    "seaports_bra=seaports[seaports['country_name']=='Brazil'].copy()\n",
    "\n",
    "# reset indexes\n",
    "seaports_bra.reset_index(drop=True, inplace=True)\n",
    "\n",
    "# reprojecting\n",
    "seaports_brazil5880=seaports_bra.to_crs(5880) # projected crs"
   ]
  },
  {
   "cell_type": "markdown",
   "id": "c2fc940f",
   "metadata": {
    "id": "c2fc940f"
   },
   "source": [
    "**Before proceeding**, let me compute some GDFs we created the previous session:\n"
   ]
  },
  {
   "cell_type": "markdown",
   "id": "f08579d5-5736-4122-9b69-22d8b98e8f8e",
   "metadata": {},
   "source": [
    "* The centroid of Brazil"
   ]
  },
  {
   "cell_type": "code",
   "execution_count": null,
   "id": "a6a221f3-51db-4264-83e3-da0fa8eacc0a",
   "metadata": {},
   "outputs": [],
   "source": [
    "brazil5880_cen=brazil5880.centroid"
   ]
  },
  {
   "cell_type": "markdown",
   "id": "0bd55fc1-b5dd-456b-8991-35f4c368625e",
   "metadata": {},
   "source": [
    "- Large Brazilian airports"
   ]
  },
  {
   "cell_type": "code",
   "execution_count": null,
   "id": "300445fe-1709-4002-bafb-4f6c226c78e9",
   "metadata": {},
   "outputs": [],
   "source": [
    "large_airports=airports_brazil5880.query(\"airport_type=='large_airport'\")"
   ]
  },
  {
   "cell_type": "markdown",
   "id": "9c6c78ea-61d2-49df-8d77-af2d008e416a",
   "metadata": {},
   "source": [
    "- Amazon Rivers"
   ]
  },
  {
   "cell_type": "code",
   "execution_count": null,
   "id": "52b9c6ef-19c3-48cb-b9d5-8dac5e26ca24",
   "metadata": {},
   "outputs": [],
   "source": [
    "AmazonSystem=world_rivers.query(\"SYSTEM=='Amazon'\")\n",
    "AmazonSystem_5880=AmazonSystem.to_crs(5880)"
   ]
  },
  {
   "cell_type": "markdown",
   "id": "1c44c596-e798-44d7-ba22-e24c00ae5044",
   "metadata": {
    "id": "1c44c596-e798-44d7-ba22-e24c00ae5044"
   },
   "source": [
    "- The states in the East, West, South, and North"
   ]
  },
  {
   "cell_type": "code",
   "execution_count": null,
   "id": "21e77302-50cd-4b69-b4ce-8ef62ca7e9e4",
   "metadata": {},
   "outputs": [],
   "source": [
    "mid_x,mid_y=brazil5880_cen.x[0],brazil5880_cen.y[0]\n",
    "\n",
    "# the north\n",
    "N_brazil=states_brazil5880.cx[:,mid_y:]\n",
    "# the south\n",
    "S_brazil=states_brazil5880.cx[:,:mid_y]\n",
    "# the west\n",
    "W_brazil=states_brazil5880.cx[:mid_x,:]\n",
    "# the east\n",
    "E_brazil=states_brazil5880.cx[mid_x:,:]"
   ]
  },
  {
   "cell_type": "markdown",
   "id": "5594016a-5c17-424f-8595-b380921c9780",
   "metadata": {},
   "source": [
    "- The mean fragility by region of the world"
   ]
  },
  {
   "cell_type": "code",
   "execution_count": null,
   "id": "794f3048-257d-4193-89d0-deda71523b9c",
   "metadata": {
    "colab": {
     "base_uri": "https://localhost:8080/",
     "height": 363
    },
    "id": "794f3048-257d-4193-89d0-deda71523b9c",
    "outputId": "80383224-82f9-4082-d7b0-dfb8ce032ab0"
   },
   "outputs": [],
   "source": [
    "indicatorsByRegion=indicators.dissolve(\n",
    "    by=\"region\", #groupby()\n",
    "    aggfunc={\"fragility\": \"mean\"}, #agg()\n",
    "    )"
   ]
  },
  {
   "cell_type": "code",
   "execution_count": null,
   "id": "-c3sNkIr4ehl",
   "metadata": {
    "id": "-c3sNkIr4ehl"
   },
   "outputs": [],
   "source": [
    "# You may need to install if using Colab\n",
    "# !pip install mapclassify"
   ]
  },
  {
   "cell_type": "markdown",
   "id": "6852f4a7-24bb-4540-9324-bf9f67c54637",
   "metadata": {
    "id": "6852f4a7-24bb-4540-9324-bf9f67c54637"
   },
   "source": [
    "\n",
    "_____________\n",
    "\n"
   ]
  },
  {
   "cell_type": "markdown",
   "id": "dce53b61-ecda-4df3-b9be-6a6cf86bdc4c",
   "metadata": {},
   "source": [
    "## I. Distance\n",
    "\n",
    "Distance is a key binary operation as so many practical policy matters depend on knowing distances between objects in space.\n",
    "\n",
    "Any pair of rightly projected GDFs have a distance between them. Below we can make  query using distances:\n",
    "\n",
    "> Which are the airports whose distance to Brazil centroid is > 2500000?"
   ]
  },
  {
   "cell_type": "code",
   "execution_count": null,
   "id": "67fc2686-024b-4cd1-bac0-88dcfd1cc3a8",
   "metadata": {},
   "outputs": [],
   "source": [
    "# this is the centroid we have:\n",
    "brazil5880_cen"
   ]
  },
  {
   "cell_type": "markdown",
   "id": "cc6b1993-de99-4537-be29-482fd12e166f",
   "metadata": {},
   "source": [
    "Then,"
   ]
  },
  {
   "cell_type": "code",
   "execution_count": null,
   "id": "03130c10-c4c4-4d02-aa66-35aeabfbc310",
   "metadata": {},
   "outputs": [],
   "source": [
    "airports_brazil5880[airports_brazil5880.distance(brazil5880_cen[0]) > 2500000]"
   ]
  },
  {
   "cell_type": "markdown",
   "id": "7b2307f8-5682-4fec-9463-c7b6d55a76d9",
   "metadata": {},
   "source": [
    "The results can be confirmed visually:"
   ]
  },
  {
   "cell_type": "code",
   "execution_count": null,
   "id": "eff37bfd-65ca-4f5a-b828-1af1eed8fba9",
   "metadata": {},
   "outputs": [],
   "source": [
    "base=airports_brazil5880[airports_brazil5880.distance(brazil5880_cen.iloc[0]) > 2500000].plot(marker='+',markersize=100)\n",
    "airports_brazil5880.plot(ax=base,color='grey', markersize=0.1)\n",
    "brazil5880_cen.plot(ax=base,color='red')"
   ]
  },
  {
   "cell_type": "markdown",
   "id": "1c1eac21-eefc-4a2c-b393-93160683b8c1",
   "metadata": {},
   "source": [
    "Let me review how distances work between different kinds of geometries:"
   ]
  },
  {
   "cell_type": "markdown",
   "id": "ec0e6aff-3a98-40eb-8313-6ac724ee661f",
   "metadata": {},
   "source": [
    "### a.  Distance between points\n",
    "\n",
    "We have these points:\n"
   ]
  },
  {
   "cell_type": "code",
   "execution_count": null,
   "id": "1d2771d5-9710-4b4c-9feb-698029ddcaa0",
   "metadata": {},
   "outputs": [],
   "source": [
    "seaports_brazil5880.head()"
   ]
  },
  {
   "cell_type": "code",
   "execution_count": null,
   "id": "914bf0e0-0fe8-44bb-997d-d229df1b5cf4",
   "metadata": {},
   "outputs": [],
   "source": [
    "large_airports.head()"
   ]
  },
  {
   "cell_type": "markdown",
   "id": "c5803c0b-f58b-4714-a17e-24514f95287a",
   "metadata": {},
   "source": [
    "For results of distance operation to be more insightful, we may do this:"
   ]
  },
  {
   "cell_type": "code",
   "execution_count": null,
   "id": "4e6eb5e2-c901-4881-b281-1c4e9b3ef438",
   "metadata": {},
   "outputs": [],
   "source": [
    "# index will be names of airports/seaports instead of numbers\n",
    "large_airports.set_index('airport_name',inplace=True)\n",
    "seaports_brazil5880.set_index('seaport_name',inplace=True)"
   ]
  },
  {
   "cell_type": "markdown",
   "id": "80dc32b4-3d9b-4e1e-87c5-2adc2dc3f9b5",
   "metadata": {},
   "source": [
    "> The distance from each airport to the \"Dtse / Gegua Oil Terminal\""
   ]
  },
  {
   "cell_type": "code",
   "execution_count": null,
   "id": "e3e97535-58b0-47ee-9724-88ecbc4cf1b1",
   "metadata": {},
   "outputs": [],
   "source": [
    "large_airports.distance(seaports_brazil5880.geometry.iloc[0])"
   ]
  },
  {
   "cell_type": "markdown",
   "id": "7484b0c5-ac6e-4a25-8be5-6e3ada2ab6ad",
   "metadata": {},
   "source": [
    "What about computing...\n",
    "\n",
    "> All the distances between large aiports and seaports (in km)"
   ]
  },
  {
   "cell_type": "code",
   "execution_count": null,
   "id": "732b442a-bc31-4522-aec5-0cbbca069ec4",
   "metadata": {},
   "outputs": [],
   "source": [
    "# apply creates a LOOP, computes distances from each seaport to all large airports\n",
    "seaports_brazil5880.geometry.apply\\\n",
    "(lambda seaport: large_airports.geometry.distance(seaport)/1000)"
   ]
  },
  {
   "cell_type": "markdown",
   "id": "e1bf8401-ba3a-42df-a31e-53b8d9f46509",
   "metadata": {},
   "source": [
    "If we save the matrix..."
   ]
  },
  {
   "cell_type": "code",
   "execution_count": null,
   "id": "05c0c0fa-96f3-4f82-8a98-c6c30b570b95",
   "metadata": {},
   "outputs": [],
   "source": [
    "D_Matrix_sea_air=seaports_brazil5880.geometry.apply \\\n",
    "                (lambda seaport: large_airports.geometry.distance(seaport)/1000)"
   ]
  },
  {
   "cell_type": "markdown",
   "id": "344e4efb-277f-44c0-b06b-b9996b9a3133",
   "metadata": {},
   "source": [
    "We can compute some distance stats from there:"
   ]
  },
  {
   "cell_type": "code",
   "execution_count": null,
   "id": "e50fe44a-4ba2-45cc-bf5f-e80cfd513d13",
   "metadata": {},
   "outputs": [],
   "source": [
    "Stat_sea_air=pd.DataFrame()\n",
    "Stat_sea_air['mean']=D_Matrix_sea_air.mean(axis=1) # mean D to all airports\n",
    "Stat_sea_air['min']=D_Matrix_sea_air.min(axis=1)# min D to all airports\n",
    "Stat_sea_air['max']=D_Matrix_sea_air.max(axis=1)# max D to all airports\n",
    "\n",
    "# see some\n",
    "Stat_sea_air.head(10)"
   ]
  },
  {
   "cell_type": "markdown",
   "id": "17565f68-8797-44be-8212-a7a2776a458a",
   "metadata": {},
   "source": [
    "Of course, the idmax and idmin could come in handy:"
   ]
  },
  {
   "cell_type": "code",
   "execution_count": null,
   "id": "8690e80d-e3c5-4d22-99cc-8954ea7fee9b",
   "metadata": {},
   "outputs": [],
   "source": [
    "# farthest airport to each seaport\n",
    "D_Matrix_sea_air.idxmax(axis=1).head()"
   ]
  },
  {
   "cell_type": "code",
   "execution_count": null,
   "id": "ffcb2ed2-7e2f-4bd4-9289-c5b68b328d6f",
   "metadata": {},
   "outputs": [],
   "source": [
    "# farthest seaport to each airport\n",
    "D_Matrix_sea_air.idxmax(axis=0).head()"
   ]
  },
  {
   "cell_type": "code",
   "execution_count": null,
   "id": "3dce5c5a-2b8d-4930-a476-5be12829f5d8",
   "metadata": {},
   "outputs": [],
   "source": [
    "# closest airport to each seaport\n",
    "D_Matrix_sea_air.idxmin(axis=1).head()"
   ]
  },
  {
   "cell_type": "code",
   "execution_count": null,
   "id": "9ba65570-a5da-48a9-ba91-74c3f34a7bc4",
   "metadata": {},
   "outputs": [],
   "source": [
    "# closest seaport to each airport\n",
    "D_Matrix_sea_air.idxmin(axis=0).head()"
   ]
  },
  {
   "cell_type": "markdown",
   "id": "97c282ec-edae-4a48-a4ea-08a2694cae42",
   "metadata": {},
   "source": [
    "### b. Distance between line and point\n",
    "\n",
    "Once we know understand how **distance** and idxmin/idxmax work, we can feel comfortable in this stage. \n",
    "\n",
    "Let's use these rivers from before:"
   ]
  },
  {
   "cell_type": "code",
   "execution_count": null,
   "id": "fb1bd828-00c0-4629-878f-c0e7fc5b9436",
   "metadata": {},
   "outputs": [],
   "source": [
    "AmazonSystem_5880.set_index(\"RIVER\",inplace=True)\n",
    "AmazonSystem_5880"
   ]
  },
  {
   "cell_type": "markdown",
   "id": "5b60880d-4dc4-47f3-b35d-180f3f66177d",
   "metadata": {},
   "source": [
    "Then,\n",
    "> Distance from river Tapajos to Guarulhos airport"
   ]
  },
  {
   "cell_type": "code",
   "execution_count": null,
   "id": "243e6709-c61f-437a-afce-f33cb9a89ea0",
   "metadata": {},
   "outputs": [],
   "source": [
    "airName='Guarulhos - Governador André Franco Montoro International Airport'\n",
    "rivName='Tapajos'\n",
    "AmazonSystem_5880.geometry.loc[rivName].distance(large_airports.geometry.loc[airName])/1000"
   ]
  },
  {
   "cell_type": "markdown",
   "id": "cf5edb0d-d99d-43f0-8ce9-d2a4652b7383",
   "metadata": {},
   "source": [
    "We can compute the distance matrix now:"
   ]
  },
  {
   "cell_type": "code",
   "execution_count": null,
   "id": "37a72307-cf6c-4438-ac58-1c6fed1f90fd",
   "metadata": {},
   "outputs": [],
   "source": [
    "D_Matrix_amazRivs_air=AmazonSystem_5880.geometry.apply \\\n",
    "                (lambda river: large_airports.geometry.distance(river)/1000)"
   ]
  },
  {
   "cell_type": "code",
   "execution_count": null,
   "id": "c0b71d58-963c-4dc0-bd54-bdd45bcdbd3e",
   "metadata": {},
   "outputs": [],
   "source": [
    "Stat_amz_air=pd.DataFrame()\n",
    "Stat_amz_air['mean']=D_Matrix_amazRivs_air.mean(axis=1) # mean D to all airports\n",
    "Stat_amz_air['min']=D_Matrix_amazRivs_air.min(axis=1)# min D to all airports\n",
    "Stat_amz_air['max']=D_Matrix_amazRivs_air.max(axis=1)# max D to all airports\n",
    "\n",
    "# see some\n",
    "Stat_amz_air.head(10)"
   ]
  },
  {
   "cell_type": "code",
   "execution_count": null,
   "id": "619ad58c-5197-4f92-9883-75ca8b00699f",
   "metadata": {},
   "outputs": [],
   "source": [
    "# closest river to each airport\n",
    "D_Matrix_amazRivs_air.idxmin(axis=0).head()"
   ]
  },
  {
   "cell_type": "code",
   "execution_count": null,
   "id": "6107daa5-d610-40e2-a1c0-930e7044ee94",
   "metadata": {},
   "outputs": [],
   "source": [
    "# farthest river to each airport\n",
    "D_Matrix_amazRivs_air.idxmax(axis=0).head()"
   ]
  },
  {
   "cell_type": "markdown",
   "id": "1d249122-c2be-43b2-9496-dba32beab171",
   "metadata": {},
   "source": [
    "### c. Between Polygon and Point\n",
    "\n",
    "Let me re use the world rivers to get the rivers in a couple of systems:"
   ]
  },
  {
   "cell_type": "code",
   "execution_count": null,
   "id": "f7759c73-da70-4e24-875a-1318540ad1aa",
   "metadata": {},
   "outputs": [],
   "source": [
    "river_systems=world_rivers.query(\"SYSTEM in ['Amazon','Parana']\")\n",
    "river_systems"
   ]
  },
  {
   "cell_type": "markdown",
   "id": "b0414c61-e3a5-476a-af4c-0bd58e3c745a",
   "metadata": {},
   "source": [
    "Let me combine per system:"
   ]
  },
  {
   "cell_type": "code",
   "execution_count": null,
   "id": "dae1761f-7914-4b9d-9140-8ef51a7b5cb3",
   "metadata": {},
   "outputs": [],
   "source": [
    "ama_para=river_systems.dissolve(by='SYSTEM')\n",
    "ama_para.drop(columns='RIVER',inplace=True)\n",
    "ama_para"
   ]
  },
  {
   "cell_type": "markdown",
   "id": "7f20d8a7-a2ab-4997-af3b-b05902ce2f33",
   "metadata": {},
   "source": [
    "We still have lines:"
   ]
  },
  {
   "cell_type": "code",
   "execution_count": null,
   "id": "8cd483d9-5585-45b7-ad3f-8416a6b2b496",
   "metadata": {},
   "outputs": [],
   "source": [
    "ama_para.plot(cmap='viridis')"
   ]
  },
  {
   "cell_type": "markdown",
   "id": "755dabce-1a0b-4f09-adfe-424bb56ea391",
   "metadata": {},
   "source": [
    "But we will have polygons after this:"
   ]
  },
  {
   "cell_type": "code",
   "execution_count": null,
   "id": "a40a5543-d676-4696-a2d8-a0447b19d3d9",
   "metadata": {},
   "outputs": [],
   "source": [
    "ama_para.convex_hull.plot(cmap='viridis')"
   ]
  },
  {
   "cell_type": "markdown",
   "id": "eea2280b-f1d7-4b62-a891-1f2cd3c48d0c",
   "metadata": {},
   "source": [
    "As we have a geoseries of two geometries..."
   ]
  },
  {
   "cell_type": "code",
   "execution_count": null,
   "id": "b480caad-02ae-4525-a823-3fb7c4c83aa9",
   "metadata": {},
   "outputs": [],
   "source": [
    "ama_para.convex_hull,type(ama_para.convex_hull)"
   ]
  },
  {
   "cell_type": "markdown",
   "id": "fc972130-f2ba-49b8-97d4-624ec1d0791d",
   "metadata": {},
   "source": [
    "Let's turn that into a GDF:"
   ]
  },
  {
   "cell_type": "code",
   "execution_count": null,
   "id": "f6085f9d-044c-43eb-ac09-110dba687c53",
   "metadata": {},
   "outputs": [],
   "source": [
    "ama_para_hulls=ama_para.convex_hull.to_frame()\n",
    "ama_para_hulls.rename(columns={0:'geometry'},inplace=True)\n",
    "ama_para_hulls=ama_para_hulls.set_geometry('geometry')\n",
    "ama_para_hulls.crs=\"EPSG:5880\"\n",
    "\n",
    "#voila\n",
    "ama_para_hulls"
   ]
  },
  {
   "cell_type": "markdown",
   "id": "6c0a05f1-9e77-451b-a0b6-f0a69ecbd044",
   "metadata": {},
   "source": [
    "And now, the distance matrix:"
   ]
  },
  {
   "cell_type": "code",
   "execution_count": null,
   "id": "f4d2e3c6-6a33-4247-b83b-5055b5ac980e",
   "metadata": {},
   "outputs": [],
   "source": [
    "D_Matrix_SYSHulls_air=ama_para_hulls.geometry.apply \\\n",
    "                (lambda system: large_airports.geometry.distance(system)/1000)\n",
    "D_Matrix_SYSHulls_air"
   ]
  },
  {
   "cell_type": "markdown",
   "id": "d97ed48a-1dd4-48e0-9940-de75ea43b5ed",
   "metadata": {},
   "source": [
    "From here, you can compute distances between other kinds of geometries."
   ]
  },
  {
   "cell_type": "markdown",
   "id": "be643505-1c8f-435c-b3ca-150aee9c4b3b",
   "metadata": {
    "id": "be643505-1c8f-435c-b3ca-150aee9c4b3b"
   },
   "source": [
    "## II. Clipping\n",
    "\n",
    "Clipping uses a GDF geometry as a MASK to cut another GDF which suppossedly is bigger and needes to be clipped."
   ]
  },
  {
   "cell_type": "markdown",
   "id": "01e11a63-f60d-46b7-90b3-29f8e554227f",
   "metadata": {
    "id": "01e11a63-f60d-46b7-90b3-29f8e554227f"
   },
   "source": [
    "Pay attention to the world rivers again:"
   ]
  },
  {
   "cell_type": "code",
   "execution_count": null,
   "id": "e04c8325-ac9e-416a-a15d-165a3945c028",
   "metadata": {
    "colab": {
     "base_uri": "https://localhost:8080/",
     "height": 424
    },
    "id": "e04c8325-ac9e-416a-a15d-165a3945c028",
    "outputId": "59e3b63c-7f48-4f5c-f269-102a2f7388b5"
   },
   "outputs": [],
   "source": [
    "world_rivers"
   ]
  },
  {
   "cell_type": "markdown",
   "id": "c6fcbcc4-6b4e-45ea-ba63-814549807e6d",
   "metadata": {
    "id": "c6fcbcc4-6b4e-45ea-ba63-814549807e6d"
   },
   "source": [
    "As you see, this GDF has no Country column. But since it has geometry, you can keep the rivers, or their sections, that serve a country:"
   ]
  },
  {
   "cell_type": "code",
   "execution_count": null,
   "id": "5b6a5884-4c38-4cf9-b452-c472e409d82b",
   "metadata": {
    "id": "5b6a5884-4c38-4cf9-b452-c472e409d82b"
   },
   "outputs": [],
   "source": [
    "rivers_brazil5880 = gpd.clip(gdf=world_rivers.to_crs(5880),\n",
    "                             mask=brazil5880)"
   ]
  },
  {
   "cell_type": "markdown",
   "id": "59424b3b-f335-47dd-8496-c4a7a5b7ee72",
   "metadata": {
    "id": "59424b3b-f335-47dd-8496-c4a7a5b7ee72"
   },
   "source": [
    "Then, you can plot the clipped version:"
   ]
  },
  {
   "cell_type": "code",
   "execution_count": null,
   "id": "4cc43012-dcc3-45b3-b31e-35bcb26cab94",
   "metadata": {
    "colab": {
     "base_uri": "https://localhost:8080/",
     "height": 463
    },
    "id": "4cc43012-dcc3-45b3-b31e-35bcb26cab94",
    "outputId": "684ed3d4-de8e-4541-f1b2-8c2dc6e30281"
   },
   "outputs": [],
   "source": [
    "base = brazil5880.plot(facecolor=\"greenyellow\", edgecolor='black', linewidth=0.4,figsize=(5,5))\n",
    "rivers_brazil5880.plot(edgecolor='blue', linewidth=0.5,\n",
    "                    ax=base)"
   ]
  },
  {
   "cell_type": "markdown",
   "id": "c77dfd82-1685-4f2d-a1ae-3ff26f8f3041",
   "metadata": {},
   "source": [
    "We can create our own mask for clipping:\n",
    "\n",
    "Let me get the **bounding box** of the map (the smallest possible rectangle that completely encloses a geometric shape or set of shapes):"
   ]
  },
  {
   "cell_type": "code",
   "execution_count": null,
   "id": "80f8a267-da8a-4831-be2b-7d83bac3c595",
   "metadata": {
    "colab": {
     "base_uri": "https://localhost:8080/"
    },
    "id": "80f8a267-da8a-4831-be2b-7d83bac3c595",
    "outputId": "0abc437a-fd5d-42e9-9e5a-8ec183735ac7",
    "scrolled": true
   },
   "outputs": [],
   "source": [
    "brazil5880.total_bounds #[minx, miny, maxx, maxy]"
   ]
  },
  {
   "cell_type": "code",
   "execution_count": null,
   "id": "76f1dee2-1db3-4aca-a389-0d9b87718514",
   "metadata": {},
   "outputs": [],
   "source": [
    "# saving the output\n",
    "minx, miny, maxx, maxy=brazil5880.total_bounds\n",
    "minx, miny, maxx, maxy"
   ]
  },
  {
   "cell_type": "markdown",
   "id": "e00d037a-9493-4bee-807a-c04202409990",
   "metadata": {},
   "source": [
    "I will combine those coordinates with the _centroid_ (mid_x,mid_y)to create a BOX of the north and south of Brazil:"
   ]
  },
  {
   "cell_type": "code",
   "execution_count": null,
   "id": "0180a0cd-311b-43e4-a68a-2fe82f46b4a0",
   "metadata": {
    "colab": {
     "base_uri": "https://localhost:8080/"
    },
    "id": "0180a0cd-311b-43e4-a68a-2fe82f46b4a0",
    "outputId": "8e33577f-7505-4442-fc2e-e55014d0f49c"
   },
   "outputs": [],
   "source": [
    "north_mask = [minx, mid_y, maxx, maxy]\n",
    "south_mask = [minx, minx, maxx, mid_y]\n",
    "\n",
    "# split Brazil\n",
    "states_brazil5880.clip(north_mask).plot(edgecolor=\"yellow\")"
   ]
  },
  {
   "cell_type": "code",
   "execution_count": null,
   "id": "1b9e1c22-e6ec-4671-b60c-a946bccb7791",
   "metadata": {},
   "outputs": [],
   "source": [
    "states_brazil5880.clip(south_mask).plot(edgecolor=\"yellow\")"
   ]
  },
  {
   "cell_type": "markdown",
   "id": "f465c328-5cb2-49ce-a90a-37419ade4a6f",
   "metadata": {},
   "source": [
    "As you see, with clip we can cut polygons (not respecting the borders)."
   ]
  },
  {
   "cell_type": "markdown",
   "id": "b5c4eee9-24fc-4fa2-a639-9d774eb60825",
   "metadata": {},
   "source": [
    "## III. Spatial Joins\n",
    "\n",
    "We’re familiar with **merging**, which joins tables using common keys. Spatial joins, by contrast, rely solely on **geometry columns** to perform various types of filtering. \n",
    "\n",
    "Let me use the brazilian large airports and states:"
   ]
  },
  {
   "cell_type": "code",
   "execution_count": null,
   "id": "a0dfc63d-650e-4f89-bd29-817a42534b8e",
   "metadata": {},
   "outputs": [],
   "source": [
    "large_airports.head()"
   ]
  },
  {
   "cell_type": "markdown",
   "id": "b887209c-7a1a-4a3c-a79e-e74321e373ad",
   "metadata": {},
   "source": [
    "...and:"
   ]
  },
  {
   "cell_type": "code",
   "execution_count": null,
   "id": "e30b503a-c304-4615-aa27-72a66a3a3cc9",
   "metadata": {},
   "outputs": [],
   "source": [
    "states_brazil5880.head()"
   ]
  },
  {
   "cell_type": "code",
   "execution_count": null,
   "id": "58d5a4e6-1d55-434d-9d0e-616394bba9a8",
   "metadata": {},
   "outputs": [],
   "source": [
    "# as before\n",
    "states_brazil5880.set_index('state_name',inplace=True)"
   ]
  },
  {
   "cell_type": "markdown",
   "id": "bc834d8a-ada5-4cfc-9a23-f04800d4cd3e",
   "metadata": {},
   "source": [
    "### a. Within"
   ]
  },
  {
   "cell_type": "markdown",
   "id": "92e16665-bba3-462b-a6cb-971fd2cac082",
   "metadata": {},
   "source": [
    "Let's ask:\n",
    "> The large airports whose geometries are within the borders of a state in Brazil."
   ]
  },
  {
   "cell_type": "code",
   "execution_count": null,
   "id": "e4093e9f-2149-4390-b7fb-676b6a24beff",
   "metadata": {},
   "outputs": [],
   "source": [
    "airports_within_states = gpd.sjoin(\n",
    "    large_airports,         # LEFT: airports we want to filter/keep\n",
    "    states_brazil5880,      # RIGHT: spatial boundaries to check against\n",
    "    how='inner',            # return geometries that match in both LEFT/RIGHT (jointype)\n",
    "    predicate='within'      # spatial condition: LEFT geometry within RIGHT geometry\n",
    ")\n",
    "\n",
    "# these are:\n",
    "airports_within_states"
   ]
  },
  {
   "cell_type": "markdown",
   "id": "d15e0714-7198-4d4f-9c60-e295520f5ce6",
   "metadata": {},
   "source": [
    "We just performed a point-to-polygon spatial join.\n",
    "Notice that the result preserves the original geometries from the LEFT GeoDataFrame — specifically, only those features whose spatial relationship satisfied both the predicate (e.g., 'within') and the join type ('inner').\n",
    "The non-geometric attributes (columns) from the RIGHT GeoDataFrame are joined to the matching rows."
   ]
  },
  {
   "cell_type": "markdown",
   "id": "b5304d8d-9ff5-4c65-94ad-5a7c4727396a",
   "metadata": {},
   "source": [
    "### b. Contains"
   ]
  },
  {
   "cell_type": "markdown",
   "id": "9a8607e8-a979-4cdb-b980-83d474c2418d",
   "metadata": {},
   "source": [
    "Importantly, if the LEFT GeoDataFrame contains polygons and the RIGHT contains points (a polygon-to-point join), you’ll typically need to use a different predicate — such as 'contains' — to express the spatial relationship correctly.\n",
    "\n",
    "> Brazilian states that house large airports"
   ]
  },
  {
   "cell_type": "code",
   "execution_count": null,
   "id": "86d0683e-21fd-4300-a04e-59cc7392ef25",
   "metadata": {},
   "outputs": [],
   "source": [
    "states_containing_LargeAirports = gpd.sjoin(states_brazil5880,large_airports,how='inner',\n",
    "                                            predicate='contains')\n",
    "\n",
    "states_containing_LargeAirports"
   ]
  },
  {
   "cell_type": "markdown",
   "id": "1d051af3-f9e2-47f2-974a-f22731bcab89",
   "metadata": {},
   "source": [
    "### c. Intersects\n",
    "\n",
    "'Contains' is literally strict: Any airport located exactly on a state boundary — whether due to data precision, snapping, or real geography — will be excluded, even if it’s “practically” inside the state. More flexibility is achieved with **intersects**.\n",
    "\n",
    "> Large airports whose location is anywhere belonging to a particular state"
   ]
  },
  {
   "cell_type": "code",
   "execution_count": null,
   "id": "ed58e5eb-663f-4973-b6c0-f9e1a00f6532",
   "metadata": {},
   "outputs": [],
   "source": [
    "## Intersects needs at least a common point between both GeoDFs. \n",
    "gpd.sjoin(states_brazil5880,large_airports,\n",
    "          how='inner', predicate='intersects')"
   ]
  },
  {
   "cell_type": "markdown",
   "id": "fa2ca902-c593-4b74-a33a-8169a49c0250",
   "metadata": {},
   "source": [
    "### d. Touches\n",
    "\n",
    "We also have 'touches', a more stringent predicate than 'intersects'. It returns geometries that:\n",
    " - Share a border (for polygons or lines), or\n",
    " - Contact at exactly one point (for points or endpoints).\n",
    "\n",
    "> Which states are neighbors of 'BAHIA\", including BAHIA"
   ]
  },
  {
   "cell_type": "code",
   "execution_count": null,
   "id": "9c2276e2-4e96-43b3-ab33-45f90eeea7fc",
   "metadata": {},
   "outputs": [],
   "source": [
    "# Neighbors of Bahia?\n",
    "gpd.sjoin(N_brazil.loc[N_brazil.state_name=='Bahia',:],N_brazil,how='inner', predicate='intersects').shape"
   ]
  },
  {
   "cell_type": "markdown",
   "id": "f862a19d-e5ec-4268-b126-dcbab84693c3",
   "metadata": {},
   "source": [
    "That is, Bahia seems to share borders with 5 states:"
   ]
  },
  {
   "cell_type": "code",
   "execution_count": null,
   "id": "65d81e9d-b406-47de-9b06-dd26ed2b58d7",
   "metadata": {},
   "outputs": [],
   "source": [
    "base=gpd.sjoin(N_brazil,N_brazil.loc[N_brazil.state_name=='Bahia',:],\n",
    "               how='inner', \n",
    "               predicate='intersects').plot(color='yellow',edgecolor='red')\n",
    "N_brazil.loc[N_brazil.state_name=='Bahia',:].plot(ax=base, color='red')"
   ]
  },
  {
   "cell_type": "markdown",
   "id": "bbe020a9-92cf-40de-8eab-2edb5d9088ee",
   "metadata": {},
   "source": [
    "However, because many free GeoDataFrames — especially those sourced as Shapefiles — contain topological imperfections like gaps, overlaps, or misaligned vertices, 'touches' often fails to detect what should be adjacent features. Ironically, this “failure” can be useful: 'touches' acts as a diagnostic tool — highlighting where boundaries are not perfectly aligned."
   ]
  },
  {
   "cell_type": "code",
   "execution_count": null,
   "id": "a2fcd8fc-b227-40c4-860e-c6367385d980",
   "metadata": {},
   "outputs": [],
   "source": [
    "gpd.sjoin(N_brazil.loc[N_brazil.state_name=='Bahia',:],N_brazil,how='inner', predicate='touches').shape"
   ]
  },
  {
   "cell_type": "markdown",
   "id": "a78b37ed-372c-48db-ad41-193e70866a5c",
   "metadata": {},
   "source": [
    "See the neighbor that disappears:"
   ]
  },
  {
   "cell_type": "code",
   "execution_count": null,
   "id": "0f7315ce-674e-4ed4-a3ea-c302d5bbdd8b",
   "metadata": {},
   "outputs": [],
   "source": [
    "base=gpd.sjoin(N_brazil,N_brazil.loc[N_brazil.state_name=='Bahia',:],\n",
    "               how='inner', \n",
    "               predicate='touches').plot(color='yellow',edgecolor='red')\n",
    "N_brazil.loc[N_brazil.state_name=='Bahia',:].plot(ax=base, color='red')"
   ]
  },
  {
   "cell_type": "markdown",
   "id": "542dcd95-0a36-4d83-8216-13a7da41b41e",
   "metadata": {},
   "source": [
    "### e. Crosses\n",
    "\n",
    "When we have **lines**, we may need **crosses**. Let me subset our rivers:"
   ]
  },
  {
   "cell_type": "code",
   "execution_count": null,
   "id": "d74706f6-8eb3-4d5a-a5ad-00b896a0738c",
   "metadata": {},
   "outputs": [],
   "source": [
    "amazonSystem=rivers_brazil5880[rivers_brazil5880.SYSTEM=='Amazon']\n",
    "amazonSystem.set_index('RIVER',inplace=True)"
   ]
  },
  {
   "cell_type": "markdown",
   "id": "06bf70f4-9fa3-4d2c-bb19-099e0317641b",
   "metadata": {},
   "source": [
    "Then,\n",
    "> Which rivers from the Amazon system are intersecting states?"
   ]
  },
  {
   "cell_type": "code",
   "execution_count": null,
   "id": "4b255e2d-1410-47c5-ae3a-936757b47152",
   "metadata": {},
   "outputs": [],
   "source": [
    "gpd.sjoin(amazonSystem,states_brazil5880,how='inner', predicate='intersects')"
   ]
  },
  {
   "cell_type": "markdown",
   "id": "4e3fd7eb-bf69-4f62-8f85-93f4a6e908bc",
   "metadata": {},
   "source": [
    "A count of the result:"
   ]
  },
  {
   "cell_type": "code",
   "execution_count": null,
   "id": "96be5973-9fea-45d3-a6de-a8a6ff7b868a",
   "metadata": {},
   "outputs": [],
   "source": [
    "gpd.sjoin(amazonSystem,states_brazil5880,how='inner', predicate='intersects').shape"
   ]
  },
  {
   "cell_type": "markdown",
   "id": "ea5546ab-0870-406a-9ef6-dff58b69ad03",
   "metadata": {},
   "source": [
    "Alternatively,\n",
    "\n",
    "> Which rivers from the Amazon system are crossing states?"
   ]
  },
  {
   "cell_type": "code",
   "execution_count": null,
   "id": "ebd2b4be-3b5f-47d4-b42d-e4a4d0a0f6ad",
   "metadata": {},
   "outputs": [],
   "source": [
    "gpd.sjoin(amazonSystem,states_brazil5880,how='inner', predicate='crosses')"
   ]
  },
  {
   "cell_type": "markdown",
   "id": "0d8dd114-c458-4e54-8abf-34bf9d7c0ba8",
   "metadata": {},
   "source": [
    "You got one less:"
   ]
  },
  {
   "cell_type": "code",
   "execution_count": null,
   "id": "80662036-9e9a-47b3-af64-8287707c95ed",
   "metadata": {},
   "outputs": [],
   "source": [
    "gpd.sjoin(amazonSystem,states_brazil5880,how='inner', predicate='crosses').shape"
   ]
  },
  {
   "cell_type": "markdown",
   "id": "49f10269-28e7-4ec2-851c-d8b8acacb161",
   "metadata": {},
   "source": [
    "Again, _intersects_ means both geometries have some 'space' in common. But **crosses** is an intersection that has to cross the spatial object. From the result above, there is one river that shares space with the state, but is not crossing its border:"
   ]
  },
  {
   "cell_type": "code",
   "execution_count": null,
   "id": "1ce5511d-bcfe-4008-9989-6c349685a83a",
   "metadata": {},
   "outputs": [],
   "source": [
    "# Get intersects result\n",
    "intersects_result = gpd.sjoin(amazonSystem,states_brazil5880, how='inner', predicate='intersects')\n",
    "intersects_result"
   ]
  },
  {
   "cell_type": "code",
   "execution_count": null,
   "id": "9f702482-0263-498b-bd87-49686f5d00ba",
   "metadata": {},
   "outputs": [],
   "source": [
    "# Get crosses result\n",
    "crosses_result = gpd.sjoin(amazonSystem,states_brazil5880, how='inner', predicate='crosses')\n",
    "crosses_result"
   ]
  },
  {
   "cell_type": "code",
   "execution_count": null,
   "id": "3bda6206-14b8-4d32-822e-9dc599e1a8c4",
   "metadata": {},
   "outputs": [],
   "source": [
    "river_notCrossing=list(set(intersects_result.index)-set(crosses_result.index))\n",
    "river_notCrossing"
   ]
  },
  {
   "cell_type": "code",
   "execution_count": null,
   "id": "ac682687-f791-47ca-b6d1-86fb80ba6eef",
   "metadata": {},
   "outputs": [],
   "source": [
    "# Find indexes/columns\n",
    "state_notCrossed=intersects_result.loc[river_notCrossing,'state_name'].to_list()\n",
    "state_notCrossed"
   ]
  },
  {
   "cell_type": "markdown",
   "id": "98684eea-ab6b-42f8-8afa-d66000fd0c17",
   "metadata": {},
   "source": [
    "Now we know the river that is not crossing an state, and the name of that state."
   ]
  },
  {
   "cell_type": "code",
   "execution_count": null,
   "id": "06cc6736-5808-41c8-8062-5f72527c8cdb",
   "metadata": {},
   "outputs": [],
   "source": [
    "base=states_brazil5880.loc[state_notCrossed,:].plot(color='w',edgecolor='k',figsize=(12, 8))\n",
    "amazonSystem.plot(ax=base)\n",
    "amazonSystem.loc[river_notCrossing,:].plot(color='red',ax=base)\n"
   ]
  },
  {
   "cell_type": "markdown",
   "id": "aff9f8ed-ce13-4c36-a219-ae4d5f2d0b83",
   "metadata": {},
   "source": [
    "## IV. Spatial Overlay\n",
    "\n",
    "As the name implies, you need two inputs. We might need to create or find some geometries from the geometries we already have. Using a set theory approach, we will see the use of _intersection_, _union_, _difference_, and _symmetric difference_.\n",
    "Let's remember these results:"
   ]
  },
  {
   "cell_type": "code",
   "execution_count": null,
   "id": "5b9c5caf-9e85-4462-b529-89784ecad92c",
   "metadata": {},
   "outputs": [],
   "source": [
    "N_brazil"
   ]
  },
  {
   "cell_type": "code",
   "execution_count": null,
   "id": "1a8b28f5-aba3-4ea9-abbb-6d80f0480fbe",
   "metadata": {},
   "outputs": [],
   "source": [
    "S_brazil"
   ]
  },
  {
   "cell_type": "markdown",
   "id": "c4f50822-09a7-4845-9652-a64cad41d5e7",
   "metadata": {},
   "source": [
    "Let me plot both of them:"
   ]
  },
  {
   "cell_type": "code",
   "execution_count": null,
   "id": "7a5a27d5-7117-43a5-bf61-6542de99e280",
   "metadata": {
    "colab": {
     "base_uri": "https://localhost:8080/",
     "height": 481
    },
    "id": "7a5a27d5-7117-43a5-bf61-6542de99e280",
    "outputId": "efbce584-091a-4ec2-9724-089756d5decf"
   },
   "outputs": [],
   "source": [
    "base= N_brazil.plot(facecolor='black', edgecolor='white',linewidth=0.2, alpha=0.6)\n",
    "S_brazil.plot(facecolor='white', edgecolor='black',linewidth=0.2,ax=base, alpha=0.6)"
   ]
  },
  {
   "cell_type": "markdown",
   "id": "940832b7-250c-46f6-ab20-c65e92e0bd31",
   "metadata": {},
   "source": [
    "The grey area reminds you that the coordinates we used to split the states did not give us a clean cut. Here you see the states in common:"
   ]
  },
  {
   "cell_type": "code",
   "execution_count": null,
   "id": "bf1d298a-325d-4996-8fa0-4cbd48471b25",
   "metadata": {},
   "outputs": [],
   "source": [
    "set(S_brazil.state_name) & set(N_brazil.state_name)"
   ]
  },
  {
   "cell_type": "markdown",
   "id": "69fcdb81-597c-4812-8544-343764ef568a",
   "metadata": {},
   "source": [
    "The same happened in East vs West:"
   ]
  },
  {
   "cell_type": "code",
   "execution_count": null,
   "id": "f6c71c71-f9d1-4a3d-b03e-d3a492ddb2e7",
   "metadata": {},
   "outputs": [],
   "source": [
    "set(E_brazil.state_name) & set(W_brazil.state_name)"
   ]
  },
  {
   "cell_type": "code",
   "execution_count": null,
   "id": "1e119335-f1d0-42fb-8c7a-bcd5f0231578",
   "metadata": {
    "colab": {
     "base_uri": "https://localhost:8080/",
     "height": 481
    },
    "id": "1e119335-f1d0-42fb-8c7a-bcd5f0231578",
    "outputId": "84460d11-0d8a-4259-b753-b07999c6feef"
   },
   "outputs": [],
   "source": [
    "# visualizing\n",
    "base= E_brazil.plot(facecolor='black', edgecolor='white',linewidth=0.2, alpha=0.6)\n",
    "W_brazil.plot(facecolor='white', edgecolor='black',linewidth=0.2,ax=base, alpha=0.6)"
   ]
  },
  {
   "cell_type": "markdown",
   "id": "8e770e96-da53-412d-8ab5-70e186c62f53",
   "metadata": {},
   "source": [
    "Let's play with these GDFs, keep in mind the position of the GDFs:\n",
    "\n",
    "```\n",
    "GDF_left.overlay(GDF_right, ...)\n",
    "```"
   ]
  },
  {
   "cell_type": "markdown",
   "id": "b751684b-270f-4b3a-9b7d-d51ae7f2b641",
   "metadata": {
    "id": "b751684b-270f-4b3a-9b7d-d51ae7f2b641"
   },
   "source": [
    "### a. Intersection\n",
    "\n",
    "We keep what is common between _left_ and _right_ GDFs :"
   ]
  },
  {
   "cell_type": "code",
   "execution_count": null,
   "id": "b6517bb9-b20a-46f9-ba77-d8a0f120f97c",
   "metadata": {
    "colab": {
     "base_uri": "https://localhost:8080/",
     "height": 163
    },
    "id": "b6517bb9-b20a-46f9-ba77-d8a0f120f97c",
    "outputId": "7a93953c-3c9c-4d00-8142-1f05532068e0"
   },
   "outputs": [],
   "source": [
    "NS_brazil=N_brazil.overlay(S_brazil, how=\"intersection\",keep_geom_type=True)\n",
    "# see results\n",
    "NS_brazil"
   ]
  },
  {
   "cell_type": "markdown",
   "id": "539a5c97-abc2-4368-8831-5eb93f2a8e15",
   "metadata": {},
   "source": [
    "Notice we got more rows than when we did this operation:\n",
    "\n",
    "```\n",
    "set(S_brazil.state_name) & set(N_brazil.state_name)\n",
    "```\n",
    "We have three more polygons:"
   ]
  },
  {
   "cell_type": "code",
   "execution_count": null,
   "id": "b977c127-d413-4d2f-ac97-1de1b0d97f05",
   "metadata": {},
   "outputs": [],
   "source": [
    "NS_brazil[NS_brazil.state_name_1!= NS_brazil.state_name_2]"
   ]
  },
  {
   "cell_type": "markdown",
   "id": "ddb5e74e-2a4a-4b97-9476-ad296465cd09",
   "metadata": {},
   "source": [
    "In fact, we are NOT intersecting state names, we are intersecting geometries. Then, the input maps have some topological issues.\n",
    "\n",
    "This is the amount of area that is in fact a topological problem:"
   ]
  },
  {
   "cell_type": "code",
   "execution_count": null,
   "id": "ed29af30-f7b1-4fb2-a48e-e76ca3d242a0",
   "metadata": {},
   "outputs": [],
   "source": [
    "NS_brazil[NS_brazil.state_name_1!= NS_brazil.state_name_2].geometry.area.sum()"
   ]
  },
  {
   "cell_type": "markdown",
   "id": "c5c03087-f4a6-4870-9ef7-19ea6ccc3710",
   "metadata": {},
   "source": [
    "A way to measure the share of the low quality:"
   ]
  },
  {
   "cell_type": "code",
   "execution_count": null,
   "id": "1fb79b39-3c17-42c0-91f6-f9b5056cbeb7",
   "metadata": {},
   "outputs": [],
   "source": [
    "NS_brazil[NS_brazil.state_name_1!= NS_brazil.state_name_2].geometry.area.sum()/  \\\n",
    "NS_brazil[NS_brazil.state_name_1== NS_brazil.state_name_2].geometry.area.sum() #continues from above"
   ]
  },
  {
   "cell_type": "markdown",
   "id": "8b8aad96-b3f9-4c25-9f20-83ce699d763a",
   "metadata": {},
   "source": [
    "So, spatial overlay operations do their best to give you true results; but unfortunately, as the quality of the sources is not perfect, you may get messy results. It is our job to detect and make decisions. Let's keep two GDFs, one with the unperfect result, and another with a 'valid' output."
   ]
  },
  {
   "cell_type": "code",
   "execution_count": null,
   "id": "333abaf6-0a6e-4f87-9b66-d83ec8321fac",
   "metadata": {},
   "outputs": [],
   "source": [
    "NS_brazil_messy=NS_brazil.copy()\n",
    "NS_brazil=NS_brazil[NS_brazil.state_name_1== NS_brazil.state_name_2]"
   ]
  },
  {
   "cell_type": "markdown",
   "id": "63f0b701-618d-4090-a8aa-ea90d45930bc",
   "metadata": {},
   "source": [
    "This should be what we expected to see:"
   ]
  },
  {
   "cell_type": "code",
   "execution_count": null,
   "id": "7effbb8f-183e-4683-8466-619ecc5f03e1",
   "metadata": {},
   "outputs": [],
   "source": [
    "NS_brazil"
   ]
  },
  {
   "cell_type": "markdown",
   "id": "f2d4ee19-1074-4eb2-8b79-4405f4d551fb",
   "metadata": {},
   "source": [
    "The clean data has minor things to improve, delete redundant columns, rename columns, and reset the index so they are a correlative sequence. "
   ]
  },
  {
   "cell_type": "code",
   "execution_count": null,
   "id": "144f3447-84a7-4a04-94e2-0e0e386946a2",
   "metadata": {},
   "outputs": [],
   "source": [
    "# avoid redundancy\n",
    "keep=['state_name_1','state_code_1','geometry']\n",
    "NS_brazil=NS_brazil.loc[:,keep]\n",
    "NS_brazil.rename(columns={'state_name_1':'state_name','state_code_1':'state_code'},inplace=True)\n",
    "\n",
    "# reset for correlative sequence\n",
    "NS_brazil.reset_index(drop=True, inplace=True)"
   ]
  },
  {
   "cell_type": "markdown",
   "id": "81d97f1d-fa30-4793-8094-18e0573fa9b8",
   "metadata": {},
   "source": [
    "Based on the previous case, we may expect a similar situation here:"
   ]
  },
  {
   "cell_type": "code",
   "execution_count": null,
   "id": "a65bd362-ddde-4d7d-98c7-151d7a1d1b0b",
   "metadata": {
    "colab": {
     "base_uri": "https://localhost:8080/",
     "height": 481
    },
    "id": "a65bd362-ddde-4d7d-98c7-151d7a1d1b0b",
    "outputId": "6dc90a38-dab6-41f7-84c3-00d2701b9d18"
   },
   "outputs": [],
   "source": [
    "# keeping the overlay\n",
    "WE_brazil=W_brazil.overlay(E_brazil, how=\"intersection\",keep_geom_type=True)\n",
    "WE_brazil[WE_brazil.state_name_1!= WE_brazil.state_name_2]"
   ]
  },
  {
   "cell_type": "markdown",
   "id": "a4eae87b-6570-4ea2-951b-97c3848dbafd",
   "metadata": {},
   "source": [
    "Let's do the same as before:"
   ]
  },
  {
   "cell_type": "code",
   "execution_count": null,
   "id": "bc2d266d-1469-4850-bd6e-548bd272c6b2",
   "metadata": {},
   "outputs": [],
   "source": [
    "WE_brazil_messy=WE_brazil.copy()\n",
    "WE_brazil=WE_brazil[WE_brazil.state_name_1== WE_brazil.state_name_2]\n",
    "\n",
    "keep=['state_name_1','state_code_1','geometry']\n",
    "WE_brazil=WE_brazil.loc[:,keep]\n",
    "WE_brazil.rename(columns={'state_name_1':'state_name','state_code_1':'state_code'},inplace=True)\n",
    "WE_brazil.reset_index(drop=True, inplace=True)"
   ]
  },
  {
   "cell_type": "markdown",
   "id": "2876a56c-3086-4743-8b13-a1a84b024720",
   "metadata": {},
   "source": [
    "Check this last one:"
   ]
  },
  {
   "cell_type": "code",
   "execution_count": null,
   "id": "d3cc3d34-b382-4dbe-9bfd-699b1444f3e6",
   "metadata": {},
   "outputs": [],
   "source": [
    "base=brazil5880.plot(facecolor='yellow')\n",
    "WE_brazil.plot(ax=base)"
   ]
  },
  {
   "cell_type": "markdown",
   "id": "ec14306e-6c6e-4759-88e0-66a02b4294ec",
   "metadata": {
    "id": "ec14306e-6c6e-4759-88e0-66a02b4294ec"
   },
   "source": [
    "### b. Union\n",
    "\n",
    "Different from UNION_ALL (which acts as DISSOLVE), here we will combine the left and right GDFs. "
   ]
  },
  {
   "cell_type": "code",
   "execution_count": null,
   "id": "4bbcc6ab-975e-4e47-8a07-9ad723c68368",
   "metadata": {
    "colab": {
     "base_uri": "https://localhost:8080/"
    },
    "id": "4bbcc6ab-975e-4e47-8a07-9ad723c68368",
    "outputId": "327ebe28-14b9-4bbb-bcaa-c5bcb1861faa"
   },
   "outputs": [],
   "source": [
    "NS_brazil.info()"
   ]
  },
  {
   "cell_type": "code",
   "execution_count": null,
   "id": "c69c559c-987a-4335-b18c-bc9e0f9fea2b",
   "metadata": {
    "colab": {
     "base_uri": "https://localhost:8080/"
    },
    "id": "c69c559c-987a-4335-b18c-bc9e0f9fea2b",
    "outputId": "ac5add12-0b6c-4c83-c4c8-fa7b1a3011cf"
   },
   "outputs": [],
   "source": [
    "WE_brazil.info()"
   ]
  },
  {
   "cell_type": "code",
   "execution_count": null,
   "id": "5dfab57c-04e5-468d-b60a-0cc82ddeb1de",
   "metadata": {
    "colab": {
     "base_uri": "https://localhost:8080/",
     "height": 424
    },
    "id": "5dfab57c-04e5-468d-b60a-0cc82ddeb1de",
    "outputId": "bd796237-81bd-4a2e-8a18-c43a874113f5"
   },
   "outputs": [],
   "source": [
    "# now\n",
    "NS_brazil.overlay(WE_brazil,how=\"union\",keep_geom_type=True)"
   ]
  },
  {
   "cell_type": "markdown",
   "id": "4630ac7f-d8f5-4f98-b88b-4b3e201cdba3",
   "metadata": {
    "id": "4630ac7f-d8f5-4f98-b88b-4b3e201cdba3"
   },
   "source": [
    "As you see, geometries are fine, but missing values were created where no intersection exists. Notice this operation  identifies the intersection. \n",
    "\n",
    "Pandas has a _concat()_ function, which just pastes two tables, one of top of the other. Notice this will give you one more row (Mato Grosso appears twice) as nothing is done spite of geometries intersect."
   ]
  },
  {
   "cell_type": "code",
   "execution_count": null,
   "id": "dd26202c-f697-4635-9596-5eed71dc777d",
   "metadata": {
    "colab": {
     "base_uri": "https://localhost:8080/",
     "height": 424
    },
    "id": "dd26202c-f697-4635-9596-5eed71dc777d",
    "outputId": "da553bed-30d2-4bac-86b5-e226bf954c03"
   },
   "outputs": [],
   "source": [
    "# appending\n",
    "import pandas as pd\n",
    "\n",
    "pd.concat([NS_brazil,WE_brazil],ignore_index=True)"
   ]
  },
  {
   "cell_type": "markdown",
   "id": "2741107f-24c9-4dd0-bdd9-910a3666b61d",
   "metadata": {
    "id": "2741107f-24c9-4dd0-bdd9-910a3666b61d"
   },
   "source": [
    "Let me create an object to save the overlay result:"
   ]
  },
  {
   "cell_type": "code",
   "execution_count": null,
   "id": "cc7b3bca-13b5-4bae-a431-3a23811f1a73",
   "metadata": {
    "colab": {
     "base_uri": "https://localhost:8080/",
     "height": 89
    },
    "id": "cc7b3bca-13b5-4bae-a431-3a23811f1a73",
    "outputId": "a5dc285e-ea40-4db4-8f69-9317ffb00fa5"
   },
   "outputs": [],
   "source": [
    "MidBrazil=NS_brazil.overlay(WE_brazil,how=\"union\",keep_geom_type=True).dissolve()\n",
    "MidBrazil"
   ]
  },
  {
   "cell_type": "code",
   "execution_count": null,
   "id": "df9d6897-4e84-4b6b-8a76-398b19985d49",
   "metadata": {
    "colab": {
     "base_uri": "https://localhost:8080/",
     "height": 89
    },
    "id": "df9d6897-4e84-4b6b-8a76-398b19985d49",
    "outputId": "e07d59fb-fe67-42d9-dd27-0d16d2b8ee21"
   },
   "outputs": [],
   "source": [
    "# some cleaning\n",
    "\n",
    "MidBrazil['country']='Brazil'\n",
    "MidBrazil['region']='center'\n",
    "# reordering\n",
    "MidBrazil=MidBrazil.loc[:,['country','region','geometry']]\n",
    "\n",
    "MidBrazil"
   ]
  },
  {
   "cell_type": "code",
   "execution_count": null,
   "id": "7023d7a3-2b4f-4a0c-97d6-5e1ab524242a",
   "metadata": {},
   "outputs": [],
   "source": [
    "# see it\n",
    "base=brazil5880.plot(facecolor='yellow')\n",
    "MidBrazil.plot(ax=base)"
   ]
  },
  {
   "cell_type": "markdown",
   "id": "bd80963c-3d9e-4708-af62-6d19149a6a4b",
   "metadata": {
    "id": "bd80963c-3d9e-4708-af62-6d19149a6a4b"
   },
   "source": [
    "### c. Difference\n",
    "\n",
    "Here, you keep what belongs to the left GDF that is not in the right GDF:"
   ]
  },
  {
   "cell_type": "code",
   "execution_count": null,
   "id": "667a9eeb-dadb-4fcf-9c67-23ce0f6da08a",
   "metadata": {
    "colab": {
     "base_uri": "https://localhost:8080/",
     "height": 481
    },
    "id": "667a9eeb-dadb-4fcf-9c67-23ce0f6da08a",
    "outputId": "ca55f1ba-5263-4864-82ea-8c8643eccf05"
   },
   "outputs": [],
   "source": [
    "# we keep nothern states that are not in the southern ones\n",
    "N_brazil.overlay(S_brazil, how='difference')"
   ]
  },
  {
   "cell_type": "code",
   "execution_count": null,
   "id": "8fc7538f-4c2f-47ee-85ca-c3df2783f99c",
   "metadata": {},
   "outputs": [],
   "source": [
    "# using set operations:\n",
    "set(N_brazil.state_name)- set(S_brazil.state_name)"
   ]
  },
  {
   "cell_type": "markdown",
   "id": "796a135d-3c3b-4115-8c11-b9c001cc3476",
   "metadata": {},
   "source": [
    "We got a clean result (remember we are using the not messy GDFs). Let's plot this:"
   ]
  },
  {
   "cell_type": "code",
   "execution_count": null,
   "id": "0bc5fdd2-672b-4770-94ad-e886f7bb094a",
   "metadata": {},
   "outputs": [],
   "source": [
    "base=N_brazil.plot(color='yellow', edgecolor='black',alpha=0.1)\n",
    "N_brazil.overlay(S_brazil, how='difference').plot(ax=base)"
   ]
  },
  {
   "cell_type": "markdown",
   "id": "ae4cc49b-7302-424b-9dec-79dccb01122d",
   "metadata": {},
   "source": [
    "Keep in mind that **difference** is not commutative:"
   ]
  },
  {
   "cell_type": "code",
   "execution_count": null,
   "id": "3ed9cbaa-1036-4a76-935d-68c90210990d",
   "metadata": {},
   "outputs": [],
   "source": [
    "S_brazil.overlay(N_brazil, how='difference')"
   ]
  },
  {
   "cell_type": "markdown",
   "id": "aa1ddd55-aaa6-476f-ae68-5dc8f9fc440e",
   "metadata": {},
   "source": [
    "This a totally different result:"
   ]
  },
  {
   "cell_type": "code",
   "execution_count": null,
   "id": "74cf955a-71ff-4600-b4b9-256273357630",
   "metadata": {},
   "outputs": [],
   "source": [
    "base=N_brazil.plot(color='yellow', edgecolor='black',alpha=0.1)\n",
    "S_brazil.overlay(N_brazil, how='difference').plot(ax=base)"
   ]
  },
  {
   "cell_type": "markdown",
   "id": "8170b033-0707-43e8-b4ee-dca39e46f17a",
   "metadata": {
    "id": "8170b033-0707-43e8-b4ee-dca39e46f17a"
   },
   "source": [
    "### d. Symmetric Difference"
   ]
  },
  {
   "cell_type": "markdown",
   "id": "5f2728ec-f142-47a9-8de2-a65fef18680f",
   "metadata": {
    "id": "5f2728ec-f142-47a9-8de2-a65fef18680f"
   },
   "source": [
    "Here, we keep what is not in the intersection but in both GDFs. Notice that this operation is commutative!"
   ]
  },
  {
   "cell_type": "code",
   "execution_count": null,
   "id": "1a3e81f0-3f80-4a88-98c7-5f6611c50cfe",
   "metadata": {
    "colab": {
     "base_uri": "https://localhost:8080/",
     "height": 481
    },
    "id": "1a3e81f0-3f80-4a88-98c7-5f6611c50cfe",
    "outputId": "6f74eff7-5d91-4ce8-9771-4a4d8de818fd"
   },
   "outputs": [],
   "source": [
    "N_brazil.overlay(S_brazil, how='symmetric_difference')"
   ]
  },
  {
   "cell_type": "markdown",
   "id": "2317badb-dae3-4e00-a7fa-de3a157fbe1c",
   "metadata": {},
   "source": [
    "This operation gave a clean result again. Let's plot it:"
   ]
  },
  {
   "cell_type": "code",
   "execution_count": null,
   "id": "6feddf7a-056a-42f7-9408-62fe691f5635",
   "metadata": {},
   "outputs": [],
   "source": [
    "N_brazil.overlay(S_brazil, how='symmetric_difference').plot()"
   ]
  },
  {
   "cell_type": "markdown",
   "id": "7caa0e58",
   "metadata": {
    "id": "7caa0e58"
   },
   "source": [
    "\n",
    "_____________\n",
    "\n",
    "\n",
    "# Validity of Geometries\n",
    "\n",
    "Remember this case from last class:"
   ]
  },
  {
   "cell_type": "code",
   "execution_count": null,
   "id": "-bOp4B4F9sDN",
   "metadata": {
    "colab": {
     "base_uri": "https://localhost:8080/",
     "height": 540
    },
    "id": "-bOp4B4F9sDN",
    "outputId": "cebf92a3-3962-434d-c5af-13d1f905cb4d"
   },
   "outputs": [],
   "source": [
    "# previously\n",
    "indicatorsByRegion.plot(column =indicatorsByRegion.index,\n",
    "                        edgecolor='white',\n",
    "                        figsize=(15, 10))"
   ]
  },
  {
   "cell_type": "markdown",
   "id": "rdsk7MTUItrn",
   "metadata": {
    "id": "rdsk7MTUItrn"
   },
   "source": [
    "Let's explore with these last operations what is the topological issue:"
   ]
  },
  {
   "cell_type": "code",
   "execution_count": null,
   "id": "49093b9a-e2bc-4a64-a0da-2bff5a0c360d",
   "metadata": {},
   "outputs": [],
   "source": [
    "china=indicators[indicators.Country.isin(['CHINA'])]\n",
    "mongolia=indicators[indicators.Country.isin(['MONGOLIA'])]\n",
    "\n",
    "china.overlay(mongolia, how='intersection',keep_geom_type=False).geometry"
   ]
  },
  {
   "cell_type": "markdown",
   "id": "ba893547-b00e-495b-9799-12a908271554",
   "metadata": {},
   "source": [
    "So, we have some really bad situation:\n",
    "\n",
    "- There is an intersection between two countries, and there should be none.\n",
    "- There intersection includes objects other than polygons: 'GEOMETRYCOLLECTION'\n",
    "\n",
    "See:\n"
   ]
  },
  {
   "cell_type": "code",
   "execution_count": null,
   "id": "82de9956-afb1-4146-a84a-821310f13ac9",
   "metadata": {},
   "outputs": [],
   "source": [
    "# Quick count of objects in the GeometryCollection\n",
    "result_geom = china.overlay(mongolia, how='intersection',keep_geom_type=False).geometry.iloc[0]\n",
    "if result_geom.geom_type == 'GeometryCollection':\n",
    "    print(f\"Objects in collection: {len(result_geom.geoms)}\")\n",
    "    from collections import Counter\n",
    "    print(dict(Counter(g.geom_type for g in result_geom.geoms)))"
   ]
  },
  {
   "cell_type": "code",
   "execution_count": null,
   "id": "a4d9aade-2583-495f-8a44-56227c43f2dd",
   "metadata": {},
   "outputs": [],
   "source": [
    "## see the intersection:\n",
    "base=china.plot(color='lightgrey')\n",
    "mongolia.plot(color='yellow',ax=base)\n",
    "china.overlay(mongolia, how='intersection',keep_geom_type=False).plot(ax=base)"
   ]
  },
  {
   "cell_type": "markdown",
   "id": "75f1fd42-45a2-41d5-a048-7a32d441b217",
   "metadata": {},
   "source": [
    "The solution to this, believe me, will not be trivial: the border is not continuous, and creating a 'new frontier' between China and Mongolia will demand more functions than the ones we have taught so far. Situations like this require smart decisions, like get a new map  with a [better quality](https://www.naturalearthdata.com/downloads/110m-cultural-vectors/)."
   ]
  }
 ],
 "metadata": {
  "anaconda-cloud": {
   "attach-environment": true,
   "summary": "test"
  },
  "colab": {
   "provenance": []
  },
  "hide_input": false,
  "jupytext": {
   "cell_metadata_filter": "-all",
   "notebook_metadata_filter": "-all"
  },
  "kernelspec": {
   "display_name": "Python 3 (ipykernel)",
   "language": "python",
   "name": "python3"
  },
  "language_info": {
   "codemirror_mode": {
    "name": "ipython",
    "version": 3
   },
   "file_extension": ".py",
   "mimetype": "text/x-python",
   "name": "python",
   "nbconvert_exporter": "python",
   "pygments_lexer": "ipython3",
   "version": "3.11.13"
  },
  "toc-autonumbering": false
 },
 "nbformat": 4,
 "nbformat_minor": 5
}
