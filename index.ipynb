{
 "cells": [
  {
   "cell_type": "markdown",
   "id": "f8746832",
   "metadata": {
    "id": "f8746832"
   },
   "source": [
    "<center><img src=\"https://i.imgur.com/zRrFdsf.png\" width=\"700\"></center>\n",
    "\n"
   ]
  },
  {
   "cell_type": "markdown",
   "id": "af76d2a2",
   "metadata": {
    "id": "af76d2a2"
   },
   "source": [
    "<a target=\"_blank\" href=\"https://colab.research.google.com/github/CienciaDeDatosEspacial/Operations-onGeoDF/blob/main/index.ipynb\">\n",
    "  <img src=\"https://colab.research.google.com/assets/colab-badge.svg\" alt=\"Open In Colab\"/>\n",
    "</a>\n",
    "\n",
    "# Basic Spatial operations on  Geo Dataframes\n",
    "\n",
    "We will review some important operations for GeoDataframes (GDF). This is a basic set of tools for a social scientist, but which depend a lot on the quality of the maps you have.\n",
    "\n",
    "A spatial operation is a way of doing arithmetics with geometries! Our inputs being the maps (polygons, lines, or points) will be summed, differentiated, filtered, dissected, and so on. \n",
    "\n",
    "Keep in mind that as basic operations, they will be used later for practical applications in the coming weeks. "
   ]
  },
  {
   "cell_type": "markdown",
   "id": "2677ec11-108e-441c-8231-c994d5dcf6a4",
   "metadata": {},
   "source": [
    "## Getting ready"
   ]
  },
  {
   "cell_type": "markdown",
   "id": "244a5266",
   "metadata": {
    "id": "244a5266"
   },
   "source": [
    "The links to the our maps on GitHub are here:"
   ]
  },
  {
   "cell_type": "code",
   "execution_count": null,
   "id": "f5bcb405-dfc6-4b14-8499-d9e42805336d",
   "metadata": {
    "colab": {
     "base_uri": "https://localhost:8080/",
     "height": 143
    },
    "id": "f5bcb405-dfc6-4b14-8499-d9e42805336d",
    "outputId": "5a969405-6147-4637-e40f-519a2e199062"
   },
   "outputs": [],
   "source": [
    "linkWorldMap=\"https://github.com/CienciaDeDatosEspacial/dataSets/raw/refs/heads/main/WORLD/worldMaps.gpkg\"\n",
    "linkBrazil=\"https://github.com/CienciaDeDatosEspacial/dataSets/raw/refs/heads/main/BRAZIL/brazil_5880.gpkg\"\n",
    "linkIndicators=\"https://github.com/CienciaDeDatosEspacial/dataSets/raw/refs/heads/main/WORLD/worldindicators.json\""
   ]
  },
  {
   "cell_type": "markdown",
   "id": "7b51c669-0bf7-4d3b-a746-991ff520922c",
   "metadata": {},
   "source": [
    "Let me introduce another [data source on seaports](https://msi.nga.mil/Publications/WPI). Their locations in long/lat is stored in the file **seaports.csv** which we already have on GitHub:"
   ]
  },
  {
   "cell_type": "code",
   "execution_count": null,
   "id": "23b37c56-cac3-45d7-b5a4-49012da52263",
   "metadata": {},
   "outputs": [],
   "source": [
    "linkSeaPorts='https://github.com/CienciaDeDatosEspacial/dataSets/raw/refs/heads/main/WORLD/seaports.csv'"
   ]
  },
  {
   "cell_type": "markdown",
   "id": "e8fb7cf4-1379-49f0-916d-0b3bf5be0c39",
   "metadata": {},
   "source": [
    "Let's get some maps:"
   ]
  },
  {
   "cell_type": "code",
   "execution_count": null,
   "id": "650f1ceb-2e67-487b-92ae-0735c12e9b4c",
   "metadata": {},
   "outputs": [],
   "source": [
    "import geopandas as gpd\n",
    "\n",
    "#world \n",
    "world_rivers=gpd.read_file(linkWorldMap,layer='rivers')\n",
    "#brazil \n",
    "brazil5880=gpd.read_file(linkBrazil,layer='country')\n",
    "airports_brazil5880=gpd.read_file(linkBrazil,layer='airports')\n",
    "states_brazil5880=gpd.read_file(linkBrazil,layer='states')\n",
    "municipalities_brazil5880=gpd.read_file(linkBrazil,layer='municipalities')\n",
    "#some indicators\n",
    "indicators=gpd.read_file(linkIndicators)\n",
    "\n",
    "# the seaports\n",
    "import pandas as pd \n",
    "infoseaports=pd.read_csv(linkSeaPorts)"
   ]
  },
  {
   "cell_type": "code",
   "execution_count": null,
   "id": "2ece4e65-d21c-404c-9921-9befdd3b5874",
   "metadata": {},
   "outputs": [],
   "source": [
    "# the sesports data has too manny columns:\n",
    "infoseaports.columns.to_list()"
   ]
  },
  {
   "cell_type": "markdown",
   "id": "97e9afb9-529b-416f-bc18-1bf773768ab7",
   "metadata": {},
   "source": [
    "Let me keep some columns, and turn the DF into a GDF:"
   ]
  },
  {
   "cell_type": "code",
   "execution_count": null,
   "id": "33c8c5f5-c135-43c0-a43b-b3472ba6d56a",
   "metadata": {},
   "outputs": [],
   "source": [
    "#rename\n",
    "infoseaports.rename(columns={'Main Port Name':'seaport_name','Country Code':'country_name'},inplace=True)\n",
    "#keep few columns\n",
    "infoseaports=infoseaports.loc[:,['seaport_name', 'country_name','Latitude', 'Longitude']]\n",
    "#spatial points (unprojected)\n",
    "seaports=gpd.GeoDataFrame(data=infoseaports.copy(),\n",
    "                           geometry=gpd.points_from_xy(infoseaports.Longitude,\n",
    "                                                       infoseaports.Latitude), \n",
    "                          crs=4326)# notice it is unprojected\n",
    "\n",
    "# keep Brazil\n",
    "seaports_bra=seaports[seaports['country_name']=='Brazil'].copy()\n",
    "\n",
    "# reset indexes\n",
    "seaports_bra.reset_index(drop=True, inplace=True)\n",
    "\n",
    "# reprojecting\n",
    "seaports_brazil5880=seaports_bra.to_crs(5880) # projected crs"
   ]
  },
  {
   "cell_type": "markdown",
   "id": "c2fc940f",
   "metadata": {
    "id": "c2fc940f"
   },
   "source": [
    "\n",
    "\n",
    "Now, let's see some important spatial operations!\n"
   ]
  },
  {
   "cell_type": "markdown",
   "id": "f4045360",
   "metadata": {
    "id": "f4045360"
   },
   "source": [
    "\n",
    "\n",
    "_____________\n",
    "\n",
    "\n",
    "\n",
    "# UNARY Operations on Geo DataFrames\n",
    "\n",
    "As the name implies, all we will do here requires as input ONE GDF. \n"
   ]
  },
  {
   "cell_type": "markdown",
   "id": "71837f62-fcce-45b2-9d9a-8c58e71d6716",
   "metadata": {},
   "source": [
    "## I. Filtering"
   ]
  },
  {
   "cell_type": "markdown",
   "id": "0e164d8e-b172-4cb9-9a86-98a3d6a8061d",
   "metadata": {},
   "source": [
    "### a. Using **iloc** and **loc**\n",
    "\n",
    "The condition here depends on knowing index/column positions, or index/column labels."
   ]
  },
  {
   "cell_type": "code",
   "execution_count": null,
   "id": "4ed1361d-8624-41eb-868c-0010ed9c9475",
   "metadata": {
    "colab": {
     "base_uri": "https://localhost:8080/",
     "height": 206
    },
    "id": "4ed1361d-8624-41eb-868c-0010ed9c9475",
    "outputId": "ba7ec566-90b2-496b-95a0-184e291f1c5f"
   },
   "outputs": [],
   "source": [
    "#if we have\n",
    "states_brazil5880.head()"
   ]
  },
  {
   "cell_type": "code",
   "execution_count": null,
   "id": "a41ade83-f334-4d7a-ae1d-61b66e6b5b92",
   "metadata": {
    "colab": {
     "base_uri": "https://localhost:8080/",
     "height": 424
    },
    "id": "a41ade83-f334-4d7a-ae1d-61b66e6b5b92",
    "outputId": "0eb1d914-233c-4493-99ef-fd20922c7868"
   },
   "outputs": [],
   "source": [
    "# iloc for positions (same as in pandas DF)\n",
    "\n",
    "states_brazil5880.iloc[:10,1:]"
   ]
  },
  {
   "cell_type": "code",
   "execution_count": null,
   "id": "17e5a1bf-ee01-41b0-81f4-bfbc4657857c",
   "metadata": {
    "colab": {
     "base_uri": "https://localhost:8080/",
     "height": 458
    },
    "id": "17e5a1bf-ee01-41b0-81f4-bfbc4657857c",
    "outputId": "3bde2eef-f346-474c-f5b6-887deddefa22"
   },
   "outputs": [],
   "source": [
    "# loc for lables (same as in pandas DF)\n",
    "states_brazil5880.loc[:8,'state_code':]"
   ]
  },
  {
   "cell_type": "markdown",
   "id": "48866962-4282-4892-ab9c-7b19163fcdb1",
   "metadata": {},
   "source": [
    "Keep in mind that if you do not include the geometry column, you will get a DataFrame (DF) back, not a GeoDF."
   ]
  },
  {
   "cell_type": "code",
   "execution_count": null,
   "id": "e9f5c3ee-b4e5-46fc-991b-110851e8f405",
   "metadata": {},
   "outputs": [],
   "source": [
    "# GDF\n",
    "type(states_brazil5880.loc[:8,'state_code':])"
   ]
  },
  {
   "cell_type": "code",
   "execution_count": null,
   "id": "dc32f8d4-32d5-4488-a10b-5f2d0a6053ee",
   "metadata": {},
   "outputs": [],
   "source": [
    "# df\n",
    "type(states_brazil5880.loc[:8,:'state_code'])"
   ]
  },
  {
   "cell_type": "markdown",
   "id": "18068e53-6f3d-4330-97e9-104c84a0c726",
   "metadata": {},
   "source": [
    "Also remember this detail:"
   ]
  },
  {
   "cell_type": "code",
   "execution_count": null,
   "id": "59496dbb-e976-4945-a4dc-6f2e022e4b27",
   "metadata": {},
   "outputs": [],
   "source": [
    "# you lost the spatial structure when keeping ONE row!\n",
    "type(states_brazil5880.loc[8,:])"
   ]
  },
  {
   "cell_type": "code",
   "execution_count": null,
   "id": "d8794fb9-1ccc-46ca-8db2-e54817b880d9",
   "metadata": {},
   "outputs": [],
   "source": [
    "# you keep the spatial structure if the row index is a list\n",
    "type(states_brazil5880.loc[[8],:])"
   ]
  },
  {
   "cell_type": "markdown",
   "id": "d52fc8e4-0bf5-4602-99b5-023ec6dc0ab0",
   "metadata": {},
   "source": [
    "### b. More Pandas Filtering for GeoPandas"
   ]
  },
  {
   "cell_type": "code",
   "execution_count": null,
   "id": "9d52d24f-3ab2-455a-8556-6bd9c89a3508",
   "metadata": {},
   "outputs": [],
   "source": [
    "# complex conditions with query\n",
    "airports_brazil5880.query('elevation_ft > 5000 and airport_type==\"small_airport\"')"
   ]
  },
  {
   "cell_type": "code",
   "execution_count": null,
   "id": "ad094287-1307-4cb9-afa2-6afcd579133c",
   "metadata": {},
   "outputs": [],
   "source": [
    "# filter based on subset\n",
    "choices=['large_airport','seaplane_base']\n",
    "airports_brazil5880[airports_brazil5880.airport_type.isin(choices)]"
   ]
  },
  {
   "cell_type": "code",
   "execution_count": null,
   "id": "e6ca4a10-d76a-4348-af37-8eb69ae1f285",
   "metadata": {},
   "outputs": [],
   "source": [
    "# filter with text - startswith / endswith\n",
    "textCondition=('Presi','Depu')\n",
    "airports_brazil5880[airports_brazil5880.airport_name.str.startswith(textCondition)]"
   ]
  },
  {
   "cell_type": "code",
   "execution_count": null,
   "id": "bbf0d39a-e75c-404a-8596-4b788bf215be",
   "metadata": {
    "scrolled": true
   },
   "outputs": [],
   "source": [
    "# filter with text - contains (more flexible)\n",
    "textPattern='Presidente|Deputado'\n",
    "airports_brazil5880[airports_brazil5880.airport_name.str.contains(textPattern)]\n",
    "# notice 'Refinaria Presidente Bernardes Heliport'"
   ]
  },
  {
   "cell_type": "code",
   "execution_count": null,
   "id": "129e44ea-fad1-4e92-b32b-de64cc3bbfe6",
   "metadata": {},
   "outputs": [],
   "source": [
    "# Filter rows where specific column is NOT null\n",
    "airports_brazil5880[airports_brazil5880.elevation_ft.notna()]"
   ]
  },
  {
   "cell_type": "code",
   "execution_count": null,
   "id": "b7858b66-5cd4-42cb-930f-81c9c09c6f9c",
   "metadata": {},
   "outputs": [],
   "source": [
    "# Filter rows where specific column IS null\n",
    "airports_brazil5880[airports_brazil5880.elevation_ft.isna()]"
   ]
  },
  {
   "cell_type": "markdown",
   "id": "a20c0c9b-9598-4f47-818a-d55449dca5cf",
   "metadata": {},
   "source": [
    "### c. Slicing with **cx**"
   ]
  },
  {
   "cell_type": "markdown",
   "id": "6a3dfc54-46a0-4531-998c-3f11c9735fec",
   "metadata": {
    "id": "6a3dfc54-46a0-4531-998c-3f11c9735fec"
   },
   "source": [
    "But as a GDF, you can also filter using coordinates via __cx__. "
   ]
  },
  {
   "cell_type": "markdown",
   "id": "f08579d5-5736-4122-9b69-22d8b98e8f8e",
   "metadata": {},
   "source": [
    "Let me get Brazil's centroid to show you how this works:"
   ]
  },
  {
   "cell_type": "code",
   "execution_count": null,
   "id": "a6a221f3-51db-4264-83e3-da0fa8eacc0a",
   "metadata": {},
   "outputs": [],
   "source": [
    "brazil5880_cen=brazil5880.centroid\n",
    "brazil5880_cen"
   ]
  },
  {
   "cell_type": "markdown",
   "id": "e60f2723-4093-4753-bdd8-33e754378325",
   "metadata": {},
   "source": [
    "Here, I recover each coordinate values:"
   ]
  },
  {
   "cell_type": "code",
   "execution_count": null,
   "id": "7c47096a-3cbf-451e-9811-b325bca2304b",
   "metadata": {},
   "outputs": [],
   "source": [
    "mid_x,mid_y=brazil5880_cen.x[0],brazil5880_cen.y[0]\n",
    "mid_x,mid_y"
   ]
  },
  {
   "cell_type": "markdown",
   "id": "66a83e6d-4073-44fc-8e07-b1ddabc5582a",
   "metadata": {
    "id": "66a83e6d-4073-44fc-8e07-b1ddabc5582a"
   },
   "source": [
    "Let me select airports north of the centroid:"
   ]
  },
  {
   "cell_type": "code",
   "execution_count": null,
   "id": "50632acb-1595-4207-927c-ee9b4d030b83",
   "metadata": {
    "colab": {
     "base_uri": "https://localhost:8080/",
     "height": 833
    },
    "id": "50632acb-1595-4207-927c-ee9b4d030b83",
    "outputId": "19568afa-f936-4fee-ee5c-4abb1d08b942"
   },
   "outputs": [],
   "source": [
    "airports_brazil5880.cx[:,mid_y:]"
   ]
  },
  {
   "cell_type": "markdown",
   "id": "785bcf83-30fa-488a-95c5-b394d70a4b91",
   "metadata": {},
   "source": [
    "Confirming we got it right:"
   ]
  },
  {
   "cell_type": "code",
   "execution_count": null,
   "id": "6439a16a-862a-44df-95d3-35c2c719c11e",
   "metadata": {},
   "outputs": [],
   "source": [
    "# the viz\n",
    "base=brazil5880.plot(color='yellow') # brazil on the back\n",
    "airports_brazil5880.cx[:,mid_y:].plot(ax=base,markersize=1) # all the brazilian northern airports \n",
    "brazil5880.centroid.plot(color='red',ax=base) # check the centroid"
   ]
  },
  {
   "cell_type": "markdown",
   "id": "1c44c596-e798-44d7-ba22-e24c00ae5044",
   "metadata": {
    "id": "1c44c596-e798-44d7-ba22-e24c00ae5044"
   },
   "source": [
    "When the GDF is made of points, the __cx__ would give clean results. Do not expect that when GDF is made of polygons.\n",
    "\n",
    "Let me use it to split the states:"
   ]
  },
  {
   "cell_type": "code",
   "execution_count": null,
   "id": "21e77302-50cd-4b69-b4ce-8ef62ca7e9e4",
   "metadata": {},
   "outputs": [],
   "source": [
    "# the north\n",
    "N_brazil=states_brazil5880.cx[:,mid_y:]\n",
    "# the south\n",
    "S_brazil=states_brazil5880.cx[:,:mid_y]\n",
    "# the west\n",
    "W_brazil=states_brazil5880.cx[:mid_x,:]\n",
    "# the east\n",
    "E_brazil=states_brazil5880.cx[mid_x:,:]"
   ]
  },
  {
   "cell_type": "markdown",
   "id": "0e66a887-aa31-4ea9-b9ce-03367286ed74",
   "metadata": {},
   "source": [
    "Notice the centroid does not cut polygons:"
   ]
  },
  {
   "cell_type": "code",
   "execution_count": null,
   "id": "fa2468c1-8531-4e2e-ae86-be1d6ac30d00",
   "metadata": {
    "scrolled": true
   },
   "outputs": [],
   "source": [
    "base=N_brazil.plot()\n",
    "brazil5880.centroid.plot(color='red',ax=base)"
   ]
  },
  {
   "cell_type": "code",
   "execution_count": null,
   "id": "393c5094-0496-4615-9254-8f9491cc9edc",
   "metadata": {},
   "outputs": [],
   "source": [
    "base=W_brazil.plot()\n",
    "brazil5880.centroid.plot(color='red',ax=base)"
   ]
  },
  {
   "cell_type": "markdown",
   "id": "5c6f831c-5b8f-44e8-8a99-a3acfc2f2de0",
   "metadata": {},
   "source": [
    "### d. Filtering by attribute value\n",
    "\n",
    "The GDF 'states_brazil5880' has only these columns:"
   ]
  },
  {
   "cell_type": "code",
   "execution_count": null,
   "id": "678cfef5-d8b6-4d3a-b7ac-a6fa266cc4ef",
   "metadata": {},
   "outputs": [],
   "source": [
    "states_brazil5880.columns"
   ]
  },
  {
   "cell_type": "markdown",
   "id": "982d8a39-78a7-4251-bf6c-051ebd42b5ec",
   "metadata": {},
   "source": [
    "But, since it is projected, you can get the area of the polygon:"
   ]
  },
  {
   "cell_type": "code",
   "execution_count": null,
   "id": "d992e186-f7b3-4822-aaef-aaca92eb8001",
   "metadata": {
    "scrolled": true
   },
   "outputs": [],
   "source": [
    "# This filter finds states larger than 1,000,000 km²\n",
    "states_brazil5880[states_brazil5880.area > 1000000000000]"
   ]
  },
  {
   "cell_type": "markdown",
   "id": "4b872821-e6d6-42ff-89dc-2c1b5b2efd80",
   "metadata": {},
   "source": [
    "## II. Combining geometries\n",
    "\n",
    "Let's remember this contents:"
   ]
  },
  {
   "cell_type": "code",
   "execution_count": null,
   "id": "a732d195-b51f-4bf7-8b9c-daaf8a49c0a3",
   "metadata": {
    "colab": {
     "base_uri": "https://localhost:8080/",
     "height": 206
    },
    "id": "a732d195-b51f-4bf7-8b9c-daaf8a49c0a3",
    "outputId": "d19e9d6b-8d87-45e6-b693-9cc997209290",
    "scrolled": true
   },
   "outputs": [],
   "source": [
    "#see\n",
    "municipalities_brazil5880.head(20)"
   ]
  },
  {
   "cell_type": "markdown",
   "id": "1d0ca18b-4d56-4a5f-9575-755e278582c2",
   "metadata": {
    "id": "1d0ca18b-4d56-4a5f-9575-755e278582c2"
   },
   "source": [
    "Then, this is Rondônia:"
   ]
  },
  {
   "cell_type": "code",
   "execution_count": null,
   "id": "9206f541-2616-428b-af59-77b1b3f3965d",
   "metadata": {},
   "outputs": [],
   "source": [
    "muniRondonia=municipalities_brazil5880[municipalities_brazil5880.state_name=='Rondônia']"
   ]
  },
  {
   "cell_type": "code",
   "execution_count": null,
   "id": "e2954e50-2d6f-4583-a2c0-3e5aaeb20b44",
   "metadata": {
    "colab": {
     "base_uri": "https://localhost:8080/",
     "height": 481
    },
    "id": "e2954e50-2d6f-4583-a2c0-3e5aaeb20b44",
    "outputId": "1c2b676d-f43b-4cfd-aa3a-01c8684ae6e7"
   },
   "outputs": [],
   "source": [
    "muniRondonia.plot(edgecolor='yellow')"
   ]
  },
  {
   "cell_type": "markdown",
   "id": "e0ec0e20-de35-444b-9b20-daff26825402",
   "metadata": {
    "id": "e0ec0e20-de35-444b-9b20-daff26825402"
   },
   "source": [
    "\n",
    "\n",
    "We saw several polygons, combining them means they will become one polygon. We have more than one way to achieve that."
   ]
  },
  {
   "cell_type": "markdown",
   "id": "97eadc14-d617-4345-ad89-1eb2b786d31f",
   "metadata": {
    "id": "97eadc14-d617-4345-ad89-1eb2b786d31f"
   },
   "source": [
    "### II.1 Unary UNION\n",
    "\n",
    "We can combine all these polygons into one:"
   ]
  },
  {
   "cell_type": "code",
   "execution_count": null,
   "id": "c00c048b-6faa-4ad6-8cf7-0f98769e17f2",
   "metadata": {
    "colab": {
     "base_uri": "https://localhost:8080/",
     "height": 321
    },
    "id": "c00c048b-6faa-4ad6-8cf7-0f98769e17f2",
    "outputId": "d6518f2b-be89-4366-ca31-a49bb275f203"
   },
   "outputs": [],
   "source": [
    "muniRondonia.union_all()"
   ]
  },
  {
   "cell_type": "markdown",
   "id": "9d3fcffd-e552-4bea-9da3-b39745de4c36",
   "metadata": {
    "id": "9d3fcffd-e552-4bea-9da3-b39745de4c36"
   },
   "source": [
    "Let's save that result:"
   ]
  },
  {
   "cell_type": "code",
   "execution_count": null,
   "id": "ce5d4b07-7f14-4dc7-8031-5c12ee2c8a92",
   "metadata": {
    "id": "ce5d4b07-7f14-4dc7-8031-5c12ee2c8a92"
   },
   "outputs": [],
   "source": [
    "Rondonia_union=muniRondonia.union_all()"
   ]
  },
  {
   "cell_type": "code",
   "execution_count": null,
   "id": "d71ea52f-6738-4d8b-93fb-6e6bfdd7ed21",
   "metadata": {
    "colab": {
     "base_uri": "https://localhost:8080/"
    },
    "id": "d71ea52f-6738-4d8b-93fb-6e6bfdd7ed21",
    "outputId": "e2976b5a-efa1-492e-e3bc-81842fa7fdd8"
   },
   "outputs": [],
   "source": [
    "# what do we have?\n",
    "type(Rondonia_union)"
   ]
  },
  {
   "cell_type": "markdown",
   "id": "97f5eeba-ee4f-4a46-b8ac-9645f7e59766",
   "metadata": {
    "id": "97f5eeba-ee4f-4a46-b8ac-9645f7e59766"
   },
   "source": [
    "You can turn that _shapely_ object into a GeoDF like this:"
   ]
  },
  {
   "cell_type": "code",
   "execution_count": null,
   "id": "52d84f0d-bd43-4008-b3ac-c807e7dbafc5",
   "metadata": {
    "colab": {
     "base_uri": "https://localhost:8080/",
     "height": 81
    },
    "id": "52d84f0d-bd43-4008-b3ac-c807e7dbafc5",
    "outputId": "add29621-ed75-4274-a651-e092ea7e3185"
   },
   "outputs": [],
   "source": [
    "gpd.GeoDataFrame(geometry=[Rondonia_union]) # the recent union"
   ]
  },
  {
   "cell_type": "markdown",
   "id": "9f088b27-8921-454e-8aeb-43e33aae6a69",
   "metadata": {},
   "source": [
    "Even better:"
   ]
  },
  {
   "cell_type": "code",
   "execution_count": null,
   "id": "c7f7bffc-13eb-43b6-ba49-a46bea47a865",
   "metadata": {},
   "outputs": [],
   "source": [
    "gpd.GeoDataFrame(index=[0], # one element\n",
    "                 data={'state':'Rondonia'}, # the column and the value\n",
    "                 crs=muniRondonia.crs, # important to avoid naive geometries\n",
    "                 geometry=[Rondonia_union]) # the recent union"
   ]
  },
  {
   "cell_type": "markdown",
   "id": "b1dee927-70dd-48e8-82b7-a04a2fa8fe3c",
   "metadata": {
    "id": "b1dee927-70dd-48e8-82b7-a04a2fa8fe3c"
   },
   "source": [
    "<a class=\"anchor\" id=\"21\"></a>\n",
    "\n",
    "### II.2 Dissolve\n",
    "\n",
    "#### a. Dissolve as Union\n",
    "Using  **dissolve** is an alternative to _UNION_:"
   ]
  },
  {
   "cell_type": "code",
   "execution_count": null,
   "id": "c5768952-7e24-43ad-901e-9a7fadc3fc2c",
   "metadata": {
    "colab": {
     "base_uri": "https://localhost:8080/",
     "height": 481
    },
    "id": "c5768952-7e24-43ad-901e-9a7fadc3fc2c",
    "outputId": "78bde6c3-e080-44ff-e393-19a812684b6e"
   },
   "outputs": [],
   "source": [
    "muniRondonia.dissolve()"
   ]
  },
  {
   "cell_type": "markdown",
   "id": "351fbf6a-7e61-467e-ab1c-15c7544a4632",
   "metadata": {
    "id": "351fbf6a-7e61-467e-ab1c-15c7544a4632"
   },
   "source": [
    "Let me save the result, and see the type :"
   ]
  },
  {
   "cell_type": "code",
   "execution_count": null,
   "id": "672d051e-772e-4310-86f6-8fcfca6ed287",
   "metadata": {
    "colab": {
     "base_uri": "https://localhost:8080/",
     "height": 187
    },
    "id": "672d051e-772e-4310-86f6-8fcfca6ed287",
    "outputId": "2ac9f749-2cc1-43f7-e90d-f6bfd565fa69"
   },
   "outputs": [],
   "source": [
    "Rondonia_dissolved=muniRondonia.dissolve()\n",
    "\n",
    "# we got?\n",
    "type(Rondonia_dissolved)"
   ]
  },
  {
   "cell_type": "markdown",
   "id": "2fc5778d-ef46-46dd-bd3e-eaba9f668e03",
   "metadata": {
    "id": "2fc5778d-ef46-46dd-bd3e-eaba9f668e03"
   },
   "source": [
    "You got a GDF this time:"
   ]
  },
  {
   "cell_type": "code",
   "execution_count": null,
   "id": "c3f3d552-060c-41f2-bbe5-debf1de6a496",
   "metadata": {
    "colab": {
     "base_uri": "https://localhost:8080/",
     "height": 89
    },
    "id": "c3f3d552-060c-41f2-bbe5-debf1de6a496",
    "outputId": "440196dd-dc8d-4143-f0dc-e443547f5785"
   },
   "outputs": [],
   "source": [
    "## see\n",
    "Rondonia_dissolved"
   ]
  },
  {
   "cell_type": "markdown",
   "id": "7a3953f5-d60c-44a9-bc5b-e658071ae998",
   "metadata": {},
   "source": [
    "Some minimal changes to *Rondonia_dissolved*:"
   ]
  },
  {
   "cell_type": "code",
   "execution_count": null,
   "id": "95b21cb3-db50-48f1-a354-ce2b23e9b247",
   "metadata": {
    "colab": {
     "base_uri": "https://localhost:8080/",
     "height": 89
    },
    "id": "95b21cb3-db50-48f1-a354-ce2b23e9b247",
    "outputId": "0c529369-6e65-4304-b641-788a744787ea"
   },
   "outputs": [],
   "source": [
    "# keeping what is relevant\n",
    "Rondonia_dissolved.drop(columns=['municipality_name','municipality_code'],inplace=True)\n",
    "\n",
    "# then\n",
    "Rondonia_dissolved"
   ]
  },
  {
   "cell_type": "markdown",
   "id": "96fe9bbb-bced-45c4-88e6-6f1772dd9691",
   "metadata": {},
   "source": [
    "Notice _dissolving_ returns a GDF, but also keeps the information of one the lower level units that were dissolved. _Unionazing_ returned just a geometry."
   ]
  },
  {
   "cell_type": "markdown",
   "id": "9321a5df-3274-4696-9278-6141e3218930",
   "metadata": {
    "id": "9321a5df-3274-4696-9278-6141e3218930"
   },
   "source": [
    "#### b. Dissolve for groups\n",
    "\n",
    "Using _dissolve()_ with no arguments returns the union of the polygons as above, AND also you get a GDF.\n",
    "However, if you have a column that represents a grouping (as we do), you can dissolve by that column:"
   ]
  },
  {
   "cell_type": "code",
   "execution_count": null,
   "id": "8b02371a-f65e-46e5-b0d2-e88d21825cd2",
   "metadata": {
    "colab": {
     "base_uri": "https://localhost:8080/",
     "height": 481
    },
    "id": "8b02371a-f65e-46e5-b0d2-e88d21825cd2",
    "outputId": "506a772d-0f22-4f87-9cf8-72298537b8ad"
   },
   "outputs": [],
   "source": [
    "# dissolving municipalities again!- but by state\n",
    "municipalities_brazil5880.dissolve(by='state_name').plot(facecolor='lightgrey', edgecolor='black',linewidth=0.2)"
   ]
  },
  {
   "cell_type": "markdown",
   "id": "ade71f08-90cb-4a1c-977a-4f5ac846f2d9",
   "metadata": {
    "id": "ade71f08-90cb-4a1c-977a-4f5ac846f2d9"
   },
   "source": [
    "Again, let me save this result:"
   ]
  },
  {
   "cell_type": "code",
   "execution_count": null,
   "id": "1a36080b-9326-4584-9190-fa1718e03f0d",
   "metadata": {
    "id": "1a36080b-9326-4584-9190-fa1718e03f0d"
   },
   "outputs": [],
   "source": [
    "Brazil_munitoStates=municipalities_brazil5880.dissolve(by='state_name')"
   ]
  },
  {
   "cell_type": "markdown",
   "id": "4d1de91b-7ad7-44f5-a9cb-410dbf53656c",
   "metadata": {
    "id": "4d1de91b-7ad7-44f5-a9cb-410dbf53656c"
   },
   "source": [
    "We know we have a GDF; let's see contents:"
   ]
  },
  {
   "cell_type": "code",
   "execution_count": null,
   "id": "ef8b7fbb-7b5b-4624-ae40-e7aed7d4bdf6",
   "metadata": {
    "colab": {
     "base_uri": "https://localhost:8080/",
     "height": 927
    },
    "id": "ef8b7fbb-7b5b-4624-ae40-e7aed7d4bdf6",
    "outputId": "d5ec1d9d-642c-4b0d-b352-5d48203ef4c8"
   },
   "outputs": [],
   "source": [
    "Brazil_munitoStates.head()"
   ]
  },
  {
   "cell_type": "markdown",
   "id": "48b1ddda-4b45-489c-97b8-3260a2f75459",
   "metadata": {
    "id": "48b1ddda-4b45-489c-97b8-3260a2f75459"
   },
   "source": [
    "Again, we can drop columns that came from the lower level:"
   ]
  },
  {
   "cell_type": "code",
   "execution_count": null,
   "id": "bebf8290-4334-4b1f-8818-0f0db44799be",
   "metadata": {
    "colab": {
     "base_uri": "https://localhost:8080/"
    },
    "id": "bebf8290-4334-4b1f-8818-0f0db44799be",
    "outputId": "decce817-b7a3-444d-ead9-6602ea60cdad"
   },
   "outputs": [],
   "source": [
    "Brazil_munitoStates.drop(columns=['municipality_name',\t'municipality_code'],inplace=True)\n",
    "Brazil_munitoStates.reset_index(inplace=True)\n",
    "Brazil_munitoStates.info()"
   ]
  },
  {
   "cell_type": "markdown",
   "id": "8ce4da9c-0e99-4e00-aabb-5a291d7a935d",
   "metadata": {
    "id": "8ce4da9c-0e99-4e00-aabb-5a291d7a935d"
   },
   "source": [
    "#### c. Dissolve and aggregate\n",
    "\n",
    "In pandas, you can aggregate data using some statistics. Let's see the map with indicators we created in a previous session:"
   ]
  },
  {
   "cell_type": "code",
   "execution_count": null,
   "id": "f842ce68-8353-4af7-9ed9-5e1a8e856f39",
   "metadata": {
    "colab": {
     "base_uri": "https://localhost:8080/",
     "height": 206
    },
    "id": "f842ce68-8353-4af7-9ed9-5e1a8e856f39",
    "outputId": "907fbc15-5088-4658-e526-f6f828fea29a"
   },
   "outputs": [],
   "source": [
    "indicators.head()"
   ]
  },
  {
   "cell_type": "markdown",
   "id": "Rto2Jyoz3vcm",
   "metadata": {
    "id": "Rto2Jyoz3vcm"
   },
   "source": [
    "You can compute the mean of the countries by region, using a DF approach like this:"
   ]
  },
  {
   "cell_type": "code",
   "execution_count": null,
   "id": "O3VGN7S81s3B",
   "metadata": {
    "colab": {
     "base_uri": "https://localhost:8080/",
     "height": 394
    },
    "id": "O3VGN7S81s3B",
    "outputId": "d8d30f70-5d4d-4425-da7a-a08b05906e72"
   },
   "outputs": [],
   "source": [
    "indicators.groupby('region').agg({'fragility':'mean'}) "
   ]
  },
  {
   "cell_type": "markdown",
   "id": "Vk8B5uRC0mVX",
   "metadata": {
    "id": "Vk8B5uRC0mVX"
   },
   "source": [
    "\n",
    "You do not see a \"geometry\" column. It got lost when using **groupby().agg()**.\n",
    "\n",
    "The appropriate operation to conserve spatial information is also **dissolve**:"
   ]
  },
  {
   "cell_type": "code",
   "execution_count": null,
   "id": "794f3048-257d-4193-89d0-deda71523b9c",
   "metadata": {
    "colab": {
     "base_uri": "https://localhost:8080/",
     "height": 363
    },
    "id": "794f3048-257d-4193-89d0-deda71523b9c",
    "outputId": "80383224-82f9-4082-d7b0-dfb8ce032ab0"
   },
   "outputs": [],
   "source": [
    "indicatorsByRegion=indicators.dissolve(\n",
    "    by=\"region\", #groupby()\n",
    "    aggfunc={\"fragility\": \"mean\"}, #agg()\n",
    "    )\n",
    "\n",
    "## see the GeoDF\n",
    "indicatorsByRegion"
   ]
  },
  {
   "cell_type": "markdown",
   "id": "ce73aadb-aaad-458f-abf1-dc24be193949",
   "metadata": {
    "id": "ce73aadb-aaad-458f-abf1-dc24be193949"
   },
   "source": [
    "Without renaming, you can request a choropleth:"
   ]
  },
  {
   "cell_type": "code",
   "execution_count": null,
   "id": "-c3sNkIr4ehl",
   "metadata": {
    "id": "-c3sNkIr4ehl"
   },
   "outputs": [],
   "source": [
    "# You may need to install if using Colab\n",
    "# !pip install mapclassify"
   ]
  },
  {
   "cell_type": "code",
   "execution_count": null,
   "id": "509d432c-35bb-48c2-9365-02b6aa6227ee",
   "metadata": {
    "colab": {
     "base_uri": "https://localhost:8080/",
     "height": 540
    },
    "id": "509d432c-35bb-48c2-9365-02b6aa6227ee",
    "outputId": "6ee2ef0e-67b7-43c0-a111-1e9bc11a891e"
   },
   "outputs": [],
   "source": [
    "indicatorsByRegion.plot(column ='fragility',edgecolor='white',\n",
    "                        figsize=(15, 10))"
   ]
  },
  {
   "cell_type": "markdown",
   "id": "79bf34fd-aba5-4649-82aa-ede86b29ab40",
   "metadata": {},
   "source": [
    "Keep in mind that the combining of objects via UNION_ALL and DISSOLVE are destructive, we can not undo them. We have operations like EXPLODE that work in the reverse direction (splitting) but even that function can not undo the output of UNION_ALL and DISSOLVE. Always preserve your original GDF before using these operations, as they permanently alter your data in ways that cannot be reversed. _Did you notice something wrong in this last plot?_"
   ]
  },
  {
   "cell_type": "markdown",
   "id": "29bdb1b3",
   "metadata": {
    "id": "29bdb1b3"
   },
   "source": [
    "_____________\n",
    "\n",
    "\n",
    "\n",
    "## III. Enveloping geometries: the convex hull\n",
    "\n",
    "Sometimes you may have the need to create a polygon that serves as an envelope to a set of points.\n",
    "\n",
    "For this example, let me use the large airports:"
   ]
  },
  {
   "cell_type": "code",
   "execution_count": null,
   "id": "90d91488-3d2e-4659-90b0-7071a48cdf55",
   "metadata": {},
   "outputs": [],
   "source": [
    "large_airports=airports_brazil5880[airports_brazil5880.airport_type=='large_airport']\n",
    "large_airports.plot()"
   ]
  },
  {
   "cell_type": "markdown",
   "id": "08f3e0a6-350c-4c38-977a-a7297ab790e0",
   "metadata": {},
   "source": [
    "How to create a minimum polygon that envelops those points?"
   ]
  },
  {
   "cell_type": "code",
   "execution_count": null,
   "id": "faff72a0-bfe2-450d-9d20-4e2e50403e40",
   "metadata": {},
   "outputs": [],
   "source": [
    "## you see no difference!!\n",
    "large_airports.convex_hull.plot()"
   ]
  },
  {
   "cell_type": "markdown",
   "id": "ebb360e8-59ed-4676-b86e-1799a2a4b4a0",
   "metadata": {},
   "source": [
    "The objects to be enveloped required to be **previously combined**: "
   ]
  },
  {
   "cell_type": "code",
   "execution_count": null,
   "id": "ce05689b-acde-4373-8b60-51ca6bc19c5b",
   "metadata": {
    "colab": {
     "base_uri": "https://localhost:8080/",
     "height": 321
    },
    "id": "ce05689b-acde-4373-8b60-51ca6bc19c5b",
    "outputId": "aa1f67e2-f663-4441-9dca-cf0d80df294a"
   },
   "outputs": [],
   "source": [
    "# hull of the union\n",
    "large_airports.union_all().convex_hull"
   ]
  },
  {
   "cell_type": "markdown",
   "id": "d5a06f35-93ae-47ef-acd4-d443a5211d93",
   "metadata": {},
   "source": [
    "The structure we  got is:"
   ]
  },
  {
   "cell_type": "code",
   "execution_count": null,
   "id": "3863963a-8f59-4e5b-a772-6af682d683e6",
   "metadata": {},
   "outputs": [],
   "source": [
    "# this geometry not a GeoDF...yet\n",
    "type(large_airports.union_all().convex_hull)"
   ]
  },
  {
   "cell_type": "markdown",
   "id": "46a0e7b3",
   "metadata": {
    "id": "46a0e7b3"
   },
   "source": [
    "Let's turn this geometry into a GDF:"
   ]
  },
  {
   "cell_type": "code",
   "execution_count": null,
   "id": "14037793-1df7-4dfa-8438-7dc7734580fe",
   "metadata": {
    "colab": {
     "base_uri": "https://localhost:8080/",
     "height": 89
    },
    "id": "14037793-1df7-4dfa-8438-7dc7734580fe",
    "outputId": "735cf3a6-19d2-458d-9c8e-80439331d36a"
   },
   "outputs": [],
   "source": [
    "LargeAirports_hull= gpd.GeoDataFrame(index=[0],\n",
    "                                     data={'hull':'Large airports'}, # the column and the value\n",
    "                                    crs=large_airports.crs,\n",
    "                                    geometry=[large_airports.union_all().convex_hull])\n",
    "\n",
    "# then\n",
    "\n",
    "LargeAirports_hull"
   ]
  },
  {
   "cell_type": "markdown",
   "id": "c67c1b31",
   "metadata": {
    "id": "c67c1b31"
   },
   "source": [
    "Let's use the GDF in plotting:"
   ]
  },
  {
   "cell_type": "code",
   "execution_count": null,
   "id": "e73b691b",
   "metadata": {
    "colab": {
     "base_uri": "https://localhost:8080/",
     "height": 481
    },
    "id": "e73b691b",
    "outputId": "d123e0e6-7073-4d2a-8579-ec6a116b7ab1"
   },
   "outputs": [],
   "source": [
    "\n",
    "base=brazil5880.plot(facecolor='yellow')\n",
    "large_airports.plot(ax=base)\n",
    "LargeAirports_hull.plot(ax=base,facecolor='green',\n",
    "                       edgecolor='white',alpha=0.4,\n",
    "                       hatch='X')"
   ]
  },
  {
   "cell_type": "markdown",
   "id": "ac22811f-889b-4373-b1b6-43bce73ddedb",
   "metadata": {},
   "source": [
    "You can get a convex hull of lines or polygons:"
   ]
  },
  {
   "cell_type": "code",
   "execution_count": null,
   "id": "dd1d98d6-9339-4d5e-99b5-446512743321",
   "metadata": {},
   "outputs": [],
   "source": [
    "# You can use it for dissolved polygons:\n",
    "Rondonia_dissolved.convex_hull.plot()"
   ]
  },
  {
   "cell_type": "markdown",
   "id": "d6e203c9-24c0-43db-a1f5-4ec14520721e",
   "metadata": {},
   "source": [
    "Remember that **union_all** and **dissolve()** give different outputs:"
   ]
  },
  {
   "cell_type": "code",
   "execution_count": null,
   "id": "6060e527-4dad-4ac3-a818-c155f5d71a04",
   "metadata": {},
   "outputs": [],
   "source": [
    "# you got a series, not just a geometry \n",
    "type(Rondonia_dissolved.convex_hull)"
   ]
  },
  {
   "cell_type": "code",
   "execution_count": null,
   "id": "24d5a6db-cb27-4eea-a14d-b4e07988d855",
   "metadata": {},
   "outputs": [],
   "source": [
    "# a simple \"to_frame\" does the job\n",
    "Rondonia_dissolved.convex_hull.to_frame()"
   ]
  },
  {
   "cell_type": "markdown",
   "id": "e7fa7cf4-0aaa-4126-9777-d0fa65396a93",
   "metadata": {},
   "source": [
    "Here, we will turn that GeoSeries into a GDF:"
   ]
  },
  {
   "cell_type": "code",
   "execution_count": null,
   "id": "7f564e4c-1e25-4965-9b8c-9a086d720c77",
   "metadata": {},
   "outputs": [],
   "source": [
    "# more details\n",
    "Rondonia_hull=Rondonia_dissolved.convex_hull.to_frame()\n",
    "Rondonia_hull.rename(columns={0:\"geometry\"},inplace=True)\n",
    "Rondonia_hull.set_geometry('geometry',inplace=True)\n",
    "Rondonia_hull[\"name\"]=\"Rondonia\"\n",
    "Rondonia_hull"
   ]
  },
  {
   "cell_type": "code",
   "execution_count": null,
   "id": "2f6f5883-3ca6-468c-9127-d3afefdf210a",
   "metadata": {},
   "outputs": [],
   "source": [
    "#noticed the crs was inherited\n",
    "Rondonia_hull.crs"
   ]
  },
  {
   "cell_type": "markdown",
   "id": "a219e942-aaca-41f5-a2c9-e043bfd592f3",
   "metadata": {},
   "source": [
    "Unless you need a hull per row, you need to union/dissolve the polygons (rows) of a GeoDF, see:"
   ]
  },
  {
   "cell_type": "code",
   "execution_count": null,
   "id": "ba946bf6-cf6e-4e2b-a93b-c810c28a1736",
   "metadata": {},
   "outputs": [],
   "source": [
    "#original not COMBINED:\n",
    "Brazil_munitoStates.plot(edgecolor=\"yellow\")"
   ]
  },
  {
   "cell_type": "code",
   "execution_count": null,
   "id": "3cce9e36-b924-40cf-9a73-2d91d227db5f",
   "metadata": {},
   "outputs": [],
   "source": [
    "# hull of Non combined\n",
    "Brazil_munitoStates.convex_hull.plot(edgecolor=\"yellow\")"
   ]
  },
  {
   "cell_type": "code",
   "execution_count": null,
   "id": "840623f3-90ab-4130-b5f9-3a3e32da2b4a",
   "metadata": {},
   "outputs": [],
   "source": [
    "# the hull of Brazil\n",
    "Brazil_munitoStates.dissolve().convex_hull.plot(edgecolor=\"yellow\")"
   ]
  },
  {
   "cell_type": "markdown",
   "id": "Cjc9MDEdB_Go",
   "metadata": {
    "id": "Cjc9MDEdB_Go"
   },
   "source": [
    "## IV. Buffering geometries\n",
    "\n",
    "The buffer will create a polygon that follows the same shape of the original vector (line, polygon, point)."
   ]
  },
  {
   "cell_type": "markdown",
   "id": "05d55225-89c4-4ffc-88da-34c8b76a8bfc",
   "metadata": {},
   "source": [
    "Let's see the Amazon River system:"
   ]
  },
  {
   "cell_type": "code",
   "execution_count": null,
   "id": "af7304ae-5c6d-4eee-9458-fe2e2f83f96e",
   "metadata": {},
   "outputs": [],
   "source": [
    "AmazonSystem=world_rivers[world_rivers.SYSTEM=='Amazon']\n",
    "AmazonSystem.plot()"
   ]
  },
  {
   "cell_type": "markdown",
   "id": "abb616e6-d763-4c08-8200-6b87b86f8742",
   "metadata": {},
   "source": [
    "As this is not projected..."
   ]
  },
  {
   "cell_type": "code",
   "execution_count": null,
   "id": "0a69901a-6ff2-4743-9ec5-877184f22c3b",
   "metadata": {},
   "outputs": [],
   "source": [
    "AmazonSystem.crs.is_projected"
   ]
  },
  {
   "cell_type": "markdown",
   "id": "1c5a2d58-a145-4386-8d36-9b3f4f4f0a24",
   "metadata": {},
   "source": [
    "We should reproject as buffering works with distances:"
   ]
  },
  {
   "cell_type": "code",
   "execution_count": null,
   "id": "c5035136-d298-4962-af9a-d7325e84823f",
   "metadata": {},
   "outputs": [],
   "source": [
    "AmazonSystem_5880=AmazonSystem.to_crs(5880)"
   ]
  },
  {
   "cell_type": "markdown",
   "id": "tvarDeceGlbw",
   "metadata": {
    "id": "tvarDeceGlbw"
   },
   "source": [
    "Now I can use the rivers to create a buffer of 50000 meters:"
   ]
  },
  {
   "cell_type": "code",
   "execution_count": null,
   "id": "y8q7Zx6EDpOZ",
   "metadata": {
    "colab": {
     "base_uri": "https://localhost:8080/",
     "height": 481
    },
    "id": "y8q7Zx6EDpOZ",
    "outputId": "f1a8c25a-0aba-4b72-8887-cfdd61d2cc37"
   },
   "outputs": [],
   "source": [
    "# 50000 at each side (radius)\n",
    "AmazonSystem_5880.buffer(50000).plot(facecolor='yellow', edgecolor='black',linewidth=0.2)"
   ]
  },
  {
   "cell_type": "markdown",
   "id": "7ab86179-3355-4d1e-9b1d-6f7b20e9a0e0",
   "metadata": {},
   "source": [
    "The resulting buffer is:"
   ]
  },
  {
   "cell_type": "code",
   "execution_count": null,
   "id": "fcfbddcb-3137-480f-8187-d037e332c7ab",
   "metadata": {},
   "outputs": [],
   "source": [
    "type(AmazonSystem_5880.buffer(50000))"
   ]
  },
  {
   "cell_type": "markdown",
   "id": "Kof-yyMHHfGA",
   "metadata": {
    "id": "Kof-yyMHHfGA"
   },
   "source": [
    "Then:"
   ]
  },
  {
   "cell_type": "code",
   "execution_count": null,
   "id": "5P8nF3cYEDdV",
   "metadata": {
    "colab": {
     "base_uri": "https://localhost:8080/",
     "height": 481
    },
    "id": "5P8nF3cYEDdV",
    "outputId": "f43f5902-3d68-43b6-fa35-d60552053abb"
   },
   "outputs": [],
   "source": [
    "base=AmazonSystem_5880.buffer(50000).plot(facecolor='yellow',edgecolor='black',linewidth=0.2)\n",
    "AmazonSystem_5880.plot(ax=base)"
   ]
  },
  {
   "cell_type": "markdown",
   "id": "bd7ed969-2e21-471e-928f-6c0be6ddb562",
   "metadata": {},
   "source": [
    "Notice that buffering can be customized:"
   ]
  },
  {
   "cell_type": "code",
   "execution_count": null,
   "id": "cac66485-04fb-4c60-968f-4e97ffce2d00",
   "metadata": {},
   "outputs": [],
   "source": [
    "riv_buf_right = AmazonSystem_5880.buffer(distance = 50000, single_sided = True)\n",
    "riv_buf_left = AmazonSystem_5880.buffer(distance = -25000, single_sided = True)\n",
    "\n",
    "base =riv_buf_right.plot(color='green')\n",
    "riv_buf_left.plot(ax=base, color='purple')"
   ]
  },
  {
   "cell_type": "markdown",
   "id": "2769b216-46b0-4ef8-9315-3d6a7abf7489",
   "metadata": {},
   "source": [
    "Let me save the rivers reprojected in a JSON file:"
   ]
  },
  {
   "cell_type": "code",
   "execution_count": null,
   "id": "3a76bff7-7d57-430e-acc9-a5c78bf38b06",
   "metadata": {},
   "outputs": [],
   "source": [
    "AmazonSystem_5880.to_file(\"AmazonSystem_5880.geojson\", driver=\"GeoJSON\")"
   ]
  },
  {
   "cell_type": "markdown",
   "id": "6852f4a7-24bb-4540-9324-bf9f67c54637",
   "metadata": {
    "id": "6852f4a7-24bb-4540-9324-bf9f67c54637"
   },
   "source": [
    "\n",
    "_____________\n",
    "\n",
    "\n",
    "# BINARY Operations: "
   ]
  },
  {
   "cell_type": "markdown",
   "id": "dce53b61-ecda-4df3-b9be-6a6cf86bdc4c",
   "metadata": {},
   "source": [
    "## I. Distance\n",
    "\n",
    "Distance is a key binary operation as so many practical policy matters depend on knowing distances between objects in space.\n",
    "\n",
    "Any pair of rightly projected GDFs have a distance between them. Below we can make  query using distances:\n",
    "\n",
    "> Which are the airports whose distance to Brazil centroid is > 2500000?"
   ]
  },
  {
   "cell_type": "code",
   "execution_count": null,
   "id": "67fc2686-024b-4cd1-bac0-88dcfd1cc3a8",
   "metadata": {},
   "outputs": [],
   "source": [
    "# this is the centroid we have:\n",
    "brazil5880_cen,brazil5880_cen.iloc[0]"
   ]
  },
  {
   "cell_type": "markdown",
   "id": "cc6b1993-de99-4537-be29-482fd12e166f",
   "metadata": {},
   "source": [
    "Then,"
   ]
  },
  {
   "cell_type": "code",
   "execution_count": null,
   "id": "03130c10-c4c4-4d02-aa66-35aeabfbc310",
   "metadata": {
    "scrolled": true
   },
   "outputs": [],
   "source": [
    "airports_brazil5880[airports_brazil5880.distance(brazil5880_cen.iloc[0]) > 2500000]"
   ]
  },
  {
   "cell_type": "markdown",
   "id": "7b2307f8-5682-4fec-9463-c7b6d55a76d9",
   "metadata": {},
   "source": [
    "The results can be confirmed visually:"
   ]
  },
  {
   "cell_type": "code",
   "execution_count": null,
   "id": "eff37bfd-65ca-4f5a-b828-1af1eed8fba9",
   "metadata": {},
   "outputs": [],
   "source": [
    "base=airports_brazil5880[airports_brazil5880.distance(brazil5880_cen.iloc[0]) > 2500000].plot(marker='+',markersize=100)\n",
    "airports_brazil5880.plot(ax=base,color='grey', markersize=0.1)\n",
    "brazil5880_cen.plot(ax=base,color='red')"
   ]
  },
  {
   "cell_type": "markdown",
   "id": "1c1eac21-eefc-4a2c-b393-93160683b8c1",
   "metadata": {},
   "source": [
    "Let me review how distances work between different kinds of geometries:"
   ]
  },
  {
   "cell_type": "markdown",
   "id": "ec0e6aff-3a98-40eb-8313-6ac724ee661f",
   "metadata": {},
   "source": [
    "### a.  Distance between points\n",
    "\n",
    "We have these points:\n"
   ]
  },
  {
   "cell_type": "code",
   "execution_count": null,
   "id": "1d2771d5-9710-4b4c-9feb-698029ddcaa0",
   "metadata": {},
   "outputs": [],
   "source": [
    "seaports_brazil5880.head()"
   ]
  },
  {
   "cell_type": "code",
   "execution_count": null,
   "id": "2469cfd5-d492-45a7-bcdb-ac0b19249788",
   "metadata": {},
   "outputs": [],
   "source": [
    "large_airports.head()"
   ]
  },
  {
   "cell_type": "code",
   "execution_count": null,
   "id": "e3e97535-58b0-47ee-9724-88ecbc4cf1b1",
   "metadata": {},
   "outputs": [],
   "source": [
    "large_airports.distance(seaports_brazil5880.loc[0,'geometry'])"
   ]
  },
  {
   "cell_type": "markdown",
   "id": "3d19d092-e1ef-4681-a25c-0fd8504025d4",
   "metadata": {},
   "source": [
    "It is easy to compute distances, but a good manipulation of the GDF will help us better understand the result:"
   ]
  },
  {
   "cell_type": "code",
   "execution_count": null,
   "id": "e857c5f2-bf4c-41a4-99a6-932aad3fd1af",
   "metadata": {},
   "outputs": [],
   "source": [
    "# airport names as the index instead of row numbers:\n",
    "large_airports.set_index('airport_name',inplace=True)\n",
    "large_airports"
   ]
  },
  {
   "cell_type": "markdown",
   "id": "95c38bbc-d148-4f96-96ee-5bdd1fa2ee47",
   "metadata": {},
   "source": [
    "Let's do the same for seaports:"
   ]
  },
  {
   "cell_type": "code",
   "execution_count": null,
   "id": "5828a58e-c3e5-43e4-bcbb-8338f74eef95",
   "metadata": {},
   "outputs": [],
   "source": [
    "seaports_brazil5880.set_index('seaport_name',inplace=True)"
   ]
  },
  {
   "cell_type": "markdown",
   "id": "90b8114e-2d69-4d48-92a5-d6f249572c11",
   "metadata": {},
   "source": [
    "Then, this is...\n",
    "> The distance from each large airport to 'Dtse / Gegua Oil Terminal' in km."
   ]
  },
  {
   "cell_type": "code",
   "execution_count": null,
   "id": "b4c3ba3e-067e-4531-9566-d1f040e5944d",
   "metadata": {},
   "outputs": [],
   "source": [
    "large_airports.distance(seaports_brazil5880.geometry.iloc[0])/1000"
   ]
  },
  {
   "cell_type": "markdown",
   "id": "7484b0c5-ac6e-4a25-8be5-6e3ada2ab6ad",
   "metadata": {},
   "source": [
    "What about computing...\n",
    "\n",
    "> All the distances between large aiports and seaports (in km)"
   ]
  },
  {
   "cell_type": "code",
   "execution_count": null,
   "id": "732b442a-bc31-4522-aec5-0cbbca069ec4",
   "metadata": {},
   "outputs": [],
   "source": [
    "# apply creates a LOOP, computes distances from each seaport to all large airports\n",
    "seaports_brazil5880.geometry.apply\\\n",
    "(lambda seaport: large_airports.geometry.distance(seaport)/1000)"
   ]
  },
  {
   "cell_type": "markdown",
   "id": "e1bf8401-ba3a-42df-a31e-53b8d9f46509",
   "metadata": {},
   "source": [
    "If we save the matrix..."
   ]
  },
  {
   "cell_type": "code",
   "execution_count": null,
   "id": "05c0c0fa-96f3-4f82-8a98-c6c30b570b95",
   "metadata": {},
   "outputs": [],
   "source": [
    "D_Matrix_sea_air=seaports_brazil5880.geometry.apply \\\n",
    "                (lambda seaport: large_airports.geometry.distance(seaport)/1000)"
   ]
  },
  {
   "cell_type": "markdown",
   "id": "344e4efb-277f-44c0-b06b-b9996b9a3133",
   "metadata": {},
   "source": [
    "We can compute some distance stats from there:"
   ]
  },
  {
   "cell_type": "code",
   "execution_count": null,
   "id": "e50fe44a-4ba2-45cc-bf5f-e80cfd513d13",
   "metadata": {},
   "outputs": [],
   "source": [
    "Stat_sea_air=pd.DataFrame()\n",
    "Stat_sea_air['mean']=D_Matrix_sea_air.mean(axis=1) # mean D to all airports\n",
    "Stat_sea_air['min']=D_Matrix_sea_air.min(axis=1)# min D to all airports\n",
    "Stat_sea_air['max']=D_Matrix_sea_air.max(axis=1)# max D to all airports\n",
    "\n",
    "# see some\n",
    "Stat_sea_air.head(10)"
   ]
  },
  {
   "cell_type": "markdown",
   "id": "17565f68-8797-44be-8212-a7a2776a458a",
   "metadata": {},
   "source": [
    "Of course, the idmax adn idmin could come in handy:"
   ]
  },
  {
   "cell_type": "code",
   "execution_count": null,
   "id": "8690e80d-e3c5-4d22-99cc-8954ea7fee9b",
   "metadata": {},
   "outputs": [],
   "source": [
    "# farthest airport to each seaport\n",
    "D_Matrix_sea_air.idxmax(axis=1).head()"
   ]
  },
  {
   "cell_type": "code",
   "execution_count": null,
   "id": "ffcb2ed2-7e2f-4bd4-9289-c5b68b328d6f",
   "metadata": {},
   "outputs": [],
   "source": [
    "# farthest seaport to each airport\n",
    "D_Matrix_sea_air.idxmax(axis=0).head()"
   ]
  },
  {
   "cell_type": "code",
   "execution_count": null,
   "id": "3dce5c5a-2b8d-4930-a476-5be12829f5d8",
   "metadata": {},
   "outputs": [],
   "source": [
    "# closest airport to each seaport\n",
    "D_Matrix_sea_air.idxmin(axis=1).head()"
   ]
  },
  {
   "cell_type": "code",
   "execution_count": null,
   "id": "9ba65570-a5da-48a9-ba91-74c3f34a7bc4",
   "metadata": {},
   "outputs": [],
   "source": [
    "# closest seaport to each airport\n",
    "D_Matrix_sea_air.idxmin(axis=0).head()"
   ]
  },
  {
   "cell_type": "markdown",
   "id": "97c282ec-edae-4a48-a4ea-08a2694cae42",
   "metadata": {},
   "source": [
    "### b. Distance between line and point\n",
    "\n",
    "Once we know understand how **distance** and idxmin/idxmax work, we can feel comfortable in this stage. \n",
    "\n",
    "Let's use these rivers from before:"
   ]
  },
  {
   "cell_type": "code",
   "execution_count": null,
   "id": "fb1bd828-00c0-4629-878f-c0e7fc5b9436",
   "metadata": {},
   "outputs": [],
   "source": [
    "AmazonSystem_5880"
   ]
  },
  {
   "cell_type": "markdown",
   "id": "5b60880d-4dc4-47f3-b35d-180f3f66177d",
   "metadata": {},
   "source": [
    "Then,\n",
    "> Distance from river Tapajos to Guarulhos airport"
   ]
  },
  {
   "cell_type": "code",
   "execution_count": null,
   "id": "243e6709-c61f-437a-afce-f33cb9a89ea0",
   "metadata": {},
   "outputs": [],
   "source": [
    "indexLabel='Guarulhos - Governador André Franco Montoro International Airport'\n",
    "AmazonSystem_5880[AmazonSystem_5880.RIVER=='Tapajos'].distance(large_airports.geometry.loc[indexLabel])/1000"
   ]
  },
  {
   "cell_type": "markdown",
   "id": "108b060a-fc2c-4791-8919-8ca6b74e1da6",
   "metadata": {},
   "source": [
    "Reformat the Amazon river GDF:"
   ]
  },
  {
   "cell_type": "code",
   "execution_count": null,
   "id": "61a6ee56-1539-49dd-825c-a67beb55a931",
   "metadata": {},
   "outputs": [],
   "source": [
    "AmazonSystem_5880.set_index('RIVER',inplace=True)"
   ]
  },
  {
   "cell_type": "markdown",
   "id": "cf5edb0d-d99d-43f0-8ce9-d2a4652b7383",
   "metadata": {},
   "source": [
    "We can compute the distance matrix now:"
   ]
  },
  {
   "cell_type": "code",
   "execution_count": null,
   "id": "37a72307-cf6c-4438-ac58-1c6fed1f90fd",
   "metadata": {},
   "outputs": [],
   "source": [
    "D_Matrix_amazRivs_air=AmazonSystem_5880.geometry.apply \\\n",
    "                (lambda river: large_airports.geometry.distance(river)/1000)"
   ]
  },
  {
   "cell_type": "code",
   "execution_count": null,
   "id": "c0b71d58-963c-4dc0-bd54-bdd45bcdbd3e",
   "metadata": {},
   "outputs": [],
   "source": [
    "Stat_amz_air=pd.DataFrame()\n",
    "Stat_amz_air['mean']=D_Matrix_amazRivs_air.mean(axis=1) # mean D to all airports\n",
    "Stat_amz_air['min']=D_Matrix_amazRivs_air.min(axis=1)# min D to all airports\n",
    "Stat_amz_air['max']=D_Matrix_amazRivs_air.max(axis=1)# max D to all airports\n",
    "\n",
    "# see some\n",
    "Stat_amz_air.head(10)"
   ]
  },
  {
   "cell_type": "code",
   "execution_count": null,
   "id": "619ad58c-5197-4f92-9883-75ca8b00699f",
   "metadata": {},
   "outputs": [],
   "source": [
    "# closest river to each airport\n",
    "D_Matrix_amazRivs_air.idxmin(axis=0).head()"
   ]
  },
  {
   "cell_type": "code",
   "execution_count": null,
   "id": "6107daa5-d610-40e2-a1c0-930e7044ee94",
   "metadata": {},
   "outputs": [],
   "source": [
    "# farthest river to each airport\n",
    "D_Matrix_amazRivs_air.idxmax(axis=0).head()"
   ]
  },
  {
   "cell_type": "markdown",
   "id": "1d249122-c2be-43b2-9496-dba32beab171",
   "metadata": {},
   "source": [
    "### c. Between Polygon and Point\n",
    "\n",
    "Let me re use the world rivers:"
   ]
  },
  {
   "cell_type": "code",
   "execution_count": null,
   "id": "f7759c73-da70-4e24-875a-1318540ad1aa",
   "metadata": {},
   "outputs": [],
   "source": [
    "river_systems=world_rivers[world_rivers.SYSTEM.isin(['Amazon','Parana'])]\n",
    "river_systems"
   ]
  },
  {
   "cell_type": "code",
   "execution_count": null,
   "id": "dae1761f-7914-4b9d-9140-8ef51a7b5cb3",
   "metadata": {},
   "outputs": [],
   "source": [
    "ama_para=river_systems.dissolve(by='SYSTEM')\n",
    "ama_para.drop(columns='RIVER',inplace=True)\n",
    "ama_para"
   ]
  },
  {
   "cell_type": "markdown",
   "id": "7f20d8a7-a2ab-4997-af3b-b05902ce2f33",
   "metadata": {},
   "source": [
    "We still have lines:"
   ]
  },
  {
   "cell_type": "code",
   "execution_count": null,
   "id": "8cd483d9-5585-45b7-ad3f-8416a6b2b496",
   "metadata": {},
   "outputs": [],
   "source": [
    "ama_para.plot(cmap='viridis')"
   ]
  },
  {
   "cell_type": "markdown",
   "id": "755dabce-1a0b-4f09-adfe-424bb56ea391",
   "metadata": {},
   "source": [
    "But we will have polygons after this:"
   ]
  },
  {
   "cell_type": "code",
   "execution_count": null,
   "id": "a40a5543-d676-4696-a2d8-a0447b19d3d9",
   "metadata": {},
   "outputs": [],
   "source": [
    "ama_para.convex_hull.plot(cmap='viridis')"
   ]
  },
  {
   "cell_type": "markdown",
   "id": "eea2280b-f1d7-4b62-a891-1f2cd3c48d0c",
   "metadata": {},
   "source": [
    "As we have a geoseies of two geometries..."
   ]
  },
  {
   "cell_type": "code",
   "execution_count": null,
   "id": "b480caad-02ae-4525-a823-3fb7c4c83aa9",
   "metadata": {},
   "outputs": [],
   "source": [
    "ama_para.convex_hull,type(ama_para.convex_hull)"
   ]
  },
  {
   "cell_type": "markdown",
   "id": "fc972130-f2ba-49b8-97d4-624ec1d0791d",
   "metadata": {},
   "source": [
    "Let's turn that into a GDF:"
   ]
  },
  {
   "cell_type": "code",
   "execution_count": null,
   "id": "f6085f9d-044c-43eb-ac09-110dba687c53",
   "metadata": {},
   "outputs": [],
   "source": [
    "ama_para_hulls=ama_para.convex_hull.to_frame()\n",
    "ama_para_hulls.rename(columns={0:'geometry'},inplace=True)\n",
    "ama_para_hulls=ama_para_hulls.set_geometry('geometry')\n",
    "ama_para_hulls.crs=\"EPSG:5880\"\n",
    "\n",
    "#voila\n",
    "ama_para_hulls"
   ]
  },
  {
   "cell_type": "markdown",
   "id": "6c0a05f1-9e77-451b-a0b6-f0a69ecbd044",
   "metadata": {},
   "source": [
    "And now, the distance matrix:"
   ]
  },
  {
   "cell_type": "code",
   "execution_count": null,
   "id": "f4d2e3c6-6a33-4247-b83b-5055b5ac980e",
   "metadata": {},
   "outputs": [],
   "source": [
    "D_Matrix_rivsHulls_air=ama_para_hulls.geometry.apply \\\n",
    "                (lambda system: large_airports.geometry.distance(system)/1000)\n",
    "D_Matrix_rivsHulls_air"
   ]
  },
  {
   "cell_type": "markdown",
   "id": "d97ed48a-1dd4-48e0-9940-de75ea43b5ed",
   "metadata": {},
   "source": [
    "From here, you can compute distances between other kinds of geometries."
   ]
  },
  {
   "cell_type": "markdown",
   "id": "be643505-1c8f-435c-b3ca-150aee9c4b3b",
   "metadata": {
    "id": "be643505-1c8f-435c-b3ca-150aee9c4b3b"
   },
   "source": [
    "## II. Clipping\n",
    "\n",
    "Clipping uses a GDF geometry as a MASK to cut another GDF which suppossedly is bigger and needes to be clipped."
   ]
  },
  {
   "cell_type": "markdown",
   "id": "01e11a63-f60d-46b7-90b3-29f8e554227f",
   "metadata": {
    "id": "01e11a63-f60d-46b7-90b3-29f8e554227f"
   },
   "source": [
    "Pay attention to the world rivers again:"
   ]
  },
  {
   "cell_type": "code",
   "execution_count": null,
   "id": "e04c8325-ac9e-416a-a15d-165a3945c028",
   "metadata": {
    "colab": {
     "base_uri": "https://localhost:8080/",
     "height": 424
    },
    "id": "e04c8325-ac9e-416a-a15d-165a3945c028",
    "outputId": "59e3b63c-7f48-4f5c-f269-102a2f7388b5"
   },
   "outputs": [],
   "source": [
    "world_rivers"
   ]
  },
  {
   "cell_type": "markdown",
   "id": "c6fcbcc4-6b4e-45ea-ba63-814549807e6d",
   "metadata": {
    "id": "c6fcbcc4-6b4e-45ea-ba63-814549807e6d"
   },
   "source": [
    "As you see, this GDF has no Country column. But since it has geometry, you can keep the rivers, or their sections, that serve a country:"
   ]
  },
  {
   "cell_type": "code",
   "execution_count": null,
   "id": "5b6a5884-4c38-4cf9-b452-c472e409d82b",
   "metadata": {
    "id": "5b6a5884-4c38-4cf9-b452-c472e409d82b"
   },
   "outputs": [],
   "source": [
    "rivers_brazil5880 = gpd.clip(gdf=world_rivers.to_crs(5880),\n",
    "                             mask=brazil5880)"
   ]
  },
  {
   "cell_type": "markdown",
   "id": "59424b3b-f335-47dd-8496-c4a7a5b7ee72",
   "metadata": {
    "id": "59424b3b-f335-47dd-8496-c4a7a5b7ee72"
   },
   "source": [
    "Then, you can plot the clipped version:"
   ]
  },
  {
   "cell_type": "code",
   "execution_count": null,
   "id": "4cc43012-dcc3-45b3-b31e-35bcb26cab94",
   "metadata": {
    "colab": {
     "base_uri": "https://localhost:8080/",
     "height": 463
    },
    "id": "4cc43012-dcc3-45b3-b31e-35bcb26cab94",
    "outputId": "684ed3d4-de8e-4541-f1b2-8c2dc6e30281"
   },
   "outputs": [],
   "source": [
    "base = brazil5880.plot(facecolor=\"greenyellow\", edgecolor='black', linewidth=0.4,figsize=(5,5))\n",
    "rivers_brazil5880.plot(edgecolor='blue', linewidth=0.5,\n",
    "                    ax=base)"
   ]
  },
  {
   "cell_type": "markdown",
   "id": "c77dfd82-1685-4f2d-a1ae-3ff26f8f3041",
   "metadata": {},
   "source": [
    "We can create our own mask for clipping:\n",
    "\n",
    "Let me get the **bounding box** of the map (the smallest possible rectangle that completely encloses a geometric shape or set of shapes):"
   ]
  },
  {
   "cell_type": "code",
   "execution_count": null,
   "id": "80f8a267-da8a-4831-be2b-7d83bac3c595",
   "metadata": {
    "colab": {
     "base_uri": "https://localhost:8080/"
    },
    "id": "80f8a267-da8a-4831-be2b-7d83bac3c595",
    "outputId": "0abc437a-fd5d-42e9-9e5a-8ec183735ac7",
    "scrolled": true
   },
   "outputs": [],
   "source": [
    "brazil5880.total_bounds #[minx, miny, maxx, maxy]"
   ]
  },
  {
   "cell_type": "code",
   "execution_count": null,
   "id": "76f1dee2-1db3-4aca-a389-0d9b87718514",
   "metadata": {},
   "outputs": [],
   "source": [
    "# or\n",
    "minx, miny, maxx, maxy=brazil5880.total_bounds\n",
    "minx, miny, maxx, maxy"
   ]
  },
  {
   "cell_type": "markdown",
   "id": "e00d037a-9493-4bee-807a-c04202409990",
   "metadata": {},
   "source": [
    "I will combine those coordinates with the _centroid_ (mid_x,mid_y)to create a BOX of the north and south of Brazil:"
   ]
  },
  {
   "cell_type": "code",
   "execution_count": null,
   "id": "0180a0cd-311b-43e4-a68a-2fe82f46b4a0",
   "metadata": {
    "colab": {
     "base_uri": "https://localhost:8080/"
    },
    "id": "0180a0cd-311b-43e4-a68a-2fe82f46b4a0",
    "outputId": "8e33577f-7505-4442-fc2e-e55014d0f49c"
   },
   "outputs": [],
   "source": [
    "north_mask = [minx, mid_y, maxx, maxy]\n",
    "south_mask = [minx, minx, maxx, mid_y]\n",
    "\n",
    "# split Brazil\n",
    "states_brazil5880.clip(north_mask).plot(edgecolor=\"yellow\")"
   ]
  },
  {
   "cell_type": "code",
   "execution_count": null,
   "id": "1b9e1c22-e6ec-4671-b60c-a946bccb7791",
   "metadata": {},
   "outputs": [],
   "source": [
    "states_brazil5880.clip(south_mask).plot(edgecolor=\"yellow\")"
   ]
  },
  {
   "cell_type": "markdown",
   "id": "f465c328-5cb2-49ce-a90a-37419ade4a6f",
   "metadata": {},
   "source": [
    "As you see, with clip we can cut polygons (not respecting the borders)."
   ]
  },
  {
   "cell_type": "markdown",
   "id": "b5c4eee9-24fc-4fa2-a639-9d774eb60825",
   "metadata": {},
   "source": [
    "## III. Spatial Joins\n",
    "\n",
    "We’re familiar with **merging**, which joins tables using common keys. Spatial joins, by contrast, rely solely on **geometry columns** to perform various types of filtering. \n",
    "\n",
    "Let me use the brazilian large airports and states:"
   ]
  },
  {
   "cell_type": "code",
   "execution_count": null,
   "id": "a0dfc63d-650e-4f89-bd29-817a42534b8e",
   "metadata": {},
   "outputs": [],
   "source": [
    "large_airports.head()"
   ]
  },
  {
   "cell_type": "markdown",
   "id": "b887209c-7a1a-4a3c-a79e-e74321e373ad",
   "metadata": {},
   "source": [
    "...and:"
   ]
  },
  {
   "cell_type": "code",
   "execution_count": null,
   "id": "e30b503a-c304-4615-aa27-72a66a3a3cc9",
   "metadata": {},
   "outputs": [],
   "source": [
    "states_brazil5880.head()"
   ]
  },
  {
   "cell_type": "markdown",
   "id": "bc834d8a-ada5-4cfc-9a23-f04800d4cd3e",
   "metadata": {},
   "source": [
    "### a. Within"
   ]
  },
  {
   "cell_type": "markdown",
   "id": "92e16665-bba3-462b-a6cb-971fd2cac082",
   "metadata": {},
   "source": [
    "Let's ask:\n",
    "> The large airports whose geometries are within the borders of a state in Brazil."
   ]
  },
  {
   "cell_type": "code",
   "execution_count": null,
   "id": "e4093e9f-2149-4390-b7fb-676b6a24beff",
   "metadata": {},
   "outputs": [],
   "source": [
    "airports_within_states = gpd.sjoin(\n",
    "    large_airports,         # LEFT: airports we want to filter/keep\n",
    "    states_brazil5880,      # RIGHT: spatial boundaries to check against\n",
    "    how='inner',            # return geometries that match in both LEFT/RIGHT (jointype)\n",
    "    predicate='within'      # spatial condition: LEFT geometry within RIGHT geometry\n",
    ")\n",
    "\n",
    "# these are:\n",
    "airports_within_states"
   ]
  },
  {
   "cell_type": "markdown",
   "id": "d15e0714-7198-4d4f-9c60-e295520f5ce6",
   "metadata": {},
   "source": [
    "We just performed a point-to-polygon spatial join.\n",
    "Notice that the result preserves the original geometries from the LEFT GeoDataFrame — specifically, only those features whose spatial relationship satisfied both the predicate (e.g., 'within') and the join type ('inner').\n",
    "The non-geometric attributes (columns) from the RIGHT GeoDataFrame are joined to the matching rows."
   ]
  },
  {
   "cell_type": "markdown",
   "id": "b5304d8d-9ff5-4c65-94ad-5a7c4727396a",
   "metadata": {},
   "source": [
    "### b. Contains"
   ]
  },
  {
   "cell_type": "markdown",
   "id": "9a8607e8-a979-4cdb-b980-83d474c2418d",
   "metadata": {},
   "source": [
    "Importantly, if the LEFT GeoDataFrame contains polygons and the RIGHT contains points (a polygon-to-point join), you’ll typically need to use a different predicate — such as 'contains' — to express the spatial relationship correctly.\n",
    "\n",
    "> Brazilian states that house large airports"
   ]
  },
  {
   "cell_type": "code",
   "execution_count": null,
   "id": "86d0683e-21fd-4300-a04e-59cc7392ef25",
   "metadata": {},
   "outputs": [],
   "source": [
    "states_containing_LargeAirports = gpd.sjoin(states_brazil5880,large_airports,how='inner',\n",
    "                                            predicate='contains')\n",
    "\n",
    "states_containing_LargeAirports"
   ]
  },
  {
   "cell_type": "markdown",
   "id": "1d051af3-f9e2-47f2-974a-f22731bcab89",
   "metadata": {},
   "source": [
    "### c. Intersects\n",
    "\n",
    "'Contains' is literally strict: Any airport located exactly on a state boundary — whether due to data precision, snapping, or real geography — will be excluded, even if it’s “practically” inside the state. More flexibility is achieved with **intersects**.\n",
    "\n",
    "> Large airports whose location is anywhere belonging to a particular state"
   ]
  },
  {
   "cell_type": "code",
   "execution_count": null,
   "id": "ed58e5eb-663f-4973-b6c0-f9e1a00f6532",
   "metadata": {},
   "outputs": [],
   "source": [
    "## Intersects needs at least a common point between both GeoDFs. \n",
    "gpd.sjoin(states_brazil5880,large_airports,\n",
    "          how='inner', predicate='intersects')"
   ]
  },
  {
   "cell_type": "markdown",
   "id": "fa2ca902-c593-4b74-a33a-8169a49c0250",
   "metadata": {},
   "source": [
    "### d. Touches\n",
    "\n",
    "We also have 'touches', a more stringent predicate than 'intersects'. It returns geometries that:\n",
    " - Share a border (for polygons or lines), or\n",
    " - Contact at exactly one point (for points or endpoints).\n",
    "\n",
    "> Which states are neighbors of 'BAHIA\", including BAHIA"
   ]
  },
  {
   "cell_type": "code",
   "execution_count": null,
   "id": "9c2276e2-4e96-43b3-ab33-45f90eeea7fc",
   "metadata": {},
   "outputs": [],
   "source": [
    "# Neighbors of Bahia?\n",
    "gpd.sjoin(N_brazil.loc[N_brazil.state_name=='Bahia',:],N_brazil,how='inner', predicate='intersects').shape"
   ]
  },
  {
   "cell_type": "markdown",
   "id": "f862a19d-e5ec-4268-b126-dcbab84693c3",
   "metadata": {},
   "source": [
    "That is, Bahia seems to share borders with 5 states:"
   ]
  },
  {
   "cell_type": "code",
   "execution_count": null,
   "id": "65d81e9d-b406-47de-9b06-dd26ed2b58d7",
   "metadata": {},
   "outputs": [],
   "source": [
    "base=gpd.sjoin(N_brazil,N_brazil.loc[N_brazil.state_name=='Bahia',:],\n",
    "               how='inner', \n",
    "               predicate='intersects').plot(color='yellow',edgecolor='red')\n",
    "N_brazil.loc[N_brazil.state_name=='Bahia',:].plot(ax=base, color='red')"
   ]
  },
  {
   "cell_type": "markdown",
   "id": "bbe020a9-92cf-40de-8eab-2edb5d9088ee",
   "metadata": {},
   "source": [
    "However, because many free GeoDataFrames — especially those sourced as Shapefiles — contain topological imperfections like gaps, overlaps, or misaligned vertices, 'touches' often fails to detect what should be adjacent features. Ironically, this “failure” can be useful: 'touches' acts as a diagnostic tool — highlighting where boundaries are not perfectly aligned."
   ]
  },
  {
   "cell_type": "code",
   "execution_count": null,
   "id": "a2fcd8fc-b227-40c4-860e-c6367385d980",
   "metadata": {},
   "outputs": [],
   "source": [
    "gpd.sjoin(N_brazil.loc[N_brazil.state_name=='Bahia',:],N_brazil,how='inner', predicate='touches').shape"
   ]
  },
  {
   "cell_type": "markdown",
   "id": "a78b37ed-372c-48db-ad41-193e70866a5c",
   "metadata": {},
   "source": [
    "See the neighbor that disappears:"
   ]
  },
  {
   "cell_type": "code",
   "execution_count": null,
   "id": "0f7315ce-674e-4ed4-a3ea-c302d5bbdd8b",
   "metadata": {},
   "outputs": [],
   "source": [
    "base=gpd.sjoin(N_brazil,N_brazil.loc[N_brazil.state_name=='Bahia',:],\n",
    "               how='inner', \n",
    "               predicate='touches').plot(color='yellow',edgecolor='red')\n",
    "N_brazil.loc[N_brazil.state_name=='Bahia',:].plot(ax=base, color='red')"
   ]
  },
  {
   "cell_type": "markdown",
   "id": "542dcd95-0a36-4d83-8216-13a7da41b41e",
   "metadata": {},
   "source": [
    "### e. Crosses\n",
    "\n",
    "When we have **lines**, we may need **crosses**. Let me subset our rivers:"
   ]
  },
  {
   "cell_type": "code",
   "execution_count": null,
   "id": "d74706f6-8eb3-4d5a-a5ad-00b896a0738c",
   "metadata": {},
   "outputs": [],
   "source": [
    "amazonSystem=rivers_brazil5880[rivers_brazil5880.SYSTEM=='Amazon']\n",
    "amazonSystem"
   ]
  },
  {
   "cell_type": "markdown",
   "id": "06bf70f4-9fa3-4d2c-bb19-099e0317641b",
   "metadata": {},
   "source": [
    "Then,\n",
    "> Which rivers from the Amazon system are intersecting states?"
   ]
  },
  {
   "cell_type": "code",
   "execution_count": null,
   "id": "96be5973-9fea-45d3-a6de-a8a6ff7b868a",
   "metadata": {},
   "outputs": [],
   "source": [
    "gpd.sjoin(amazonSystem,states_brazil5880,how='inner', predicate='intersects').shape"
   ]
  },
  {
   "cell_type": "markdown",
   "id": "ea5546ab-0870-406a-9ef6-dff58b69ad03",
   "metadata": {},
   "source": [
    "Alternatively,\n",
    "\n",
    "> Which rivers from the Amazon system are crossing states?"
   ]
  },
  {
   "cell_type": "code",
   "execution_count": null,
   "id": "80662036-9e9a-47b3-af64-8287707c95ed",
   "metadata": {},
   "outputs": [],
   "source": [
    "gpd.sjoin(amazonSystem,states_brazil5880,how='inner', predicate='crosses').shape"
   ]
  },
  {
   "cell_type": "markdown",
   "id": "49f10269-28e7-4ec2-851c-d8b8acacb161",
   "metadata": {},
   "source": [
    "Again, _intersects_ means both geometries have some 'space' in common. But **crosses** is an intersection that has to cross the spatial object. From the result above, there is one river that shares space with the state, but is not crossing its border."
   ]
  },
  {
   "cell_type": "code",
   "execution_count": null,
   "id": "1ce5511d-bcfe-4008-9989-6c349685a83a",
   "metadata": {},
   "outputs": [],
   "source": [
    "# Get intersects result\n",
    "intersects_result = gpd.sjoin(amazonSystem,states_brazil5880, how='inner', predicate='intersects')\n",
    "\n",
    "# Get crosses result\n",
    "crosses_result = gpd.sjoin(amazonSystem,states_brazil5880, how='inner', predicate='crosses')\n",
    "\n",
    "# Find indexes/columns\n",
    "riverIndex_notCrossing=list(set(intersects_result.index)-set(crosses_result.index))\n",
    "stateIndex_notCrossed=intersects_result[intersects_result.index.isin(riverIndex_notCrossing)].index_right\n",
    "\n",
    "# see\n",
    "states_brazil5880.loc[stateIndex_notCrossed,\"state_name\"], amazonSystem.loc[riverIndex_notCrossing,\"RIVER\"]"
   ]
  },
  {
   "cell_type": "markdown",
   "id": "98684eea-ab6b-42f8-8afa-d66000fd0c17",
   "metadata": {},
   "source": [
    "Now we know the river that is not crossing an state, and the name of that state."
   ]
  },
  {
   "cell_type": "code",
   "execution_count": null,
   "id": "06cc6736-5808-41c8-8062-5f72527c8cdb",
   "metadata": {
    "scrolled": true
   },
   "outputs": [],
   "source": [
    "base=states_brazil5880.loc[stateIndex_notCrossed,:].plot(color='w',edgecolor='k',figsize=(12, 8))\n",
    "amazonSystem.plot(ax=base)\n",
    "amazonSystem.loc[riverIndex_notCrossing,:].plot(color='red',ax=base)\n"
   ]
  },
  {
   "cell_type": "markdown",
   "id": "aff9f8ed-ce13-4c36-a219-ae4d5f2d0b83",
   "metadata": {},
   "source": [
    "## IV. Spatial Overlay\n",
    "\n",
    "As the name implies, you need two inputs. We might need to create or find some geometries from the geometries we already have. Using a set theory approach, we will see the use of _intersection_, _union_, _difference_, and _symmetric difference_.\n",
    "Let's remember these results:"
   ]
  },
  {
   "cell_type": "code",
   "execution_count": null,
   "id": "5b9c5caf-9e85-4462-b529-89784ecad92c",
   "metadata": {},
   "outputs": [],
   "source": [
    "N_brazil"
   ]
  },
  {
   "cell_type": "code",
   "execution_count": null,
   "id": "1a8b28f5-aba3-4ea9-abbb-6d80f0480fbe",
   "metadata": {},
   "outputs": [],
   "source": [
    "S_brazil"
   ]
  },
  {
   "cell_type": "markdown",
   "id": "c4f50822-09a7-4845-9652-a64cad41d5e7",
   "metadata": {},
   "source": [
    "Let me plot both of them:"
   ]
  },
  {
   "cell_type": "code",
   "execution_count": null,
   "id": "7a5a27d5-7117-43a5-bf61-6542de99e280",
   "metadata": {
    "colab": {
     "base_uri": "https://localhost:8080/",
     "height": 481
    },
    "id": "7a5a27d5-7117-43a5-bf61-6542de99e280",
    "outputId": "efbce584-091a-4ec2-9724-089756d5decf"
   },
   "outputs": [],
   "source": [
    "base= N_brazil.plot(facecolor='black', edgecolor='white',linewidth=0.2, alpha=0.6)\n",
    "S_brazil.plot(facecolor='white', edgecolor='black',linewidth=0.2,ax=base, alpha=0.6)"
   ]
  },
  {
   "cell_type": "markdown",
   "id": "940832b7-250c-46f6-ab20-c65e92e0bd31",
   "metadata": {},
   "source": [
    "The grey area reminds you that the coordinates we used to split the states did not give us a clean cut. Here you see the states in common:"
   ]
  },
  {
   "cell_type": "code",
   "execution_count": null,
   "id": "bf1d298a-325d-4996-8fa0-4cbd48471b25",
   "metadata": {},
   "outputs": [],
   "source": [
    "set(S_brazil.state_name) & set(N_brazil.state_name)"
   ]
  },
  {
   "cell_type": "markdown",
   "id": "69fcdb81-597c-4812-8544-343764ef568a",
   "metadata": {},
   "source": [
    "The same happened in East vs West:"
   ]
  },
  {
   "cell_type": "code",
   "execution_count": null,
   "id": "f6c71c71-f9d1-4a3d-b03e-d3a492ddb2e7",
   "metadata": {},
   "outputs": [],
   "source": [
    "set(E_brazil.state_name) & set(W_brazil.state_name)"
   ]
  },
  {
   "cell_type": "code",
   "execution_count": null,
   "id": "1e119335-f1d0-42fb-8c7a-bcd5f0231578",
   "metadata": {
    "colab": {
     "base_uri": "https://localhost:8080/",
     "height": 481
    },
    "id": "1e119335-f1d0-42fb-8c7a-bcd5f0231578",
    "outputId": "84460d11-0d8a-4259-b753-b07999c6feef"
   },
   "outputs": [],
   "source": [
    "# visualizing\n",
    "base= E_brazil.plot(facecolor='black', edgecolor='white',linewidth=0.2, alpha=0.6)\n",
    "W_brazil.plot(facecolor='white', edgecolor='black',linewidth=0.2,ax=base, alpha=0.6)"
   ]
  },
  {
   "cell_type": "markdown",
   "id": "8e770e96-da53-412d-8ab5-70e186c62f53",
   "metadata": {},
   "source": [
    "Let's play with these GDFs, keep in mind the position of the GDFs:\n",
    "\n",
    "```\n",
    "GDF_left.overlay(GDF_right, ...)\n",
    "```"
   ]
  },
  {
   "cell_type": "markdown",
   "id": "b751684b-270f-4b3a-9b7d-d51ae7f2b641",
   "metadata": {
    "id": "b751684b-270f-4b3a-9b7d-d51ae7f2b641"
   },
   "source": [
    "### a. Intersection\n",
    "\n",
    "We keep what is common between _left_ and _right_ GDFs :"
   ]
  },
  {
   "cell_type": "code",
   "execution_count": null,
   "id": "b6517bb9-b20a-46f9-ba77-d8a0f120f97c",
   "metadata": {
    "colab": {
     "base_uri": "https://localhost:8080/",
     "height": 163
    },
    "id": "b6517bb9-b20a-46f9-ba77-d8a0f120f97c",
    "outputId": "7a93953c-3c9c-4d00-8142-1f05532068e0"
   },
   "outputs": [],
   "source": [
    "NS_brazil=N_brazil.overlay(S_brazil, how=\"intersection\",keep_geom_type=True)\n",
    "# see results\n",
    "NS_brazil"
   ]
  },
  {
   "cell_type": "markdown",
   "id": "539a5c97-abc2-4368-8831-5eb93f2a8e15",
   "metadata": {},
   "source": [
    "Notice we got more rows than when we did this operation:\n",
    "\n",
    "```\n",
    "set(S_brazil.state_name) & set(N_brazil.state_name)\n",
    "```\n",
    "We have three more polygons:"
   ]
  },
  {
   "cell_type": "code",
   "execution_count": null,
   "id": "b977c127-d413-4d2f-ac97-1de1b0d97f05",
   "metadata": {},
   "outputs": [],
   "source": [
    "NS_brazil[NS_brazil.state_name_1!= NS_brazil.state_name_2]"
   ]
  },
  {
   "cell_type": "markdown",
   "id": "ddb5e74e-2a4a-4b97-9476-ad296465cd09",
   "metadata": {},
   "source": [
    "In fact, we are NOT intersecting state names, we are intersecting geometries. Then, the input maps have some topological issues.\n",
    "\n",
    "This is the amount of area that is in fact a topological problem:"
   ]
  },
  {
   "cell_type": "code",
   "execution_count": null,
   "id": "ed29af30-f7b1-4fb2-a48e-e76ca3d242a0",
   "metadata": {},
   "outputs": [],
   "source": [
    "NS_brazil[NS_brazil.state_name_1!= NS_brazil.state_name_2].geometry.area.sum()"
   ]
  },
  {
   "cell_type": "markdown",
   "id": "c5c03087-f4a6-4870-9ef7-19ea6ccc3710",
   "metadata": {},
   "source": [
    "A way to measure the share of the low quality:"
   ]
  },
  {
   "cell_type": "code",
   "execution_count": null,
   "id": "1fb79b39-3c17-42c0-91f6-f9b5056cbeb7",
   "metadata": {},
   "outputs": [],
   "source": [
    "NS_brazil[NS_brazil.state_name_1!= NS_brazil.state_name_2].geometry.area.sum()/  \\\n",
    "NS_brazil[NS_brazil.state_name_1== NS_brazil.state_name_2].geometry.area.sum() #continues from above"
   ]
  },
  {
   "cell_type": "markdown",
   "id": "8b8aad96-b3f9-4c25-9f20-83ce699d763a",
   "metadata": {},
   "source": [
    "So, spatial overlay operations do their best to give you true results; but unfortunately, as the quality of the sources is not perfect, you may get messy results. It is our job to detect and make decisions. Let's keep two GDFs, one with the unperfect result, and another with a 'valid' output."
   ]
  },
  {
   "cell_type": "code",
   "execution_count": null,
   "id": "333abaf6-0a6e-4f87-9b66-d83ec8321fac",
   "metadata": {},
   "outputs": [],
   "source": [
    "NS_brazil_messy=NS_brazil.copy()\n",
    "NS_brazil=NS_brazil[NS_brazil.state_name_1== NS_brazil.state_name_2]"
   ]
  },
  {
   "cell_type": "markdown",
   "id": "63f0b701-618d-4090-a8aa-ea90d45930bc",
   "metadata": {},
   "source": [
    "This should be what we expected to see:"
   ]
  },
  {
   "cell_type": "code",
   "execution_count": null,
   "id": "7effbb8f-183e-4683-8466-619ecc5f03e1",
   "metadata": {},
   "outputs": [],
   "source": [
    "NS_brazil"
   ]
  },
  {
   "cell_type": "markdown",
   "id": "f2d4ee19-1074-4eb2-8b79-4405f4d551fb",
   "metadata": {},
   "source": [
    "The clean data has minor things to improve, delete redundant columns, rename columns, and reset the index so they are a correlative sequence. "
   ]
  },
  {
   "cell_type": "code",
   "execution_count": null,
   "id": "144f3447-84a7-4a04-94e2-0e0e386946a2",
   "metadata": {},
   "outputs": [],
   "source": [
    "# avoid redundancy\n",
    "keep=['state_name_1','state_code_1','geometry']\n",
    "NS_brazil=NS_brazil.loc[:,keep]\n",
    "NS_brazil.rename(columns={'state_name_1':'state_name','state_code_1':'state_code'},inplace=True)\n",
    "\n",
    "# reset for correlative sequence\n",
    "NS_brazil.reset_index(drop=True, inplace=True)"
   ]
  },
  {
   "cell_type": "markdown",
   "id": "81d97f1d-fa30-4793-8094-18e0573fa9b8",
   "metadata": {},
   "source": [
    "Based on the previous case, we may expect a similar situation here:"
   ]
  },
  {
   "cell_type": "code",
   "execution_count": null,
   "id": "a65bd362-ddde-4d7d-98c7-151d7a1d1b0b",
   "metadata": {
    "colab": {
     "base_uri": "https://localhost:8080/",
     "height": 481
    },
    "id": "a65bd362-ddde-4d7d-98c7-151d7a1d1b0b",
    "outputId": "6dc90a38-dab6-41f7-84c3-00d2701b9d18"
   },
   "outputs": [],
   "source": [
    "# keeping the overlay\n",
    "WE_brazil=W_brazil.overlay(E_brazil, how=\"intersection\",keep_geom_type=True)\n",
    "WE_brazil[WE_brazil.state_name_1!= WE_brazil.state_name_2]"
   ]
  },
  {
   "cell_type": "markdown",
   "id": "a4eae87b-6570-4ea2-951b-97c3848dbafd",
   "metadata": {},
   "source": [
    "Let's do the same as before:"
   ]
  },
  {
   "cell_type": "code",
   "execution_count": null,
   "id": "bc2d266d-1469-4850-bd6e-548bd272c6b2",
   "metadata": {},
   "outputs": [],
   "source": [
    "WE_brazil_messy=WE_brazil.copy()\n",
    "WE_brazil=WE_brazil[WE_brazil.state_name_1== WE_brazil.state_name_2]\n",
    "\n",
    "keep=['state_name_1','state_code_1','geometry']\n",
    "WE_brazil=WE_brazil.loc[:,keep]\n",
    "WE_brazil.rename(columns={'state_name_1':'state_name','state_code_1':'state_code'},inplace=True)\n",
    "WE_brazil.reset_index(drop=True, inplace=True)"
   ]
  },
  {
   "cell_type": "markdown",
   "id": "ec14306e-6c6e-4759-88e0-66a02b4294ec",
   "metadata": {
    "id": "ec14306e-6c6e-4759-88e0-66a02b4294ec"
   },
   "source": [
    "### b. Union\n",
    "\n",
    "Different from UNION_ALL (which acts as DISSOLVE), here we will combine the left and right GDFs. "
   ]
  },
  {
   "cell_type": "code",
   "execution_count": null,
   "id": "4bbcc6ab-975e-4e47-8a07-9ad723c68368",
   "metadata": {
    "colab": {
     "base_uri": "https://localhost:8080/"
    },
    "id": "4bbcc6ab-975e-4e47-8a07-9ad723c68368",
    "outputId": "327ebe28-14b9-4bbb-bcaa-c5bcb1861faa"
   },
   "outputs": [],
   "source": [
    "NS_brazil.info()"
   ]
  },
  {
   "cell_type": "code",
   "execution_count": null,
   "id": "c69c559c-987a-4335-b18c-bc9e0f9fea2b",
   "metadata": {
    "colab": {
     "base_uri": "https://localhost:8080/"
    },
    "id": "c69c559c-987a-4335-b18c-bc9e0f9fea2b",
    "outputId": "ac5add12-0b6c-4c83-c4c8-fa7b1a3011cf"
   },
   "outputs": [],
   "source": [
    "WE_brazil.info()"
   ]
  },
  {
   "cell_type": "code",
   "execution_count": null,
   "id": "5dfab57c-04e5-468d-b60a-0cc82ddeb1de",
   "metadata": {
    "colab": {
     "base_uri": "https://localhost:8080/",
     "height": 424
    },
    "id": "5dfab57c-04e5-468d-b60a-0cc82ddeb1de",
    "outputId": "bd796237-81bd-4a2e-8a18-c43a874113f5"
   },
   "outputs": [],
   "source": [
    "# now\n",
    "NS_brazil.overlay(WE_brazil,how=\"union\",keep_geom_type=True)"
   ]
  },
  {
   "cell_type": "markdown",
   "id": "4630ac7f-d8f5-4f98-b88b-4b3e201cdba3",
   "metadata": {
    "id": "4630ac7f-d8f5-4f98-b88b-4b3e201cdba3"
   },
   "source": [
    "As you see, geometries are fine, but missing values were created where no intersection exists. Notice this operation  identifies the intersection. \n",
    "\n",
    "Pandas has a _concat()_ function, which just pastes two tables, one of top of the other. Notice this will give you one more row (Mato Grosso appears twice) as nothing is done spite of geometries intersect."
   ]
  },
  {
   "cell_type": "code",
   "execution_count": null,
   "id": "dd26202c-f697-4635-9596-5eed71dc777d",
   "metadata": {
    "colab": {
     "base_uri": "https://localhost:8080/",
     "height": 424
    },
    "id": "dd26202c-f697-4635-9596-5eed71dc777d",
    "outputId": "da553bed-30d2-4bac-86b5-e226bf954c03"
   },
   "outputs": [],
   "source": [
    "# appending\n",
    "import pandas as pd\n",
    "\n",
    "pd.concat([NS_brazil,WE_brazil],ignore_index=True)"
   ]
  },
  {
   "cell_type": "markdown",
   "id": "2741107f-24c9-4dd0-bdd9-910a3666b61d",
   "metadata": {
    "id": "2741107f-24c9-4dd0-bdd9-910a3666b61d"
   },
   "source": [
    "Let me create an object to save the overlay result:"
   ]
  },
  {
   "cell_type": "code",
   "execution_count": null,
   "id": "cc7b3bca-13b5-4bae-a431-3a23811f1a73",
   "metadata": {
    "colab": {
     "base_uri": "https://localhost:8080/",
     "height": 89
    },
    "id": "cc7b3bca-13b5-4bae-a431-3a23811f1a73",
    "outputId": "a5dc285e-ea40-4db4-8f69-9317ffb00fa5"
   },
   "outputs": [],
   "source": [
    "MidBrazil=NS_brazil.overlay(WE_brazil,how=\"union\",keep_geom_type=True).dissolve()\n",
    "MidBrazil"
   ]
  },
  {
   "cell_type": "code",
   "execution_count": null,
   "id": "df9d6897-4e84-4b6b-8a76-398b19985d49",
   "metadata": {
    "colab": {
     "base_uri": "https://localhost:8080/",
     "height": 89
    },
    "id": "df9d6897-4e84-4b6b-8a76-398b19985d49",
    "outputId": "e07d59fb-fe67-42d9-dd27-0d16d2b8ee21"
   },
   "outputs": [],
   "source": [
    "# some cleaning\n",
    "\n",
    "MidBrazil['country']='Brazil'\n",
    "MidBrazil['region']='center'\n",
    "# reordering\n",
    "MidBrazil=MidBrazil.loc[:,['country','region','geometry']]\n",
    "\n",
    "MidBrazil"
   ]
  },
  {
   "cell_type": "code",
   "execution_count": null,
   "id": "7023d7a3-2b4f-4a0c-97d6-5e1ab524242a",
   "metadata": {},
   "outputs": [],
   "source": [
    "# see it\n",
    "base=brazil5880.plot(facecolor='yellow')\n",
    "MidBrazil.plot(ax=base)"
   ]
  },
  {
   "cell_type": "markdown",
   "id": "bd80963c-3d9e-4708-af62-6d19149a6a4b",
   "metadata": {
    "id": "bd80963c-3d9e-4708-af62-6d19149a6a4b"
   },
   "source": [
    "### c. Difference\n",
    "\n",
    "Here, you keep what belongs to the left GDF that is not in the right GDF:"
   ]
  },
  {
   "cell_type": "code",
   "execution_count": null,
   "id": "667a9eeb-dadb-4fcf-9c67-23ce0f6da08a",
   "metadata": {
    "colab": {
     "base_uri": "https://localhost:8080/",
     "height": 481
    },
    "id": "667a9eeb-dadb-4fcf-9c67-23ce0f6da08a",
    "outputId": "ca55f1ba-5263-4864-82ea-8c8643eccf05"
   },
   "outputs": [],
   "source": [
    "# we keep nothern states that are not in the southern ones\n",
    "N_brazil.overlay(S_brazil, how='difference')"
   ]
  },
  {
   "cell_type": "code",
   "execution_count": null,
   "id": "8fc7538f-4c2f-47ee-85ca-c3df2783f99c",
   "metadata": {},
   "outputs": [],
   "source": [
    "# using set operations:\n",
    "set(N_brazil.state_name)- set(S_brazil.state_name)"
   ]
  },
  {
   "cell_type": "markdown",
   "id": "796a135d-3c3b-4115-8c11-b9c001cc3476",
   "metadata": {},
   "source": [
    "We got a clean result (remember we are using the not messy GDFs). Let's plot this:"
   ]
  },
  {
   "cell_type": "code",
   "execution_count": null,
   "id": "0bc5fdd2-672b-4770-94ad-e886f7bb094a",
   "metadata": {},
   "outputs": [],
   "source": [
    "base=N_brazil.plot(color='yellow', edgecolor='black',alpha=0.1)\n",
    "N_brazil.overlay(S_brazil, how='difference').plot(ax=base)"
   ]
  },
  {
   "cell_type": "markdown",
   "id": "ae4cc49b-7302-424b-9dec-79dccb01122d",
   "metadata": {},
   "source": [
    "Keep in mind that **difference** is not commutative:"
   ]
  },
  {
   "cell_type": "code",
   "execution_count": null,
   "id": "3ed9cbaa-1036-4a76-935d-68c90210990d",
   "metadata": {},
   "outputs": [],
   "source": [
    "S_brazil.overlay(N_brazil, how='difference')"
   ]
  },
  {
   "cell_type": "markdown",
   "id": "aa1ddd55-aaa6-476f-ae68-5dc8f9fc440e",
   "metadata": {},
   "source": [
    "This a totally different result:"
   ]
  },
  {
   "cell_type": "code",
   "execution_count": null,
   "id": "74cf955a-71ff-4600-b4b9-256273357630",
   "metadata": {},
   "outputs": [],
   "source": [
    "base=N_brazil.plot(color='yellow', edgecolor='black',alpha=0.1)\n",
    "S_brazil.overlay(N_brazil, how='difference').plot(ax=base)"
   ]
  },
  {
   "cell_type": "markdown",
   "id": "8170b033-0707-43e8-b4ee-dca39e46f17a",
   "metadata": {
    "id": "8170b033-0707-43e8-b4ee-dca39e46f17a"
   },
   "source": [
    "### d. Symmetric Difference"
   ]
  },
  {
   "cell_type": "markdown",
   "id": "5f2728ec-f142-47a9-8de2-a65fef18680f",
   "metadata": {
    "id": "5f2728ec-f142-47a9-8de2-a65fef18680f"
   },
   "source": [
    "Here, we keep what is not in the intersection but in both GDFs. Notice that this operation is commutative!"
   ]
  },
  {
   "cell_type": "code",
   "execution_count": null,
   "id": "1a3e81f0-3f80-4a88-98c7-5f6611c50cfe",
   "metadata": {
    "colab": {
     "base_uri": "https://localhost:8080/",
     "height": 481
    },
    "id": "1a3e81f0-3f80-4a88-98c7-5f6611c50cfe",
    "outputId": "6f74eff7-5d91-4ce8-9771-4a4d8de818fd"
   },
   "outputs": [],
   "source": [
    "N_brazil.overlay(S_brazil, how='symmetric_difference')"
   ]
  },
  {
   "cell_type": "markdown",
   "id": "2317badb-dae3-4e00-a7fa-de3a157fbe1c",
   "metadata": {},
   "source": [
    "This operation gave a clean result again. Let's plot it:"
   ]
  },
  {
   "cell_type": "code",
   "execution_count": null,
   "id": "6feddf7a-056a-42f7-9408-62fe691f5635",
   "metadata": {},
   "outputs": [],
   "source": [
    "N_brazil.overlay(S_brazil, how='symmetric_difference').plot()"
   ]
  },
  {
   "cell_type": "markdown",
   "id": "7caa0e58",
   "metadata": {
    "id": "7caa0e58"
   },
   "source": [
    "\n",
    "_____________\n",
    "\n",
    "\n",
    "# Validity of Geometries\n",
    "\n",
    "Geometries are created in a way that some issues may appear, especially in (multi) polygons.\n",
    "Let's check if our recent maps on states and municipalities are valid:"
   ]
  },
  {
   "cell_type": "code",
   "execution_count": null,
   "id": "3a27c1ca",
   "metadata": {
    "colab": {
     "base_uri": "https://localhost:8080/",
     "height": 424
    },
    "id": "3a27c1ca",
    "outputId": "3ac8b3f8-eafb-438b-cf02-fb91d6748998"
   },
   "outputs": [],
   "source": [
    "# non valid\n",
    "S_brazil[~S_brazil.is_valid]"
   ]
  },
  {
   "cell_type": "code",
   "execution_count": null,
   "id": "ee29926a",
   "metadata": {
    "colab": {
     "base_uri": "https://localhost:8080/",
     "height": 481
    },
    "id": "ee29926a",
    "outputId": "02d6689b-8a2b-4788-9447-b9db3bac7413"
   },
   "outputs": [],
   "source": [
    "# see the invalid:\n",
    "S_brazil[~S_brazil.is_valid].plot()"
   ]
  },
  {
   "cell_type": "markdown",
   "id": "735abaa5",
   "metadata": {
    "id": "735abaa5"
   },
   "source": [
    "It is difficult to see what is wrong. Let's get some information:"
   ]
  },
  {
   "cell_type": "code",
   "execution_count": null,
   "id": "7c6591e0",
   "metadata": {
    "colab": {
     "base_uri": "https://localhost:8080/",
     "height": 458
    },
    "id": "7c6591e0",
    "outputId": "f5881f99-79d1-431f-e3ff-4e1fb9e613d4"
   },
   "outputs": [],
   "source": [
    "# what is wrong?\n",
    "\n",
    "from shapely.validation import explain_validity, make_valid\n",
    "\n",
    "explain_validity(S_brazil[~S_brazil.is_valid].geometry)"
   ]
  },
  {
   "cell_type": "markdown",
   "id": "f4078cd0-c30f-40cb-b596-48a2270553a9",
   "metadata": {},
   "source": [
    "This is the report:"
   ]
  },
  {
   "cell_type": "code",
   "execution_count": null,
   "id": "0045e65b-c10a-49ff-8c6c-c877bd55ceea",
   "metadata": {},
   "outputs": [],
   "source": [
    "explain_validity(S_brazil.geometry).str.split(\"[\",expand=True)[0].value_counts()"
   ]
  },
  {
   "cell_type": "markdown",
   "id": "101570e8-0cc0-4797-afad-dfd4e6e264e1",
   "metadata": {},
   "source": [
    "Let's use **make_valid**:"
   ]
  },
  {
   "cell_type": "code",
   "execution_count": null,
   "id": "d69f261b",
   "metadata": {
    "colab": {
     "base_uri": "https://localhost:8080/",
     "height": 142
    },
    "id": "d69f261b",
    "outputId": "fa739ed0-bd09-444b-cf31-555254c97afa"
   },
   "outputs": [],
   "source": [
    "S_brazil_valid=S_brazil.copy()\n",
    "\n",
    "S_brazil_valid['geometry'] = [make_valid(row)  if not row.is_valid else row for row in S_brazil['geometry'] ]\n",
    "\n",
    "#any invalid?\n",
    "S_brazil_valid[~S_brazil_valid.is_valid]"
   ]
  },
  {
   "cell_type": "markdown",
   "id": "cfa45bcf",
   "metadata": {
    "id": "cfa45bcf"
   },
   "source": [
    "The use of *make_valid* may output **collections**, this is not desirable:"
   ]
  },
  {
   "cell_type": "code",
   "execution_count": null,
   "id": "c072a9dc-411c-4d7d-a94b-0c2f2de9cf97",
   "metadata": {
    "colab": {
     "base_uri": "https://localhost:8080/",
     "height": 178
    },
    "id": "c072a9dc-411c-4d7d-a94b-0c2f2de9cf97",
    "outputId": "3f5c6824-39e4-4cbd-cd03-e0417184bae5"
   },
   "outputs": [],
   "source": [
    "pd.Series([type(x) for x in S_brazil_valid.geometry]).value_counts()"
   ]
  },
  {
   "cell_type": "markdown",
   "id": "65x2T7riHonF",
   "metadata": {
    "id": "65x2T7riHonF"
   },
   "source": [
    "## Buffers and Validity\n",
    "\n",
    "The buffering process helps cleaning simple invalidities:"
   ]
  },
  {
   "cell_type": "code",
   "execution_count": null,
   "id": "PAj05ydv8_hF",
   "metadata": {
    "colab": {
     "base_uri": "https://localhost:8080/",
     "height": 53
    },
    "id": "PAj05ydv8_hF",
    "outputId": "16bb514d-4673-4b56-dab4-8f45c51535ad"
   },
   "outputs": [],
   "source": [
    "S_brazil_valid=S_brazil.copy()\n",
    "\n",
    "S_brazil_valid['geometry'] = S_brazil_valid['geometry'].buffer(0)\n",
    "\n",
    "#any invalid?\n",
    "S_brazil_valid[~S_brazil_valid.is_valid]"
   ]
  },
  {
   "cell_type": "markdown",
   "id": "zDnnoMc7ICYW",
   "metadata": {
    "id": "zDnnoMc7ICYW"
   },
   "source": [
    "This 'buffer trick' may not always work:"
   ]
  },
  {
   "cell_type": "code",
   "execution_count": null,
   "id": "-bOp4B4F9sDN",
   "metadata": {
    "colab": {
     "base_uri": "https://localhost:8080/",
     "height": 540
    },
    "id": "-bOp4B4F9sDN",
    "outputId": "cebf92a3-3962-434d-c5af-13d1f905cb4d"
   },
   "outputs": [],
   "source": [
    "# previously\n",
    "indicatorsByRegion.plot(column =indicatorsByRegion.index,\n",
    "                        edgecolor='white',\n",
    "                        figsize=(15, 10))"
   ]
  },
  {
   "cell_type": "markdown",
   "id": "22e08b0c-a5ea-444c-a5cf-190684a161a8",
   "metadata": {},
   "source": [
    "The worst cases seem AFRICA and EAST AND SOUTHEAST ASIA, as both show some lines that should have disappeared after the dissolving we did a while ago.\n",
    "\n",
    "Did the dissolving process created invalid geometries?"
   ]
  },
  {
   "cell_type": "code",
   "execution_count": null,
   "id": "c3281864-c92e-4b68-a886-29e83e0cdb3e",
   "metadata": {},
   "outputs": [],
   "source": [
    "indicatorsByRegion.geometry.is_valid.value_counts()"
   ]
  },
  {
   "cell_type": "markdown",
   "id": "G7eQNSJJIKl-",
   "metadata": {
    "id": "G7eQNSJJIKl-"
   },
   "source": [
    "Since we do not have invalid geometries, we know the dissolving created some gaps, so the goal is to snap the boundaries together to eliminate these microscopic gaps.\n",
    "\n",
    "We could try the trick  of buffer(0), again:"
   ]
  },
  {
   "cell_type": "code",
   "execution_count": null,
   "id": "TXpvyu_d9umU",
   "metadata": {
    "colab": {
     "base_uri": "https://localhost:8080/",
     "height": 540
    },
    "id": "TXpvyu_d9umU",
    "outputId": "a9ed632f-487c-488c-93cd-b918cb64422a"
   },
   "outputs": [],
   "source": [
    "indicatorsByRegion_prjd=indicatorsByRegion.to_crs(\"ESRI:54052\").copy()\n",
    "indicatorsByRegion_prjd['geometry'] = indicatorsByRegion_prjd.buffer(0)\n",
    "\n",
    "# previously\n",
    "indicatorsByRegion_prjd.plot(column =indicatorsByRegion_prjd.index,\n",
    "                        edgecolor='white',\n",
    "                        figsize=(15, 10))"
   ]
  },
  {
   "cell_type": "markdown",
   "id": "Ng_3aPjpIc6M",
   "metadata": {
    "id": "Ng_3aPjpIc6M"
   },
   "source": [
    "It did not work either. We may increase the buffer:"
   ]
  },
  {
   "cell_type": "code",
   "execution_count": null,
   "id": "oTved9a8-UH8",
   "metadata": {
    "colab": {
     "base_uri": "https://localhost:8080/",
     "height": 540
    },
    "id": "oTved9a8-UH8",
    "outputId": "66fc8de2-37c0-423c-d7ab-6b6ca85d99b2"
   },
   "outputs": [],
   "source": [
    "indicatorsByRegion_prjd['geometry'] = indicatorsByRegion_prjd.buffer(1)\n",
    "\n",
    "indicatorsByRegion_prjd.plot(column =indicatorsByRegion_prjd.index,\n",
    "                        edgecolor='white',\n",
    "                        figsize=(15, 10))"
   ]
  },
  {
   "cell_type": "markdown",
   "id": "2b896eca-a50e-4434-b529-12e6fa4f28d4",
   "metadata": {},
   "source": [
    "The last version did got rid of the gaps, at least visually. Let's just check the counts in each case:"
   ]
  },
  {
   "cell_type": "code",
   "execution_count": null,
   "id": "effd1293-a115-4cbf-a68e-2dc08783a8df",
   "metadata": {},
   "outputs": [],
   "source": [
    "[(r,len(g.geoms)) for r,g in zip(indicatorsByRegion.index,indicatorsByRegion.geometry) if g.geom_type.startswith('Multi')]"
   ]
  },
  {
   "cell_type": "code",
   "execution_count": null,
   "id": "1ab0120c-27d0-498e-8dc1-f222244124dd",
   "metadata": {},
   "outputs": [],
   "source": [
    "[(r,len(g.geoms)) for r,g in zip(indicatorsByRegion_prjd.index,indicatorsByRegion_prjd.geometry)  if g.geom_type.startswith('Multi')]"
   ]
  },
  {
   "cell_type": "markdown",
   "id": "rdsk7MTUItrn",
   "metadata": {
    "id": "rdsk7MTUItrn"
   },
   "source": [
    "It seems AFRICA issue was solved, but not EAST AND SOUTHEAST ASIA. Thee seems to be a really big issue in those borders (Mongolia and China). Let's explore:"
   ]
  },
  {
   "cell_type": "code",
   "execution_count": null,
   "id": "49093b9a-e2bc-4a64-a0da-2bff5a0c360d",
   "metadata": {},
   "outputs": [],
   "source": [
    "china=indicators[indicators.Country.isin(['CHINA'])]\n",
    "mongolia=indicators[indicators.Country.isin(['MONGOLIA'])]\n",
    "\n",
    "china.overlay(mongolia, how='intersection',keep_geom_type=False).geometry"
   ]
  },
  {
   "cell_type": "markdown",
   "id": "ba893547-b00e-495b-9799-12a908271554",
   "metadata": {},
   "source": [
    "So, we have some really bad situation:\n",
    "\n",
    "- There is an intersection between two countries, and there should be none.\n",
    "- There intersection includes objects other than polygons: 'GEOMETRYCOLLECTION'\n",
    "\n",
    "See:\n"
   ]
  },
  {
   "cell_type": "code",
   "execution_count": null,
   "id": "82de9956-afb1-4146-a84a-821310f13ac9",
   "metadata": {},
   "outputs": [],
   "source": [
    "# Quick count of objects in the GeometryCollection\n",
    "result_geom = china.overlay(mongolia, how='intersection',keep_geom_type=False).geometry.iloc[0]\n",
    "if result_geom.geom_type == 'GeometryCollection':\n",
    "    print(f\"Objects in collection: {len(result_geom.geoms)}\")\n",
    "    from collections import Counter\n",
    "    print(dict(Counter(g.geom_type for g in result_geom.geoms)))"
   ]
  },
  {
   "cell_type": "code",
   "execution_count": null,
   "id": "a4d9aade-2583-495f-8a44-56227c43f2dd",
   "metadata": {},
   "outputs": [],
   "source": [
    "## see the intersection:\n",
    "base=china.plot(color='lightgrey')\n",
    "mongolia.plot(color='yellow',ax=base)\n",
    "china.overlay(mongolia, how='intersection',keep_geom_type=False).plot(ax=base)"
   ]
  },
  {
   "cell_type": "markdown",
   "id": "75f1fd42-45a2-41d5-a048-7a32d441b217",
   "metadata": {},
   "source": [
    "The solution to this, believe me, will not be trivial: the border is not continuous, and creating a 'new frontier' between China and Mongolia will demand more functions than the ones we have taught so far. Situations like this require smart decisions, like get a new map  with a [better quality](https://www.naturalearthdata.com/downloads/110m-cultural-vectors/)."
   ]
  }
 ],
 "metadata": {
  "anaconda-cloud": {
   "attach-environment": true,
   "summary": "test"
  },
  "colab": {
   "provenance": []
  },
  "hide_input": false,
  "jupytext": {
   "cell_metadata_filter": "-all",
   "notebook_metadata_filter": "-all"
  },
  "kernelspec": {
   "display_name": "Python 3 (ipykernel)",
   "language": "python",
   "name": "python3"
  },
  "language_info": {
   "codemirror_mode": {
    "name": "ipython",
    "version": 3
   },
   "file_extension": ".py",
   "mimetype": "text/x-python",
   "name": "python",
   "nbconvert_exporter": "python",
   "pygments_lexer": "ipython3",
   "version": "3.11.13"
  },
  "toc-autonumbering": false
 },
 "nbformat": 4,
 "nbformat_minor": 5
}
